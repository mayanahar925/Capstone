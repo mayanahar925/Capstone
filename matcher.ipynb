{
 "cells": [
  {
   "cell_type": "code",
   "execution_count": 127,
   "metadata": {},
   "outputs": [
    {
     "name": "stdout",
     "output_type": "stream",
     "text": [
      "/Users/mayanahar/Capstone/bin/Capstone\n"
     ]
    }
   ],
   "source": [
    "import pandas as pd\n",
    "import numpy as np\n",
    "import glob\n",
    "import gzip\n",
    "import shutil\n",
    "import os\n",
    "from tqdm import tqdm\n",
    "print(os.getcwd())"
   ]
  },
  {
   "cell_type": "code",
   "execution_count": 76,
   "metadata": {},
   "outputs": [
    {
     "name": "stdout",
     "output_type": "stream",
     "text": [
      "/Users/mayanahar/Capstone/bin/Capstone\n"
     ]
    }
   ],
   "source": [
    "# change to the directory where the data is stored\n",
    "os.chdir('/Users/mayanahar/Capstone/bin/Capstone')\n",
    "print(os.getcwd())"
   ]
  },
  {
   "cell_type": "code",
   "execution_count": 40,
   "metadata": {},
   "outputs": [],
   "source": [
    "# # List all files in the ../../data directory\n",
    "# file_dir = '../../data'\n",
    "# filenames = os.listdir(file_dir)\n",
    "\n",
    "# # Separate files into those ending with \"sur.tsv\" and those not ending with it\n",
    "# sur = [file for file in filenames if file.endswith('sur.tsv')]\n",
    "# not_sur = [file for file in filenames if not file.endswith('sur.tsv')]\n",
    "\n",
    "# # Create a DataFrame from the files ending in \"sur.tsv\"\n",
    "# sur_df = pd.DataFrame()\n",
    "# for file in sur:\n",
    "#     file_path = os.path.join(file_dir, file)\n",
    "#     df = pd.read_csv(file_path, sep='\\t', header=0)\n",
    "#     df['filename'] = file  # Add a column with the filename\n",
    "#     sur_df = pd.concat([sur_df, df], ignore_index=True)\n",
    "\n",
    "# # Create a DataFrame from the files not ending in \"sur.tsv\"\n",
    "# not_sur_df = pd.DataFrame()\n",
    "# for file in not_sur:\n",
    "#     file_path = os.path.join(file_dir, file)\n",
    "#     df = pd.read_csv(file_path, sep='\\t', header=0)\n",
    "#     df['filename'] = file  # Add a column with the filename\n",
    "#     not_sur_df = pd.concat([not_sur_df, df], ignore_index=True)"
   ]
  },
  {
   "cell_type": "code",
   "execution_count": 70,
   "metadata": {},
   "outputs": [],
   "source": [
    "# convert tsv into dataframe\n",
    "df = pd.read_csv('../../data/CPTAC-3.bio_repl_query.sur.tsv', sep='\\t', header=0)\n",
    "df2 = pd.read_csv('../../data/CPTAC-3.gdc_repl_query.tsv', sep='\\t', header=0)"
   ]
  },
  {
   "cell_type": "code",
   "execution_count": 71,
   "metadata": {},
   "outputs": [
    {
     "data": {
      "text/plain": [
       "(6702, 22)"
      ]
     },
     "execution_count": 71,
     "metadata": {},
     "output_type": "execute_result"
    }
   ],
   "source": [
    "# preview dataframe\n",
    "df.head()\n",
    "\n",
    "# get shape of the dataframe\n",
    "df.shape"
   ]
  },
  {
   "cell_type": "code",
   "execution_count": 72,
   "metadata": {},
   "outputs": [
    {
     "data": {
      "text/plain": [
       "(1219, 117)"
      ]
     },
     "execution_count": 72,
     "metadata": {},
     "output_type": "execute_result"
    }
   ],
   "source": [
    "# preview other dataframe\n",
    "df2.head()\n",
    "\n",
    "# get shape of the dataframe\n",
    "df2.shape"
   ]
  },
  {
   "cell_type": "code",
   "execution_count": 73,
   "metadata": {},
   "outputs": [
    {
     "data": {
      "text/plain": [
       "(6706, 138)"
      ]
     },
     "execution_count": 73,
     "metadata": {},
     "output_type": "execute_result"
    }
   ],
   "source": [
    "# join both by case_id and keep all rows\n",
    "df3 = pd.merge(df2, df, on='case_id', how='outer')\n",
    "\n",
    "# preview joined dataframe\n",
    "df3.head()\n",
    "\n",
    "# get shape of the dataframe\n",
    "df3.shape"
   ]
  },
  {
   "cell_type": "code",
   "execution_count": 74,
   "metadata": {},
   "outputs": [
    {
     "data": {
      "text/html": [
       "<div>\n",
       "<style scoped>\n",
       "    .dataframe tbody tr th:only-of-type {\n",
       "        vertical-align: middle;\n",
       "    }\n",
       "\n",
       "    .dataframe tbody tr th {\n",
       "        vertical-align: top;\n",
       "    }\n",
       "\n",
       "    .dataframe thead th {\n",
       "        text-align: right;\n",
       "    }\n",
       "</style>\n",
       "<table border=\"1\" class=\"dataframe\">\n",
       "  <thead>\n",
       "    <tr style=\"text-align: right;\">\n",
       "      <th></th>\n",
       "      <th>case_id</th>\n",
       "      <th>demographic_id</th>\n",
       "      <th>diagnosis_id</th>\n",
       "      <th>batch_id</th>\n",
       "      <th>disease_type_x</th>\n",
       "      <th>index_date</th>\n",
       "      <th>primary_site_x</th>\n",
       "      <th>project_id_x</th>\n",
       "      <th>cause_of_death</th>\n",
       "      <th>days_to_birth</th>\n",
       "      <th>...</th>\n",
       "      <th>library_preparation_kit_name</th>\n",
       "      <th>library_preparation_kit_vendor</th>\n",
       "      <th>library_preparation_kit_version</th>\n",
       "      <th>library_preparation_kit_catalog_number</th>\n",
       "      <th>library_selection</th>\n",
       "      <th>library_strand</th>\n",
       "      <th>library_strategy</th>\n",
       "      <th>size_selection_range</th>\n",
       "      <th>spike_ins_concentration</th>\n",
       "      <th>read_pair_number</th>\n",
       "    </tr>\n",
       "  </thead>\n",
       "  <tbody>\n",
       "    <tr>\n",
       "      <th>0</th>\n",
       "      <td>f28fc405-1fac-4ee0-b398-e0ddf7b4e639</td>\n",
       "      <td>aa2cc284-5645-40eb-a95a-dbb391711d9b</td>\n",
       "      <td>01282185-756e-42f0-a78c-69afa886f38a</td>\n",
       "      <td>4.0</td>\n",
       "      <td>Squamous Cell Neoplasms</td>\n",
       "      <td>Diagnosis</td>\n",
       "      <td>Bronchus and lung</td>\n",
       "      <td>CPTAC-3</td>\n",
       "      <td>NaN</td>\n",
       "      <td>-27320.0</td>\n",
       "      <td>...</td>\n",
       "      <td>TruSeq Stranded Total RNA Library Prep Kit wit...</td>\n",
       "      <td>Illumina</td>\n",
       "      <td>NaN</td>\n",
       "      <td>NaN</td>\n",
       "      <td>rRNA Depletion</td>\n",
       "      <td>First_Stranded</td>\n",
       "      <td>RNA-Seq</td>\n",
       "      <td>310.0</td>\n",
       "      <td>1.0</td>\n",
       "      <td>R2</td>\n",
       "    </tr>\n",
       "    <tr>\n",
       "      <th>1</th>\n",
       "      <td>f28fc405-1fac-4ee0-b398-e0ddf7b4e639</td>\n",
       "      <td>aa2cc284-5645-40eb-a95a-dbb391711d9b</td>\n",
       "      <td>01282185-756e-42f0-a78c-69afa886f38a</td>\n",
       "      <td>4.0</td>\n",
       "      <td>Squamous Cell Neoplasms</td>\n",
       "      <td>Diagnosis</td>\n",
       "      <td>Bronchus and lung</td>\n",
       "      <td>CPTAC-3</td>\n",
       "      <td>NaN</td>\n",
       "      <td>-27320.0</td>\n",
       "      <td>...</td>\n",
       "      <td>TruSeq Stranded Total RNA Library Prep Kit wit...</td>\n",
       "      <td>Illumina</td>\n",
       "      <td>NaN</td>\n",
       "      <td>NaN</td>\n",
       "      <td>rRNA Depletion</td>\n",
       "      <td>First_Stranded</td>\n",
       "      <td>RNA-Seq</td>\n",
       "      <td>310.0</td>\n",
       "      <td>1.0</td>\n",
       "      <td>R1</td>\n",
       "    </tr>\n",
       "    <tr>\n",
       "      <th>2</th>\n",
       "      <td>f28fc405-1fac-4ee0-b398-e0ddf7b4e639</td>\n",
       "      <td>aa2cc284-5645-40eb-a95a-dbb391711d9b</td>\n",
       "      <td>01282185-756e-42f0-a78c-69afa886f38a</td>\n",
       "      <td>4.0</td>\n",
       "      <td>Squamous Cell Neoplasms</td>\n",
       "      <td>Diagnosis</td>\n",
       "      <td>Bronchus and lung</td>\n",
       "      <td>CPTAC-3</td>\n",
       "      <td>NaN</td>\n",
       "      <td>-27320.0</td>\n",
       "      <td>...</td>\n",
       "      <td>TruSeq Stranded Total RNA Library Prep Kit wit...</td>\n",
       "      <td>Illumina</td>\n",
       "      <td>NaN</td>\n",
       "      <td>NaN</td>\n",
       "      <td>rRNA Depletion</td>\n",
       "      <td>First_Stranded</td>\n",
       "      <td>RNA-Seq</td>\n",
       "      <td>374.0</td>\n",
       "      <td>1.0</td>\n",
       "      <td>R2</td>\n",
       "    </tr>\n",
       "    <tr>\n",
       "      <th>3</th>\n",
       "      <td>f28fc405-1fac-4ee0-b398-e0ddf7b4e639</td>\n",
       "      <td>aa2cc284-5645-40eb-a95a-dbb391711d9b</td>\n",
       "      <td>01282185-756e-42f0-a78c-69afa886f38a</td>\n",
       "      <td>4.0</td>\n",
       "      <td>Squamous Cell Neoplasms</td>\n",
       "      <td>Diagnosis</td>\n",
       "      <td>Bronchus and lung</td>\n",
       "      <td>CPTAC-3</td>\n",
       "      <td>NaN</td>\n",
       "      <td>-27320.0</td>\n",
       "      <td>...</td>\n",
       "      <td>TruSeq Stranded Total RNA Library Prep Kit wit...</td>\n",
       "      <td>Illumina</td>\n",
       "      <td>NaN</td>\n",
       "      <td>NaN</td>\n",
       "      <td>rRNA Depletion</td>\n",
       "      <td>First_Stranded</td>\n",
       "      <td>RNA-Seq</td>\n",
       "      <td>374.0</td>\n",
       "      <td>1.0</td>\n",
       "      <td>R1</td>\n",
       "    </tr>\n",
       "    <tr>\n",
       "      <th>4</th>\n",
       "      <td>dc371c9c-9ea3-4d19-969e-34b9c7b3ada2</td>\n",
       "      <td>fb5a9172-ff61-4d06-adaf-325fe67197f2</td>\n",
       "      <td>b62ec1cd-148b-45df-a6dc-2d908e00e94a</td>\n",
       "      <td>4.0</td>\n",
       "      <td>Squamous Cell Neoplasms</td>\n",
       "      <td>Diagnosis</td>\n",
       "      <td>Bronchus and lung</td>\n",
       "      <td>CPTAC-3</td>\n",
       "      <td>NaN</td>\n",
       "      <td>-21800.0</td>\n",
       "      <td>...</td>\n",
       "      <td>TruSeq Stranded Total RNA Library Prep Kit wit...</td>\n",
       "      <td>Illumina</td>\n",
       "      <td>NaN</td>\n",
       "      <td>NaN</td>\n",
       "      <td>rRNA Depletion</td>\n",
       "      <td>First_Stranded</td>\n",
       "      <td>RNA-Seq</td>\n",
       "      <td>321.0</td>\n",
       "      <td>1.0</td>\n",
       "      <td>R2</td>\n",
       "    </tr>\n",
       "  </tbody>\n",
       "</table>\n",
       "<p>5 rows × 138 columns</p>\n",
       "</div>"
      ],
      "text/plain": [
       "                                case_id                        demographic_id  \\\n",
       "0  f28fc405-1fac-4ee0-b398-e0ddf7b4e639  aa2cc284-5645-40eb-a95a-dbb391711d9b   \n",
       "1  f28fc405-1fac-4ee0-b398-e0ddf7b4e639  aa2cc284-5645-40eb-a95a-dbb391711d9b   \n",
       "2  f28fc405-1fac-4ee0-b398-e0ddf7b4e639  aa2cc284-5645-40eb-a95a-dbb391711d9b   \n",
       "3  f28fc405-1fac-4ee0-b398-e0ddf7b4e639  aa2cc284-5645-40eb-a95a-dbb391711d9b   \n",
       "4  dc371c9c-9ea3-4d19-969e-34b9c7b3ada2  fb5a9172-ff61-4d06-adaf-325fe67197f2   \n",
       "\n",
       "                           diagnosis_id  batch_id           disease_type_x  \\\n",
       "0  01282185-756e-42f0-a78c-69afa886f38a       4.0  Squamous Cell Neoplasms   \n",
       "1  01282185-756e-42f0-a78c-69afa886f38a       4.0  Squamous Cell Neoplasms   \n",
       "2  01282185-756e-42f0-a78c-69afa886f38a       4.0  Squamous Cell Neoplasms   \n",
       "3  01282185-756e-42f0-a78c-69afa886f38a       4.0  Squamous Cell Neoplasms   \n",
       "4  b62ec1cd-148b-45df-a6dc-2d908e00e94a       4.0  Squamous Cell Neoplasms   \n",
       "\n",
       "  index_date     primary_site_x project_id_x cause_of_death  days_to_birth  \\\n",
       "0  Diagnosis  Bronchus and lung      CPTAC-3            NaN       -27320.0   \n",
       "1  Diagnosis  Bronchus and lung      CPTAC-3            NaN       -27320.0   \n",
       "2  Diagnosis  Bronchus and lung      CPTAC-3            NaN       -27320.0   \n",
       "3  Diagnosis  Bronchus and lung      CPTAC-3            NaN       -27320.0   \n",
       "4  Diagnosis  Bronchus and lung      CPTAC-3            NaN       -21800.0   \n",
       "\n",
       "   ...                       library_preparation_kit_name  \\\n",
       "0  ...  TruSeq Stranded Total RNA Library Prep Kit wit...   \n",
       "1  ...  TruSeq Stranded Total RNA Library Prep Kit wit...   \n",
       "2  ...  TruSeq Stranded Total RNA Library Prep Kit wit...   \n",
       "3  ...  TruSeq Stranded Total RNA Library Prep Kit wit...   \n",
       "4  ...  TruSeq Stranded Total RNA Library Prep Kit wit...   \n",
       "\n",
       "  library_preparation_kit_vendor library_preparation_kit_version  \\\n",
       "0                       Illumina                             NaN   \n",
       "1                       Illumina                             NaN   \n",
       "2                       Illumina                             NaN   \n",
       "3                       Illumina                             NaN   \n",
       "4                       Illumina                             NaN   \n",
       "\n",
       "  library_preparation_kit_catalog_number library_selection  library_strand  \\\n",
       "0                                    NaN    rRNA Depletion  First_Stranded   \n",
       "1                                    NaN    rRNA Depletion  First_Stranded   \n",
       "2                                    NaN    rRNA Depletion  First_Stranded   \n",
       "3                                    NaN    rRNA Depletion  First_Stranded   \n",
       "4                                    NaN    rRNA Depletion  First_Stranded   \n",
       "\n",
       "   library_strategy size_selection_range  spike_ins_concentration  \\\n",
       "0           RNA-Seq                310.0                      1.0   \n",
       "1           RNA-Seq                310.0                      1.0   \n",
       "2           RNA-Seq                374.0                      1.0   \n",
       "3           RNA-Seq                374.0                      1.0   \n",
       "4           RNA-Seq                321.0                      1.0   \n",
       "\n",
       "   read_pair_number  \n",
       "0                R2  \n",
       "1                R1  \n",
       "2                R2  \n",
       "3                R1  \n",
       "4                R2  \n",
       "\n",
       "[5 rows x 138 columns]"
      ]
     },
     "execution_count": 74,
     "metadata": {},
     "output_type": "execute_result"
    }
   ],
   "source": [
    "# preview joined dataframe\n",
    "df3.head()"
   ]
  },
  {
   "cell_type": "code",
   "execution_count": null,
   "metadata": {},
   "outputs": [],
   "source": [
    "# save the dataframe\n",
    "# df3.to_csv('CPTAC-3.bio_gdc_repl_query.tsv', sep='\\t', index=False)"
   ]
  },
  {
   "cell_type": "code",
   "execution_count": 93,
   "metadata": {},
   "outputs": [],
   "source": [
    "# import filenames inside of ./local_results into list\n",
    "filenames = glob.glob(\"../../data/local_results/*\")\n",
    "\n",
    "# only keep filenames with .salmon in them\n",
    "filenames = [x for x in filenames if '.salmon' in x]"
   ]
  },
  {
   "cell_type": "code",
   "execution_count": 97,
   "metadata": {},
   "outputs": [
    {
     "data": {
      "text/plain": [
       "133"
      ]
     },
     "execution_count": 97,
     "metadata": {},
     "output_type": "execute_result"
    }
   ],
   "source": [
    "# only keep everything before the first period and after the last /\n",
    "filenames = [x.split('/')[-1].split('.')[0] for x in filenames]\n",
    "\n",
    "# filenames length\n",
    "len(filenames)"
   ]
  },
  {
   "cell_type": "code",
   "execution_count": 98,
   "metadata": {},
   "outputs": [
    {
     "name": "stdout",
     "output_type": "stream",
     "text": [
      "[]\n",
      "133\n",
      "0\n"
     ]
    }
   ],
   "source": [
    "# see if the filenames match the case_id's in the dataframe\n",
    "output = []\n",
    "for x in filenames:\n",
    "    if x not in df3['read_group_id'].values:\n",
    "        output.append(x)\n",
    "        \n",
    "print(output)\n",
    "print(len(filenames))\n",
    "print(len(output))"
   ]
  },
  {
   "cell_type": "code",
   "execution_count": null,
   "metadata": {},
   "outputs": [],
   "source": [
    "source_dir = \"../../data/local_results/\"  # Change this to the source directory where your .sf.gz files are located\n",
    "destination_dir = \"../../data/local_results/sf\"\n",
    "\n",
    "# Get a list of all files in the source directory\n",
    "filenames = os.listdir(source_dir)\n",
    "\n",
    "for filename in filenames:\n",
    "    if filename.endswith('.sf.gz'):\n",
    "        source_path = os.path.join(source_dir, filename)\n",
    "        destination_path = os.path.join(destination_dir, filename[:-3])\n",
    "        \n",
    "        with gzip.open(source_path, 'rb') as f_in:\n",
    "            with open(destination_path, 'wb') as f_out:\n",
    "                shutil.copyfileobj(f_in, f_out)"
   ]
  },
  {
   "cell_type": "code",
   "execution_count": 120,
   "metadata": {},
   "outputs": [
    {
     "name": "stdout",
     "output_type": "stream",
     "text": [
      "                Name  Length  EffectiveLength       TPM  NumReads\n",
      "0  ENST00000456328.2    1657          1894.15  0.088142     8.876\n",
      "1  ENST00000450305.2     632           486.00  0.000000     0.000\n",
      "2  ENST00000488147.1    1351          1713.90  3.235923   294.850\n",
      "3  ENST00000619216.1      68            68.00  0.000000     0.000\n",
      "4  ENST00000473358.1     712           566.00  0.000000     0.000\n"
     ]
    }
   ],
   "source": [
    "# create a list of filenames in the sf directory\n",
    "filenames = os.listdir(\"../../data/local_results/sf/\")\n",
    "\n",
    "for file in filenames:\n",
    "    preview = pd.read_csv(\"../../data/local_results/sf/\" + file, sep='\\t', header=0)\n",
    "    print(preview.head())\n",
    "    break"
   ]
  },
  {
   "cell_type": "code",
   "execution_count": null,
   "metadata": {},
   "outputs": [],
   "source": [
    "# rewrite the sf files to only have the Name and TPM columns\n",
    "for file in tqdm(filenames):\n",
    "    df = pd.read_csv(\"../../data/local_results/sf/\" + file, sep='\\t', header=0)\n",
    "    df = df[['Name', 'TPM']]\n",
    "    df.to_csv(\"../../data/local_results/sf/\" + file, sep='\\t', index=False)\n",
    "\n",
    "# add the text of the newly generated sf files to df3 in a new column\n",
    "df3['sf'] = ''\n",
    "for file in tqdm(filenames):\n",
    "    df = pd.read_csv(\"../../data/local_results/sf/\" + file, sep='\\t', header=0)\n",
    "    df3.loc[df3['read_group_id'] == file[:-3], 'sf'] = df.to_string(header=False, index=False)"
   ]
  },
  {
   "cell_type": "code",
   "execution_count": 129,
   "metadata": {},
   "outputs": [
    {
     "name": "stderr",
     "output_type": "stream",
     "text": [
      "  0%|          | 0/6706 [00:00<?, ?it/s]"
     ]
    },
    {
     "name": "stderr",
     "output_type": "stream",
     "text": [
      "  5%|▌         | 368/6706 [00:59<16:59,  6.22it/s]\n"
     ]
    },
    {
     "ename": "TypeError",
     "evalue": "'in <string>' requires string as left operand, not float",
     "output_type": "error",
     "traceback": [
      "\u001b[0;31m---------------------------------------------------------------------------\u001b[0m",
      "\u001b[0;31mTypeError\u001b[0m                                 Traceback (most recent call last)",
      "\u001b[1;32m/Users/mayanahar/Capstone/bin/Capstone/matcher.ipynb Cell 16\u001b[0m line \u001b[0;36m5\n\u001b[1;32m      <a href='vscode-notebook-cell:/Users/mayanahar/Capstone/bin/Capstone/matcher.ipynb#X42sZmlsZQ%3D%3D?line=2'>3</a>\u001b[0m read_group_id \u001b[39m=\u001b[39m row[\u001b[39m'\u001b[39m\u001b[39mread_group_id\u001b[39m\u001b[39m'\u001b[39m]\n\u001b[1;32m      <a href='vscode-notebook-cell:/Users/mayanahar/Capstone/bin/Capstone/matcher.ipynb#X42sZmlsZQ%3D%3D?line=3'>4</a>\u001b[0m \u001b[39mfor\u001b[39;00m file \u001b[39min\u001b[39;00m filenames:\n\u001b[0;32m----> <a href='vscode-notebook-cell:/Users/mayanahar/Capstone/bin/Capstone/matcher.ipynb#X42sZmlsZQ%3D%3D?line=4'>5</a>\u001b[0m     \u001b[39mif\u001b[39;00m read_group_id \u001b[39min\u001b[39;49;00m file:\n\u001b[1;32m      <a href='vscode-notebook-cell:/Users/mayanahar/Capstone/bin/Capstone/matcher.ipynb#X42sZmlsZQ%3D%3D?line=5'>6</a>\u001b[0m         df \u001b[39m=\u001b[39m pd\u001b[39m.\u001b[39mread_csv(\u001b[39m\"\u001b[39m\u001b[39m../../data/local_results/sf/\u001b[39m\u001b[39m\"\u001b[39m \u001b[39m+\u001b[39m file, sep\u001b[39m=\u001b[39m\u001b[39m'\u001b[39m\u001b[39m\\t\u001b[39;00m\u001b[39m'\u001b[39m, header\u001b[39m=\u001b[39m\u001b[39m0\u001b[39m)\n\u001b[1;32m      <a href='vscode-notebook-cell:/Users/mayanahar/Capstone/bin/Capstone/matcher.ipynb#X42sZmlsZQ%3D%3D?line=6'>7</a>\u001b[0m         df \u001b[39m=\u001b[39m df[[\u001b[39m'\u001b[39m\u001b[39mName\u001b[39m\u001b[39m'\u001b[39m, \u001b[39m'\u001b[39m\u001b[39mTPM\u001b[39m\u001b[39m'\u001b[39m]]\n",
      "\u001b[0;31mTypeError\u001b[0m: 'in <string>' requires string as left operand, not float"
     ]
    }
   ],
   "source": [
    "filenames = os.listdir(\"../../data/local_results/sf/\")\n",
    "for index, row in tqdm(df3.iterrows(), total=len(df3)):\n",
    "    read_group_id = row['read_group_id']\n",
    "    for file in filenames:\n",
    "        if read_group_id in file:\n",
    "            df = pd.read_csv(\"../../data/local_results/sf/\" + file, sep='\\t', header=0)\n",
    "            df = df[['Name', 'TPM']]\n",
    "            # Rename 'Name' to 'transcript_id'\n",
    "            df = df.rename(columns={'Name': 'transcript_id'})\n",
    "            # Place transcript_count into a new column\n",
    "            df3.at[index, 'transcript_count'] = df.to_string(header=False, index=False)\n",
    "        else:\n",
    "            continue"
   ]
  }
 ],
 "metadata": {
  "kernelspec": {
   "display_name": "base",
   "language": "python",
   "name": "python3"
  },
  "language_info": {
   "codemirror_mode": {
    "name": "ipython",
    "version": 3
   },
   "file_extension": ".py",
   "mimetype": "text/x-python",
   "name": "python",
   "nbconvert_exporter": "python",
   "pygments_lexer": "ipython3",
   "version": "3.10.9"
  }
 },
 "nbformat": 4,
 "nbformat_minor": 2
}
