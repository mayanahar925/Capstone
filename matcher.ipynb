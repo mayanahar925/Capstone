{
 "cells": [
  {
   "cell_type": "code",
   "execution_count": 30,
   "metadata": {},
   "outputs": [],
   "source": [
    "import pandas as pd\n",
    "import numpy as np"
   ]
  },
  {
   "cell_type": "code",
   "execution_count": 31,
   "metadata": {},
   "outputs": [
    {
     "name": "stdout",
     "output_type": "stream",
     "text": [
      "/Users/mayanahar/Capstone/data/local_results\n"
     ]
    }
   ],
   "source": [
    "import os\n",
    "print(os.getcwd())"
   ]
  },
  {
   "cell_type": "code",
   "execution_count": 32,
   "metadata": {},
   "outputs": [],
   "source": [
    "# convert tsv into dataframe\n",
    "df = pd.read_csv('../../data/CPTAC-3.bio_repl_query.sur.tsv', sep='\\t', header=0)\n",
    "df2 = pd.read_csv('../../data/CPTAC-3.gdc_repl_query.tsv', sep='\\t', header=0)"
   ]
  },
  {
   "cell_type": "code",
   "execution_count": 33,
   "metadata": {},
   "outputs": [
    {
     "data": {
      "text/plain": [
       "(6702, 22)"
      ]
     },
     "execution_count": 33,
     "metadata": {},
     "output_type": "execute_result"
    }
   ],
   "source": [
    "# preview dataframe\n",
    "df.head()\n",
    "\n",
    "# get shape of the dataframe\n",
    "df.shape"
   ]
  },
  {
   "cell_type": "code",
   "execution_count": 34,
   "metadata": {},
   "outputs": [
    {
     "data": {
      "text/plain": [
       "(1219, 117)"
      ]
     },
     "execution_count": 34,
     "metadata": {},
     "output_type": "execute_result"
    }
   ],
   "source": [
    "# preview other dataframe\n",
    "df2.head()\n",
    "\n",
    "# get shape of the dataframe\n",
    "df2.shape"
   ]
  },
  {
   "cell_type": "code",
   "execution_count": 35,
   "metadata": {},
   "outputs": [
    {
     "data": {
      "text/plain": [
       "(6706, 138)"
      ]
     },
     "execution_count": 35,
     "metadata": {},
     "output_type": "execute_result"
    }
   ],
   "source": [
    "# join both by case_id and keep all rows\n",
    "df3 = pd.merge(df2, df, on='case_id', how='outer')\n",
    "\n",
    "# preview joined dataframe\n",
    "df3.head()\n",
    "\n",
    "# get shape of the dataframe\n",
    "df3.shape"
   ]
  },
  {
   "cell_type": "code",
   "execution_count": 36,
   "metadata": {},
   "outputs": [
    {
     "data": {
      "text/html": [
       "<div>\n",
       "<style scoped>\n",
       "    .dataframe tbody tr th:only-of-type {\n",
       "        vertical-align: middle;\n",
       "    }\n",
       "\n",
       "    .dataframe tbody tr th {\n",
       "        vertical-align: top;\n",
       "    }\n",
       "\n",
       "    .dataframe thead th {\n",
       "        text-align: right;\n",
       "    }\n",
       "</style>\n",
       "<table border=\"1\" class=\"dataframe\">\n",
       "  <thead>\n",
       "    <tr style=\"text-align: right;\">\n",
       "      <th></th>\n",
       "      <th>case_id</th>\n",
       "      <th>demographic_id</th>\n",
       "      <th>diagnosis_id</th>\n",
       "      <th>batch_id</th>\n",
       "      <th>disease_type_x</th>\n",
       "      <th>index_date</th>\n",
       "      <th>primary_site_x</th>\n",
       "      <th>project_id_x</th>\n",
       "      <th>cause_of_death</th>\n",
       "      <th>days_to_birth</th>\n",
       "      <th>...</th>\n",
       "      <th>library_preparation_kit_name</th>\n",
       "      <th>library_preparation_kit_vendor</th>\n",
       "      <th>library_preparation_kit_version</th>\n",
       "      <th>library_preparation_kit_catalog_number</th>\n",
       "      <th>library_selection</th>\n",
       "      <th>library_strand</th>\n",
       "      <th>library_strategy</th>\n",
       "      <th>size_selection_range</th>\n",
       "      <th>spike_ins_concentration</th>\n",
       "      <th>read_pair_number</th>\n",
       "    </tr>\n",
       "  </thead>\n",
       "  <tbody>\n",
       "    <tr>\n",
       "      <th>0</th>\n",
       "      <td>f28fc405-1fac-4ee0-b398-e0ddf7b4e639</td>\n",
       "      <td>aa2cc284-5645-40eb-a95a-dbb391711d9b</td>\n",
       "      <td>01282185-756e-42f0-a78c-69afa886f38a</td>\n",
       "      <td>4.0</td>\n",
       "      <td>Squamous Cell Neoplasms</td>\n",
       "      <td>Diagnosis</td>\n",
       "      <td>Bronchus and lung</td>\n",
       "      <td>CPTAC-3</td>\n",
       "      <td>NaN</td>\n",
       "      <td>-27320.0</td>\n",
       "      <td>...</td>\n",
       "      <td>TruSeq Stranded Total RNA Library Prep Kit wit...</td>\n",
       "      <td>Illumina</td>\n",
       "      <td>NaN</td>\n",
       "      <td>NaN</td>\n",
       "      <td>rRNA Depletion</td>\n",
       "      <td>First_Stranded</td>\n",
       "      <td>RNA-Seq</td>\n",
       "      <td>310.0</td>\n",
       "      <td>1.0</td>\n",
       "      <td>R2</td>\n",
       "    </tr>\n",
       "    <tr>\n",
       "      <th>1</th>\n",
       "      <td>f28fc405-1fac-4ee0-b398-e0ddf7b4e639</td>\n",
       "      <td>aa2cc284-5645-40eb-a95a-dbb391711d9b</td>\n",
       "      <td>01282185-756e-42f0-a78c-69afa886f38a</td>\n",
       "      <td>4.0</td>\n",
       "      <td>Squamous Cell Neoplasms</td>\n",
       "      <td>Diagnosis</td>\n",
       "      <td>Bronchus and lung</td>\n",
       "      <td>CPTAC-3</td>\n",
       "      <td>NaN</td>\n",
       "      <td>-27320.0</td>\n",
       "      <td>...</td>\n",
       "      <td>TruSeq Stranded Total RNA Library Prep Kit wit...</td>\n",
       "      <td>Illumina</td>\n",
       "      <td>NaN</td>\n",
       "      <td>NaN</td>\n",
       "      <td>rRNA Depletion</td>\n",
       "      <td>First_Stranded</td>\n",
       "      <td>RNA-Seq</td>\n",
       "      <td>310.0</td>\n",
       "      <td>1.0</td>\n",
       "      <td>R1</td>\n",
       "    </tr>\n",
       "    <tr>\n",
       "      <th>2</th>\n",
       "      <td>f28fc405-1fac-4ee0-b398-e0ddf7b4e639</td>\n",
       "      <td>aa2cc284-5645-40eb-a95a-dbb391711d9b</td>\n",
       "      <td>01282185-756e-42f0-a78c-69afa886f38a</td>\n",
       "      <td>4.0</td>\n",
       "      <td>Squamous Cell Neoplasms</td>\n",
       "      <td>Diagnosis</td>\n",
       "      <td>Bronchus and lung</td>\n",
       "      <td>CPTAC-3</td>\n",
       "      <td>NaN</td>\n",
       "      <td>-27320.0</td>\n",
       "      <td>...</td>\n",
       "      <td>TruSeq Stranded Total RNA Library Prep Kit wit...</td>\n",
       "      <td>Illumina</td>\n",
       "      <td>NaN</td>\n",
       "      <td>NaN</td>\n",
       "      <td>rRNA Depletion</td>\n",
       "      <td>First_Stranded</td>\n",
       "      <td>RNA-Seq</td>\n",
       "      <td>374.0</td>\n",
       "      <td>1.0</td>\n",
       "      <td>R2</td>\n",
       "    </tr>\n",
       "    <tr>\n",
       "      <th>3</th>\n",
       "      <td>f28fc405-1fac-4ee0-b398-e0ddf7b4e639</td>\n",
       "      <td>aa2cc284-5645-40eb-a95a-dbb391711d9b</td>\n",
       "      <td>01282185-756e-42f0-a78c-69afa886f38a</td>\n",
       "      <td>4.0</td>\n",
       "      <td>Squamous Cell Neoplasms</td>\n",
       "      <td>Diagnosis</td>\n",
       "      <td>Bronchus and lung</td>\n",
       "      <td>CPTAC-3</td>\n",
       "      <td>NaN</td>\n",
       "      <td>-27320.0</td>\n",
       "      <td>...</td>\n",
       "      <td>TruSeq Stranded Total RNA Library Prep Kit wit...</td>\n",
       "      <td>Illumina</td>\n",
       "      <td>NaN</td>\n",
       "      <td>NaN</td>\n",
       "      <td>rRNA Depletion</td>\n",
       "      <td>First_Stranded</td>\n",
       "      <td>RNA-Seq</td>\n",
       "      <td>374.0</td>\n",
       "      <td>1.0</td>\n",
       "      <td>R1</td>\n",
       "    </tr>\n",
       "    <tr>\n",
       "      <th>4</th>\n",
       "      <td>dc371c9c-9ea3-4d19-969e-34b9c7b3ada2</td>\n",
       "      <td>fb5a9172-ff61-4d06-adaf-325fe67197f2</td>\n",
       "      <td>b62ec1cd-148b-45df-a6dc-2d908e00e94a</td>\n",
       "      <td>4.0</td>\n",
       "      <td>Squamous Cell Neoplasms</td>\n",
       "      <td>Diagnosis</td>\n",
       "      <td>Bronchus and lung</td>\n",
       "      <td>CPTAC-3</td>\n",
       "      <td>NaN</td>\n",
       "      <td>-21800.0</td>\n",
       "      <td>...</td>\n",
       "      <td>TruSeq Stranded Total RNA Library Prep Kit wit...</td>\n",
       "      <td>Illumina</td>\n",
       "      <td>NaN</td>\n",
       "      <td>NaN</td>\n",
       "      <td>rRNA Depletion</td>\n",
       "      <td>First_Stranded</td>\n",
       "      <td>RNA-Seq</td>\n",
       "      <td>321.0</td>\n",
       "      <td>1.0</td>\n",
       "      <td>R2</td>\n",
       "    </tr>\n",
       "  </tbody>\n",
       "</table>\n",
       "<p>5 rows × 138 columns</p>\n",
       "</div>"
      ],
      "text/plain": [
       "                                case_id                        demographic_id  \\\n",
       "0  f28fc405-1fac-4ee0-b398-e0ddf7b4e639  aa2cc284-5645-40eb-a95a-dbb391711d9b   \n",
       "1  f28fc405-1fac-4ee0-b398-e0ddf7b4e639  aa2cc284-5645-40eb-a95a-dbb391711d9b   \n",
       "2  f28fc405-1fac-4ee0-b398-e0ddf7b4e639  aa2cc284-5645-40eb-a95a-dbb391711d9b   \n",
       "3  f28fc405-1fac-4ee0-b398-e0ddf7b4e639  aa2cc284-5645-40eb-a95a-dbb391711d9b   \n",
       "4  dc371c9c-9ea3-4d19-969e-34b9c7b3ada2  fb5a9172-ff61-4d06-adaf-325fe67197f2   \n",
       "\n",
       "                           diagnosis_id  batch_id           disease_type_x  \\\n",
       "0  01282185-756e-42f0-a78c-69afa886f38a       4.0  Squamous Cell Neoplasms   \n",
       "1  01282185-756e-42f0-a78c-69afa886f38a       4.0  Squamous Cell Neoplasms   \n",
       "2  01282185-756e-42f0-a78c-69afa886f38a       4.0  Squamous Cell Neoplasms   \n",
       "3  01282185-756e-42f0-a78c-69afa886f38a       4.0  Squamous Cell Neoplasms   \n",
       "4  b62ec1cd-148b-45df-a6dc-2d908e00e94a       4.0  Squamous Cell Neoplasms   \n",
       "\n",
       "  index_date     primary_site_x project_id_x cause_of_death  days_to_birth  \\\n",
       "0  Diagnosis  Bronchus and lung      CPTAC-3            NaN       -27320.0   \n",
       "1  Diagnosis  Bronchus and lung      CPTAC-3            NaN       -27320.0   \n",
       "2  Diagnosis  Bronchus and lung      CPTAC-3            NaN       -27320.0   \n",
       "3  Diagnosis  Bronchus and lung      CPTAC-3            NaN       -27320.0   \n",
       "4  Diagnosis  Bronchus and lung      CPTAC-3            NaN       -21800.0   \n",
       "\n",
       "   ...                       library_preparation_kit_name  \\\n",
       "0  ...  TruSeq Stranded Total RNA Library Prep Kit wit...   \n",
       "1  ...  TruSeq Stranded Total RNA Library Prep Kit wit...   \n",
       "2  ...  TruSeq Stranded Total RNA Library Prep Kit wit...   \n",
       "3  ...  TruSeq Stranded Total RNA Library Prep Kit wit...   \n",
       "4  ...  TruSeq Stranded Total RNA Library Prep Kit wit...   \n",
       "\n",
       "  library_preparation_kit_vendor library_preparation_kit_version  \\\n",
       "0                       Illumina                             NaN   \n",
       "1                       Illumina                             NaN   \n",
       "2                       Illumina                             NaN   \n",
       "3                       Illumina                             NaN   \n",
       "4                       Illumina                             NaN   \n",
       "\n",
       "  library_preparation_kit_catalog_number library_selection  library_strand  \\\n",
       "0                                    NaN    rRNA Depletion  First_Stranded   \n",
       "1                                    NaN    rRNA Depletion  First_Stranded   \n",
       "2                                    NaN    rRNA Depletion  First_Stranded   \n",
       "3                                    NaN    rRNA Depletion  First_Stranded   \n",
       "4                                    NaN    rRNA Depletion  First_Stranded   \n",
       "\n",
       "   library_strategy size_selection_range  spike_ins_concentration  \\\n",
       "0           RNA-Seq                310.0                      1.0   \n",
       "1           RNA-Seq                310.0                      1.0   \n",
       "2           RNA-Seq                374.0                      1.0   \n",
       "3           RNA-Seq                374.0                      1.0   \n",
       "4           RNA-Seq                321.0                      1.0   \n",
       "\n",
       "   read_pair_number  \n",
       "0                R2  \n",
       "1                R1  \n",
       "2                R2  \n",
       "3                R1  \n",
       "4                R2  \n",
       "\n",
       "[5 rows x 138 columns]"
      ]
     },
     "execution_count": 36,
     "metadata": {},
     "output_type": "execute_result"
    }
   ],
   "source": [
    "# preview joined dataframe\n",
    "df3.head()"
   ]
  },
  {
   "cell_type": "code",
   "execution_count": 37,
   "metadata": {},
   "outputs": [],
   "source": [
    "# save the dataframe\n",
    "df3.to_csv('CPTAC-3.bio_gdc_repl_query.tsv', sep='\\t', index=False)"
   ]
  },
  {
   "cell_type": "code",
   "execution_count": 38,
   "metadata": {},
   "outputs": [],
   "source": [
    "# import filenames inside of ./local_results into list\n",
    "import os\n",
    "import glob\n",
    "os.chdir(\"../../data/local_results\")\n",
    "filenames = glob.glob(\"*\")"
   ]
  },
  {
   "cell_type": "code",
   "execution_count": 39,
   "metadata": {},
   "outputs": [
    {
     "data": {
      "text/plain": [
       "267"
      ]
     },
     "execution_count": 39,
     "metadata": {},
     "output_type": "execute_result"
    }
   ],
   "source": [
    "# only keep everything before the first period\n",
    "filenames = [x.split('.')[0] for x in filenames]\n",
    "\n",
    "# filenames length\n",
    "len(filenames)"
   ]
  },
  {
   "cell_type": "code",
   "execution_count": 40,
   "metadata": {},
   "outputs": [
    {
     "data": {
      "text/plain": [
       "134"
      ]
     },
     "execution_count": 40,
     "metadata": {},
     "output_type": "execute_result"
    }
   ],
   "source": [
    "# keep unique filenames only\n",
    "filenames = list(set(filenames))\n",
    "\n",
    "# filenames length\n",
    "len(filenames)"
   ]
  },
  {
   "cell_type": "code",
   "execution_count": 41,
   "metadata": {},
   "outputs": [
    {
     "name": "stdout",
     "output_type": "stream",
     "text": [
      "['CPTAC-3']\n",
      "134\n",
      "1\n"
     ]
    }
   ],
   "source": [
    "# see if the filenames match the case_id's in the dataframe\n",
    "output = []\n",
    "for x in filenames:\n",
    "    if x not in df3['read_group_id'].values:\n",
    "        output.append(x)\n",
    "        \n",
    "print(output)\n",
    "print(len(filenames))\n",
    "print(len(output))"
   ]
  },
  {
   "cell_type": "code",
   "execution_count": 46,
   "metadata": {},
   "outputs": [],
   "source": [
    "import gzip\n",
    "import shutil\n",
    "import os\n",
    "\n",
    "source_dir = \"../../data/local_results/\"  # Change this to the source directory where your .sf.gz files are located\n",
    "destination_dir = \"../../data/local_results/sf\"\n",
    "\n",
    "# Get a list of all files in the source directory\n",
    "filenames = os.listdir(source_dir)\n",
    "\n",
    "for filename in filenames:\n",
    "    if filename.endswith('.sf.gz'):\n",
    "        source_path = os.path.join(source_dir, filename)\n",
    "        destination_path = os.path.join(destination_dir, filename[:-3])\n",
    "        \n",
    "        with gzip.open(source_path, 'rb') as f_in:\n",
    "            with open(destination_path, 'wb') as f_out:\n",
    "                shutil.copyfileobj(f_in, f_out)\n",
    "                "
   ]
  }
 ],
 "metadata": {
  "kernelspec": {
   "display_name": "base",
   "language": "python",
   "name": "python3"
  },
  "language_info": {
   "codemirror_mode": {
    "name": "ipython",
    "version": 3
   },
   "file_extension": ".py",
   "mimetype": "text/x-python",
   "name": "python",
   "nbconvert_exporter": "python",
   "pygments_lexer": "ipython3",
   "version": "3.10.9"
  }
 },
 "nbformat": 4,
 "nbformat_minor": 2
}
