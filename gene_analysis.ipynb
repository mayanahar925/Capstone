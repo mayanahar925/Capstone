{
 "cells": [
  {
   "cell_type": "code",
   "execution_count": 1,
   "metadata": {},
   "outputs": [],
   "source": [
    "import pandas as pd\n",
    "import numpy as np\n",
    "import glob\n",
    "import os\n",
    "from tqdm import tqdm\n",
    "\n",
    "from pyensembl import EnsemblRelease\n",
    "from pyensembl import download_cache\n",
    "from pyensembl import genome\n",
    "\n",
    "# set infinite display\n",
    "pd.set_option('display.max_rows', None)\n",
    "pd.set_option('display.max_columns', None)\n",
    "pd.set_option('display.width', None)"
   ]
  },
  {
   "cell_type": "code",
   "execution_count": 2,
   "metadata": {},
   "outputs": [],
   "source": [
    "os.environ['PYENSEMBL_CACHE_DIR'] = '../../data/'"
   ]
  },
  {
   "cell_type": "code",
   "execution_count": 3,
   "metadata": {},
   "outputs": [],
   "source": [
    "#os.system('pyensembl install --release 110 --species human')"
   ]
  },
  {
   "cell_type": "code",
   "execution_count": 4,
   "metadata": {},
   "outputs": [],
   "source": [
    "# Load the Ensembl release\n",
    "data = EnsemblRelease(110)"
   ]
  },
  {
   "cell_type": "code",
   "execution_count": 5,
   "metadata": {},
   "outputs": [],
   "source": [
    "# import the transcript_ttest_df.tsv file\n",
    "transcript_ttest_df = pd.read_csv('../../results/transcript_ttest_df.tsv', sep='\\t')"
   ]
  },
  {
   "cell_type": "code",
   "execution_count": 6,
   "metadata": {},
   "outputs": [],
   "source": [
    "# create a list called transcript_id_list out of the transcript_ttest_df['transcript_id'] column\n",
    "transcript_id_list = transcript_ttest_df['transcript_id'].tolist()\n",
    "# remove the . and the number after the . from the transcript_id_list\n",
    "transcript_id_list = [i.split('.')[0] for i in transcript_id_list]"
   ]
  },
  {
   "cell_type": "code",
   "execution_count": 14,
   "metadata": {},
   "outputs": [
    {
     "name": "stdout",
     "output_type": "stream",
     "text": [
      "No results found for transcript ID: ENST00000640628\n",
      "No results found for transcript ID: ENST00000621530\n",
      "No results found for transcript ID: ENST00000610648\n",
      "No results found for transcript ID: ENST00000612017\n",
      "No results found for transcript ID: ENST00000370682\n",
      "No results found for transcript ID: ENST00000620882\n",
      "No results found for transcript ID: ENST00000616327\n",
      "No results found for transcript ID: ENST00000373440\n",
      "No results found for transcript ID: ENST00000294613\n",
      "No results found for transcript ID: ENST00000371956\n",
      "No results found for transcript ID: ENST00000372247\n",
      "No results found for transcript ID: ENST00000331941\n",
      "No results found for transcript ID: ENST00000619352\n",
      "No results found for transcript ID: ENST00000602605\n",
      "Unexpected exception formatting exception. Falling back to standard exception\n"
     ]
    },
    {
     "name": "stderr",
     "output_type": "stream",
     "text": [
      "Traceback (most recent call last):\n",
      "  File \"/Users/mayanahar/anaconda3/lib/python3.10/site-packages/IPython/core/interactiveshell.py\", line 3460, in run_code\n",
      "  File \"/var/folders/j4/1x0dc4g11wg0cfys1nmslw040000gn/T/ipykernel_3674/2405353867.py\", line 16, in <module>\n",
      "    gene_name = ref.gene_name_of_transcript_id(transcript_id)\n",
      "  File \"/Users/mayanahar/anaconda3/lib/python3.10/site-packages/pyensembl/genome.py\", line 774, in gene_name_of_transcript_id\n",
      "  File \"/Users/mayanahar/anaconda3/lib/python3.10/site-packages/pyensembl/genome.py\", line 751, in _query_gene_name\n",
      "  File \"/Users/mayanahar/anaconda3/lib/python3.10/site-packages/pyensembl/genome.py\", line 293, in db\n",
      "  File \"/Users/mayanahar/anaconda3/lib/python3.10/site-packages/pyensembl/genome.py\", line 221, in _set_local_paths\n",
      "  File \"/Users/mayanahar/anaconda3/lib/python3.10/site-packages/pyensembl/genome.py\", line 184, in _get_gtf_path\n",
      "  File \"/Users/mayanahar/anaconda3/lib/python3.10/site-packages/pyensembl/genome.py\", line 176, in _get_cached_path\n",
      "  File \"/Users/mayanahar/anaconda3/lib/python3.10/site-packages/pyensembl/download_cache.py\", line 302, in local_path_or_install_error\n",
      "  File \"/Users/mayanahar/anaconda3/lib/python3.10/site-packages/pyensembl/download_cache.py\", line 285, in download_or_copy_if_necessary\n",
      "  File \"/Users/mayanahar/anaconda3/lib/python3.10/site-packages/pyensembl/download_cache.py\", line 241, in _copy_if_necessary\n",
      "  File \"/Users/mayanahar/anaconda3/lib/python3.10/posixpath.py\", line 383, in abspath\n",
      "OSError: [Errno 23] Too many open files in system\n",
      "\n",
      "During handling of the above exception, another exception occurred:\n",
      "\n",
      "Traceback (most recent call last):\n",
      "  File \"/Users/mayanahar/anaconda3/lib/python3.10/site-packages/IPython/core/interactiveshell.py\", line 2057, in showtraceback\n",
      "  File \"/Users/mayanahar/anaconda3/lib/python3.10/site-packages/IPython/core/ultratb.py\", line 1118, in structured_traceback\n",
      "  File \"/Users/mayanahar/anaconda3/lib/python3.10/site-packages/IPython/core/ultratb.py\", line 1012, in structured_traceback\n",
      "  File \"/Users/mayanahar/anaconda3/lib/python3.10/site-packages/IPython/core/ultratb.py\", line 865, in structured_traceback\n",
      "  File \"/Users/mayanahar/anaconda3/lib/python3.10/site-packages/IPython/core/ultratb.py\", line 799, in format_exception_as_a_whole\n",
      "  File \"/Users/mayanahar/anaconda3/lib/python3.10/site-packages/IPython/core/ultratb.py\", line 844, in get_records\n",
      "  File \"/Users/mayanahar/anaconda3/lib/python3.10/site-packages/pygments/styles/__init__.py\", line 78, in get_style_by_name\n",
      "  File \"<frozen importlib._bootstrap>\", line 1027, in _find_and_load\n",
      "  File \"<frozen importlib._bootstrap>\", line 1002, in _find_and_load_unlocked\n",
      "  File \"<frozen importlib._bootstrap>\", line 945, in _find_spec\n",
      "  File \"<frozen importlib._bootstrap_external>\", line 1439, in find_spec\n",
      "  File \"<frozen importlib._bootstrap_external>\", line 1411, in _get_spec\n",
      "  File \"<frozen importlib._bootstrap_external>\", line 1548, in find_spec\n",
      "  File \"<frozen importlib._bootstrap_external>\", line 1591, in _fill_cache\n",
      "OSError: [Errno 23] Too many open files in system: '/Users/mayanahar/anaconda3/lib/python3.10/site-packages/pygments/styles'\n"
     ]
    }
   ],
   "source": [
    "# Create a dictionary to store the mapping of transcript IDs to gene IDs\n",
    "transcript_to_gene_mapping = {}\n",
    "\n",
    "# !@#!@#!# (calling relevant classes from pyensembl object)\n",
    "reference_name = data.reference_name\n",
    "gtf_path = '../../data/pyensembl/GRCh38/ensembl110/Homo_sapiens.GRCh38.110.gtf.db'\n",
    "\n",
    "# Retrieve gene IDs from transcript IDs\n",
    "for transcript_id in transcript_id_list:\n",
    "    ref = genome.Genome(\n",
    "        reference_name=reference_name,\n",
    "        annotation_name='ensembl',\n",
    "        gtf_path_or_url=gtf_path\n",
    "    )\n",
    "    try:\n",
    "        gene_name = ref.gene_name_of_transcript_id(transcript_id)\n",
    "        transcript_to_gene_mapping[transcript_id] = gene_name\n",
    "    except ValueError:\n",
    "        print(f\"No results found for transcript ID: {transcript_id}\")\n",
    "\n",
    "# Print the mapping\n",
    "# for transcript_id, gene_id in transcript_to_gene_mapping.items():\n",
    "#     print(f\"Transcript ID: {transcript_id}, Gene ID: {gene_id}\")"
   ]
  },
  {
   "cell_type": "code",
   "execution_count": 15,
   "metadata": {},
   "outputs": [],
   "source": [
    "# use transcript_to_gene_mapping to add a new column to the dataframe and add the gene name\n",
    "transcript_ttest_df['gene_name'] = transcript_ttest_df['transcript_id'].apply(lambda x: next((v for k, v in transcript_to_gene_mapping.items() if k in x), None))"
   ]
  },
  {
   "cell_type": "code",
   "execution_count": 9,
   "metadata": {},
   "outputs": [
    {
     "name": "stdout",
     "output_type": "stream",
     "text": [
      "Unexpected exception formatting exception. Falling back to standard exception\n",
      "Unexpected exception formatting exception. Falling back to standard exception\n"
     ]
    },
    {
     "name": "stderr",
     "output_type": "stream",
     "text": [
      "Traceback (most recent call last):\n",
      "  File \"/Users/mayanahar/anaconda3/lib/python3.10/site-packages/IPython/core/formatters.py\", line 221, in catch_format_error\n",
      "  File \"/Users/mayanahar/anaconda3/lib/python3.10/site-packages/IPython/core/formatters.py\", line 706, in __call__\n",
      "  File \"/Users/mayanahar/anaconda3/lib/python3.10/site-packages/IPython/lib/pretty.py\", line 410, in pretty\n",
      "  File \"/Users/mayanahar/anaconda3/lib/python3.10/site-packages/IPython/lib/pretty.py\", line 778, in _repr_pprint\n",
      "  File \"/Users/mayanahar/anaconda3/lib/python3.10/site-packages/pandas/core/frame.py\", line 1064, in __repr__\n",
      "  File \"/Users/mayanahar/anaconda3/lib/python3.10/site-packages/pandas/core/frame.py\", line 1245, in to_string\n",
      "  File \"/Users/mayanahar/anaconda3/lib/python3.10/site-packages/pandas/io/formats/format.py\", line 1133, in to_string\n",
      "  File \"<frozen importlib._bootstrap>\", line 1027, in _find_and_load\n",
      "  File \"<frozen importlib._bootstrap>\", line 1006, in _find_and_load_unlocked\n",
      "  File \"<frozen importlib._bootstrap>\", line 688, in _load_unlocked\n",
      "  File \"<frozen importlib._bootstrap_external>\", line 879, in exec_module\n",
      "  File \"<frozen importlib._bootstrap_external>\", line 1016, in get_code\n",
      "  File \"<frozen importlib._bootstrap_external>\", line 1073, in get_data\n",
      "OSError: [Errno 23] Too many open files in system: '/Users/mayanahar/anaconda3/lib/python3.10/site-packages/pandas/io/formats/string.py'\n",
      "\n",
      "During handling of the above exception, another exception occurred:\n",
      "\n",
      "Traceback (most recent call last):\n",
      "  File \"/Users/mayanahar/anaconda3/lib/python3.10/site-packages/IPython/core/interactiveshell.py\", line 2057, in showtraceback\n",
      "  File \"/Users/mayanahar/anaconda3/lib/python3.10/site-packages/IPython/core/ultratb.py\", line 1118, in structured_traceback\n",
      "  File \"/Users/mayanahar/anaconda3/lib/python3.10/site-packages/IPython/core/ultratb.py\", line 1012, in structured_traceback\n",
      "  File \"/Users/mayanahar/anaconda3/lib/python3.10/site-packages/IPython/core/ultratb.py\", line 865, in structured_traceback\n",
      "  File \"/Users/mayanahar/anaconda3/lib/python3.10/site-packages/IPython/core/ultratb.py\", line 799, in format_exception_as_a_whole\n",
      "  File \"/Users/mayanahar/anaconda3/lib/python3.10/site-packages/IPython/core/ultratb.py\", line 844, in get_records\n",
      "  File \"/Users/mayanahar/anaconda3/lib/python3.10/site-packages/pygments/styles/__init__.py\", line 78, in get_style_by_name\n",
      "  File \"<frozen importlib._bootstrap>\", line 1027, in _find_and_load\n",
      "  File \"<frozen importlib._bootstrap>\", line 1002, in _find_and_load_unlocked\n",
      "  File \"<frozen importlib._bootstrap>\", line 945, in _find_spec\n",
      "  File \"<frozen importlib._bootstrap_external>\", line 1439, in find_spec\n",
      "  File \"<frozen importlib._bootstrap_external>\", line 1411, in _get_spec\n",
      "  File \"<frozen importlib._bootstrap_external>\", line 1548, in find_spec\n",
      "  File \"<frozen importlib._bootstrap_external>\", line 1591, in _fill_cache\n",
      "OSError: [Errno 23] Too many open files in system: '/Users/mayanahar/anaconda3/lib/python3.10/site-packages/pygments/styles'\n",
      "Traceback (most recent call last):\n",
      "  File \"/Users/mayanahar/anaconda3/lib/python3.10/site-packages/IPython/core/formatters.py\", line 221, in catch_format_error\n",
      "  File \"/Users/mayanahar/anaconda3/lib/python3.10/site-packages/IPython/core/formatters.py\", line 342, in __call__\n",
      "  File \"/Users/mayanahar/anaconda3/lib/python3.10/site-packages/pandas/core/frame.py\", line 1106, in _repr_html_\n",
      "  File \"/Users/mayanahar/anaconda3/lib/python3.10/site-packages/pandas/io/formats/format.py\", line 1096, in to_html\n",
      "  File \"<frozen importlib._bootstrap>\", line 1027, in _find_and_load\n",
      "  File \"<frozen importlib._bootstrap>\", line 1006, in _find_and_load_unlocked\n",
      "  File \"<frozen importlib._bootstrap>\", line 688, in _load_unlocked\n",
      "  File \"<frozen importlib._bootstrap_external>\", line 879, in exec_module\n",
      "  File \"<frozen importlib._bootstrap_external>\", line 1016, in get_code\n",
      "  File \"<frozen importlib._bootstrap_external>\", line 1073, in get_data\n",
      "OSError: [Errno 23] Too many open files in system: '/Users/mayanahar/anaconda3/lib/python3.10/site-packages/pandas/io/formats/html.py'\n",
      "\n",
      "During handling of the above exception, another exception occurred:\n",
      "\n",
      "Traceback (most recent call last):\n",
      "  File \"/Users/mayanahar/anaconda3/lib/python3.10/site-packages/IPython/core/interactiveshell.py\", line 2057, in showtraceback\n",
      "  File \"/Users/mayanahar/anaconda3/lib/python3.10/site-packages/IPython/core/ultratb.py\", line 1118, in structured_traceback\n",
      "  File \"/Users/mayanahar/anaconda3/lib/python3.10/site-packages/IPython/core/ultratb.py\", line 1012, in structured_traceback\n",
      "  File \"/Users/mayanahar/anaconda3/lib/python3.10/site-packages/IPython/core/ultratb.py\", line 865, in structured_traceback\n",
      "  File \"/Users/mayanahar/anaconda3/lib/python3.10/site-packages/IPython/core/ultratb.py\", line 799, in format_exception_as_a_whole\n",
      "  File \"/Users/mayanahar/anaconda3/lib/python3.10/site-packages/IPython/core/ultratb.py\", line 844, in get_records\n",
      "  File \"/Users/mayanahar/anaconda3/lib/python3.10/site-packages/pygments/styles/__init__.py\", line 78, in get_style_by_name\n",
      "  File \"<frozen importlib._bootstrap>\", line 1027, in _find_and_load\n",
      "  File \"<frozen importlib._bootstrap>\", line 1002, in _find_and_load_unlocked\n",
      "  File \"<frozen importlib._bootstrap>\", line 945, in _find_spec\n",
      "  File \"<frozen importlib._bootstrap_external>\", line 1439, in find_spec\n",
      "  File \"<frozen importlib._bootstrap_external>\", line 1411, in _get_spec\n",
      "  File \"<frozen importlib._bootstrap_external>\", line 1548, in find_spec\n",
      "  File \"<frozen importlib._bootstrap_external>\", line 1591, in _fill_cache\n",
      "OSError: [Errno 23] Too many open files in system: '/Users/mayanahar/anaconda3/lib/python3.10/site-packages/pygments/styles'\n"
     ]
    }
   ],
   "source": [
    "transcript_ttest_df.head()"
   ]
  },
  {
   "cell_type": "code",
   "execution_count": 16,
   "metadata": {},
   "outputs": [
    {
     "data": {
      "text/plain": [
       "1282"
      ]
     },
     "execution_count": 16,
     "metadata": {},
     "output_type": "execute_result"
    }
   ],
   "source": [
    "len(transcript_ttest_df['gene_name'].unique())"
   ]
  },
  {
   "cell_type": "code",
   "execution_count": 17,
   "metadata": {},
   "outputs": [],
   "source": [
    "# Group by gene_name and find the index of the maximum p_value in each group\n",
    "idx = transcript_ttest_df.groupby('gene_name')['p_value'].idxmax()\n",
    "\n",
    "# Use the index to extract the corresponding rows from the original DataFrame\n",
    "gene_level_results = transcript_ttest_df.loc[idx, ['gene_name', 'p_value', 't_statistic']]\n",
    "\n",
    "# Resetting the index if needed\n",
    "gene_level_results.reset_index(drop=True, inplace=True)"
   ]
  },
  {
   "cell_type": "code",
   "execution_count": 18,
   "metadata": {},
   "outputs": [],
   "source": [
    "# Adjust the significance level (alpha) based on the number of tests\n",
    "significance_level = 0.05 / 10000\n",
    "\n",
    "# Create a new column called 'significant' which is True if p_value is less than the significance level\n",
    "gene_level_results['significant'] = gene_level_results['p_value'] < significance_level\n"
   ]
  },
  {
   "cell_type": "code",
   "execution_count": 19,
   "metadata": {},
   "outputs": [
    {
     "data": {
      "text/html": [
       "<div>\n",
       "<style scoped>\n",
       "    .dataframe tbody tr th:only-of-type {\n",
       "        vertical-align: middle;\n",
       "    }\n",
       "\n",
       "    .dataframe tbody tr th {\n",
       "        vertical-align: top;\n",
       "    }\n",
       "\n",
       "    .dataframe thead th {\n",
       "        text-align: right;\n",
       "    }\n",
       "</style>\n",
       "<table border=\"1\" class=\"dataframe\">\n",
       "  <thead>\n",
       "    <tr style=\"text-align: right;\">\n",
       "      <th></th>\n",
       "      <th>gene_name</th>\n",
       "      <th>p_value</th>\n",
       "      <th>t_statistic</th>\n",
       "      <th>significant</th>\n",
       "    </tr>\n",
       "  </thead>\n",
       "  <tbody>\n",
       "    <tr>\n",
       "      <th>914</th>\n",
       "      <td>RN7SL653P</td>\n",
       "      <td>2.147234e-12</td>\n",
       "      <td>-7.758233</td>\n",
       "      <td>True</td>\n",
       "    </tr>\n",
       "    <tr>\n",
       "      <th>643</th>\n",
       "      <td>MGC27382</td>\n",
       "      <td>5.283065e-11</td>\n",
       "      <td>-7.156555</td>\n",
       "      <td>True</td>\n",
       "    </tr>\n",
       "    <tr>\n",
       "      <th>56</th>\n",
       "      <td>ARID3BP1</td>\n",
       "      <td>9.247475e-10</td>\n",
       "      <td>-6.601112</td>\n",
       "      <td>True</td>\n",
       "    </tr>\n",
       "    <tr>\n",
       "      <th>1003</th>\n",
       "      <td>S1PR1-DT</td>\n",
       "      <td>2.595311e-09</td>\n",
       "      <td>-6.395708</td>\n",
       "      <td>True</td>\n",
       "    </tr>\n",
       "    <tr>\n",
       "      <th>337</th>\n",
       "      <td>FAM110D</td>\n",
       "      <td>6.804482e-09</td>\n",
       "      <td>-6.200948</td>\n",
       "      <td>True</td>\n",
       "    </tr>\n",
       "  </tbody>\n",
       "</table>\n",
       "</div>"
      ],
      "text/plain": [
       "      gene_name       p_value  t_statistic  significant\n",
       "914   RN7SL653P  2.147234e-12    -7.758233         True\n",
       "643    MGC27382  5.283065e-11    -7.156555         True\n",
       "56     ARID3BP1  9.247475e-10    -6.601112         True\n",
       "1003   S1PR1-DT  2.595311e-09    -6.395708         True\n",
       "337     FAM110D  6.804482e-09    -6.200948         True"
      ]
     },
     "execution_count": 19,
     "metadata": {},
     "output_type": "execute_result"
    }
   ],
   "source": [
    "gene_level_results = gene_level_results.sort_values(by='p_value')\n",
    "gene_level_results.head()"
   ]
  }
 ],
 "metadata": {
  "kernelspec": {
   "display_name": "base",
   "language": "python",
   "name": "python3"
  },
  "language_info": {
   "codemirror_mode": {
    "name": "ipython",
    "version": 3
   },
   "file_extension": ".py",
   "mimetype": "text/x-python",
   "name": "python",
   "nbconvert_exporter": "python",
   "pygments_lexer": "ipython3",
   "version": "3.10.9"
  }
 },
 "nbformat": 4,
 "nbformat_minor": 2
}
