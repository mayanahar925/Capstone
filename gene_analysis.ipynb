{
 "cells": [
  {
   "cell_type": "code",
   "execution_count": 26,
   "metadata": {},
   "outputs": [],
   "source": [
    "import pandas as pd\n",
    "import numpy as np\n",
    "import glob\n",
    "import os\n",
    "from tqdm import tqdm\n",
    "\n",
    "from pyensembl import EnsemblRelease\n",
    "from pyensembl import download_cache\n",
    "from pyensembl import genome\n",
    "\n",
    "# set infinite display\n",
    "pd.set_option('display.max_rows', None)\n",
    "pd.set_option('display.max_columns', None)\n",
    "pd.set_option('display.width', None)"
   ]
  },
  {
   "cell_type": "code",
   "execution_count": 13,
   "metadata": {},
   "outputs": [],
   "source": [
    "os.environ['PYENSEMBL_CACHE_DIR'] = '../../data/'"
   ]
  },
  {
   "cell_type": "code",
   "execution_count": 15,
   "metadata": {},
   "outputs": [
    {
     "name": "stdout",
     "output_type": "stream",
     "text": [
      "2023-11-11 14:28:40,931 - pyensembl.shell - INFO - Running 'install' for EnsemblRelease(release=110, species='homo_sapiens')\n",
      "2023-11-11 14:28:40,931 - pyensembl.download_cache - INFO - Fetching ../../data/pyensembl/GRCh38/ensembl110/Homo_sapiens.GRCh38.110.gtf.gz from URL https://ftp.ensembl.org/pub/release-110/gtf/homo_sapiens/Homo_sapiens.GRCh38.110.gtf.gz\n",
      "2023-11-11 14:28:40,931 - datacache.download - INFO - Downloading https://ftp.ensembl.org/pub/release-110/gtf/homo_sapiens/Homo_sapiens.GRCh38.110.gtf.gz to ../../data/pyensembl/GRCh38/ensembl110/Homo_sapiens.GRCh38.110.gtf.gz\n",
      "2023-11-11 14:31:01,766 - pyensembl.download_cache - INFO - Fetching ../../data/pyensembl/GRCh38/ensembl110/Homo_sapiens.GRCh38.cdna.all.fa.gz from URL https://ftp.ensembl.org/pub/release-110/fasta/homo_sapiens/cdna/Homo_sapiens.GRCh38.cdna.all.fa.gz\n",
      "2023-11-11 14:31:01,770 - datacache.download - INFO - Downloading https://ftp.ensembl.org/pub/release-110/fasta/homo_sapiens/cdna/Homo_sapiens.GRCh38.cdna.all.fa.gz to ../../data/pyensembl/GRCh38/ensembl110/Homo_sapiens.GRCh38.cdna.all.fa.gz\n",
      "2023-11-11 14:33:17,674 - pyensembl.download_cache - INFO - Fetching ../../data/pyensembl/GRCh38/ensembl110/Homo_sapiens.GRCh38.ncrna.fa.gz from URL https://ftp.ensembl.org/pub/release-110/fasta/homo_sapiens/ncrna/Homo_sapiens.GRCh38.ncrna.fa.gz\n",
      "2023-11-11 14:33:17,674 - datacache.download - INFO - Downloading https://ftp.ensembl.org/pub/release-110/fasta/homo_sapiens/ncrna/Homo_sapiens.GRCh38.ncrna.fa.gz to ../../data/pyensembl/GRCh38/ensembl110/Homo_sapiens.GRCh38.ncrna.fa.gz\n",
      "2023-11-11 14:33:51,979 - pyensembl.download_cache - INFO - Fetching ../../data/pyensembl/GRCh38/ensembl110/Homo_sapiens.GRCh38.pep.all.fa.gz from URL https://ftp.ensembl.org/pub/release-110/fasta/homo_sapiens/pep/Homo_sapiens.GRCh38.pep.all.fa.gz\n",
      "2023-11-11 14:33:51,980 - datacache.download - INFO - Downloading https://ftp.ensembl.org/pub/release-110/fasta/homo_sapiens/pep/Homo_sapiens.GRCh38.pep.all.fa.gz to ../../data/pyensembl/GRCh38/ensembl110/Homo_sapiens.GRCh38.pep.all.fa.gz\n",
      "2023-11-11 14:34:18,127 - pyensembl.database - INFO - Creating database: ../../data/pyensembl/GRCh38/ensembl110/Homo_sapiens.GRCh38.110.gtf.db\n",
      "2023-11-11 14:34:18,133 - pyensembl.database - INFO - Reading GTF from ../../data/pyensembl/GRCh38/ensembl110/Homo_sapiens.GRCh38.110.gtf.gz\n",
      "2023-11-11 14:35:40,360 - datacache.database_helpers - INFO - Creating database ../../data/pyensembl/GRCh38/ensembl110/Homo_sapiens.GRCh38.110.gtf.db containing: exon, transcript, start_codon, stop_codon, gene, CDS\n",
      "2023-11-11 14:35:40,363 - datacache.database - INFO - Running sqlite query: \"CREATE TABLE exon (strand TEXT NOT NULL, feature TEXT NOT NULL, transcript_biotype TEXT NOT NULL, exon_version TEXT NOT NULL, end INT NOT NULL, transcript_support_level TEXT NOT NULL, exon_number TEXT NOT NULL, gene_name TEXT NOT NULL, gene_version TEXT NOT NULL, protein_id TEXT NOT NULL, exon_id TEXT NOT NULL, gene_biotype TEXT NOT NULL, seqname TEXT NOT NULL, start INT NOT NULL, ccds_id TEXT NOT NULL, source TEXT NOT NULL, protein_version TEXT NOT NULL, transcript_name TEXT NOT NULL, transcript_id TEXT NOT NULL, gene_id TEXT NOT NULL, transcript_version TEXT NOT NULL)\"\n",
      "2023-11-11 14:35:44,100 - datacache.database - INFO - Inserting 1649677 rows into table exon\n",
      "2023-11-11 14:35:49,541 - datacache.database - INFO - Creating index on exon (seqname, start, end)\n",
      "2023-11-11 14:35:51,102 - datacache.database - INFO - Creating index on exon (gene_name)\n",
      "2023-11-11 14:35:52,023 - datacache.database - INFO - Creating index on exon (gene_id)\n",
      "2023-11-11 14:35:53,206 - datacache.database - INFO - Creating index on exon (transcript_id)\n",
      "2023-11-11 14:35:54,379 - datacache.database - INFO - Creating index on exon (transcript_name)\n",
      "2023-11-11 14:35:55,361 - datacache.database - INFO - Creating index on exon (exon_id)\n",
      "2023-11-11 14:35:56,648 - datacache.database - INFO - Creating index on exon (protein_id)\n",
      "2023-11-11 14:35:57,309 - datacache.database - INFO - Creating index on exon (ccds_id)\n",
      "2023-11-11 14:35:58,161 - datacache.database - INFO - Running sqlite query: \"CREATE TABLE transcript (strand TEXT NOT NULL, feature TEXT NOT NULL, transcript_biotype TEXT NOT NULL, exon_version TEXT NOT NULL, end INT NOT NULL, transcript_support_level TEXT NOT NULL, exon_number TEXT NOT NULL, gene_name TEXT NOT NULL, gene_version TEXT NOT NULL, protein_id TEXT NOT NULL, exon_id TEXT NOT NULL, gene_biotype TEXT NOT NULL, seqname TEXT NOT NULL, start INT NOT NULL, ccds_id TEXT NOT NULL, source TEXT NOT NULL, protein_version TEXT NOT NULL, transcript_name TEXT NOT NULL, transcript_id TEXT UNIQUE PRIMARY KEY NOT NULL, gene_id TEXT NOT NULL, transcript_version TEXT NOT NULL)\"\n",
      "2023-11-11 14:35:58,652 - datacache.database - INFO - Inserting 252894 rows into table transcript\n",
      "2023-11-11 14:35:59,978 - datacache.database - INFO - Creating index on transcript (seqname, start, end)\n",
      "2023-11-11 14:36:00,204 - datacache.database - INFO - Creating index on transcript (gene_name)\n",
      "2023-11-11 14:36:00,362 - datacache.database - INFO - Creating index on transcript (gene_id)\n",
      "2023-11-11 14:36:00,528 - datacache.database - INFO - Creating index on transcript (transcript_name)\n",
      "2023-11-11 14:36:00,673 - datacache.database - INFO - Creating index on transcript (exon_id)\n",
      "2023-11-11 14:36:00,761 - datacache.database - INFO - Creating index on transcript (protein_id)\n",
      "2023-11-11 14:36:00,864 - datacache.database - INFO - Creating index on transcript (ccds_id)\n",
      "2023-11-11 14:36:00,980 - datacache.database - INFO - Running sqlite query: \"CREATE TABLE start_codon (strand TEXT NOT NULL, feature TEXT NOT NULL, transcript_biotype TEXT NOT NULL, exon_version TEXT NOT NULL, end INT NOT NULL, transcript_support_level TEXT NOT NULL, exon_number TEXT NOT NULL, gene_name TEXT NOT NULL, gene_version TEXT NOT NULL, protein_id TEXT NOT NULL, exon_id TEXT NOT NULL, gene_biotype TEXT NOT NULL, seqname TEXT NOT NULL, start INT NOT NULL, ccds_id TEXT NOT NULL, source TEXT NOT NULL, protein_version TEXT NOT NULL, transcript_name TEXT NOT NULL, transcript_id TEXT NOT NULL, gene_id TEXT NOT NULL, transcript_version TEXT NOT NULL)\"\n",
      "2023-11-11 14:36:01,187 - datacache.database - INFO - Inserting 97935 rows into table start_codon\n",
      "2023-11-11 14:36:01,485 - datacache.database - INFO - Creating index on start_codon (seqname, start, end)\n",
      "2023-11-11 14:36:01,550 - datacache.database - INFO - Creating index on start_codon (gene_name)\n",
      "2023-11-11 14:36:01,600 - datacache.database - INFO - Creating index on start_codon (gene_id)\n",
      "2023-11-11 14:36:01,659 - datacache.database - INFO - Creating index on start_codon (transcript_id)\n",
      "2023-11-11 14:36:01,725 - datacache.database - INFO - Creating index on start_codon (transcript_name)\n",
      "2023-11-11 14:36:01,779 - datacache.database - INFO - Creating index on start_codon (exon_id)\n",
      "2023-11-11 14:36:01,813 - datacache.database - INFO - Creating index on start_codon (protein_id)\n",
      "2023-11-11 14:36:01,847 - datacache.database - INFO - Creating index on start_codon (ccds_id)\n",
      "2023-11-11 14:36:01,895 - datacache.database - INFO - Running sqlite query: \"CREATE TABLE stop_codon (strand TEXT NOT NULL, feature TEXT NOT NULL, transcript_biotype TEXT NOT NULL, exon_version TEXT NOT NULL, end INT NOT NULL, transcript_support_level TEXT NOT NULL, exon_number TEXT NOT NULL, gene_name TEXT NOT NULL, gene_version TEXT NOT NULL, protein_id TEXT NOT NULL, exon_id TEXT NOT NULL, gene_biotype TEXT NOT NULL, seqname TEXT NOT NULL, start INT NOT NULL, ccds_id TEXT NOT NULL, source TEXT NOT NULL, protein_version TEXT NOT NULL, transcript_name TEXT NOT NULL, transcript_id TEXT NOT NULL, gene_id TEXT NOT NULL, transcript_version TEXT NOT NULL)\"\n",
      "2023-11-11 14:36:02,037 - datacache.database - INFO - Inserting 91861 rows into table stop_codon\n",
      "2023-11-11 14:36:02,311 - datacache.database - INFO - Creating index on stop_codon (seqname, start, end)\n",
      "2023-11-11 14:36:02,371 - datacache.database - INFO - Creating index on stop_codon (gene_name)\n",
      "2023-11-11 14:36:02,416 - datacache.database - INFO - Creating index on stop_codon (gene_id)\n",
      "2023-11-11 14:36:02,470 - datacache.database - INFO - Creating index on stop_codon (transcript_id)\n",
      "2023-11-11 14:36:02,534 - datacache.database - INFO - Creating index on stop_codon (transcript_name)\n",
      "2023-11-11 14:36:02,584 - datacache.database - INFO - Creating index on stop_codon (exon_id)\n",
      "2023-11-11 14:36:02,617 - datacache.database - INFO - Creating index on stop_codon (protein_id)\n",
      "2023-11-11 14:36:02,650 - datacache.database - INFO - Creating index on stop_codon (ccds_id)\n",
      "2023-11-11 14:36:02,698 - datacache.database - INFO - Running sqlite query: \"CREATE TABLE gene (strand TEXT NOT NULL, feature TEXT NOT NULL, transcript_biotype TEXT NOT NULL, exon_version TEXT NOT NULL, end INT NOT NULL, transcript_support_level TEXT NOT NULL, exon_number TEXT NOT NULL, gene_name TEXT NOT NULL, gene_version TEXT NOT NULL, protein_id TEXT NOT NULL, exon_id TEXT NOT NULL, gene_biotype TEXT NOT NULL, seqname TEXT NOT NULL, start INT NOT NULL, ccds_id TEXT NOT NULL, source TEXT NOT NULL, protein_version TEXT NOT NULL, transcript_name TEXT NOT NULL, transcript_id TEXT NOT NULL, gene_id TEXT UNIQUE PRIMARY KEY NOT NULL, transcript_version TEXT NOT NULL)\"\n",
      "2023-11-11 14:36:02,805 - datacache.database - INFO - Inserting 62754 rows into table gene\n",
      "2023-11-11 14:36:03,215 - datacache.database - INFO - Creating index on gene (seqname, start, end)\n",
      "2023-11-11 14:36:03,255 - datacache.database - INFO - Creating index on gene (gene_name)\n",
      "2023-11-11 14:36:03,282 - datacache.database - INFO - Creating index on gene (transcript_id)\n",
      "2023-11-11 14:36:03,298 - datacache.database - INFO - Creating index on gene (transcript_name)\n",
      "2023-11-11 14:36:03,314 - datacache.database - INFO - Creating index on gene (exon_id)\n",
      "2023-11-11 14:36:03,329 - datacache.database - INFO - Creating index on gene (protein_id)\n",
      "2023-11-11 14:36:03,345 - datacache.database - INFO - Creating index on gene (ccds_id)\n",
      "2023-11-11 14:36:03,361 - datacache.database - INFO - Running sqlite query: \"CREATE TABLE CDS (strand TEXT NOT NULL, feature TEXT NOT NULL, transcript_biotype TEXT NOT NULL, exon_version TEXT NOT NULL, end INT NOT NULL, transcript_support_level TEXT NOT NULL, exon_number TEXT NOT NULL, gene_name TEXT NOT NULL, gene_version TEXT NOT NULL, protein_id TEXT NOT NULL, exon_id TEXT NOT NULL, gene_biotype TEXT NOT NULL, seqname TEXT NOT NULL, start INT NOT NULL, ccds_id TEXT NOT NULL, source TEXT NOT NULL, protein_version TEXT NOT NULL, transcript_name TEXT NOT NULL, transcript_id TEXT NOT NULL, gene_id TEXT NOT NULL, transcript_version TEXT NOT NULL)\"\n",
      "2023-11-11 14:36:04,941 - datacache.database - INFO - Inserting 885265 rows into table CDS\n",
      "2023-11-11 14:36:10,990 - datacache.database - INFO - Creating index on CDS (seqname, start, end)\n",
      "2023-11-11 14:36:11,729 - datacache.database - INFO - Creating index on CDS (gene_name)\n",
      "2023-11-11 14:36:12,161 - datacache.database - INFO - Creating index on CDS (gene_id)\n",
      "2023-11-11 14:36:12,764 - datacache.database - INFO - Creating index on CDS (transcript_id)\n",
      "2023-11-11 14:36:13,387 - datacache.database - INFO - Creating index on CDS (transcript_name)\n",
      "2023-11-11 14:36:13,851 - datacache.database - INFO - Creating index on CDS (exon_id)\n",
      "2023-11-11 14:36:14,173 - datacache.database - INFO - Creating index on CDS (protein_id)\n",
      "2023-11-11 14:36:14,802 - datacache.database - INFO - Creating index on CDS (ccds_id)\n",
      "2023-11-11 14:36:15,255 - datacache.database - INFO - Running sqlite query: \"CREATE TABLE _datacache_metadata (version INT)\"\n",
      "2023-11-11 14:36:15,255 - datacache.database - INFO - Running sqlite query: \"INSERT INTO _datacache_metadata VALUES (3)\"\n",
      "2023-11-11 14:36:16,384 - pyensembl.sequence_data - INFO - Parsing sequences from FASTA file at /Users/worker/Desktop/capstone/data/pyensembl/GRCh38/ensembl110/Homo_sapiens.GRCh38.cdna.all.fa.gz\n",
      "2023-11-11 14:36:21,846 - pyensembl.sequence_data - INFO - Saving sequence dictionary to /Users/worker/Desktop/capstone/data/pyensembl/GRCh38/ensembl110/Homo_sapiens.GRCh38.cdna.all.fa.gz.pickle\n",
      "2023-11-11 14:36:22,924 - pyensembl.sequence_data - INFO - Parsing sequences from FASTA file at /Users/worker/Desktop/capstone/data/pyensembl/GRCh38/ensembl110/Homo_sapiens.GRCh38.ncrna.fa.gz\n",
      "2023-11-11 14:36:24,344 - pyensembl.sequence_data - INFO - Saving sequence dictionary to /Users/worker/Desktop/capstone/data/pyensembl/GRCh38/ensembl110/Homo_sapiens.GRCh38.ncrna.fa.gz.pickle\n",
      "2023-11-11 14:36:24,480 - pyensembl.sequence_data - INFO - Parsing sequences from FASTA file at /Users/worker/Desktop/capstone/data/pyensembl/GRCh38/ensembl110/Homo_sapiens.GRCh38.pep.all.fa.gz\n",
      "2023-11-11 14:36:25,716 - pyensembl.sequence_data - INFO - Saving sequence dictionary to /Users/worker/Desktop/capstone/data/pyensembl/GRCh38/ensembl110/Homo_sapiens.GRCh38.pep.all.fa.gz.pickle\n"
     ]
    },
    {
     "data": {
      "text/plain": [
       "0"
      ]
     },
     "execution_count": 15,
     "metadata": {},
     "output_type": "execute_result"
    }
   ],
   "source": [
    "os.system('pyensembl install --release 110 --species human')"
   ]
  },
  {
   "cell_type": "code",
   "execution_count": 18,
   "metadata": {},
   "outputs": [],
   "source": [
    "# Load the Ensembl release\n",
    "data = EnsemblRelease(110)"
   ]
  },
  {
   "cell_type": "code",
   "execution_count": 20,
   "metadata": {},
   "outputs": [],
   "source": [
    "# import the transcript_ttest_df.tsv file\n",
    "transcript_ttest_df = pd.read_csv('../../results/transcript_ttest_df.tsv', sep='\\t')"
   ]
  },
  {
   "cell_type": "code",
   "execution_count": 40,
   "metadata": {},
   "outputs": [],
   "source": [
    "# create a list called transcript_id_list out of the transcript_ttest_df['transcript_id'] column\n",
    "transcript_id_list = transcript_ttest_df['transcript_id'].tolist()\n",
    "# remove the . and the number after the . from the transcript_id_list\n",
    "transcript_id_list = [i.split('.')[0] for i in transcript_id_list]"
   ]
  },
  {
   "cell_type": "code",
   "execution_count": 41,
   "metadata": {},
   "outputs": [
    {
     "name": "stdout",
     "output_type": "stream",
     "text": [
      "No results found for transcript ID: ENST00000640628\n",
      "No results found for transcript ID: ENST00000621530\n",
      "No results found for transcript ID: ENST00000610648\n",
      "No results found for transcript ID: ENST00000612017\n",
      "No results found for transcript ID: ENST00000370682\n",
      "No results found for transcript ID: ENST00000620882\n",
      "No results found for transcript ID: ENST00000616327\n",
      "No results found for transcript ID: ENST00000373440\n",
      "No results found for transcript ID: ENST00000294613\n",
      "No results found for transcript ID: ENST00000371956\n",
      "No results found for transcript ID: ENST00000372247\n",
      "No results found for transcript ID: ENST00000331941\n",
      "No results found for transcript ID: ENST00000619352\n",
      "No results found for transcript ID: ENST00000602605\n",
      "No results found for transcript ID: ENST00000458109\n",
      "No results found for transcript ID: ENST00000425828\n",
      "No results found for transcript ID: ENST00000361632\n",
      "No results found for transcript ID: ENST00000373023\n"
     ]
    }
   ],
   "source": [
    "# Create a dictionary to store the mapping of transcript IDs to gene IDs\n",
    "transcript_to_gene_mapping = {}\n",
    "\n",
    "# !@#!@#!# (calling relevant classes from pyensembl object)\n",
    "reference_name = data.reference_name\n",
    "gtf_path = '../../data/pyensembl/GRCh38/ensembl110/Homo_sapiens.GRCh38.110.gtf.db'\n",
    "\n",
    "# Retrieve gene IDs from transcript IDs\n",
    "for transcript_id in transcript_id_list:\n",
    "    ref = genome.Genome(\n",
    "        reference_name=reference_name,\n",
    "        annotation_name='ensembl',\n",
    "        gtf_path_or_url=gtf_path\n",
    "    )\n",
    "    try:\n",
    "        gene_name = ref.gene_name_of_transcript_id(transcript_id)\n",
    "        transcript_to_gene_mapping[transcript_id] = gene_name\n",
    "    except ValueError:\n",
    "        print(f\"No results found for transcript ID: {transcript_id}\")\n",
    "\n",
    "# Print the mapping\n",
    "# for transcript_id, gene_id in transcript_to_gene_mapping.items():\n",
    "#     print(f\"Transcript ID: {transcript_id}, Gene ID: {gene_id}\")"
   ]
  },
  {
   "cell_type": "code",
   "execution_count": 45,
   "metadata": {},
   "outputs": [],
   "source": [
    "# use transcript_to_gene_mapping to add a new column to the dataframe and add the gene name\n",
    "transcript_ttest_df['gene_name'] = transcript_ttest_df['transcript_id'].apply(lambda x: next((v for k, v in transcript_to_gene_mapping.items() if k in x), None))"
   ]
  },
  {
   "cell_type": "code",
   "execution_count": 59,
   "metadata": {},
   "outputs": [
    {
     "data": {
      "text/html": [
       "<div>\n",
       "<style scoped>\n",
       "    .dataframe tbody tr th:only-of-type {\n",
       "        vertical-align: middle;\n",
       "    }\n",
       "\n",
       "    .dataframe tbody tr th {\n",
       "        vertical-align: top;\n",
       "    }\n",
       "\n",
       "    .dataframe thead th {\n",
       "        text-align: right;\n",
       "    }\n",
       "</style>\n",
       "<table border=\"1\" class=\"dataframe\">\n",
       "  <thead>\n",
       "    <tr style=\"text-align: right;\">\n",
       "      <th></th>\n",
       "      <th>transcript_id</th>\n",
       "      <th>t_statistic</th>\n",
       "      <th>p_value</th>\n",
       "      <th>significant</th>\n",
       "      <th>gene_name</th>\n",
       "    </tr>\n",
       "  </thead>\n",
       "  <tbody>\n",
       "    <tr>\n",
       "      <th>0</th>\n",
       "      <td>ENST00000616738.4</td>\n",
       "      <td>-8.822822</td>\n",
       "      <td>6.090021e-15</td>\n",
       "      <td>True</td>\n",
       "      <td>LEPR</td>\n",
       "    </tr>\n",
       "    <tr>\n",
       "      <th>1</th>\n",
       "      <td>ENST00000706843.1</td>\n",
       "      <td>-8.779437</td>\n",
       "      <td>7.764651e-15</td>\n",
       "      <td>True</td>\n",
       "      <td>EVI5</td>\n",
       "    </tr>\n",
       "    <tr>\n",
       "      <th>2</th>\n",
       "      <td>ENST00000361355.8</td>\n",
       "      <td>-8.549002</td>\n",
       "      <td>2.807879e-14</td>\n",
       "      <td>True</td>\n",
       "      <td>AMY2B</td>\n",
       "    </tr>\n",
       "    <tr>\n",
       "      <th>3</th>\n",
       "      <td>ENST00000529608.1</td>\n",
       "      <td>-8.341897</td>\n",
       "      <td>8.847464e-14</td>\n",
       "      <td>True</td>\n",
       "      <td>TGFBR3</td>\n",
       "    </tr>\n",
       "    <tr>\n",
       "      <th>4</th>\n",
       "      <td>ENST00000494134.3</td>\n",
       "      <td>-7.758233</td>\n",
       "      <td>2.147234e-12</td>\n",
       "      <td>True</td>\n",
       "      <td>RN7SL653P</td>\n",
       "    </tr>\n",
       "  </tbody>\n",
       "</table>\n",
       "</div>"
      ],
      "text/plain": [
       "       transcript_id  t_statistic       p_value  significant  gene_name\n",
       "0  ENST00000616738.4    -8.822822  6.090021e-15         True       LEPR\n",
       "1  ENST00000706843.1    -8.779437  7.764651e-15         True       EVI5\n",
       "2  ENST00000361355.8    -8.549002  2.807879e-14         True      AMY2B\n",
       "3  ENST00000529608.1    -8.341897  8.847464e-14         True     TGFBR3\n",
       "4  ENST00000494134.3    -7.758233  2.147234e-12         True  RN7SL653P"
      ]
     },
     "execution_count": 59,
     "metadata": {},
     "output_type": "execute_result"
    }
   ],
   "source": [
    "transcript_ttest_df.head()"
   ]
  },
  {
   "cell_type": "code",
   "execution_count": 57,
   "metadata": {},
   "outputs": [
    {
     "data": {
      "text/plain": [
       "1538"
      ]
     },
     "execution_count": 57,
     "metadata": {},
     "output_type": "execute_result"
    }
   ],
   "source": [
    "len(transcript_ttest_df['gene_name'].unique())"
   ]
  },
  {
   "cell_type": "code",
   "execution_count": 68,
   "metadata": {},
   "outputs": [],
   "source": [
    "# Group by gene_name and find the index of the maximum p_value in each group\n",
    "idx = transcript_ttest_df.groupby('gene_name')['p_value'].idxmax()\n",
    "\n",
    "# Use the index to extract the corresponding rows from the original DataFrame\n",
    "gene_level_results = transcript_ttest_df.loc[idx, ['gene_name', 'p_value', 't_statistic']]\n",
    "\n",
    "# Resetting the index if needed\n",
    "gene_level_results.reset_index(drop=True, inplace=True)"
   ]
  },
  {
   "cell_type": "code",
   "execution_count": 69,
   "metadata": {},
   "outputs": [],
   "source": [
    "# Adjust the significance level (alpha) based on the number of tests\n",
    "significance_level = 0.05 / 10000\n",
    "\n",
    "# Create a new column called 'significant' which is True if p_value is less than the significance level\n",
    "gene_level_results['significant'] = gene_level_results['p_value'] < significance_level\n"
   ]
  },
  {
   "cell_type": "code",
   "execution_count": 70,
   "metadata": {},
   "outputs": [
    {
     "data": {
      "text/html": [
       "<div>\n",
       "<style scoped>\n",
       "    .dataframe tbody tr th:only-of-type {\n",
       "        vertical-align: middle;\n",
       "    }\n",
       "\n",
       "    .dataframe tbody tr th {\n",
       "        vertical-align: top;\n",
       "    }\n",
       "\n",
       "    .dataframe thead th {\n",
       "        text-align: right;\n",
       "    }\n",
       "</style>\n",
       "<table border=\"1\" class=\"dataframe\">\n",
       "  <thead>\n",
       "    <tr style=\"text-align: right;\">\n",
       "      <th></th>\n",
       "      <th>gene_name</th>\n",
       "      <th>p_value</th>\n",
       "      <th>t_statistic</th>\n",
       "      <th>significant</th>\n",
       "    </tr>\n",
       "  </thead>\n",
       "  <tbody>\n",
       "    <tr>\n",
       "      <th>1097</th>\n",
       "      <td>RN7SL653P</td>\n",
       "      <td>2.147234e-12</td>\n",
       "      <td>-7.758233</td>\n",
       "      <td>True</td>\n",
       "    </tr>\n",
       "    <tr>\n",
       "      <th>765</th>\n",
       "      <td>MGC27382</td>\n",
       "      <td>5.283065e-11</td>\n",
       "      <td>-7.156555</td>\n",
       "      <td>True</td>\n",
       "    </tr>\n",
       "    <tr>\n",
       "      <th>66</th>\n",
       "      <td>ARID3BP1</td>\n",
       "      <td>9.247475e-10</td>\n",
       "      <td>-6.601112</td>\n",
       "      <td>True</td>\n",
       "    </tr>\n",
       "    <tr>\n",
       "      <th>391</th>\n",
       "      <td>FAM110D</td>\n",
       "      <td>6.804482e-09</td>\n",
       "      <td>-6.200948</td>\n",
       "      <td>True</td>\n",
       "    </tr>\n",
       "    <tr>\n",
       "      <th>1341</th>\n",
       "      <td>SYDE2</td>\n",
       "      <td>3.295455e-08</td>\n",
       "      <td>-5.875320</td>\n",
       "      <td>True</td>\n",
       "    </tr>\n",
       "  </tbody>\n",
       "</table>\n",
       "</div>"
      ],
      "text/plain": [
       "      gene_name       p_value  t_statistic  significant\n",
       "1097  RN7SL653P  2.147234e-12    -7.758233         True\n",
       "765    MGC27382  5.283065e-11    -7.156555         True\n",
       "66     ARID3BP1  9.247475e-10    -6.601112         True\n",
       "391     FAM110D  6.804482e-09    -6.200948         True\n",
       "1341      SYDE2  3.295455e-08    -5.875320         True"
      ]
     },
     "execution_count": 70,
     "metadata": {},
     "output_type": "execute_result"
    }
   ],
   "source": [
    "gene_level_results = gene_level_results.sort_values(by='p_value')\n",
    "gene_level_results.head()"
   ]
  }
 ],
 "metadata": {
  "kernelspec": {
   "display_name": "base",
   "language": "python",
   "name": "python3"
  },
  "language_info": {
   "codemirror_mode": {
    "name": "ipython",
    "version": 3
   },
   "file_extension": ".py",
   "mimetype": "text/x-python",
   "name": "python",
   "nbconvert_exporter": "python",
   "pygments_lexer": "ipython3",
   "version": "3.10.9"
  }
 },
 "nbformat": 4,
 "nbformat_minor": 2
}
