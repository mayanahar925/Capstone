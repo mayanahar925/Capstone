{
 "cells": [
  {
   "cell_type": "code",
   "execution_count": 70,
   "metadata": {},
   "outputs": [],
   "source": [
    "import pandas as pd\n",
    "import numpy as np\n",
    "import glob\n",
    "import gzip\n",
    "import shutil\n",
    "import os\n",
    "from tqdm import tqdm\n",
    "import plotly.express as px\n",
    "import sklearn\n",
    "\n",
    "# set infinite display\n",
    "pd.set_option('display.max_rows', None)\n",
    "pd.set_option('display.max_columns', None)\n",
    "pd.set_option('display.width', None)"
   ]
  },
  {
   "cell_type": "code",
   "execution_count": 71,
   "metadata": {},
   "outputs": [
    {
     "data": {
      "text/html": [
       "<div>\n",
       "<style scoped>\n",
       "    .dataframe tbody tr th:only-of-type {\n",
       "        vertical-align: middle;\n",
       "    }\n",
       "\n",
       "    .dataframe tbody tr th {\n",
       "        vertical-align: top;\n",
       "    }\n",
       "\n",
       "    .dataframe thead th {\n",
       "        text-align: right;\n",
       "    }\n",
       "</style>\n",
       "<table border=\"1\" class=\"dataframe\">\n",
       "  <thead>\n",
       "    <tr style=\"text-align: right;\">\n",
       "      <th></th>\n",
       "      <th>52aef68b-63de-46b1-bb88-fb11d875c803</th>\n",
       "      <th>98460c61-c4ef-43ff-b7ac-b5c1b7b0ae26</th>\n",
       "      <th>5810cc10-f53a-451a-8001-c68765e30565</th>\n",
       "      <th>2042bb7e-ff24-439d-b33c-70c15cc3d201</th>\n",
       "      <th>dba512d3-58c5-47ed-a3f5-ee3d81e0b0c9</th>\n",
       "      <th>4aa493c6-6177-4d64-add9-f0c0198e2530</th>\n",
       "      <th>53b68f98-1d15-42d5-b374-b2163590b3a8</th>\n",
       "      <th>1748692d-651e-4bb1-ab9e-8460d1c8b588</th>\n",
       "      <th>eb0750ce-bed8-41a0-b93c-d72d02c65303</th>\n",
       "      <th>cf4aa3e0-2256-42e3-a7cf-9ea08900b622</th>\n",
       "    </tr>\n",
       "    <tr>\n",
       "      <th>Name</th>\n",
       "      <th></th>\n",
       "      <th></th>\n",
       "      <th></th>\n",
       "      <th></th>\n",
       "      <th></th>\n",
       "      <th></th>\n",
       "      <th></th>\n",
       "      <th></th>\n",
       "      <th></th>\n",
       "      <th></th>\n",
       "    </tr>\n",
       "  </thead>\n",
       "  <tbody>\n",
       "    <tr>\n",
       "      <th>ENST00000456328.2</th>\n",
       "      <td>0.088142</td>\n",
       "      <td>0.000000</td>\n",
       "      <td>0.00000</td>\n",
       "      <td>0.000000</td>\n",
       "      <td>0.000000</td>\n",
       "      <td>0.000000</td>\n",
       "      <td>0.000000</td>\n",
       "      <td>0.000000</td>\n",
       "      <td>0.000000</td>\n",
       "      <td>0.147231</td>\n",
       "    </tr>\n",
       "    <tr>\n",
       "      <th>ENST00000450305.2</th>\n",
       "      <td>0.000000</td>\n",
       "      <td>0.000000</td>\n",
       "      <td>0.00000</td>\n",
       "      <td>0.000000</td>\n",
       "      <td>0.000000</td>\n",
       "      <td>0.000000</td>\n",
       "      <td>0.000000</td>\n",
       "      <td>0.000000</td>\n",
       "      <td>0.000000</td>\n",
       "      <td>0.000000</td>\n",
       "    </tr>\n",
       "    <tr>\n",
       "      <th>ENST00000488147.1</th>\n",
       "      <td>3.235923</td>\n",
       "      <td>2.721829</td>\n",
       "      <td>5.28927</td>\n",
       "      <td>13.728161</td>\n",
       "      <td>2.106743</td>\n",
       "      <td>6.399453</td>\n",
       "      <td>2.024906</td>\n",
       "      <td>1.171819</td>\n",
       "      <td>0.643958</td>\n",
       "      <td>4.371894</td>\n",
       "    </tr>\n",
       "    <tr>\n",
       "      <th>ENST00000619216.1</th>\n",
       "      <td>0.000000</td>\n",
       "      <td>0.000000</td>\n",
       "      <td>0.00000</td>\n",
       "      <td>0.000000</td>\n",
       "      <td>0.000000</td>\n",
       "      <td>0.000000</td>\n",
       "      <td>0.000000</td>\n",
       "      <td>0.000000</td>\n",
       "      <td>0.000000</td>\n",
       "      <td>0.000000</td>\n",
       "    </tr>\n",
       "    <tr>\n",
       "      <th>ENST00000473358.1</th>\n",
       "      <td>0.000000</td>\n",
       "      <td>0.000000</td>\n",
       "      <td>0.00000</td>\n",
       "      <td>0.000000</td>\n",
       "      <td>0.000000</td>\n",
       "      <td>0.000000</td>\n",
       "      <td>0.000000</td>\n",
       "      <td>0.000000</td>\n",
       "      <td>0.000000</td>\n",
       "      <td>0.000000</td>\n",
       "    </tr>\n",
       "  </tbody>\n",
       "</table>\n",
       "</div>"
      ],
      "text/plain": [
       "                   52aef68b-63de-46b1-bb88-fb11d875c803  \\\n",
       "Name                                                      \n",
       "ENST00000456328.2                              0.088142   \n",
       "ENST00000450305.2                              0.000000   \n",
       "ENST00000488147.1                              3.235923   \n",
       "ENST00000619216.1                              0.000000   \n",
       "ENST00000473358.1                              0.000000   \n",
       "\n",
       "                   98460c61-c4ef-43ff-b7ac-b5c1b7b0ae26  \\\n",
       "Name                                                      \n",
       "ENST00000456328.2                              0.000000   \n",
       "ENST00000450305.2                              0.000000   \n",
       "ENST00000488147.1                              2.721829   \n",
       "ENST00000619216.1                              0.000000   \n",
       "ENST00000473358.1                              0.000000   \n",
       "\n",
       "                   5810cc10-f53a-451a-8001-c68765e30565  \\\n",
       "Name                                                      \n",
       "ENST00000456328.2                               0.00000   \n",
       "ENST00000450305.2                               0.00000   \n",
       "ENST00000488147.1                               5.28927   \n",
       "ENST00000619216.1                               0.00000   \n",
       "ENST00000473358.1                               0.00000   \n",
       "\n",
       "                   2042bb7e-ff24-439d-b33c-70c15cc3d201  \\\n",
       "Name                                                      \n",
       "ENST00000456328.2                              0.000000   \n",
       "ENST00000450305.2                              0.000000   \n",
       "ENST00000488147.1                             13.728161   \n",
       "ENST00000619216.1                              0.000000   \n",
       "ENST00000473358.1                              0.000000   \n",
       "\n",
       "                   dba512d3-58c5-47ed-a3f5-ee3d81e0b0c9  \\\n",
       "Name                                                      \n",
       "ENST00000456328.2                              0.000000   \n",
       "ENST00000450305.2                              0.000000   \n",
       "ENST00000488147.1                              2.106743   \n",
       "ENST00000619216.1                              0.000000   \n",
       "ENST00000473358.1                              0.000000   \n",
       "\n",
       "                   4aa493c6-6177-4d64-add9-f0c0198e2530  \\\n",
       "Name                                                      \n",
       "ENST00000456328.2                              0.000000   \n",
       "ENST00000450305.2                              0.000000   \n",
       "ENST00000488147.1                              6.399453   \n",
       "ENST00000619216.1                              0.000000   \n",
       "ENST00000473358.1                              0.000000   \n",
       "\n",
       "                   53b68f98-1d15-42d5-b374-b2163590b3a8  \\\n",
       "Name                                                      \n",
       "ENST00000456328.2                              0.000000   \n",
       "ENST00000450305.2                              0.000000   \n",
       "ENST00000488147.1                              2.024906   \n",
       "ENST00000619216.1                              0.000000   \n",
       "ENST00000473358.1                              0.000000   \n",
       "\n",
       "                   1748692d-651e-4bb1-ab9e-8460d1c8b588  \\\n",
       "Name                                                      \n",
       "ENST00000456328.2                              0.000000   \n",
       "ENST00000450305.2                              0.000000   \n",
       "ENST00000488147.1                              1.171819   \n",
       "ENST00000619216.1                              0.000000   \n",
       "ENST00000473358.1                              0.000000   \n",
       "\n",
       "                   eb0750ce-bed8-41a0-b93c-d72d02c65303  \\\n",
       "Name                                                      \n",
       "ENST00000456328.2                              0.000000   \n",
       "ENST00000450305.2                              0.000000   \n",
       "ENST00000488147.1                              0.643958   \n",
       "ENST00000619216.1                              0.000000   \n",
       "ENST00000473358.1                              0.000000   \n",
       "\n",
       "                   cf4aa3e0-2256-42e3-a7cf-9ea08900b622  \n",
       "Name                                                     \n",
       "ENST00000456328.2                              0.147231  \n",
       "ENST00000450305.2                              0.000000  \n",
       "ENST00000488147.1                              4.371894  \n",
       "ENST00000619216.1                              0.000000  \n",
       "ENST00000473358.1                              0.000000  "
      ]
     },
     "execution_count": 71,
     "metadata": {},
     "output_type": "execute_result"
    }
   ],
   "source": [
    "# import the TPM dataframe\n",
    "TPM = pd.read_csv('../../results/TPM.tsv', sep='\\t', index_col=0)\n",
    "# preview the dataframe only showing the first 10 columns\n",
    "TPM.iloc[:, :10].head()"
   ]
  },
  {
   "cell_type": "code",
   "execution_count": 72,
   "metadata": {},
   "outputs": [
    {
     "name": "stdout",
     "output_type": "stream",
     "text": [
      "Before removing non-performing transcripts:  (252045, 133)\n",
      "After removing non-performing transcripts:  (233502, 133)\n"
     ]
    }
   ],
   "source": [
    "# print shape of dataframe\n",
    "print('Before removing non-performing transcripts: ', TPM.shape)\n",
    "# find genes with 0 TPM in all samples\n",
    "TPM = TPM.loc[(TPM != 0).any(axis=1)]\n",
    "# print shape of dataframe\n",
    "print('After removing non-performing transcripts: ', TPM.shape)\n",
    "\n",
    "# # find genes with 0 TPM in at least 99% of samples\n",
    "# TPM = TPM.loc[(TPM == 0).sum(axis=1) <= 0.99 * TPM.shape[1]]\n",
    "# # print shape of dataframe\n",
    "# print('After removing genes with 0 TPM in at least 99% of samples: ', TPM.shape)"
   ]
  },
  {
   "cell_type": "code",
   "execution_count": 73,
   "metadata": {},
   "outputs": [],
   "source": [
    "# transpose the dataframe\n",
    "TPM = TPM.T"
   ]
  },
  {
   "cell_type": "code",
   "execution_count": 74,
   "metadata": {},
   "outputs": [
    {
     "name": "stdout",
     "output_type": "stream",
     "text": [
      "Mean TPM:  4.282618564281844\n",
      "Standard deviation TPM:  657.9168415005502\n",
      "Max TPM:  366584.136888\n",
      "Min TPM:  0.0\n",
      "Range TPM:  366584.136888\n",
      "Smallest non-zero TPM value:  1e-06\n"
     ]
    }
   ],
   "source": [
    "# Flatten the DataFrame to a 1D array\n",
    "flat_values = TPM.values.flatten()\n",
    "\n",
    "# Calculate mean and standard deviation\n",
    "mean_value = np.mean(flat_values)\n",
    "std_value = np.std(flat_values)\n",
    "\n",
    "# calculate max, min and range\n",
    "max_value = np.max(flat_values)\n",
    "min_value = np.min(flat_values)\n",
    "range_value = max_value - min_value\n",
    "\n",
    "# print all statistical values\n",
    "print('Mean TPM: ', mean_value)\n",
    "print('Standard deviation TPM: ', std_value)\n",
    "print('Max TPM: ', max_value)\n",
    "print('Min TPM: ', min_value)\n",
    "print('Range TPM: ', range_value)\n",
    "\n",
    "# find the smallest non-zero value in the flattened TPM array\n",
    "smallest_nonzero = np.min(TPM.values[TPM.values > 0])\n",
    "# print the smallest non-zero value\n",
    "print('Smallest non-zero TPM value: ', smallest_nonzero)"
   ]
  },
  {
   "cell_type": "code",
   "execution_count": 75,
   "metadata": {},
   "outputs": [
    {
     "data": {
      "text/html": [
       "<div>\n",
       "<style scoped>\n",
       "    .dataframe tbody tr th:only-of-type {\n",
       "        vertical-align: middle;\n",
       "    }\n",
       "\n",
       "    .dataframe tbody tr th {\n",
       "        vertical-align: top;\n",
       "    }\n",
       "\n",
       "    .dataframe thead th {\n",
       "        text-align: right;\n",
       "    }\n",
       "</style>\n",
       "<table border=\"1\" class=\"dataframe\">\n",
       "  <thead>\n",
       "    <tr style=\"text-align: right;\">\n",
       "      <th>Name</th>\n",
       "      <th>ENST00000456328.2</th>\n",
       "      <th>ENST00000488147.1</th>\n",
       "      <th>ENST00000473358.1</th>\n",
       "      <th>ENST00000469289.1</th>\n",
       "      <th>ENST00000417324.1</th>\n",
       "      <th>ENST00000461467.1</th>\n",
       "      <th>ENST00000606857.1</th>\n",
       "      <th>ENST00000642116.1</th>\n",
       "      <th>ENST00000466430.5</th>\n",
       "      <th>ENST00000477740.5</th>\n",
       "    </tr>\n",
       "  </thead>\n",
       "  <tbody>\n",
       "    <tr>\n",
       "      <th>52aef68b-63de-46b1-bb88-fb11d875c803</th>\n",
       "      <td>-3.504027</td>\n",
       "      <td>1.694177</td>\n",
       "      <td>-29.897353</td>\n",
       "      <td>-29.897353</td>\n",
       "      <td>-29.897353</td>\n",
       "      <td>-29.897353</td>\n",
       "      <td>-29.897353</td>\n",
       "      <td>-29.897353</td>\n",
       "      <td>-2.315795</td>\n",
       "      <td>-29.897353</td>\n",
       "    </tr>\n",
       "    <tr>\n",
       "      <th>98460c61-c4ef-43ff-b7ac-b5c1b7b0ae26</th>\n",
       "      <td>-29.897353</td>\n",
       "      <td>1.444576</td>\n",
       "      <td>-29.897353</td>\n",
       "      <td>-29.897353</td>\n",
       "      <td>-29.897353</td>\n",
       "      <td>-29.897353</td>\n",
       "      <td>-29.897353</td>\n",
       "      <td>-29.897353</td>\n",
       "      <td>-3.405161</td>\n",
       "      <td>-29.897353</td>\n",
       "    </tr>\n",
       "    <tr>\n",
       "      <th>5810cc10-f53a-451a-8001-c68765e30565</th>\n",
       "      <td>-29.897353</td>\n",
       "      <td>2.403069</td>\n",
       "      <td>-29.897353</td>\n",
       "      <td>-29.897353</td>\n",
       "      <td>-29.897353</td>\n",
       "      <td>-29.897353</td>\n",
       "      <td>-29.897353</td>\n",
       "      <td>-29.897353</td>\n",
       "      <td>-2.343447</td>\n",
       "      <td>-29.897353</td>\n",
       "    </tr>\n",
       "    <tr>\n",
       "      <th>2042bb7e-ff24-439d-b33c-70c15cc3d201</th>\n",
       "      <td>-29.897353</td>\n",
       "      <td>3.779066</td>\n",
       "      <td>-29.897353</td>\n",
       "      <td>-29.897353</td>\n",
       "      <td>-29.897353</td>\n",
       "      <td>-29.897353</td>\n",
       "      <td>-29.897353</td>\n",
       "      <td>-29.897353</td>\n",
       "      <td>-1.387547</td>\n",
       "      <td>-29.897353</td>\n",
       "    </tr>\n",
       "    <tr>\n",
       "      <th>dba512d3-58c5-47ed-a3f5-ee3d81e0b0c9</th>\n",
       "      <td>-29.897353</td>\n",
       "      <td>1.075014</td>\n",
       "      <td>-29.897353</td>\n",
       "      <td>-29.897353</td>\n",
       "      <td>-29.897353</td>\n",
       "      <td>-29.897353</td>\n",
       "      <td>-29.897353</td>\n",
       "      <td>-29.897353</td>\n",
       "      <td>-3.771008</td>\n",
       "      <td>-29.897353</td>\n",
       "    </tr>\n",
       "  </tbody>\n",
       "</table>\n",
       "</div>"
      ],
      "text/plain": [
       "Name                                  ENST00000456328.2  ENST00000488147.1  \\\n",
       "52aef68b-63de-46b1-bb88-fb11d875c803          -3.504027           1.694177   \n",
       "98460c61-c4ef-43ff-b7ac-b5c1b7b0ae26         -29.897353           1.444576   \n",
       "5810cc10-f53a-451a-8001-c68765e30565         -29.897353           2.403069   \n",
       "2042bb7e-ff24-439d-b33c-70c15cc3d201         -29.897353           3.779066   \n",
       "dba512d3-58c5-47ed-a3f5-ee3d81e0b0c9         -29.897353           1.075014   \n",
       "\n",
       "Name                                  ENST00000473358.1  ENST00000469289.1  \\\n",
       "52aef68b-63de-46b1-bb88-fb11d875c803         -29.897353         -29.897353   \n",
       "98460c61-c4ef-43ff-b7ac-b5c1b7b0ae26         -29.897353         -29.897353   \n",
       "5810cc10-f53a-451a-8001-c68765e30565         -29.897353         -29.897353   \n",
       "2042bb7e-ff24-439d-b33c-70c15cc3d201         -29.897353         -29.897353   \n",
       "dba512d3-58c5-47ed-a3f5-ee3d81e0b0c9         -29.897353         -29.897353   \n",
       "\n",
       "Name                                  ENST00000417324.1  ENST00000461467.1  \\\n",
       "52aef68b-63de-46b1-bb88-fb11d875c803         -29.897353         -29.897353   \n",
       "98460c61-c4ef-43ff-b7ac-b5c1b7b0ae26         -29.897353         -29.897353   \n",
       "5810cc10-f53a-451a-8001-c68765e30565         -29.897353         -29.897353   \n",
       "2042bb7e-ff24-439d-b33c-70c15cc3d201         -29.897353         -29.897353   \n",
       "dba512d3-58c5-47ed-a3f5-ee3d81e0b0c9         -29.897353         -29.897353   \n",
       "\n",
       "Name                                  ENST00000606857.1  ENST00000642116.1  \\\n",
       "52aef68b-63de-46b1-bb88-fb11d875c803         -29.897353         -29.897353   \n",
       "98460c61-c4ef-43ff-b7ac-b5c1b7b0ae26         -29.897353         -29.897353   \n",
       "5810cc10-f53a-451a-8001-c68765e30565         -29.897353         -29.897353   \n",
       "2042bb7e-ff24-439d-b33c-70c15cc3d201         -29.897353         -29.897353   \n",
       "dba512d3-58c5-47ed-a3f5-ee3d81e0b0c9         -29.897353         -29.897353   \n",
       "\n",
       "Name                                  ENST00000466430.5  ENST00000477740.5  \n",
       "52aef68b-63de-46b1-bb88-fb11d875c803          -2.315795         -29.897353  \n",
       "98460c61-c4ef-43ff-b7ac-b5c1b7b0ae26          -3.405161         -29.897353  \n",
       "5810cc10-f53a-451a-8001-c68765e30565          -2.343447         -29.897353  \n",
       "2042bb7e-ff24-439d-b33c-70c15cc3d201          -1.387547         -29.897353  \n",
       "dba512d3-58c5-47ed-a3f5-ee3d81e0b0c9          -3.771008         -29.897353  "
      ]
     },
     "execution_count": 75,
     "metadata": {},
     "output_type": "execute_result"
    }
   ],
   "source": [
    "# introduce pseudocount\n",
    "TPM = TPM + 0.000000001\n",
    "# perform log-transformation\n",
    "TPM = TPM.apply(np.log2)\n",
    "# preview the dataframe only showing the first 10 columns\n",
    "TPM.iloc[:, :10].head()"
   ]
  },
  {
   "cell_type": "code",
   "execution_count": 76,
   "metadata": {},
   "outputs": [],
   "source": [
    "# perform PCA\n",
    "from sklearn.decomposition import PCA\n",
    "pca = PCA(n_components=3)\n",
    "pca.fit(TPM)\n",
    "\n",
    "# transform the data\n",
    "TPM_pca = pca.transform(TPM)\n",
    "\n",
    "# create a dataframe with the PCA results\n",
    "TPM_pca_df = pd.DataFrame(data = TPM_pca, columns = ['PC1', 'PC2', 'PC3'], index=TPM.index)"
   ]
  },
  {
   "cell_type": "code",
   "execution_count": 77,
   "metadata": {},
   "outputs": [
    {
     "data": {
      "text/html": [
       "<div>\n",
       "<style scoped>\n",
       "    .dataframe tbody tr th:only-of-type {\n",
       "        vertical-align: middle;\n",
       "    }\n",
       "\n",
       "    .dataframe tbody tr th {\n",
       "        vertical-align: top;\n",
       "    }\n",
       "\n",
       "    .dataframe thead th {\n",
       "        text-align: right;\n",
       "    }\n",
       "</style>\n",
       "<table border=\"1\" class=\"dataframe\">\n",
       "  <thead>\n",
       "    <tr style=\"text-align: right;\">\n",
       "      <th></th>\n",
       "      <th>PC1</th>\n",
       "      <th>PC2</th>\n",
       "      <th>PC3</th>\n",
       "    </tr>\n",
       "  </thead>\n",
       "  <tbody>\n",
       "    <tr>\n",
       "      <th>52aef68b-63de-46b1-bb88-fb11d875c803</th>\n",
       "      <td>-990.899027</td>\n",
       "      <td>253.856767</td>\n",
       "      <td>779.595577</td>\n",
       "    </tr>\n",
       "    <tr>\n",
       "      <th>98460c61-c4ef-43ff-b7ac-b5c1b7b0ae26</th>\n",
       "      <td>-350.295736</td>\n",
       "      <td>566.340550</td>\n",
       "      <td>-1081.627274</td>\n",
       "    </tr>\n",
       "    <tr>\n",
       "      <th>5810cc10-f53a-451a-8001-c68765e30565</th>\n",
       "      <td>4934.359389</td>\n",
       "      <td>-297.486593</td>\n",
       "      <td>-735.512843</td>\n",
       "    </tr>\n",
       "    <tr>\n",
       "      <th>2042bb7e-ff24-439d-b33c-70c15cc3d201</th>\n",
       "      <td>4734.320720</td>\n",
       "      <td>-933.215457</td>\n",
       "      <td>-221.813267</td>\n",
       "    </tr>\n",
       "    <tr>\n",
       "      <th>dba512d3-58c5-47ed-a3f5-ee3d81e0b0c9</th>\n",
       "      <td>-304.568836</td>\n",
       "      <td>-456.593663</td>\n",
       "      <td>659.383070</td>\n",
       "    </tr>\n",
       "  </tbody>\n",
       "</table>\n",
       "</div>"
      ],
      "text/plain": [
       "                                              PC1         PC2          PC3\n",
       "52aef68b-63de-46b1-bb88-fb11d875c803  -990.899027  253.856767   779.595577\n",
       "98460c61-c4ef-43ff-b7ac-b5c1b7b0ae26  -350.295736  566.340550 -1081.627274\n",
       "5810cc10-f53a-451a-8001-c68765e30565  4934.359389 -297.486593  -735.512843\n",
       "2042bb7e-ff24-439d-b33c-70c15cc3d201  4734.320720 -933.215457  -221.813267\n",
       "dba512d3-58c5-47ed-a3f5-ee3d81e0b0c9  -304.568836 -456.593663   659.383070"
      ]
     },
     "execution_count": 77,
     "metadata": {},
     "output_type": "execute_result"
    }
   ],
   "source": [
    "# preview the dataframe\n",
    "TPM_pca_df.head()"
   ]
  },
  {
   "cell_type": "code",
   "execution_count": 78,
   "metadata": {},
   "outputs": [
    {
     "data": {
      "application/vnd.plotly.v1+json": {
       "config": {
        "plotlyServerURL": "https://plot.ly"
       },
       "data": [
        {
         "hovertemplate": "PC1=%{x}<br>PC2=%{y}<extra></extra>",
         "legendgroup": "",
         "marker": {
          "color": "#636efa",
          "symbol": "circle"
         },
         "mode": "markers",
         "name": "",
         "orientation": "v",
         "showlegend": false,
         "type": "scatter",
         "x": [
          -990.8990270583463,
          -350.295736412465,
          4934.359389395602,
          4734.320720173011,
          -304.56883585282463,
          -388.40546732419284,
          -732.0424468302048,
          -131.87157617657851,
          -526.3494151834635,
          -985.1261250450433,
          -400.210223716513,
          -535.3980801453821,
          -1037.5433512150134,
          -733.3420739504446,
          -504.9403995509499,
          -894.7825534523791,
          -552.2505340630306,
          -562.5233253242175,
          -638.3291721515151,
          -300.0703373460508,
          5791.617942186815,
          -678.559230481958,
          -437.83260812536207,
          -702.8627197956326,
          -445.94699610171006,
          -269.1264302272141,
          -196.1396186011739,
          569.8635427220946,
          -709.1187958604069,
          6764.771456066704,
          -525.9879970237872,
          -541.3330214680537,
          -563.2501652233232,
          83.16022813426264,
          -451.1038269324661,
          -759.7938570333896,
          -641.6296776264146,
          -830.082776186353,
          -539.7390079802798,
          -400.7947519097148,
          -617.6268010864108,
          577.9640116563813,
          -737.8196904708743,
          -341.7773003994757,
          -265.1075716564143,
          -946.3099240494555,
          -660.5790263229552,
          -796.0336767581498,
          364.1041438165934,
          -977.4697267352014,
          721.4813758234324,
          -655.1154401534412,
          9.412912777586602,
          -863.756010688951,
          -458.2752947083815,
          1089.2581268827503,
          2957.324676036901,
          -511.1205778197417,
          523.5875923286245,
          -48.685088279746914,
          -608.5834858753021,
          -770.0979001417694,
          -6.936171155886693,
          -79.31550639804962,
          704.4243900392395,
          -786.9972682476027,
          -185.80503761457126,
          -540.8390058952863,
          660.1040325559678,
          -364.15621346838697,
          -659.5953577983215,
          -635.2628372001253,
          -723.8078154608806,
          -712.8391100598631,
          -643.42826627086,
          -569.709886415582,
          -329.9313727374185,
          -538.2304915257901,
          -609.3921222537107,
          -628.1377152766495,
          -477.1797571985109,
          -504.4507157890431,
          -204.73125025277483,
          6159.925946339901,
          -190.6845113070122,
          -766.727219942498,
          1008.849061387866,
          -409.22295172295276,
          -429.143173124554,
          -480.6174732617298,
          -561.8280344665053,
          -445.2522784500818,
          -1120.5446864350256,
          -941.0630595297476,
          -426.0989050719921,
          -632.1387160867372,
          -610.5573139602066,
          200.64506671966478,
          391.22599158274767,
          -477.90804426617905,
          33.91329286327568,
          -795.7061844897466,
          -875.8116063587562,
          -443.2818345361283,
          -686.3160908553677,
          -594.6076284433108,
          -715.3916707744377,
          -883.7716286535019,
          -307.30155289900586,
          -680.3451096738355,
          -63.61061876129758,
          1957.4168674110174,
          -769.1998539184133,
          -403.1139903673238,
          -472.5161613377498,
          3416.005205614078,
          2540.9805457950642,
          -74.23613031040259,
          -428.7617480674585,
          609.108068081528,
          -962.0518752544759,
          -463.2458681055178,
          -351.4519600272643,
          507.26397208992864,
          -961.108359837512,
          277.35436718686805,
          5545.417338876877,
          -918.6174984899765,
          -910.6120532914857,
          -855.5991076233462,
          6281.608077606256,
          -259.55652454280084,
          -326.1133403656692
         ],
         "xaxis": "x",
         "y": [
          253.8567668860343,
          566.340550225131,
          -297.48659343768344,
          -933.2154567105448,
          -456.59366253130963,
          1032.269640072378,
          -10.529698275324614,
          719.8628516023717,
          97.90160441683967,
          -243.20151944554297,
          76.68906839393733,
          -183.86600295731432,
          351.82298342838664,
          417.32123815975757,
          -428.7410517341302,
          -224.19844081144944,
          25.3571327749253,
          226.86570135035026,
          505.3604135266242,
          209.33169683477632,
          -63.00456829974707,
          -393.1740126301995,
          -478.5032287281529,
          -349.8542059575288,
          -1639.7639309685437,
          202.67473839486507,
          32.8217822617215,
          2400.3102065832036,
          -345.52926910749585,
          -279.6732628147127,
          27.005691365717272,
          798.4589362714398,
          -544.4099726896394,
          865.7951234486684,
          -1536.6531969666316,
          435.2002180240824,
          -190.05672906322005,
          330.1056510802422,
          -579.7091755052546,
          -472.99064440715125,
          -394.5484719447597,
          810.066307857862,
          -303.43106927984445,
          980.2821374861776,
          -63.75913064532777,
          -434.09117847312774,
          -1575.7468180126007,
          -20.512424943369684,
          -566.2630610098547,
          618.4038705669943,
          2170.626018384226,
          -68.98706845571108,
          841.3390608937643,
          -375.0849838849891,
          -302.19580968823175,
          1129.7245795800254,
          -869.8262807532508,
          -539.1115267163332,
          -514.9385769041022,
          -40.355209283557194,
          -451.4543298590113,
          -283.7126070774897,
          660.984939860223,
          -474.8638074397384,
          2237.688770831328,
          -690.8464922525476,
          -452.26417901276864,
          31.70651741347625,
          2278.320397252351,
          794.9504197729173,
          -627.9934410876306,
          -1477.9972873871584,
          -373.96758680641676,
          -258.16471909288754,
          -313.0435048268156,
          501.2355416128392,
          -305.73107129826946,
          672.5937995002639,
          -38.14719249324488,
          -49.95877881603601,
          -652.860537298975,
          -64.54233066882735,
          329.6641085943485,
          -139.08699886075664,
          749.425228688157,
          -1466.6615335393824,
          -874.6624744829305,
          -12.53406974600612,
          -557.152288986773,
          -469.18763509061205,
          838.589681348234,
          -212.96390752595397,
          -630.6920001709665,
          -701.3596893520522,
          -261.0064724227871,
          395.13694483563313,
          -301.0262800513829,
          -360.16501176317126,
          2407.0242212063918,
          -68.11114239749209,
          -481.3494672882102,
          -1129.3021563436125,
          -376.6163829009869,
          -1398.9306861122154,
          -70.00764602305826,
          675.1234000449559,
          97.42068257540566,
          223.573580740772,
          -8.926161005096361,
          10.814961130470968,
          -736.8946973025504,
          -1146.5264451769515,
          -664.4053373078563,
          575.9246670255327,
          593.3231503718898,
          -1021.1327979685582,
          -991.773792297465,
          1193.797397143115,
          548.6637691432043,
          2447.162932134672,
          -878.9298427400294,
          214.6454976329609,
          -590.6111098584305,
          2272.693465683082,
          297.768920986042,
          2402.09887285843,
          -90.89926857232061,
          -266.71327610939176,
          -514.893346419014,
          -287.16059913039294,
          -132.75393410402017,
          -218.72509560578254,
          -279.4101931465649
         ],
         "yaxis": "y"
        }
       ],
       "layout": {
        "legend": {
         "tracegroupgap": 0
        },
        "template": {
         "data": {
          "bar": [
           {
            "error_x": {
             "color": "#2a3f5f"
            },
            "error_y": {
             "color": "#2a3f5f"
            },
            "marker": {
             "line": {
              "color": "#E5ECF6",
              "width": 0.5
             },
             "pattern": {
              "fillmode": "overlay",
              "size": 10,
              "solidity": 0.2
             }
            },
            "type": "bar"
           }
          ],
          "barpolar": [
           {
            "marker": {
             "line": {
              "color": "#E5ECF6",
              "width": 0.5
             },
             "pattern": {
              "fillmode": "overlay",
              "size": 10,
              "solidity": 0.2
             }
            },
            "type": "barpolar"
           }
          ],
          "carpet": [
           {
            "aaxis": {
             "endlinecolor": "#2a3f5f",
             "gridcolor": "white",
             "linecolor": "white",
             "minorgridcolor": "white",
             "startlinecolor": "#2a3f5f"
            },
            "baxis": {
             "endlinecolor": "#2a3f5f",
             "gridcolor": "white",
             "linecolor": "white",
             "minorgridcolor": "white",
             "startlinecolor": "#2a3f5f"
            },
            "type": "carpet"
           }
          ],
          "choropleth": [
           {
            "colorbar": {
             "outlinewidth": 0,
             "ticks": ""
            },
            "type": "choropleth"
           }
          ],
          "contour": [
           {
            "colorbar": {
             "outlinewidth": 0,
             "ticks": ""
            },
            "colorscale": [
             [
              0,
              "#0d0887"
             ],
             [
              0.1111111111111111,
              "#46039f"
             ],
             [
              0.2222222222222222,
              "#7201a8"
             ],
             [
              0.3333333333333333,
              "#9c179e"
             ],
             [
              0.4444444444444444,
              "#bd3786"
             ],
             [
              0.5555555555555556,
              "#d8576b"
             ],
             [
              0.6666666666666666,
              "#ed7953"
             ],
             [
              0.7777777777777778,
              "#fb9f3a"
             ],
             [
              0.8888888888888888,
              "#fdca26"
             ],
             [
              1,
              "#f0f921"
             ]
            ],
            "type": "contour"
           }
          ],
          "contourcarpet": [
           {
            "colorbar": {
             "outlinewidth": 0,
             "ticks": ""
            },
            "type": "contourcarpet"
           }
          ],
          "heatmap": [
           {
            "colorbar": {
             "outlinewidth": 0,
             "ticks": ""
            },
            "colorscale": [
             [
              0,
              "#0d0887"
             ],
             [
              0.1111111111111111,
              "#46039f"
             ],
             [
              0.2222222222222222,
              "#7201a8"
             ],
             [
              0.3333333333333333,
              "#9c179e"
             ],
             [
              0.4444444444444444,
              "#bd3786"
             ],
             [
              0.5555555555555556,
              "#d8576b"
             ],
             [
              0.6666666666666666,
              "#ed7953"
             ],
             [
              0.7777777777777778,
              "#fb9f3a"
             ],
             [
              0.8888888888888888,
              "#fdca26"
             ],
             [
              1,
              "#f0f921"
             ]
            ],
            "type": "heatmap"
           }
          ],
          "heatmapgl": [
           {
            "colorbar": {
             "outlinewidth": 0,
             "ticks": ""
            },
            "colorscale": [
             [
              0,
              "#0d0887"
             ],
             [
              0.1111111111111111,
              "#46039f"
             ],
             [
              0.2222222222222222,
              "#7201a8"
             ],
             [
              0.3333333333333333,
              "#9c179e"
             ],
             [
              0.4444444444444444,
              "#bd3786"
             ],
             [
              0.5555555555555556,
              "#d8576b"
             ],
             [
              0.6666666666666666,
              "#ed7953"
             ],
             [
              0.7777777777777778,
              "#fb9f3a"
             ],
             [
              0.8888888888888888,
              "#fdca26"
             ],
             [
              1,
              "#f0f921"
             ]
            ],
            "type": "heatmapgl"
           }
          ],
          "histogram": [
           {
            "marker": {
             "pattern": {
              "fillmode": "overlay",
              "size": 10,
              "solidity": 0.2
             }
            },
            "type": "histogram"
           }
          ],
          "histogram2d": [
           {
            "colorbar": {
             "outlinewidth": 0,
             "ticks": ""
            },
            "colorscale": [
             [
              0,
              "#0d0887"
             ],
             [
              0.1111111111111111,
              "#46039f"
             ],
             [
              0.2222222222222222,
              "#7201a8"
             ],
             [
              0.3333333333333333,
              "#9c179e"
             ],
             [
              0.4444444444444444,
              "#bd3786"
             ],
             [
              0.5555555555555556,
              "#d8576b"
             ],
             [
              0.6666666666666666,
              "#ed7953"
             ],
             [
              0.7777777777777778,
              "#fb9f3a"
             ],
             [
              0.8888888888888888,
              "#fdca26"
             ],
             [
              1,
              "#f0f921"
             ]
            ],
            "type": "histogram2d"
           }
          ],
          "histogram2dcontour": [
           {
            "colorbar": {
             "outlinewidth": 0,
             "ticks": ""
            },
            "colorscale": [
             [
              0,
              "#0d0887"
             ],
             [
              0.1111111111111111,
              "#46039f"
             ],
             [
              0.2222222222222222,
              "#7201a8"
             ],
             [
              0.3333333333333333,
              "#9c179e"
             ],
             [
              0.4444444444444444,
              "#bd3786"
             ],
             [
              0.5555555555555556,
              "#d8576b"
             ],
             [
              0.6666666666666666,
              "#ed7953"
             ],
             [
              0.7777777777777778,
              "#fb9f3a"
             ],
             [
              0.8888888888888888,
              "#fdca26"
             ],
             [
              1,
              "#f0f921"
             ]
            ],
            "type": "histogram2dcontour"
           }
          ],
          "mesh3d": [
           {
            "colorbar": {
             "outlinewidth": 0,
             "ticks": ""
            },
            "type": "mesh3d"
           }
          ],
          "parcoords": [
           {
            "line": {
             "colorbar": {
              "outlinewidth": 0,
              "ticks": ""
             }
            },
            "type": "parcoords"
           }
          ],
          "pie": [
           {
            "automargin": true,
            "type": "pie"
           }
          ],
          "scatter": [
           {
            "fillpattern": {
             "fillmode": "overlay",
             "size": 10,
             "solidity": 0.2
            },
            "type": "scatter"
           }
          ],
          "scatter3d": [
           {
            "line": {
             "colorbar": {
              "outlinewidth": 0,
              "ticks": ""
             }
            },
            "marker": {
             "colorbar": {
              "outlinewidth": 0,
              "ticks": ""
             }
            },
            "type": "scatter3d"
           }
          ],
          "scattercarpet": [
           {
            "marker": {
             "colorbar": {
              "outlinewidth": 0,
              "ticks": ""
             }
            },
            "type": "scattercarpet"
           }
          ],
          "scattergeo": [
           {
            "marker": {
             "colorbar": {
              "outlinewidth": 0,
              "ticks": ""
             }
            },
            "type": "scattergeo"
           }
          ],
          "scattergl": [
           {
            "marker": {
             "colorbar": {
              "outlinewidth": 0,
              "ticks": ""
             }
            },
            "type": "scattergl"
           }
          ],
          "scattermapbox": [
           {
            "marker": {
             "colorbar": {
              "outlinewidth": 0,
              "ticks": ""
             }
            },
            "type": "scattermapbox"
           }
          ],
          "scatterpolar": [
           {
            "marker": {
             "colorbar": {
              "outlinewidth": 0,
              "ticks": ""
             }
            },
            "type": "scatterpolar"
           }
          ],
          "scatterpolargl": [
           {
            "marker": {
             "colorbar": {
              "outlinewidth": 0,
              "ticks": ""
             }
            },
            "type": "scatterpolargl"
           }
          ],
          "scatterternary": [
           {
            "marker": {
             "colorbar": {
              "outlinewidth": 0,
              "ticks": ""
             }
            },
            "type": "scatterternary"
           }
          ],
          "surface": [
           {
            "colorbar": {
             "outlinewidth": 0,
             "ticks": ""
            },
            "colorscale": [
             [
              0,
              "#0d0887"
             ],
             [
              0.1111111111111111,
              "#46039f"
             ],
             [
              0.2222222222222222,
              "#7201a8"
             ],
             [
              0.3333333333333333,
              "#9c179e"
             ],
             [
              0.4444444444444444,
              "#bd3786"
             ],
             [
              0.5555555555555556,
              "#d8576b"
             ],
             [
              0.6666666666666666,
              "#ed7953"
             ],
             [
              0.7777777777777778,
              "#fb9f3a"
             ],
             [
              0.8888888888888888,
              "#fdca26"
             ],
             [
              1,
              "#f0f921"
             ]
            ],
            "type": "surface"
           }
          ],
          "table": [
           {
            "cells": {
             "fill": {
              "color": "#EBF0F8"
             },
             "line": {
              "color": "white"
             }
            },
            "header": {
             "fill": {
              "color": "#C8D4E3"
             },
             "line": {
              "color": "white"
             }
            },
            "type": "table"
           }
          ]
         },
         "layout": {
          "annotationdefaults": {
           "arrowcolor": "#2a3f5f",
           "arrowhead": 0,
           "arrowwidth": 1
          },
          "autotypenumbers": "strict",
          "coloraxis": {
           "colorbar": {
            "outlinewidth": 0,
            "ticks": ""
           }
          },
          "colorscale": {
           "diverging": [
            [
             0,
             "#8e0152"
            ],
            [
             0.1,
             "#c51b7d"
            ],
            [
             0.2,
             "#de77ae"
            ],
            [
             0.3,
             "#f1b6da"
            ],
            [
             0.4,
             "#fde0ef"
            ],
            [
             0.5,
             "#f7f7f7"
            ],
            [
             0.6,
             "#e6f5d0"
            ],
            [
             0.7,
             "#b8e186"
            ],
            [
             0.8,
             "#7fbc41"
            ],
            [
             0.9,
             "#4d9221"
            ],
            [
             1,
             "#276419"
            ]
           ],
           "sequential": [
            [
             0,
             "#0d0887"
            ],
            [
             0.1111111111111111,
             "#46039f"
            ],
            [
             0.2222222222222222,
             "#7201a8"
            ],
            [
             0.3333333333333333,
             "#9c179e"
            ],
            [
             0.4444444444444444,
             "#bd3786"
            ],
            [
             0.5555555555555556,
             "#d8576b"
            ],
            [
             0.6666666666666666,
             "#ed7953"
            ],
            [
             0.7777777777777778,
             "#fb9f3a"
            ],
            [
             0.8888888888888888,
             "#fdca26"
            ],
            [
             1,
             "#f0f921"
            ]
           ],
           "sequentialminus": [
            [
             0,
             "#0d0887"
            ],
            [
             0.1111111111111111,
             "#46039f"
            ],
            [
             0.2222222222222222,
             "#7201a8"
            ],
            [
             0.3333333333333333,
             "#9c179e"
            ],
            [
             0.4444444444444444,
             "#bd3786"
            ],
            [
             0.5555555555555556,
             "#d8576b"
            ],
            [
             0.6666666666666666,
             "#ed7953"
            ],
            [
             0.7777777777777778,
             "#fb9f3a"
            ],
            [
             0.8888888888888888,
             "#fdca26"
            ],
            [
             1,
             "#f0f921"
            ]
           ]
          },
          "colorway": [
           "#636efa",
           "#EF553B",
           "#00cc96",
           "#ab63fa",
           "#FFA15A",
           "#19d3f3",
           "#FF6692",
           "#B6E880",
           "#FF97FF",
           "#FECB52"
          ],
          "font": {
           "color": "#2a3f5f"
          },
          "geo": {
           "bgcolor": "white",
           "lakecolor": "white",
           "landcolor": "#E5ECF6",
           "showlakes": true,
           "showland": true,
           "subunitcolor": "white"
          },
          "hoverlabel": {
           "align": "left"
          },
          "hovermode": "closest",
          "mapbox": {
           "style": "light"
          },
          "paper_bgcolor": "white",
          "plot_bgcolor": "#E5ECF6",
          "polar": {
           "angularaxis": {
            "gridcolor": "white",
            "linecolor": "white",
            "ticks": ""
           },
           "bgcolor": "#E5ECF6",
           "radialaxis": {
            "gridcolor": "white",
            "linecolor": "white",
            "ticks": ""
           }
          },
          "scene": {
           "xaxis": {
            "backgroundcolor": "#E5ECF6",
            "gridcolor": "white",
            "gridwidth": 2,
            "linecolor": "white",
            "showbackground": true,
            "ticks": "",
            "zerolinecolor": "white"
           },
           "yaxis": {
            "backgroundcolor": "#E5ECF6",
            "gridcolor": "white",
            "gridwidth": 2,
            "linecolor": "white",
            "showbackground": true,
            "ticks": "",
            "zerolinecolor": "white"
           },
           "zaxis": {
            "backgroundcolor": "#E5ECF6",
            "gridcolor": "white",
            "gridwidth": 2,
            "linecolor": "white",
            "showbackground": true,
            "ticks": "",
            "zerolinecolor": "white"
           }
          },
          "shapedefaults": {
           "line": {
            "color": "#2a3f5f"
           }
          },
          "ternary": {
           "aaxis": {
            "gridcolor": "white",
            "linecolor": "white",
            "ticks": ""
           },
           "baxis": {
            "gridcolor": "white",
            "linecolor": "white",
            "ticks": ""
           },
           "bgcolor": "#E5ECF6",
           "caxis": {
            "gridcolor": "white",
            "linecolor": "white",
            "ticks": ""
           }
          },
          "title": {
           "x": 0.05
          },
          "xaxis": {
           "automargin": true,
           "gridcolor": "white",
           "linecolor": "white",
           "ticks": "",
           "title": {
            "standoff": 15
           },
           "zerolinecolor": "white",
           "zerolinewidth": 2
          },
          "yaxis": {
           "automargin": true,
           "gridcolor": "white",
           "linecolor": "white",
           "ticks": "",
           "title": {
            "standoff": 15
           },
           "zerolinecolor": "white",
           "zerolinewidth": 2
          }
         }
        },
        "title": {
         "text": "PCA of TPM values"
        },
        "xaxis": {
         "anchor": "y",
         "domain": [
          0,
          1
         ],
         "title": {
          "text": "PC1"
         }
        },
        "yaxis": {
         "anchor": "x",
         "domain": [
          0,
          1
         ],
         "title": {
          "text": "PC2"
         }
        }
       }
      }
     },
     "metadata": {},
     "output_type": "display_data"
    }
   ],
   "source": [
    "# use plotly to create a 2d scatterplot\n",
    "fig = px.scatter(TPM_pca_df, x='PC1', y='PC2', title='PCA of TPM values')\n",
    "fig.show()"
   ]
  },
  {
   "cell_type": "code",
   "execution_count": 79,
   "metadata": {},
   "outputs": [
    {
     "data": {
      "application/vnd.plotly.v1+json": {
       "config": {
        "plotlyServerURL": "https://plot.ly"
       },
       "data": [
        {
         "hovertemplate": "PC1=%{x}<br>PC2=%{y}<br>PC3=%{z}<extra></extra>",
         "legendgroup": "",
         "marker": {
          "color": "#636efa",
          "symbol": "circle"
         },
         "mode": "markers",
         "name": "",
         "scene": "scene",
         "showlegend": false,
         "type": "scatter3d",
         "x": [
          -990.8990270583463,
          -350.295736412465,
          4934.359389395602,
          4734.320720173011,
          -304.56883585282463,
          -388.40546732419284,
          -732.0424468302048,
          -131.87157617657851,
          -526.3494151834635,
          -985.1261250450433,
          -400.210223716513,
          -535.3980801453821,
          -1037.5433512150134,
          -733.3420739504446,
          -504.9403995509499,
          -894.7825534523791,
          -552.2505340630306,
          -562.5233253242175,
          -638.3291721515151,
          -300.0703373460508,
          5791.617942186815,
          -678.559230481958,
          -437.83260812536207,
          -702.8627197956326,
          -445.94699610171006,
          -269.1264302272141,
          -196.1396186011739,
          569.8635427220946,
          -709.1187958604069,
          6764.771456066704,
          -525.9879970237872,
          -541.3330214680537,
          -563.2501652233232,
          83.16022813426264,
          -451.1038269324661,
          -759.7938570333896,
          -641.6296776264146,
          -830.082776186353,
          -539.7390079802798,
          -400.7947519097148,
          -617.6268010864108,
          577.9640116563813,
          -737.8196904708743,
          -341.7773003994757,
          -265.1075716564143,
          -946.3099240494555,
          -660.5790263229552,
          -796.0336767581498,
          364.1041438165934,
          -977.4697267352014,
          721.4813758234324,
          -655.1154401534412,
          9.412912777586602,
          -863.756010688951,
          -458.2752947083815,
          1089.2581268827503,
          2957.324676036901,
          -511.1205778197417,
          523.5875923286245,
          -48.685088279746914,
          -608.5834858753021,
          -770.0979001417694,
          -6.936171155886693,
          -79.31550639804962,
          704.4243900392395,
          -786.9972682476027,
          -185.80503761457126,
          -540.8390058952863,
          660.1040325559678,
          -364.15621346838697,
          -659.5953577983215,
          -635.2628372001253,
          -723.8078154608806,
          -712.8391100598631,
          -643.42826627086,
          -569.709886415582,
          -329.9313727374185,
          -538.2304915257901,
          -609.3921222537107,
          -628.1377152766495,
          -477.1797571985109,
          -504.4507157890431,
          -204.73125025277483,
          6159.925946339901,
          -190.6845113070122,
          -766.727219942498,
          1008.849061387866,
          -409.22295172295276,
          -429.143173124554,
          -480.6174732617298,
          -561.8280344665053,
          -445.2522784500818,
          -1120.5446864350256,
          -941.0630595297476,
          -426.0989050719921,
          -632.1387160867372,
          -610.5573139602066,
          200.64506671966478,
          391.22599158274767,
          -477.90804426617905,
          33.91329286327568,
          -795.7061844897466,
          -875.8116063587562,
          -443.2818345361283,
          -686.3160908553677,
          -594.6076284433108,
          -715.3916707744377,
          -883.7716286535019,
          -307.30155289900586,
          -680.3451096738355,
          -63.61061876129758,
          1957.4168674110174,
          -769.1998539184133,
          -403.1139903673238,
          -472.5161613377498,
          3416.005205614078,
          2540.9805457950642,
          -74.23613031040259,
          -428.7617480674585,
          609.108068081528,
          -962.0518752544759,
          -463.2458681055178,
          -351.4519600272643,
          507.26397208992864,
          -961.108359837512,
          277.35436718686805,
          5545.417338876877,
          -918.6174984899765,
          -910.6120532914857,
          -855.5991076233462,
          6281.608077606256,
          -259.55652454280084,
          -326.1133403656692
         ],
         "y": [
          253.8567668860343,
          566.340550225131,
          -297.48659343768344,
          -933.2154567105448,
          -456.59366253130963,
          1032.269640072378,
          -10.529698275324614,
          719.8628516023717,
          97.90160441683967,
          -243.20151944554297,
          76.68906839393733,
          -183.86600295731432,
          351.82298342838664,
          417.32123815975757,
          -428.7410517341302,
          -224.19844081144944,
          25.3571327749253,
          226.86570135035026,
          505.3604135266242,
          209.33169683477632,
          -63.00456829974707,
          -393.1740126301995,
          -478.5032287281529,
          -349.8542059575288,
          -1639.7639309685437,
          202.67473839486507,
          32.8217822617215,
          2400.3102065832036,
          -345.52926910749585,
          -279.6732628147127,
          27.005691365717272,
          798.4589362714398,
          -544.4099726896394,
          865.7951234486684,
          -1536.6531969666316,
          435.2002180240824,
          -190.05672906322005,
          330.1056510802422,
          -579.7091755052546,
          -472.99064440715125,
          -394.5484719447597,
          810.066307857862,
          -303.43106927984445,
          980.2821374861776,
          -63.75913064532777,
          -434.09117847312774,
          -1575.7468180126007,
          -20.512424943369684,
          -566.2630610098547,
          618.4038705669943,
          2170.626018384226,
          -68.98706845571108,
          841.3390608937643,
          -375.0849838849891,
          -302.19580968823175,
          1129.7245795800254,
          -869.8262807532508,
          -539.1115267163332,
          -514.9385769041022,
          -40.355209283557194,
          -451.4543298590113,
          -283.7126070774897,
          660.984939860223,
          -474.8638074397384,
          2237.688770831328,
          -690.8464922525476,
          -452.26417901276864,
          31.70651741347625,
          2278.320397252351,
          794.9504197729173,
          -627.9934410876306,
          -1477.9972873871584,
          -373.96758680641676,
          -258.16471909288754,
          -313.0435048268156,
          501.2355416128392,
          -305.73107129826946,
          672.5937995002639,
          -38.14719249324488,
          -49.95877881603601,
          -652.860537298975,
          -64.54233066882735,
          329.6641085943485,
          -139.08699886075664,
          749.425228688157,
          -1466.6615335393824,
          -874.6624744829305,
          -12.53406974600612,
          -557.152288986773,
          -469.18763509061205,
          838.589681348234,
          -212.96390752595397,
          -630.6920001709665,
          -701.3596893520522,
          -261.0064724227871,
          395.13694483563313,
          -301.0262800513829,
          -360.16501176317126,
          2407.0242212063918,
          -68.11114239749209,
          -481.3494672882102,
          -1129.3021563436125,
          -376.6163829009869,
          -1398.9306861122154,
          -70.00764602305826,
          675.1234000449559,
          97.42068257540566,
          223.573580740772,
          -8.926161005096361,
          10.814961130470968,
          -736.8946973025504,
          -1146.5264451769515,
          -664.4053373078563,
          575.9246670255327,
          593.3231503718898,
          -1021.1327979685582,
          -991.773792297465,
          1193.797397143115,
          548.6637691432043,
          2447.162932134672,
          -878.9298427400294,
          214.6454976329609,
          -590.6111098584305,
          2272.693465683082,
          297.768920986042,
          2402.09887285843,
          -90.89926857232061,
          -266.71327610939176,
          -514.893346419014,
          -287.16059913039294,
          -132.75393410402017,
          -218.72509560578254,
          -279.4101931465649
         ],
         "z": [
          779.5955772528807,
          -1081.6272741651148,
          -735.5128431787775,
          -221.81326656294974,
          659.3830697178304,
          601.7713057618129,
          1114.0815178296032,
          -1443.910248598202,
          1479.0093845545186,
          -685.0334716871497,
          -954.3281623114892,
          -306.50900889138,
          1146.8274297293879,
          -746.9560740051382,
          62.766844043796524,
          14.514481685759261,
          488.5159531395902,
          -830.1193174335774,
          -597.22000419396,
          625.9364761352518,
          -247.97945978348602,
          -169.04351410153956,
          51.25249532137607,
          -990.3755533065153,
          747.9488947735774,
          -187.09683145277776,
          -11.487131691710225,
          834.7632409582285,
          -102.05740598383666,
          183.841671842287,
          -349.39013168482654,
          -910.5383101003471,
          364.7394582673818,
          349.67367446041015,
          903.2161667683298,
          -750.8227606559079,
          -29.127863792076482,
          -752.7385300301174,
          -759.5183741960378,
          333.6156549793122,
          -799.1502547974926,
          -1.8757712420904702,
          78.63289453608573,
          -268.67245618651725,
          1184.6855015277097,
          -90.77913231199129,
          1014.4667064176716,
          677.5882674550849,
          31.84144657584103,
          -700.6761564804151,
          741.3755101933481,
          -1113.7665757938528,
          816.2050553886477,
          33.748887003990426,
          -1004.1629745283526,
          -485.8928210987356,
          -368.5168605474856,
          702.3877166182386,
          853.5900065803667,
          -507.5712740230331,
          -474.39328227708023,
          541.4236817421873,
          217.7953678912346,
          1067.4724329004896,
          1247.4523759987912,
          -625.5920589103675,
          866.0707274749949,
          1176.019155355672,
          865.0441379212357,
          -1479.6145532521612,
          871.3137782567646,
          686.7701665751871,
          -575.8680439012595,
          -60.233355729567656,
          -146.41115132976265,
          336.480939636973,
          147.16698238448538,
          -1155.025805027778,
          -428.9513237209712,
          537.7000440719572,
          604.5607665775008,
          151.8076223790025,
          -1027.5383009332227,
          146.30951497357103,
          -1345.6204011113505,
          595.9672040134047,
          -109.507435668541,
          -861.6382228834989,
          40.150388438378535,
          -819.6504747412342,
          -569.8934979424854,
          -59.19985434747758,
          -53.223806485101456,
          -406.60850497821923,
          826.9985411614573,
          -956.3296299813296,
          51.13288943191026,
          928.3206991460088,
          1158.4219379161168,
          -128.19500953719114,
          1165.413456046678,
          777.8352470573312,
          -579.2139144752717,
          1011.2060826505154,
          -1009.9886240947428,
          -725.5213603112886,
          -599.6898753272679,
          -1336.4334405231903,
          1040.6533323228493,
          1581.136205017482,
          588.4741517671923,
          -282.71335103604565,
          -23.974550123447433,
          -909.5449977701824,
          -1020.3177617598185,
          -339.76670404490187,
          -528.0608767961911,
          568.6966339745496,
          -965.3568736844497,
          863.5396875581553,
          795.383914324545,
          -1262.3803919569668,
          217.95483280786772,
          934.7001263003754,
          -1037.138163179754,
          911.0160087193041,
          -335.6282600110331,
          32.35226779380841,
          139.09897014225638,
          -329.08305346188195,
          35.09173865852357,
          -309.6508865496818,
          479.3203137746465
         ]
        }
       ],
       "layout": {
        "legend": {
         "tracegroupgap": 0
        },
        "scene": {
         "domain": {
          "x": [
           0,
           1
          ],
          "y": [
           0,
           1
          ]
         },
         "xaxis": {
          "title": {
           "text": "PC1"
          }
         },
         "yaxis": {
          "title": {
           "text": "PC2"
          }
         },
         "zaxis": {
          "title": {
           "text": "PC3"
          }
         }
        },
        "template": {
         "data": {
          "bar": [
           {
            "error_x": {
             "color": "#2a3f5f"
            },
            "error_y": {
             "color": "#2a3f5f"
            },
            "marker": {
             "line": {
              "color": "#E5ECF6",
              "width": 0.5
             },
             "pattern": {
              "fillmode": "overlay",
              "size": 10,
              "solidity": 0.2
             }
            },
            "type": "bar"
           }
          ],
          "barpolar": [
           {
            "marker": {
             "line": {
              "color": "#E5ECF6",
              "width": 0.5
             },
             "pattern": {
              "fillmode": "overlay",
              "size": 10,
              "solidity": 0.2
             }
            },
            "type": "barpolar"
           }
          ],
          "carpet": [
           {
            "aaxis": {
             "endlinecolor": "#2a3f5f",
             "gridcolor": "white",
             "linecolor": "white",
             "minorgridcolor": "white",
             "startlinecolor": "#2a3f5f"
            },
            "baxis": {
             "endlinecolor": "#2a3f5f",
             "gridcolor": "white",
             "linecolor": "white",
             "minorgridcolor": "white",
             "startlinecolor": "#2a3f5f"
            },
            "type": "carpet"
           }
          ],
          "choropleth": [
           {
            "colorbar": {
             "outlinewidth": 0,
             "ticks": ""
            },
            "type": "choropleth"
           }
          ],
          "contour": [
           {
            "colorbar": {
             "outlinewidth": 0,
             "ticks": ""
            },
            "colorscale": [
             [
              0,
              "#0d0887"
             ],
             [
              0.1111111111111111,
              "#46039f"
             ],
             [
              0.2222222222222222,
              "#7201a8"
             ],
             [
              0.3333333333333333,
              "#9c179e"
             ],
             [
              0.4444444444444444,
              "#bd3786"
             ],
             [
              0.5555555555555556,
              "#d8576b"
             ],
             [
              0.6666666666666666,
              "#ed7953"
             ],
             [
              0.7777777777777778,
              "#fb9f3a"
             ],
             [
              0.8888888888888888,
              "#fdca26"
             ],
             [
              1,
              "#f0f921"
             ]
            ],
            "type": "contour"
           }
          ],
          "contourcarpet": [
           {
            "colorbar": {
             "outlinewidth": 0,
             "ticks": ""
            },
            "type": "contourcarpet"
           }
          ],
          "heatmap": [
           {
            "colorbar": {
             "outlinewidth": 0,
             "ticks": ""
            },
            "colorscale": [
             [
              0,
              "#0d0887"
             ],
             [
              0.1111111111111111,
              "#46039f"
             ],
             [
              0.2222222222222222,
              "#7201a8"
             ],
             [
              0.3333333333333333,
              "#9c179e"
             ],
             [
              0.4444444444444444,
              "#bd3786"
             ],
             [
              0.5555555555555556,
              "#d8576b"
             ],
             [
              0.6666666666666666,
              "#ed7953"
             ],
             [
              0.7777777777777778,
              "#fb9f3a"
             ],
             [
              0.8888888888888888,
              "#fdca26"
             ],
             [
              1,
              "#f0f921"
             ]
            ],
            "type": "heatmap"
           }
          ],
          "heatmapgl": [
           {
            "colorbar": {
             "outlinewidth": 0,
             "ticks": ""
            },
            "colorscale": [
             [
              0,
              "#0d0887"
             ],
             [
              0.1111111111111111,
              "#46039f"
             ],
             [
              0.2222222222222222,
              "#7201a8"
             ],
             [
              0.3333333333333333,
              "#9c179e"
             ],
             [
              0.4444444444444444,
              "#bd3786"
             ],
             [
              0.5555555555555556,
              "#d8576b"
             ],
             [
              0.6666666666666666,
              "#ed7953"
             ],
             [
              0.7777777777777778,
              "#fb9f3a"
             ],
             [
              0.8888888888888888,
              "#fdca26"
             ],
             [
              1,
              "#f0f921"
             ]
            ],
            "type": "heatmapgl"
           }
          ],
          "histogram": [
           {
            "marker": {
             "pattern": {
              "fillmode": "overlay",
              "size": 10,
              "solidity": 0.2
             }
            },
            "type": "histogram"
           }
          ],
          "histogram2d": [
           {
            "colorbar": {
             "outlinewidth": 0,
             "ticks": ""
            },
            "colorscale": [
             [
              0,
              "#0d0887"
             ],
             [
              0.1111111111111111,
              "#46039f"
             ],
             [
              0.2222222222222222,
              "#7201a8"
             ],
             [
              0.3333333333333333,
              "#9c179e"
             ],
             [
              0.4444444444444444,
              "#bd3786"
             ],
             [
              0.5555555555555556,
              "#d8576b"
             ],
             [
              0.6666666666666666,
              "#ed7953"
             ],
             [
              0.7777777777777778,
              "#fb9f3a"
             ],
             [
              0.8888888888888888,
              "#fdca26"
             ],
             [
              1,
              "#f0f921"
             ]
            ],
            "type": "histogram2d"
           }
          ],
          "histogram2dcontour": [
           {
            "colorbar": {
             "outlinewidth": 0,
             "ticks": ""
            },
            "colorscale": [
             [
              0,
              "#0d0887"
             ],
             [
              0.1111111111111111,
              "#46039f"
             ],
             [
              0.2222222222222222,
              "#7201a8"
             ],
             [
              0.3333333333333333,
              "#9c179e"
             ],
             [
              0.4444444444444444,
              "#bd3786"
             ],
             [
              0.5555555555555556,
              "#d8576b"
             ],
             [
              0.6666666666666666,
              "#ed7953"
             ],
             [
              0.7777777777777778,
              "#fb9f3a"
             ],
             [
              0.8888888888888888,
              "#fdca26"
             ],
             [
              1,
              "#f0f921"
             ]
            ],
            "type": "histogram2dcontour"
           }
          ],
          "mesh3d": [
           {
            "colorbar": {
             "outlinewidth": 0,
             "ticks": ""
            },
            "type": "mesh3d"
           }
          ],
          "parcoords": [
           {
            "line": {
             "colorbar": {
              "outlinewidth": 0,
              "ticks": ""
             }
            },
            "type": "parcoords"
           }
          ],
          "pie": [
           {
            "automargin": true,
            "type": "pie"
           }
          ],
          "scatter": [
           {
            "fillpattern": {
             "fillmode": "overlay",
             "size": 10,
             "solidity": 0.2
            },
            "type": "scatter"
           }
          ],
          "scatter3d": [
           {
            "line": {
             "colorbar": {
              "outlinewidth": 0,
              "ticks": ""
             }
            },
            "marker": {
             "colorbar": {
              "outlinewidth": 0,
              "ticks": ""
             }
            },
            "type": "scatter3d"
           }
          ],
          "scattercarpet": [
           {
            "marker": {
             "colorbar": {
              "outlinewidth": 0,
              "ticks": ""
             }
            },
            "type": "scattercarpet"
           }
          ],
          "scattergeo": [
           {
            "marker": {
             "colorbar": {
              "outlinewidth": 0,
              "ticks": ""
             }
            },
            "type": "scattergeo"
           }
          ],
          "scattergl": [
           {
            "marker": {
             "colorbar": {
              "outlinewidth": 0,
              "ticks": ""
             }
            },
            "type": "scattergl"
           }
          ],
          "scattermapbox": [
           {
            "marker": {
             "colorbar": {
              "outlinewidth": 0,
              "ticks": ""
             }
            },
            "type": "scattermapbox"
           }
          ],
          "scatterpolar": [
           {
            "marker": {
             "colorbar": {
              "outlinewidth": 0,
              "ticks": ""
             }
            },
            "type": "scatterpolar"
           }
          ],
          "scatterpolargl": [
           {
            "marker": {
             "colorbar": {
              "outlinewidth": 0,
              "ticks": ""
             }
            },
            "type": "scatterpolargl"
           }
          ],
          "scatterternary": [
           {
            "marker": {
             "colorbar": {
              "outlinewidth": 0,
              "ticks": ""
             }
            },
            "type": "scatterternary"
           }
          ],
          "surface": [
           {
            "colorbar": {
             "outlinewidth": 0,
             "ticks": ""
            },
            "colorscale": [
             [
              0,
              "#0d0887"
             ],
             [
              0.1111111111111111,
              "#46039f"
             ],
             [
              0.2222222222222222,
              "#7201a8"
             ],
             [
              0.3333333333333333,
              "#9c179e"
             ],
             [
              0.4444444444444444,
              "#bd3786"
             ],
             [
              0.5555555555555556,
              "#d8576b"
             ],
             [
              0.6666666666666666,
              "#ed7953"
             ],
             [
              0.7777777777777778,
              "#fb9f3a"
             ],
             [
              0.8888888888888888,
              "#fdca26"
             ],
             [
              1,
              "#f0f921"
             ]
            ],
            "type": "surface"
           }
          ],
          "table": [
           {
            "cells": {
             "fill": {
              "color": "#EBF0F8"
             },
             "line": {
              "color": "white"
             }
            },
            "header": {
             "fill": {
              "color": "#C8D4E3"
             },
             "line": {
              "color": "white"
             }
            },
            "type": "table"
           }
          ]
         },
         "layout": {
          "annotationdefaults": {
           "arrowcolor": "#2a3f5f",
           "arrowhead": 0,
           "arrowwidth": 1
          },
          "autotypenumbers": "strict",
          "coloraxis": {
           "colorbar": {
            "outlinewidth": 0,
            "ticks": ""
           }
          },
          "colorscale": {
           "diverging": [
            [
             0,
             "#8e0152"
            ],
            [
             0.1,
             "#c51b7d"
            ],
            [
             0.2,
             "#de77ae"
            ],
            [
             0.3,
             "#f1b6da"
            ],
            [
             0.4,
             "#fde0ef"
            ],
            [
             0.5,
             "#f7f7f7"
            ],
            [
             0.6,
             "#e6f5d0"
            ],
            [
             0.7,
             "#b8e186"
            ],
            [
             0.8,
             "#7fbc41"
            ],
            [
             0.9,
             "#4d9221"
            ],
            [
             1,
             "#276419"
            ]
           ],
           "sequential": [
            [
             0,
             "#0d0887"
            ],
            [
             0.1111111111111111,
             "#46039f"
            ],
            [
             0.2222222222222222,
             "#7201a8"
            ],
            [
             0.3333333333333333,
             "#9c179e"
            ],
            [
             0.4444444444444444,
             "#bd3786"
            ],
            [
             0.5555555555555556,
             "#d8576b"
            ],
            [
             0.6666666666666666,
             "#ed7953"
            ],
            [
             0.7777777777777778,
             "#fb9f3a"
            ],
            [
             0.8888888888888888,
             "#fdca26"
            ],
            [
             1,
             "#f0f921"
            ]
           ],
           "sequentialminus": [
            [
             0,
             "#0d0887"
            ],
            [
             0.1111111111111111,
             "#46039f"
            ],
            [
             0.2222222222222222,
             "#7201a8"
            ],
            [
             0.3333333333333333,
             "#9c179e"
            ],
            [
             0.4444444444444444,
             "#bd3786"
            ],
            [
             0.5555555555555556,
             "#d8576b"
            ],
            [
             0.6666666666666666,
             "#ed7953"
            ],
            [
             0.7777777777777778,
             "#fb9f3a"
            ],
            [
             0.8888888888888888,
             "#fdca26"
            ],
            [
             1,
             "#f0f921"
            ]
           ]
          },
          "colorway": [
           "#636efa",
           "#EF553B",
           "#00cc96",
           "#ab63fa",
           "#FFA15A",
           "#19d3f3",
           "#FF6692",
           "#B6E880",
           "#FF97FF",
           "#FECB52"
          ],
          "font": {
           "color": "#2a3f5f"
          },
          "geo": {
           "bgcolor": "white",
           "lakecolor": "white",
           "landcolor": "#E5ECF6",
           "showlakes": true,
           "showland": true,
           "subunitcolor": "white"
          },
          "hoverlabel": {
           "align": "left"
          },
          "hovermode": "closest",
          "mapbox": {
           "style": "light"
          },
          "paper_bgcolor": "white",
          "plot_bgcolor": "#E5ECF6",
          "polar": {
           "angularaxis": {
            "gridcolor": "white",
            "linecolor": "white",
            "ticks": ""
           },
           "bgcolor": "#E5ECF6",
           "radialaxis": {
            "gridcolor": "white",
            "linecolor": "white",
            "ticks": ""
           }
          },
          "scene": {
           "xaxis": {
            "backgroundcolor": "#E5ECF6",
            "gridcolor": "white",
            "gridwidth": 2,
            "linecolor": "white",
            "showbackground": true,
            "ticks": "",
            "zerolinecolor": "white"
           },
           "yaxis": {
            "backgroundcolor": "#E5ECF6",
            "gridcolor": "white",
            "gridwidth": 2,
            "linecolor": "white",
            "showbackground": true,
            "ticks": "",
            "zerolinecolor": "white"
           },
           "zaxis": {
            "backgroundcolor": "#E5ECF6",
            "gridcolor": "white",
            "gridwidth": 2,
            "linecolor": "white",
            "showbackground": true,
            "ticks": "",
            "zerolinecolor": "white"
           }
          },
          "shapedefaults": {
           "line": {
            "color": "#2a3f5f"
           }
          },
          "ternary": {
           "aaxis": {
            "gridcolor": "white",
            "linecolor": "white",
            "ticks": ""
           },
           "baxis": {
            "gridcolor": "white",
            "linecolor": "white",
            "ticks": ""
           },
           "bgcolor": "#E5ECF6",
           "caxis": {
            "gridcolor": "white",
            "linecolor": "white",
            "ticks": ""
           }
          },
          "title": {
           "x": 0.05
          },
          "xaxis": {
           "automargin": true,
           "gridcolor": "white",
           "linecolor": "white",
           "ticks": "",
           "title": {
            "standoff": 15
           },
           "zerolinecolor": "white",
           "zerolinewidth": 2
          },
          "yaxis": {
           "automargin": true,
           "gridcolor": "white",
           "linecolor": "white",
           "ticks": "",
           "title": {
            "standoff": 15
           },
           "zerolinecolor": "white",
           "zerolinewidth": 2
          }
         }
        },
        "title": {
         "text": "PCA of TPM values"
        }
       }
      }
     },
     "metadata": {},
     "output_type": "display_data"
    }
   ],
   "source": [
    "# use plotly to create a 3d scatterplot\n",
    "fig = px.scatter_3d(TPM_pca_df, x='PC1', y='PC2', z='PC3', title='PCA of TPM values')\n",
    "fig.show()"
   ]
  },
  {
   "cell_type": "code",
   "execution_count": 80,
   "metadata": {},
   "outputs": [
    {
     "data": {
      "text/html": [
       "<div>\n",
       "<style scoped>\n",
       "    .dataframe tbody tr th:only-of-type {\n",
       "        vertical-align: middle;\n",
       "    }\n",
       "\n",
       "    .dataframe tbody tr th {\n",
       "        vertical-align: top;\n",
       "    }\n",
       "\n",
       "    .dataframe thead th {\n",
       "        text-align: right;\n",
       "    }\n",
       "</style>\n",
       "<table border=\"1\" class=\"dataframe\">\n",
       "  <thead>\n",
       "    <tr style=\"text-align: right;\">\n",
       "      <th></th>\n",
       "      <th>aliquot_id</th>\n",
       "      <th>read_group_id</th>\n",
       "      <th>has_blood_cancer</th>\n",
       "      <th>tissue_type</th>\n",
       "      <th>instrument_model</th>\n",
       "      <th>RIN</th>\n",
       "      <th>includes_spike_ins</th>\n",
       "      <th>library_preparation_kit_name</th>\n",
       "      <th>library_preparation_kit_vendor</th>\n",
       "      <th>library_preparation_kit_version</th>\n",
       "      <th>library_preparation_kit_catalog_number</th>\n",
       "      <th>library_selection</th>\n",
       "      <th>library_strand</th>\n",
       "      <th>library_strategy</th>\n",
       "      <th>size_selection_range</th>\n",
       "      <th>spike_ins_concentration</th>\n",
       "      <th>demographic_id</th>\n",
       "      <th>diagnosis_id</th>\n",
       "      <th>batch_id</th>\n",
       "      <th>index_date</th>\n",
       "      <th>cause_of_death</th>\n",
       "      <th>days_to_birth</th>\n",
       "      <th>days_to_death</th>\n",
       "      <th>ethnicity</th>\n",
       "      <th>gender</th>\n",
       "      <th>race</th>\n",
       "      <th>vital_status</th>\n",
       "      <th>adrenal_hormone</th>\n",
       "      <th>age_at_diagnosis</th>\n",
       "      <th>ajcc_clinical_m</th>\n",
       "      <th>ajcc_clinical_n</th>\n",
       "      <th>ajcc_clinical_stage</th>\n",
       "      <th>ajcc_clinical_t</th>\n",
       "      <th>ajcc_pathologic_m</th>\n",
       "      <th>ajcc_pathologic_n</th>\n",
       "      <th>ajcc_pathologic_stage</th>\n",
       "      <th>ajcc_pathologic_t</th>\n",
       "      <th>ajcc_staging_system_edition</th>\n",
       "      <th>ann_arbor_b_symptoms</th>\n",
       "      <th>ann_arbor_b_symptoms_described</th>\n",
       "      <th>ann_arbor_clinical_stage</th>\n",
       "      <th>ann_arbor_extranodal_involvement</th>\n",
       "      <th>ann_arbor_pathologic_stage</th>\n",
       "      <th>best_overall_response</th>\n",
       "      <th>burkitt_lymphoma_clinical_variant</th>\n",
       "      <th>child_pugh_classification</th>\n",
       "      <th>classification_of_tumor</th>\n",
       "      <th>cog_liver_stage</th>\n",
       "      <th>cog_neuroblastoma_risk_group</th>\n",
       "      <th>cog_renal_stage</th>\n",
       "      <th>cog_rhabdomyosarcoma_risk_group</th>\n",
       "      <th>created_datetime</th>\n",
       "      <th>days_to_best_overall_response</th>\n",
       "      <th>days_to_diagnosis</th>\n",
       "      <th>days_to_last_follow_up</th>\n",
       "      <th>days_to_last_known_disease_status</th>\n",
       "      <th>days_to_recurrence</th>\n",
       "      <th>diagnosis_is_primary_disease</th>\n",
       "      <th>eln_risk_classification</th>\n",
       "      <th>enneking_msts_grade</th>\n",
       "      <th>enneking_msts_metastasis</th>\n",
       "      <th>enneking_msts_stage</th>\n",
       "      <th>enneking_msts_tumor_site</th>\n",
       "      <th>esophageal_columnar_dysplasia_degree</th>\n",
       "      <th>esophageal_columnar_metaplasia_present</th>\n",
       "      <th>figo_stage</th>\n",
       "      <th>figo_staging_edition_year</th>\n",
       "      <th>first_symptom_prior_to_diagnosis</th>\n",
       "      <th>gastric_esophageal_junction_involvement</th>\n",
       "      <th>gleason_grade_group</th>\n",
       "      <th>gleason_grade_tertiary</th>\n",
       "      <th>gleason_patterns_percent</th>\n",
       "      <th>goblet_cells_columnar_mucosa_present</th>\n",
       "      <th>icd_10_code</th>\n",
       "      <th>igcccg_stage</th>\n",
       "      <th>inpc_grade</th>\n",
       "      <th>inpc_histologic_group</th>\n",
       "      <th>inrg_stage</th>\n",
       "      <th>inss_stage</th>\n",
       "      <th>international_prognostic_index</th>\n",
       "      <th>irs_group</th>\n",
       "      <th>irs_stage</th>\n",
       "      <th>ishak_fibrosis_score</th>\n",
       "      <th>iss_stage</th>\n",
       "      <th>last_known_disease_status</th>\n",
       "      <th>laterality</th>\n",
       "      <th>margin_distance</th>\n",
       "      <th>margins_involved_site</th>\n",
       "      <th>masaoka_stage</th>\n",
       "      <th>medulloblastoma_molecular_classification</th>\n",
       "      <th>metastasis_at_diagnosis</th>\n",
       "      <th>metastasis_at_diagnosis_site</th>\n",
       "      <th>method_of_diagnosis</th>\n",
       "      <th>micropapillary_features</th>\n",
       "      <th>mitosis_karyorrhexis_index</th>\n",
       "      <th>mitotic_count</th>\n",
       "      <th>morphology</th>\n",
       "      <th>ovarian_specimen_status</th>\n",
       "      <th>ovarian_surface_involvement</th>\n",
       "      <th>papillary_renal_cell_type</th>\n",
       "      <th>peritoneal_fluid_cytological_status</th>\n",
       "      <th>pregnant_at_diagnosis</th>\n",
       "      <th>primary_diagnosis</th>\n",
       "      <th>primary_disease</th>\n",
       "      <th>primary_gleason_grade</th>\n",
       "      <th>prior_malignancy</th>\n",
       "      <th>prior_treatment</th>\n",
       "      <th>progression_or_recurrence</th>\n",
       "      <th>project_id.1</th>\n",
       "      <th>residual_disease</th>\n",
       "      <th>satellite_nodule_present</th>\n",
       "      <th>secondary_gleason_grade</th>\n",
       "      <th>site_of_resection_or_biopsy</th>\n",
       "      <th>sites_of_involvement</th>\n",
       "      <th>submitter_id</th>\n",
       "      <th>supratentorial_localization</th>\n",
       "      <th>synchronous_malignancy</th>\n",
       "      <th>tissue_or_organ_of_origin</th>\n",
       "      <th>tumor_confined_to_organ_of_origin</th>\n",
       "      <th>tumor_depth</th>\n",
       "      <th>tumor_focality</th>\n",
       "      <th>tumor_grade</th>\n",
       "      <th>tumor_regression_grade</th>\n",
       "      <th>updated_datetime</th>\n",
       "      <th>weiss_assessment_score</th>\n",
       "      <th>who_cns_grade</th>\n",
       "      <th>who_nte_grade</th>\n",
       "      <th>wilms_tumor_histologic_subtype</th>\n",
       "      <th>year_of_diagnosis</th>\n",
       "      <th>disease_type</th>\n",
       "      <th>primary_site</th>\n",
       "      <th>project_id</th>\n",
       "    </tr>\n",
       "    <tr>\n",
       "      <th>case_id</th>\n",
       "      <th></th>\n",
       "      <th></th>\n",
       "      <th></th>\n",
       "      <th></th>\n",
       "      <th></th>\n",
       "      <th></th>\n",
       "      <th></th>\n",
       "      <th></th>\n",
       "      <th></th>\n",
       "      <th></th>\n",
       "      <th></th>\n",
       "      <th></th>\n",
       "      <th></th>\n",
       "      <th></th>\n",
       "      <th></th>\n",
       "      <th></th>\n",
       "      <th></th>\n",
       "      <th></th>\n",
       "      <th></th>\n",
       "      <th></th>\n",
       "      <th></th>\n",
       "      <th></th>\n",
       "      <th></th>\n",
       "      <th></th>\n",
       "      <th></th>\n",
       "      <th></th>\n",
       "      <th></th>\n",
       "      <th></th>\n",
       "      <th></th>\n",
       "      <th></th>\n",
       "      <th></th>\n",
       "      <th></th>\n",
       "      <th></th>\n",
       "      <th></th>\n",
       "      <th></th>\n",
       "      <th></th>\n",
       "      <th></th>\n",
       "      <th></th>\n",
       "      <th></th>\n",
       "      <th></th>\n",
       "      <th></th>\n",
       "      <th></th>\n",
       "      <th></th>\n",
       "      <th></th>\n",
       "      <th></th>\n",
       "      <th></th>\n",
       "      <th></th>\n",
       "      <th></th>\n",
       "      <th></th>\n",
       "      <th></th>\n",
       "      <th></th>\n",
       "      <th></th>\n",
       "      <th></th>\n",
       "      <th></th>\n",
       "      <th></th>\n",
       "      <th></th>\n",
       "      <th></th>\n",
       "      <th></th>\n",
       "      <th></th>\n",
       "      <th></th>\n",
       "      <th></th>\n",
       "      <th></th>\n",
       "      <th></th>\n",
       "      <th></th>\n",
       "      <th></th>\n",
       "      <th></th>\n",
       "      <th></th>\n",
       "      <th></th>\n",
       "      <th></th>\n",
       "      <th></th>\n",
       "      <th></th>\n",
       "      <th></th>\n",
       "      <th></th>\n",
       "      <th></th>\n",
       "      <th></th>\n",
       "      <th></th>\n",
       "      <th></th>\n",
       "      <th></th>\n",
       "      <th></th>\n",
       "      <th></th>\n",
       "      <th></th>\n",
       "      <th></th>\n",
       "      <th></th>\n",
       "      <th></th>\n",
       "      <th></th>\n",
       "      <th></th>\n",
       "      <th></th>\n",
       "      <th></th>\n",
       "      <th></th>\n",
       "      <th></th>\n",
       "      <th></th>\n",
       "      <th></th>\n",
       "      <th></th>\n",
       "      <th></th>\n",
       "      <th></th>\n",
       "      <th></th>\n",
       "      <th></th>\n",
       "      <th></th>\n",
       "      <th></th>\n",
       "      <th></th>\n",
       "      <th></th>\n",
       "      <th></th>\n",
       "      <th></th>\n",
       "      <th></th>\n",
       "      <th></th>\n",
       "      <th></th>\n",
       "      <th></th>\n",
       "      <th></th>\n",
       "      <th></th>\n",
       "      <th></th>\n",
       "      <th></th>\n",
       "      <th></th>\n",
       "      <th></th>\n",
       "      <th></th>\n",
       "      <th></th>\n",
       "      <th></th>\n",
       "      <th></th>\n",
       "      <th></th>\n",
       "      <th></th>\n",
       "      <th></th>\n",
       "      <th></th>\n",
       "      <th></th>\n",
       "      <th></th>\n",
       "      <th></th>\n",
       "      <th></th>\n",
       "      <th></th>\n",
       "      <th></th>\n",
       "      <th></th>\n",
       "      <th></th>\n",
       "      <th></th>\n",
       "      <th></th>\n",
       "      <th></th>\n",
       "    </tr>\n",
       "  </thead>\n",
       "  <tbody>\n",
       "    <tr>\n",
       "      <th>5705efcc-b48f-435c-8a28-9e0d407ecadd</th>\n",
       "      <td>75ac0619-947a-427b-a53f-71e121a7ec8f</td>\n",
       "      <td>71894d8b-5210-44dc-aadc-a199d3843dd2</td>\n",
       "      <td>False</td>\n",
       "      <td>Tumor</td>\n",
       "      <td>Illumina HiSeq 4000</td>\n",
       "      <td>NaN</td>\n",
       "      <td>True</td>\n",
       "      <td>TruSeq Stranded Total RNA Library Prep Kit wit...</td>\n",
       "      <td>Illumina</td>\n",
       "      <td>NaN</td>\n",
       "      <td>NaN</td>\n",
       "      <td>rRNA Depletion</td>\n",
       "      <td>First_Stranded</td>\n",
       "      <td>RNA-Seq</td>\n",
       "      <td>308.0</td>\n",
       "      <td>1.0</td>\n",
       "      <td>f1ec7b5b-7f11-41e6-9fb4-a27fb2adc8f1</td>\n",
       "      <td>c7f325cd-98a6-4996-825e-1c23b86e1a22</td>\n",
       "      <td>2.0</td>\n",
       "      <td>Diagnosis</td>\n",
       "      <td>NaN</td>\n",
       "      <td>-22142.0</td>\n",
       "      <td>NaN</td>\n",
       "      <td>not hispanic or latino</td>\n",
       "      <td>female</td>\n",
       "      <td>white</td>\n",
       "      <td>Alive</td>\n",
       "      <td>NaN</td>\n",
       "      <td>22142.0</td>\n",
       "      <td>M0</td>\n",
       "      <td>NaN</td>\n",
       "      <td>NaN</td>\n",
       "      <td>NaN</td>\n",
       "      <td>Unknown</td>\n",
       "      <td>NX</td>\n",
       "      <td>Stage I</td>\n",
       "      <td>T1a</td>\n",
       "      <td>7th</td>\n",
       "      <td>NaN</td>\n",
       "      <td>NaN</td>\n",
       "      <td>NaN</td>\n",
       "      <td>NaN</td>\n",
       "      <td>NaN</td>\n",
       "      <td>NaN</td>\n",
       "      <td>NaN</td>\n",
       "      <td>NaN</td>\n",
       "      <td>NaN</td>\n",
       "      <td>NaN</td>\n",
       "      <td>NaN</td>\n",
       "      <td>NaN</td>\n",
       "      <td>NaN</td>\n",
       "      <td>2018-05-17T23:34:39.302537-05:00</td>\n",
       "      <td>NaN</td>\n",
       "      <td>NaN</td>\n",
       "      <td>823.0</td>\n",
       "      <td>823.0</td>\n",
       "      <td>NaN</td>\n",
       "      <td>True</td>\n",
       "      <td>NaN</td>\n",
       "      <td>NaN</td>\n",
       "      <td>NaN</td>\n",
       "      <td>NaN</td>\n",
       "      <td>NaN</td>\n",
       "      <td>NaN</td>\n",
       "      <td>NaN</td>\n",
       "      <td>Stage I</td>\n",
       "      <td>NaN</td>\n",
       "      <td>NaN</td>\n",
       "      <td>NaN</td>\n",
       "      <td>NaN</td>\n",
       "      <td>NaN</td>\n",
       "      <td>NaN</td>\n",
       "      <td>NaN</td>\n",
       "      <td>NaN</td>\n",
       "      <td>NaN</td>\n",
       "      <td>NaN</td>\n",
       "      <td>NaN</td>\n",
       "      <td>NaN</td>\n",
       "      <td>NaN</td>\n",
       "      <td>NaN</td>\n",
       "      <td>NaN</td>\n",
       "      <td>NaN</td>\n",
       "      <td>NaN</td>\n",
       "      <td>NaN</td>\n",
       "      <td>Tumor free</td>\n",
       "      <td>NaN</td>\n",
       "      <td>NaN</td>\n",
       "      <td>NaN</td>\n",
       "      <td>NaN</td>\n",
       "      <td>NaN</td>\n",
       "      <td>NaN</td>\n",
       "      <td>NaN</td>\n",
       "      <td>NaN</td>\n",
       "      <td>NaN</td>\n",
       "      <td>NaN</td>\n",
       "      <td>NaN</td>\n",
       "      <td>8380/3</td>\n",
       "      <td>NaN</td>\n",
       "      <td>NaN</td>\n",
       "      <td>NaN</td>\n",
       "      <td>NaN</td>\n",
       "      <td>NaN</td>\n",
       "      <td>Endometrioid adenocarcinoma, NOS</td>\n",
       "      <td>NaN</td>\n",
       "      <td>NaN</td>\n",
       "      <td>NaN</td>\n",
       "      <td>NaN</td>\n",
       "      <td>no</td>\n",
       "      <td>CPTAC-3</td>\n",
       "      <td>R0</td>\n",
       "      <td>NaN</td>\n",
       "      <td>NaN</td>\n",
       "      <td>Corpus uteri</td>\n",
       "      <td>NaN</td>\n",
       "      <td>C3L-00137-DIAG</td>\n",
       "      <td>NaN</td>\n",
       "      <td>NaN</td>\n",
       "      <td>Corpus uteri</td>\n",
       "      <td>NaN</td>\n",
       "      <td>NaN</td>\n",
       "      <td>Unifocal</td>\n",
       "      <td>G1</td>\n",
       "      <td>NaN</td>\n",
       "      <td>2021-09-22T14:36:32.037275-05:00</td>\n",
       "      <td>NaN</td>\n",
       "      <td>NaN</td>\n",
       "      <td>NaN</td>\n",
       "      <td>NaN</td>\n",
       "      <td>2016.0</td>\n",
       "      <td>Adenomas and Adenocarcinomas</td>\n",
       "      <td>Uterus, NOS</td>\n",
       "      <td>CPTAC-3</td>\n",
       "    </tr>\n",
       "    <tr>\n",
       "      <th>5705efcc-b48f-435c-8a28-9e0d407ecadd</th>\n",
       "      <td>948c4d53-3d91-48a6-bec4-0cc96020e572</td>\n",
       "      <td>86774648-bb57-42c3-b835-9fb11b590d8b</td>\n",
       "      <td>False</td>\n",
       "      <td>Tumor</td>\n",
       "      <td>NaN</td>\n",
       "      <td>NaN</td>\n",
       "      <td>NaN</td>\n",
       "      <td>NaN</td>\n",
       "      <td>NaN</td>\n",
       "      <td>NaN</td>\n",
       "      <td>NaN</td>\n",
       "      <td>rRNA Depletion</td>\n",
       "      <td>NaN</td>\n",
       "      <td>RNA-Seq</td>\n",
       "      <td>NaN</td>\n",
       "      <td>NaN</td>\n",
       "      <td>f1ec7b5b-7f11-41e6-9fb4-a27fb2adc8f1</td>\n",
       "      <td>c7f325cd-98a6-4996-825e-1c23b86e1a22</td>\n",
       "      <td>2.0</td>\n",
       "      <td>Diagnosis</td>\n",
       "      <td>NaN</td>\n",
       "      <td>-22142.0</td>\n",
       "      <td>NaN</td>\n",
       "      <td>not hispanic or latino</td>\n",
       "      <td>female</td>\n",
       "      <td>white</td>\n",
       "      <td>Alive</td>\n",
       "      <td>NaN</td>\n",
       "      <td>22142.0</td>\n",
       "      <td>M0</td>\n",
       "      <td>NaN</td>\n",
       "      <td>NaN</td>\n",
       "      <td>NaN</td>\n",
       "      <td>Unknown</td>\n",
       "      <td>NX</td>\n",
       "      <td>Stage I</td>\n",
       "      <td>T1a</td>\n",
       "      <td>7th</td>\n",
       "      <td>NaN</td>\n",
       "      <td>NaN</td>\n",
       "      <td>NaN</td>\n",
       "      <td>NaN</td>\n",
       "      <td>NaN</td>\n",
       "      <td>NaN</td>\n",
       "      <td>NaN</td>\n",
       "      <td>NaN</td>\n",
       "      <td>NaN</td>\n",
       "      <td>NaN</td>\n",
       "      <td>NaN</td>\n",
       "      <td>NaN</td>\n",
       "      <td>NaN</td>\n",
       "      <td>2018-05-17T23:34:39.302537-05:00</td>\n",
       "      <td>NaN</td>\n",
       "      <td>NaN</td>\n",
       "      <td>823.0</td>\n",
       "      <td>823.0</td>\n",
       "      <td>NaN</td>\n",
       "      <td>True</td>\n",
       "      <td>NaN</td>\n",
       "      <td>NaN</td>\n",
       "      <td>NaN</td>\n",
       "      <td>NaN</td>\n",
       "      <td>NaN</td>\n",
       "      <td>NaN</td>\n",
       "      <td>NaN</td>\n",
       "      <td>Stage I</td>\n",
       "      <td>NaN</td>\n",
       "      <td>NaN</td>\n",
       "      <td>NaN</td>\n",
       "      <td>NaN</td>\n",
       "      <td>NaN</td>\n",
       "      <td>NaN</td>\n",
       "      <td>NaN</td>\n",
       "      <td>NaN</td>\n",
       "      <td>NaN</td>\n",
       "      <td>NaN</td>\n",
       "      <td>NaN</td>\n",
       "      <td>NaN</td>\n",
       "      <td>NaN</td>\n",
       "      <td>NaN</td>\n",
       "      <td>NaN</td>\n",
       "      <td>NaN</td>\n",
       "      <td>NaN</td>\n",
       "      <td>NaN</td>\n",
       "      <td>Tumor free</td>\n",
       "      <td>NaN</td>\n",
       "      <td>NaN</td>\n",
       "      <td>NaN</td>\n",
       "      <td>NaN</td>\n",
       "      <td>NaN</td>\n",
       "      <td>NaN</td>\n",
       "      <td>NaN</td>\n",
       "      <td>NaN</td>\n",
       "      <td>NaN</td>\n",
       "      <td>NaN</td>\n",
       "      <td>NaN</td>\n",
       "      <td>8380/3</td>\n",
       "      <td>NaN</td>\n",
       "      <td>NaN</td>\n",
       "      <td>NaN</td>\n",
       "      <td>NaN</td>\n",
       "      <td>NaN</td>\n",
       "      <td>Endometrioid adenocarcinoma, NOS</td>\n",
       "      <td>NaN</td>\n",
       "      <td>NaN</td>\n",
       "      <td>NaN</td>\n",
       "      <td>NaN</td>\n",
       "      <td>no</td>\n",
       "      <td>CPTAC-3</td>\n",
       "      <td>R0</td>\n",
       "      <td>NaN</td>\n",
       "      <td>NaN</td>\n",
       "      <td>Corpus uteri</td>\n",
       "      <td>NaN</td>\n",
       "      <td>C3L-00137-DIAG</td>\n",
       "      <td>NaN</td>\n",
       "      <td>NaN</td>\n",
       "      <td>Corpus uteri</td>\n",
       "      <td>NaN</td>\n",
       "      <td>NaN</td>\n",
       "      <td>Unifocal</td>\n",
       "      <td>G1</td>\n",
       "      <td>NaN</td>\n",
       "      <td>2021-09-22T14:36:32.037275-05:00</td>\n",
       "      <td>NaN</td>\n",
       "      <td>NaN</td>\n",
       "      <td>NaN</td>\n",
       "      <td>NaN</td>\n",
       "      <td>2016.0</td>\n",
       "      <td>Adenomas and Adenocarcinomas</td>\n",
       "      <td>Uterus, NOS</td>\n",
       "      <td>CPTAC-3</td>\n",
       "    </tr>\n",
       "    <tr>\n",
       "      <th>763e0702-8379-4b5e-95d1-a84f412c51e7</th>\n",
       "      <td>ce810e2e-4929-4bbc-95ff-6da493477391</td>\n",
       "      <td>c2980255-7c57-4b79-82a7-f77098ff164e</td>\n",
       "      <td>False</td>\n",
       "      <td>Tumor</td>\n",
       "      <td>Illumina HiSeq 4000</td>\n",
       "      <td>NaN</td>\n",
       "      <td>True</td>\n",
       "      <td>TruSeq Stranded Total RNA Library Prep Kit wit...</td>\n",
       "      <td>Illumina</td>\n",
       "      <td>NaN</td>\n",
       "      <td>NaN</td>\n",
       "      <td>rRNA Depletion</td>\n",
       "      <td>First_Stranded</td>\n",
       "      <td>RNA-Seq</td>\n",
       "      <td>342.0</td>\n",
       "      <td>1.0</td>\n",
       "      <td>2cb2a0b4-acd0-4529-b7ed-deaf1aa119c6</td>\n",
       "      <td>5e74687f-b68b-4891-9a20-1a68826ca706</td>\n",
       "      <td>2.0</td>\n",
       "      <td>Diagnosis</td>\n",
       "      <td>NaN</td>\n",
       "      <td>-22179.0</td>\n",
       "      <td>NaN</td>\n",
       "      <td>not hispanic or latino</td>\n",
       "      <td>female</td>\n",
       "      <td>white</td>\n",
       "      <td>Alive</td>\n",
       "      <td>NaN</td>\n",
       "      <td>22179.0</td>\n",
       "      <td>Unknown</td>\n",
       "      <td>NaN</td>\n",
       "      <td>NaN</td>\n",
       "      <td>NaN</td>\n",
       "      <td>Unknown</td>\n",
       "      <td>NX</td>\n",
       "      <td>Stage II</td>\n",
       "      <td>T2b</td>\n",
       "      <td>7th</td>\n",
       "      <td>NaN</td>\n",
       "      <td>NaN</td>\n",
       "      <td>NaN</td>\n",
       "      <td>NaN</td>\n",
       "      <td>NaN</td>\n",
       "      <td>NaN</td>\n",
       "      <td>NaN</td>\n",
       "      <td>NaN</td>\n",
       "      <td>NaN</td>\n",
       "      <td>NaN</td>\n",
       "      <td>NaN</td>\n",
       "      <td>NaN</td>\n",
       "      <td>NaN</td>\n",
       "      <td>2018-05-17T14:05:59.588773-05:00</td>\n",
       "      <td>NaN</td>\n",
       "      <td>NaN</td>\n",
       "      <td>1785.0</td>\n",
       "      <td>1785.0</td>\n",
       "      <td>NaN</td>\n",
       "      <td>True</td>\n",
       "      <td>NaN</td>\n",
       "      <td>NaN</td>\n",
       "      <td>NaN</td>\n",
       "      <td>NaN</td>\n",
       "      <td>NaN</td>\n",
       "      <td>NaN</td>\n",
       "      <td>NaN</td>\n",
       "      <td>NaN</td>\n",
       "      <td>NaN</td>\n",
       "      <td>NaN</td>\n",
       "      <td>NaN</td>\n",
       "      <td>NaN</td>\n",
       "      <td>NaN</td>\n",
       "      <td>NaN</td>\n",
       "      <td>NaN</td>\n",
       "      <td>NaN</td>\n",
       "      <td>NaN</td>\n",
       "      <td>NaN</td>\n",
       "      <td>NaN</td>\n",
       "      <td>NaN</td>\n",
       "      <td>NaN</td>\n",
       "      <td>NaN</td>\n",
       "      <td>NaN</td>\n",
       "      <td>NaN</td>\n",
       "      <td>NaN</td>\n",
       "      <td>NaN</td>\n",
       "      <td>With tumor</td>\n",
       "      <td>NaN</td>\n",
       "      <td>NaN</td>\n",
       "      <td>NaN</td>\n",
       "      <td>NaN</td>\n",
       "      <td>NaN</td>\n",
       "      <td>NaN</td>\n",
       "      <td>NaN</td>\n",
       "      <td>NaN</td>\n",
       "      <td>NaN</td>\n",
       "      <td>NaN</td>\n",
       "      <td>NaN</td>\n",
       "      <td>8312/3</td>\n",
       "      <td>NaN</td>\n",
       "      <td>NaN</td>\n",
       "      <td>NaN</td>\n",
       "      <td>NaN</td>\n",
       "      <td>NaN</td>\n",
       "      <td>Renal cell carcinoma, NOS</td>\n",
       "      <td>NaN</td>\n",
       "      <td>NaN</td>\n",
       "      <td>NaN</td>\n",
       "      <td>NaN</td>\n",
       "      <td>yes</td>\n",
       "      <td>CPTAC-3</td>\n",
       "      <td>R0</td>\n",
       "      <td>NaN</td>\n",
       "      <td>NaN</td>\n",
       "      <td>Kidney, NOS</td>\n",
       "      <td>NaN</td>\n",
       "      <td>C3L-00908-DIAG</td>\n",
       "      <td>NaN</td>\n",
       "      <td>NaN</td>\n",
       "      <td>Kidney, NOS</td>\n",
       "      <td>NaN</td>\n",
       "      <td>NaN</td>\n",
       "      <td>Unifocal</td>\n",
       "      <td>G3</td>\n",
       "      <td>NaN</td>\n",
       "      <td>2023-02-03T18:28:48.308091-06:00</td>\n",
       "      <td>NaN</td>\n",
       "      <td>NaN</td>\n",
       "      <td>NaN</td>\n",
       "      <td>NaN</td>\n",
       "      <td>2016.0</td>\n",
       "      <td>Adenomas and Adenocarcinomas</td>\n",
       "      <td>Kidney</td>\n",
       "      <td>CPTAC-3</td>\n",
       "    </tr>\n",
       "    <tr>\n",
       "      <th>763e0702-8379-4b5e-95d1-a84f412c51e7</th>\n",
       "      <td>33c921ea-b743-4d32-9c56-875de6028c71</td>\n",
       "      <td>8062c6e4-d501-4c91-ab02-f36f4e7fd387</td>\n",
       "      <td>False</td>\n",
       "      <td>Tumor</td>\n",
       "      <td>Illumina HiSeq 4000</td>\n",
       "      <td>NaN</td>\n",
       "      <td>True</td>\n",
       "      <td>TruSeq Stranded Total RNA Library Prep Kit wit...</td>\n",
       "      <td>Illumina</td>\n",
       "      <td>NaN</td>\n",
       "      <td>NaN</td>\n",
       "      <td>rRNA Depletion</td>\n",
       "      <td>First_Stranded</td>\n",
       "      <td>RNA-Seq</td>\n",
       "      <td>325.0</td>\n",
       "      <td>1.0</td>\n",
       "      <td>2cb2a0b4-acd0-4529-b7ed-deaf1aa119c6</td>\n",
       "      <td>5e74687f-b68b-4891-9a20-1a68826ca706</td>\n",
       "      <td>2.0</td>\n",
       "      <td>Diagnosis</td>\n",
       "      <td>NaN</td>\n",
       "      <td>-22179.0</td>\n",
       "      <td>NaN</td>\n",
       "      <td>not hispanic or latino</td>\n",
       "      <td>female</td>\n",
       "      <td>white</td>\n",
       "      <td>Alive</td>\n",
       "      <td>NaN</td>\n",
       "      <td>22179.0</td>\n",
       "      <td>Unknown</td>\n",
       "      <td>NaN</td>\n",
       "      <td>NaN</td>\n",
       "      <td>NaN</td>\n",
       "      <td>Unknown</td>\n",
       "      <td>NX</td>\n",
       "      <td>Stage II</td>\n",
       "      <td>T2b</td>\n",
       "      <td>7th</td>\n",
       "      <td>NaN</td>\n",
       "      <td>NaN</td>\n",
       "      <td>NaN</td>\n",
       "      <td>NaN</td>\n",
       "      <td>NaN</td>\n",
       "      <td>NaN</td>\n",
       "      <td>NaN</td>\n",
       "      <td>NaN</td>\n",
       "      <td>NaN</td>\n",
       "      <td>NaN</td>\n",
       "      <td>NaN</td>\n",
       "      <td>NaN</td>\n",
       "      <td>NaN</td>\n",
       "      <td>2018-05-17T14:05:59.588773-05:00</td>\n",
       "      <td>NaN</td>\n",
       "      <td>NaN</td>\n",
       "      <td>1785.0</td>\n",
       "      <td>1785.0</td>\n",
       "      <td>NaN</td>\n",
       "      <td>True</td>\n",
       "      <td>NaN</td>\n",
       "      <td>NaN</td>\n",
       "      <td>NaN</td>\n",
       "      <td>NaN</td>\n",
       "      <td>NaN</td>\n",
       "      <td>NaN</td>\n",
       "      <td>NaN</td>\n",
       "      <td>NaN</td>\n",
       "      <td>NaN</td>\n",
       "      <td>NaN</td>\n",
       "      <td>NaN</td>\n",
       "      <td>NaN</td>\n",
       "      <td>NaN</td>\n",
       "      <td>NaN</td>\n",
       "      <td>NaN</td>\n",
       "      <td>NaN</td>\n",
       "      <td>NaN</td>\n",
       "      <td>NaN</td>\n",
       "      <td>NaN</td>\n",
       "      <td>NaN</td>\n",
       "      <td>NaN</td>\n",
       "      <td>NaN</td>\n",
       "      <td>NaN</td>\n",
       "      <td>NaN</td>\n",
       "      <td>NaN</td>\n",
       "      <td>NaN</td>\n",
       "      <td>With tumor</td>\n",
       "      <td>NaN</td>\n",
       "      <td>NaN</td>\n",
       "      <td>NaN</td>\n",
       "      <td>NaN</td>\n",
       "      <td>NaN</td>\n",
       "      <td>NaN</td>\n",
       "      <td>NaN</td>\n",
       "      <td>NaN</td>\n",
       "      <td>NaN</td>\n",
       "      <td>NaN</td>\n",
       "      <td>NaN</td>\n",
       "      <td>8312/3</td>\n",
       "      <td>NaN</td>\n",
       "      <td>NaN</td>\n",
       "      <td>NaN</td>\n",
       "      <td>NaN</td>\n",
       "      <td>NaN</td>\n",
       "      <td>Renal cell carcinoma, NOS</td>\n",
       "      <td>NaN</td>\n",
       "      <td>NaN</td>\n",
       "      <td>NaN</td>\n",
       "      <td>NaN</td>\n",
       "      <td>yes</td>\n",
       "      <td>CPTAC-3</td>\n",
       "      <td>R0</td>\n",
       "      <td>NaN</td>\n",
       "      <td>NaN</td>\n",
       "      <td>Kidney, NOS</td>\n",
       "      <td>NaN</td>\n",
       "      <td>C3L-00908-DIAG</td>\n",
       "      <td>NaN</td>\n",
       "      <td>NaN</td>\n",
       "      <td>Kidney, NOS</td>\n",
       "      <td>NaN</td>\n",
       "      <td>NaN</td>\n",
       "      <td>Unifocal</td>\n",
       "      <td>G3</td>\n",
       "      <td>NaN</td>\n",
       "      <td>2023-02-03T18:28:48.308091-06:00</td>\n",
       "      <td>NaN</td>\n",
       "      <td>NaN</td>\n",
       "      <td>NaN</td>\n",
       "      <td>NaN</td>\n",
       "      <td>2016.0</td>\n",
       "      <td>Adenomas and Adenocarcinomas</td>\n",
       "      <td>Kidney</td>\n",
       "      <td>CPTAC-3</td>\n",
       "    </tr>\n",
       "    <tr>\n",
       "      <th>763e0702-8379-4b5e-95d1-a84f412c51e7</th>\n",
       "      <td>173c0d6a-bc67-4a72-b6d3-b2a411e24785</td>\n",
       "      <td>39c8b5e7-ac68-4009-ab82-e1ee495bdbd9</td>\n",
       "      <td>False</td>\n",
       "      <td>Normal</td>\n",
       "      <td>Illumina HiSeq 4000</td>\n",
       "      <td>NaN</td>\n",
       "      <td>True</td>\n",
       "      <td>TruSeq Stranded Total RNA Library Prep Kit wit...</td>\n",
       "      <td>Illumina</td>\n",
       "      <td>NaN</td>\n",
       "      <td>NaN</td>\n",
       "      <td>rRNA Depletion</td>\n",
       "      <td>First_Stranded</td>\n",
       "      <td>RNA-Seq</td>\n",
       "      <td>314.0</td>\n",
       "      <td>1.0</td>\n",
       "      <td>2cb2a0b4-acd0-4529-b7ed-deaf1aa119c6</td>\n",
       "      <td>5e74687f-b68b-4891-9a20-1a68826ca706</td>\n",
       "      <td>2.0</td>\n",
       "      <td>Diagnosis</td>\n",
       "      <td>NaN</td>\n",
       "      <td>-22179.0</td>\n",
       "      <td>NaN</td>\n",
       "      <td>not hispanic or latino</td>\n",
       "      <td>female</td>\n",
       "      <td>white</td>\n",
       "      <td>Alive</td>\n",
       "      <td>NaN</td>\n",
       "      <td>22179.0</td>\n",
       "      <td>Unknown</td>\n",
       "      <td>NaN</td>\n",
       "      <td>NaN</td>\n",
       "      <td>NaN</td>\n",
       "      <td>Unknown</td>\n",
       "      <td>NX</td>\n",
       "      <td>Stage II</td>\n",
       "      <td>T2b</td>\n",
       "      <td>7th</td>\n",
       "      <td>NaN</td>\n",
       "      <td>NaN</td>\n",
       "      <td>NaN</td>\n",
       "      <td>NaN</td>\n",
       "      <td>NaN</td>\n",
       "      <td>NaN</td>\n",
       "      <td>NaN</td>\n",
       "      <td>NaN</td>\n",
       "      <td>NaN</td>\n",
       "      <td>NaN</td>\n",
       "      <td>NaN</td>\n",
       "      <td>NaN</td>\n",
       "      <td>NaN</td>\n",
       "      <td>2018-05-17T14:05:59.588773-05:00</td>\n",
       "      <td>NaN</td>\n",
       "      <td>NaN</td>\n",
       "      <td>1785.0</td>\n",
       "      <td>1785.0</td>\n",
       "      <td>NaN</td>\n",
       "      <td>True</td>\n",
       "      <td>NaN</td>\n",
       "      <td>NaN</td>\n",
       "      <td>NaN</td>\n",
       "      <td>NaN</td>\n",
       "      <td>NaN</td>\n",
       "      <td>NaN</td>\n",
       "      <td>NaN</td>\n",
       "      <td>NaN</td>\n",
       "      <td>NaN</td>\n",
       "      <td>NaN</td>\n",
       "      <td>NaN</td>\n",
       "      <td>NaN</td>\n",
       "      <td>NaN</td>\n",
       "      <td>NaN</td>\n",
       "      <td>NaN</td>\n",
       "      <td>NaN</td>\n",
       "      <td>NaN</td>\n",
       "      <td>NaN</td>\n",
       "      <td>NaN</td>\n",
       "      <td>NaN</td>\n",
       "      <td>NaN</td>\n",
       "      <td>NaN</td>\n",
       "      <td>NaN</td>\n",
       "      <td>NaN</td>\n",
       "      <td>NaN</td>\n",
       "      <td>NaN</td>\n",
       "      <td>With tumor</td>\n",
       "      <td>NaN</td>\n",
       "      <td>NaN</td>\n",
       "      <td>NaN</td>\n",
       "      <td>NaN</td>\n",
       "      <td>NaN</td>\n",
       "      <td>NaN</td>\n",
       "      <td>NaN</td>\n",
       "      <td>NaN</td>\n",
       "      <td>NaN</td>\n",
       "      <td>NaN</td>\n",
       "      <td>NaN</td>\n",
       "      <td>8312/3</td>\n",
       "      <td>NaN</td>\n",
       "      <td>NaN</td>\n",
       "      <td>NaN</td>\n",
       "      <td>NaN</td>\n",
       "      <td>NaN</td>\n",
       "      <td>Renal cell carcinoma, NOS</td>\n",
       "      <td>NaN</td>\n",
       "      <td>NaN</td>\n",
       "      <td>NaN</td>\n",
       "      <td>NaN</td>\n",
       "      <td>yes</td>\n",
       "      <td>CPTAC-3</td>\n",
       "      <td>R0</td>\n",
       "      <td>NaN</td>\n",
       "      <td>NaN</td>\n",
       "      <td>Kidney, NOS</td>\n",
       "      <td>NaN</td>\n",
       "      <td>C3L-00908-DIAG</td>\n",
       "      <td>NaN</td>\n",
       "      <td>NaN</td>\n",
       "      <td>Kidney, NOS</td>\n",
       "      <td>NaN</td>\n",
       "      <td>NaN</td>\n",
       "      <td>Unifocal</td>\n",
       "      <td>G3</td>\n",
       "      <td>NaN</td>\n",
       "      <td>2023-02-03T18:28:48.308091-06:00</td>\n",
       "      <td>NaN</td>\n",
       "      <td>NaN</td>\n",
       "      <td>NaN</td>\n",
       "      <td>NaN</td>\n",
       "      <td>2016.0</td>\n",
       "      <td>Adenomas and Adenocarcinomas</td>\n",
       "      <td>Kidney</td>\n",
       "      <td>CPTAC-3</td>\n",
       "    </tr>\n",
       "  </tbody>\n",
       "</table>\n",
       "</div>"
      ],
      "text/plain": [
       "                                                                aliquot_id  \\\n",
       "case_id                                                                      \n",
       "5705efcc-b48f-435c-8a28-9e0d407ecadd  75ac0619-947a-427b-a53f-71e121a7ec8f   \n",
       "5705efcc-b48f-435c-8a28-9e0d407ecadd  948c4d53-3d91-48a6-bec4-0cc96020e572   \n",
       "763e0702-8379-4b5e-95d1-a84f412c51e7  ce810e2e-4929-4bbc-95ff-6da493477391   \n",
       "763e0702-8379-4b5e-95d1-a84f412c51e7  33c921ea-b743-4d32-9c56-875de6028c71   \n",
       "763e0702-8379-4b5e-95d1-a84f412c51e7  173c0d6a-bc67-4a72-b6d3-b2a411e24785   \n",
       "\n",
       "                                                             read_group_id  \\\n",
       "case_id                                                                      \n",
       "5705efcc-b48f-435c-8a28-9e0d407ecadd  71894d8b-5210-44dc-aadc-a199d3843dd2   \n",
       "5705efcc-b48f-435c-8a28-9e0d407ecadd  86774648-bb57-42c3-b835-9fb11b590d8b   \n",
       "763e0702-8379-4b5e-95d1-a84f412c51e7  c2980255-7c57-4b79-82a7-f77098ff164e   \n",
       "763e0702-8379-4b5e-95d1-a84f412c51e7  8062c6e4-d501-4c91-ab02-f36f4e7fd387   \n",
       "763e0702-8379-4b5e-95d1-a84f412c51e7  39c8b5e7-ac68-4009-ab82-e1ee495bdbd9   \n",
       "\n",
       "                                     has_blood_cancer tissue_type  \\\n",
       "case_id                                                             \n",
       "5705efcc-b48f-435c-8a28-9e0d407ecadd            False       Tumor   \n",
       "5705efcc-b48f-435c-8a28-9e0d407ecadd            False       Tumor   \n",
       "763e0702-8379-4b5e-95d1-a84f412c51e7            False       Tumor   \n",
       "763e0702-8379-4b5e-95d1-a84f412c51e7            False       Tumor   \n",
       "763e0702-8379-4b5e-95d1-a84f412c51e7            False      Normal   \n",
       "\n",
       "                                         instrument_model  RIN  \\\n",
       "case_id                                                          \n",
       "5705efcc-b48f-435c-8a28-9e0d407ecadd  Illumina HiSeq 4000  NaN   \n",
       "5705efcc-b48f-435c-8a28-9e0d407ecadd                  NaN  NaN   \n",
       "763e0702-8379-4b5e-95d1-a84f412c51e7  Illumina HiSeq 4000  NaN   \n",
       "763e0702-8379-4b5e-95d1-a84f412c51e7  Illumina HiSeq 4000  NaN   \n",
       "763e0702-8379-4b5e-95d1-a84f412c51e7  Illumina HiSeq 4000  NaN   \n",
       "\n",
       "                                     includes_spike_ins  \\\n",
       "case_id                                                   \n",
       "5705efcc-b48f-435c-8a28-9e0d407ecadd               True   \n",
       "5705efcc-b48f-435c-8a28-9e0d407ecadd                NaN   \n",
       "763e0702-8379-4b5e-95d1-a84f412c51e7               True   \n",
       "763e0702-8379-4b5e-95d1-a84f412c51e7               True   \n",
       "763e0702-8379-4b5e-95d1-a84f412c51e7               True   \n",
       "\n",
       "                                                           library_preparation_kit_name  \\\n",
       "case_id                                                                                   \n",
       "5705efcc-b48f-435c-8a28-9e0d407ecadd  TruSeq Stranded Total RNA Library Prep Kit wit...   \n",
       "5705efcc-b48f-435c-8a28-9e0d407ecadd                                                NaN   \n",
       "763e0702-8379-4b5e-95d1-a84f412c51e7  TruSeq Stranded Total RNA Library Prep Kit wit...   \n",
       "763e0702-8379-4b5e-95d1-a84f412c51e7  TruSeq Stranded Total RNA Library Prep Kit wit...   \n",
       "763e0702-8379-4b5e-95d1-a84f412c51e7  TruSeq Stranded Total RNA Library Prep Kit wit...   \n",
       "\n",
       "                                     library_preparation_kit_vendor  \\\n",
       "case_id                                                               \n",
       "5705efcc-b48f-435c-8a28-9e0d407ecadd                       Illumina   \n",
       "5705efcc-b48f-435c-8a28-9e0d407ecadd                            NaN   \n",
       "763e0702-8379-4b5e-95d1-a84f412c51e7                       Illumina   \n",
       "763e0702-8379-4b5e-95d1-a84f412c51e7                       Illumina   \n",
       "763e0702-8379-4b5e-95d1-a84f412c51e7                       Illumina   \n",
       "\n",
       "                                      library_preparation_kit_version  \\\n",
       "case_id                                                                 \n",
       "5705efcc-b48f-435c-8a28-9e0d407ecadd                              NaN   \n",
       "5705efcc-b48f-435c-8a28-9e0d407ecadd                              NaN   \n",
       "763e0702-8379-4b5e-95d1-a84f412c51e7                              NaN   \n",
       "763e0702-8379-4b5e-95d1-a84f412c51e7                              NaN   \n",
       "763e0702-8379-4b5e-95d1-a84f412c51e7                              NaN   \n",
       "\n",
       "                                      library_preparation_kit_catalog_number  \\\n",
       "case_id                                                                        \n",
       "5705efcc-b48f-435c-8a28-9e0d407ecadd                                     NaN   \n",
       "5705efcc-b48f-435c-8a28-9e0d407ecadd                                     NaN   \n",
       "763e0702-8379-4b5e-95d1-a84f412c51e7                                     NaN   \n",
       "763e0702-8379-4b5e-95d1-a84f412c51e7                                     NaN   \n",
       "763e0702-8379-4b5e-95d1-a84f412c51e7                                     NaN   \n",
       "\n",
       "                                     library_selection  library_strand  \\\n",
       "case_id                                                                  \n",
       "5705efcc-b48f-435c-8a28-9e0d407ecadd    rRNA Depletion  First_Stranded   \n",
       "5705efcc-b48f-435c-8a28-9e0d407ecadd    rRNA Depletion             NaN   \n",
       "763e0702-8379-4b5e-95d1-a84f412c51e7    rRNA Depletion  First_Stranded   \n",
       "763e0702-8379-4b5e-95d1-a84f412c51e7    rRNA Depletion  First_Stranded   \n",
       "763e0702-8379-4b5e-95d1-a84f412c51e7    rRNA Depletion  First_Stranded   \n",
       "\n",
       "                                     library_strategy  size_selection_range  \\\n",
       "case_id                                                                       \n",
       "5705efcc-b48f-435c-8a28-9e0d407ecadd          RNA-Seq                 308.0   \n",
       "5705efcc-b48f-435c-8a28-9e0d407ecadd          RNA-Seq                   NaN   \n",
       "763e0702-8379-4b5e-95d1-a84f412c51e7          RNA-Seq                 342.0   \n",
       "763e0702-8379-4b5e-95d1-a84f412c51e7          RNA-Seq                 325.0   \n",
       "763e0702-8379-4b5e-95d1-a84f412c51e7          RNA-Seq                 314.0   \n",
       "\n",
       "                                      spike_ins_concentration  \\\n",
       "case_id                                                         \n",
       "5705efcc-b48f-435c-8a28-9e0d407ecadd                      1.0   \n",
       "5705efcc-b48f-435c-8a28-9e0d407ecadd                      NaN   \n",
       "763e0702-8379-4b5e-95d1-a84f412c51e7                      1.0   \n",
       "763e0702-8379-4b5e-95d1-a84f412c51e7                      1.0   \n",
       "763e0702-8379-4b5e-95d1-a84f412c51e7                      1.0   \n",
       "\n",
       "                                                            demographic_id  \\\n",
       "case_id                                                                      \n",
       "5705efcc-b48f-435c-8a28-9e0d407ecadd  f1ec7b5b-7f11-41e6-9fb4-a27fb2adc8f1   \n",
       "5705efcc-b48f-435c-8a28-9e0d407ecadd  f1ec7b5b-7f11-41e6-9fb4-a27fb2adc8f1   \n",
       "763e0702-8379-4b5e-95d1-a84f412c51e7  2cb2a0b4-acd0-4529-b7ed-deaf1aa119c6   \n",
       "763e0702-8379-4b5e-95d1-a84f412c51e7  2cb2a0b4-acd0-4529-b7ed-deaf1aa119c6   \n",
       "763e0702-8379-4b5e-95d1-a84f412c51e7  2cb2a0b4-acd0-4529-b7ed-deaf1aa119c6   \n",
       "\n",
       "                                                              diagnosis_id  \\\n",
       "case_id                                                                      \n",
       "5705efcc-b48f-435c-8a28-9e0d407ecadd  c7f325cd-98a6-4996-825e-1c23b86e1a22   \n",
       "5705efcc-b48f-435c-8a28-9e0d407ecadd  c7f325cd-98a6-4996-825e-1c23b86e1a22   \n",
       "763e0702-8379-4b5e-95d1-a84f412c51e7  5e74687f-b68b-4891-9a20-1a68826ca706   \n",
       "763e0702-8379-4b5e-95d1-a84f412c51e7  5e74687f-b68b-4891-9a20-1a68826ca706   \n",
       "763e0702-8379-4b5e-95d1-a84f412c51e7  5e74687f-b68b-4891-9a20-1a68826ca706   \n",
       "\n",
       "                                      batch_id index_date cause_of_death  \\\n",
       "case_id                                                                    \n",
       "5705efcc-b48f-435c-8a28-9e0d407ecadd       2.0  Diagnosis            NaN   \n",
       "5705efcc-b48f-435c-8a28-9e0d407ecadd       2.0  Diagnosis            NaN   \n",
       "763e0702-8379-4b5e-95d1-a84f412c51e7       2.0  Diagnosis            NaN   \n",
       "763e0702-8379-4b5e-95d1-a84f412c51e7       2.0  Diagnosis            NaN   \n",
       "763e0702-8379-4b5e-95d1-a84f412c51e7       2.0  Diagnosis            NaN   \n",
       "\n",
       "                                      days_to_birth  days_to_death  \\\n",
       "case_id                                                              \n",
       "5705efcc-b48f-435c-8a28-9e0d407ecadd       -22142.0            NaN   \n",
       "5705efcc-b48f-435c-8a28-9e0d407ecadd       -22142.0            NaN   \n",
       "763e0702-8379-4b5e-95d1-a84f412c51e7       -22179.0            NaN   \n",
       "763e0702-8379-4b5e-95d1-a84f412c51e7       -22179.0            NaN   \n",
       "763e0702-8379-4b5e-95d1-a84f412c51e7       -22179.0            NaN   \n",
       "\n",
       "                                                   ethnicity  gender   race  \\\n",
       "case_id                                                                       \n",
       "5705efcc-b48f-435c-8a28-9e0d407ecadd  not hispanic or latino  female  white   \n",
       "5705efcc-b48f-435c-8a28-9e0d407ecadd  not hispanic or latino  female  white   \n",
       "763e0702-8379-4b5e-95d1-a84f412c51e7  not hispanic or latino  female  white   \n",
       "763e0702-8379-4b5e-95d1-a84f412c51e7  not hispanic or latino  female  white   \n",
       "763e0702-8379-4b5e-95d1-a84f412c51e7  not hispanic or latino  female  white   \n",
       "\n",
       "                                     vital_status  adrenal_hormone  \\\n",
       "case_id                                                              \n",
       "5705efcc-b48f-435c-8a28-9e0d407ecadd        Alive              NaN   \n",
       "5705efcc-b48f-435c-8a28-9e0d407ecadd        Alive              NaN   \n",
       "763e0702-8379-4b5e-95d1-a84f412c51e7        Alive              NaN   \n",
       "763e0702-8379-4b5e-95d1-a84f412c51e7        Alive              NaN   \n",
       "763e0702-8379-4b5e-95d1-a84f412c51e7        Alive              NaN   \n",
       "\n",
       "                                      age_at_diagnosis ajcc_clinical_m  \\\n",
       "case_id                                                                  \n",
       "5705efcc-b48f-435c-8a28-9e0d407ecadd           22142.0              M0   \n",
       "5705efcc-b48f-435c-8a28-9e0d407ecadd           22142.0              M0   \n",
       "763e0702-8379-4b5e-95d1-a84f412c51e7           22179.0         Unknown   \n",
       "763e0702-8379-4b5e-95d1-a84f412c51e7           22179.0         Unknown   \n",
       "763e0702-8379-4b5e-95d1-a84f412c51e7           22179.0         Unknown   \n",
       "\n",
       "                                      ajcc_clinical_n  ajcc_clinical_stage  \\\n",
       "case_id                                                                      \n",
       "5705efcc-b48f-435c-8a28-9e0d407ecadd              NaN                  NaN   \n",
       "5705efcc-b48f-435c-8a28-9e0d407ecadd              NaN                  NaN   \n",
       "763e0702-8379-4b5e-95d1-a84f412c51e7              NaN                  NaN   \n",
       "763e0702-8379-4b5e-95d1-a84f412c51e7              NaN                  NaN   \n",
       "763e0702-8379-4b5e-95d1-a84f412c51e7              NaN                  NaN   \n",
       "\n",
       "                                      ajcc_clinical_t ajcc_pathologic_m  \\\n",
       "case_id                                                                   \n",
       "5705efcc-b48f-435c-8a28-9e0d407ecadd              NaN           Unknown   \n",
       "5705efcc-b48f-435c-8a28-9e0d407ecadd              NaN           Unknown   \n",
       "763e0702-8379-4b5e-95d1-a84f412c51e7              NaN           Unknown   \n",
       "763e0702-8379-4b5e-95d1-a84f412c51e7              NaN           Unknown   \n",
       "763e0702-8379-4b5e-95d1-a84f412c51e7              NaN           Unknown   \n",
       "\n",
       "                                     ajcc_pathologic_n ajcc_pathologic_stage  \\\n",
       "case_id                                                                        \n",
       "5705efcc-b48f-435c-8a28-9e0d407ecadd                NX               Stage I   \n",
       "5705efcc-b48f-435c-8a28-9e0d407ecadd                NX               Stage I   \n",
       "763e0702-8379-4b5e-95d1-a84f412c51e7                NX              Stage II   \n",
       "763e0702-8379-4b5e-95d1-a84f412c51e7                NX              Stage II   \n",
       "763e0702-8379-4b5e-95d1-a84f412c51e7                NX              Stage II   \n",
       "\n",
       "                                     ajcc_pathologic_t  \\\n",
       "case_id                                                  \n",
       "5705efcc-b48f-435c-8a28-9e0d407ecadd               T1a   \n",
       "5705efcc-b48f-435c-8a28-9e0d407ecadd               T1a   \n",
       "763e0702-8379-4b5e-95d1-a84f412c51e7               T2b   \n",
       "763e0702-8379-4b5e-95d1-a84f412c51e7               T2b   \n",
       "763e0702-8379-4b5e-95d1-a84f412c51e7               T2b   \n",
       "\n",
       "                                     ajcc_staging_system_edition  \\\n",
       "case_id                                                            \n",
       "5705efcc-b48f-435c-8a28-9e0d407ecadd                         7th   \n",
       "5705efcc-b48f-435c-8a28-9e0d407ecadd                         7th   \n",
       "763e0702-8379-4b5e-95d1-a84f412c51e7                         7th   \n",
       "763e0702-8379-4b5e-95d1-a84f412c51e7                         7th   \n",
       "763e0702-8379-4b5e-95d1-a84f412c51e7                         7th   \n",
       "\n",
       "                                      ann_arbor_b_symptoms  \\\n",
       "case_id                                                      \n",
       "5705efcc-b48f-435c-8a28-9e0d407ecadd                   NaN   \n",
       "5705efcc-b48f-435c-8a28-9e0d407ecadd                   NaN   \n",
       "763e0702-8379-4b5e-95d1-a84f412c51e7                   NaN   \n",
       "763e0702-8379-4b5e-95d1-a84f412c51e7                   NaN   \n",
       "763e0702-8379-4b5e-95d1-a84f412c51e7                   NaN   \n",
       "\n",
       "                                      ann_arbor_b_symptoms_described  \\\n",
       "case_id                                                                \n",
       "5705efcc-b48f-435c-8a28-9e0d407ecadd                             NaN   \n",
       "5705efcc-b48f-435c-8a28-9e0d407ecadd                             NaN   \n",
       "763e0702-8379-4b5e-95d1-a84f412c51e7                             NaN   \n",
       "763e0702-8379-4b5e-95d1-a84f412c51e7                             NaN   \n",
       "763e0702-8379-4b5e-95d1-a84f412c51e7                             NaN   \n",
       "\n",
       "                                      ann_arbor_clinical_stage  \\\n",
       "case_id                                                          \n",
       "5705efcc-b48f-435c-8a28-9e0d407ecadd                       NaN   \n",
       "5705efcc-b48f-435c-8a28-9e0d407ecadd                       NaN   \n",
       "763e0702-8379-4b5e-95d1-a84f412c51e7                       NaN   \n",
       "763e0702-8379-4b5e-95d1-a84f412c51e7                       NaN   \n",
       "763e0702-8379-4b5e-95d1-a84f412c51e7                       NaN   \n",
       "\n",
       "                                      ann_arbor_extranodal_involvement  \\\n",
       "case_id                                                                  \n",
       "5705efcc-b48f-435c-8a28-9e0d407ecadd                               NaN   \n",
       "5705efcc-b48f-435c-8a28-9e0d407ecadd                               NaN   \n",
       "763e0702-8379-4b5e-95d1-a84f412c51e7                               NaN   \n",
       "763e0702-8379-4b5e-95d1-a84f412c51e7                               NaN   \n",
       "763e0702-8379-4b5e-95d1-a84f412c51e7                               NaN   \n",
       "\n",
       "                                      ann_arbor_pathologic_stage  \\\n",
       "case_id                                                            \n",
       "5705efcc-b48f-435c-8a28-9e0d407ecadd                         NaN   \n",
       "5705efcc-b48f-435c-8a28-9e0d407ecadd                         NaN   \n",
       "763e0702-8379-4b5e-95d1-a84f412c51e7                         NaN   \n",
       "763e0702-8379-4b5e-95d1-a84f412c51e7                         NaN   \n",
       "763e0702-8379-4b5e-95d1-a84f412c51e7                         NaN   \n",
       "\n",
       "                                      best_overall_response  \\\n",
       "case_id                                                       \n",
       "5705efcc-b48f-435c-8a28-9e0d407ecadd                    NaN   \n",
       "5705efcc-b48f-435c-8a28-9e0d407ecadd                    NaN   \n",
       "763e0702-8379-4b5e-95d1-a84f412c51e7                    NaN   \n",
       "763e0702-8379-4b5e-95d1-a84f412c51e7                    NaN   \n",
       "763e0702-8379-4b5e-95d1-a84f412c51e7                    NaN   \n",
       "\n",
       "                                      burkitt_lymphoma_clinical_variant  \\\n",
       "case_id                                                                   \n",
       "5705efcc-b48f-435c-8a28-9e0d407ecadd                                NaN   \n",
       "5705efcc-b48f-435c-8a28-9e0d407ecadd                                NaN   \n",
       "763e0702-8379-4b5e-95d1-a84f412c51e7                                NaN   \n",
       "763e0702-8379-4b5e-95d1-a84f412c51e7                                NaN   \n",
       "763e0702-8379-4b5e-95d1-a84f412c51e7                                NaN   \n",
       "\n",
       "                                      child_pugh_classification  \\\n",
       "case_id                                                           \n",
       "5705efcc-b48f-435c-8a28-9e0d407ecadd                        NaN   \n",
       "5705efcc-b48f-435c-8a28-9e0d407ecadd                        NaN   \n",
       "763e0702-8379-4b5e-95d1-a84f412c51e7                        NaN   \n",
       "763e0702-8379-4b5e-95d1-a84f412c51e7                        NaN   \n",
       "763e0702-8379-4b5e-95d1-a84f412c51e7                        NaN   \n",
       "\n",
       "                                     classification_of_tumor  cog_liver_stage  \\\n",
       "case_id                                                                         \n",
       "5705efcc-b48f-435c-8a28-9e0d407ecadd                     NaN              NaN   \n",
       "5705efcc-b48f-435c-8a28-9e0d407ecadd                     NaN              NaN   \n",
       "763e0702-8379-4b5e-95d1-a84f412c51e7                     NaN              NaN   \n",
       "763e0702-8379-4b5e-95d1-a84f412c51e7                     NaN              NaN   \n",
       "763e0702-8379-4b5e-95d1-a84f412c51e7                     NaN              NaN   \n",
       "\n",
       "                                      cog_neuroblastoma_risk_group  \\\n",
       "case_id                                                              \n",
       "5705efcc-b48f-435c-8a28-9e0d407ecadd                           NaN   \n",
       "5705efcc-b48f-435c-8a28-9e0d407ecadd                           NaN   \n",
       "763e0702-8379-4b5e-95d1-a84f412c51e7                           NaN   \n",
       "763e0702-8379-4b5e-95d1-a84f412c51e7                           NaN   \n",
       "763e0702-8379-4b5e-95d1-a84f412c51e7                           NaN   \n",
       "\n",
       "                                      cog_renal_stage  \\\n",
       "case_id                                                 \n",
       "5705efcc-b48f-435c-8a28-9e0d407ecadd              NaN   \n",
       "5705efcc-b48f-435c-8a28-9e0d407ecadd              NaN   \n",
       "763e0702-8379-4b5e-95d1-a84f412c51e7              NaN   \n",
       "763e0702-8379-4b5e-95d1-a84f412c51e7              NaN   \n",
       "763e0702-8379-4b5e-95d1-a84f412c51e7              NaN   \n",
       "\n",
       "                                      cog_rhabdomyosarcoma_risk_group  \\\n",
       "case_id                                                                 \n",
       "5705efcc-b48f-435c-8a28-9e0d407ecadd                              NaN   \n",
       "5705efcc-b48f-435c-8a28-9e0d407ecadd                              NaN   \n",
       "763e0702-8379-4b5e-95d1-a84f412c51e7                              NaN   \n",
       "763e0702-8379-4b5e-95d1-a84f412c51e7                              NaN   \n",
       "763e0702-8379-4b5e-95d1-a84f412c51e7                              NaN   \n",
       "\n",
       "                                                      created_datetime  \\\n",
       "case_id                                                                  \n",
       "5705efcc-b48f-435c-8a28-9e0d407ecadd  2018-05-17T23:34:39.302537-05:00   \n",
       "5705efcc-b48f-435c-8a28-9e0d407ecadd  2018-05-17T23:34:39.302537-05:00   \n",
       "763e0702-8379-4b5e-95d1-a84f412c51e7  2018-05-17T14:05:59.588773-05:00   \n",
       "763e0702-8379-4b5e-95d1-a84f412c51e7  2018-05-17T14:05:59.588773-05:00   \n",
       "763e0702-8379-4b5e-95d1-a84f412c51e7  2018-05-17T14:05:59.588773-05:00   \n",
       "\n",
       "                                      days_to_best_overall_response  \\\n",
       "case_id                                                               \n",
       "5705efcc-b48f-435c-8a28-9e0d407ecadd                            NaN   \n",
       "5705efcc-b48f-435c-8a28-9e0d407ecadd                            NaN   \n",
       "763e0702-8379-4b5e-95d1-a84f412c51e7                            NaN   \n",
       "763e0702-8379-4b5e-95d1-a84f412c51e7                            NaN   \n",
       "763e0702-8379-4b5e-95d1-a84f412c51e7                            NaN   \n",
       "\n",
       "                                      days_to_diagnosis  \\\n",
       "case_id                                                   \n",
       "5705efcc-b48f-435c-8a28-9e0d407ecadd                NaN   \n",
       "5705efcc-b48f-435c-8a28-9e0d407ecadd                NaN   \n",
       "763e0702-8379-4b5e-95d1-a84f412c51e7                NaN   \n",
       "763e0702-8379-4b5e-95d1-a84f412c51e7                NaN   \n",
       "763e0702-8379-4b5e-95d1-a84f412c51e7                NaN   \n",
       "\n",
       "                                      days_to_last_follow_up  \\\n",
       "case_id                                                        \n",
       "5705efcc-b48f-435c-8a28-9e0d407ecadd                   823.0   \n",
       "5705efcc-b48f-435c-8a28-9e0d407ecadd                   823.0   \n",
       "763e0702-8379-4b5e-95d1-a84f412c51e7                  1785.0   \n",
       "763e0702-8379-4b5e-95d1-a84f412c51e7                  1785.0   \n",
       "763e0702-8379-4b5e-95d1-a84f412c51e7                  1785.0   \n",
       "\n",
       "                                      days_to_last_known_disease_status  \\\n",
       "case_id                                                                   \n",
       "5705efcc-b48f-435c-8a28-9e0d407ecadd                              823.0   \n",
       "5705efcc-b48f-435c-8a28-9e0d407ecadd                              823.0   \n",
       "763e0702-8379-4b5e-95d1-a84f412c51e7                             1785.0   \n",
       "763e0702-8379-4b5e-95d1-a84f412c51e7                             1785.0   \n",
       "763e0702-8379-4b5e-95d1-a84f412c51e7                             1785.0   \n",
       "\n",
       "                                      days_to_recurrence  \\\n",
       "case_id                                                    \n",
       "5705efcc-b48f-435c-8a28-9e0d407ecadd                 NaN   \n",
       "5705efcc-b48f-435c-8a28-9e0d407ecadd                 NaN   \n",
       "763e0702-8379-4b5e-95d1-a84f412c51e7                 NaN   \n",
       "763e0702-8379-4b5e-95d1-a84f412c51e7                 NaN   \n",
       "763e0702-8379-4b5e-95d1-a84f412c51e7                 NaN   \n",
       "\n",
       "                                     diagnosis_is_primary_disease  \\\n",
       "case_id                                                             \n",
       "5705efcc-b48f-435c-8a28-9e0d407ecadd                         True   \n",
       "5705efcc-b48f-435c-8a28-9e0d407ecadd                         True   \n",
       "763e0702-8379-4b5e-95d1-a84f412c51e7                         True   \n",
       "763e0702-8379-4b5e-95d1-a84f412c51e7                         True   \n",
       "763e0702-8379-4b5e-95d1-a84f412c51e7                         True   \n",
       "\n",
       "                                      eln_risk_classification  \\\n",
       "case_id                                                         \n",
       "5705efcc-b48f-435c-8a28-9e0d407ecadd                      NaN   \n",
       "5705efcc-b48f-435c-8a28-9e0d407ecadd                      NaN   \n",
       "763e0702-8379-4b5e-95d1-a84f412c51e7                      NaN   \n",
       "763e0702-8379-4b5e-95d1-a84f412c51e7                      NaN   \n",
       "763e0702-8379-4b5e-95d1-a84f412c51e7                      NaN   \n",
       "\n",
       "                                      enneking_msts_grade  \\\n",
       "case_id                                                     \n",
       "5705efcc-b48f-435c-8a28-9e0d407ecadd                  NaN   \n",
       "5705efcc-b48f-435c-8a28-9e0d407ecadd                  NaN   \n",
       "763e0702-8379-4b5e-95d1-a84f412c51e7                  NaN   \n",
       "763e0702-8379-4b5e-95d1-a84f412c51e7                  NaN   \n",
       "763e0702-8379-4b5e-95d1-a84f412c51e7                  NaN   \n",
       "\n",
       "                                      enneking_msts_metastasis  \\\n",
       "case_id                                                          \n",
       "5705efcc-b48f-435c-8a28-9e0d407ecadd                       NaN   \n",
       "5705efcc-b48f-435c-8a28-9e0d407ecadd                       NaN   \n",
       "763e0702-8379-4b5e-95d1-a84f412c51e7                       NaN   \n",
       "763e0702-8379-4b5e-95d1-a84f412c51e7                       NaN   \n",
       "763e0702-8379-4b5e-95d1-a84f412c51e7                       NaN   \n",
       "\n",
       "                                      enneking_msts_stage  \\\n",
       "case_id                                                     \n",
       "5705efcc-b48f-435c-8a28-9e0d407ecadd                  NaN   \n",
       "5705efcc-b48f-435c-8a28-9e0d407ecadd                  NaN   \n",
       "763e0702-8379-4b5e-95d1-a84f412c51e7                  NaN   \n",
       "763e0702-8379-4b5e-95d1-a84f412c51e7                  NaN   \n",
       "763e0702-8379-4b5e-95d1-a84f412c51e7                  NaN   \n",
       "\n",
       "                                      enneking_msts_tumor_site  \\\n",
       "case_id                                                          \n",
       "5705efcc-b48f-435c-8a28-9e0d407ecadd                       NaN   \n",
       "5705efcc-b48f-435c-8a28-9e0d407ecadd                       NaN   \n",
       "763e0702-8379-4b5e-95d1-a84f412c51e7                       NaN   \n",
       "763e0702-8379-4b5e-95d1-a84f412c51e7                       NaN   \n",
       "763e0702-8379-4b5e-95d1-a84f412c51e7                       NaN   \n",
       "\n",
       "                                      esophageal_columnar_dysplasia_degree  \\\n",
       "case_id                                                                      \n",
       "5705efcc-b48f-435c-8a28-9e0d407ecadd                                   NaN   \n",
       "5705efcc-b48f-435c-8a28-9e0d407ecadd                                   NaN   \n",
       "763e0702-8379-4b5e-95d1-a84f412c51e7                                   NaN   \n",
       "763e0702-8379-4b5e-95d1-a84f412c51e7                                   NaN   \n",
       "763e0702-8379-4b5e-95d1-a84f412c51e7                                   NaN   \n",
       "\n",
       "                                      esophageal_columnar_metaplasia_present  \\\n",
       "case_id                                                                        \n",
       "5705efcc-b48f-435c-8a28-9e0d407ecadd                                     NaN   \n",
       "5705efcc-b48f-435c-8a28-9e0d407ecadd                                     NaN   \n",
       "763e0702-8379-4b5e-95d1-a84f412c51e7                                     NaN   \n",
       "763e0702-8379-4b5e-95d1-a84f412c51e7                                     NaN   \n",
       "763e0702-8379-4b5e-95d1-a84f412c51e7                                     NaN   \n",
       "\n",
       "                                     figo_stage  figo_staging_edition_year  \\\n",
       "case_id                                                                      \n",
       "5705efcc-b48f-435c-8a28-9e0d407ecadd    Stage I                        NaN   \n",
       "5705efcc-b48f-435c-8a28-9e0d407ecadd    Stage I                        NaN   \n",
       "763e0702-8379-4b5e-95d1-a84f412c51e7        NaN                        NaN   \n",
       "763e0702-8379-4b5e-95d1-a84f412c51e7        NaN                        NaN   \n",
       "763e0702-8379-4b5e-95d1-a84f412c51e7        NaN                        NaN   \n",
       "\n",
       "                                      first_symptom_prior_to_diagnosis  \\\n",
       "case_id                                                                  \n",
       "5705efcc-b48f-435c-8a28-9e0d407ecadd                               NaN   \n",
       "5705efcc-b48f-435c-8a28-9e0d407ecadd                               NaN   \n",
       "763e0702-8379-4b5e-95d1-a84f412c51e7                               NaN   \n",
       "763e0702-8379-4b5e-95d1-a84f412c51e7                               NaN   \n",
       "763e0702-8379-4b5e-95d1-a84f412c51e7                               NaN   \n",
       "\n",
       "                                      gastric_esophageal_junction_involvement  \\\n",
       "case_id                                                                         \n",
       "5705efcc-b48f-435c-8a28-9e0d407ecadd                                      NaN   \n",
       "5705efcc-b48f-435c-8a28-9e0d407ecadd                                      NaN   \n",
       "763e0702-8379-4b5e-95d1-a84f412c51e7                                      NaN   \n",
       "763e0702-8379-4b5e-95d1-a84f412c51e7                                      NaN   \n",
       "763e0702-8379-4b5e-95d1-a84f412c51e7                                      NaN   \n",
       "\n",
       "                                      gleason_grade_group  \\\n",
       "case_id                                                     \n",
       "5705efcc-b48f-435c-8a28-9e0d407ecadd                  NaN   \n",
       "5705efcc-b48f-435c-8a28-9e0d407ecadd                  NaN   \n",
       "763e0702-8379-4b5e-95d1-a84f412c51e7                  NaN   \n",
       "763e0702-8379-4b5e-95d1-a84f412c51e7                  NaN   \n",
       "763e0702-8379-4b5e-95d1-a84f412c51e7                  NaN   \n",
       "\n",
       "                                      gleason_grade_tertiary  \\\n",
       "case_id                                                        \n",
       "5705efcc-b48f-435c-8a28-9e0d407ecadd                     NaN   \n",
       "5705efcc-b48f-435c-8a28-9e0d407ecadd                     NaN   \n",
       "763e0702-8379-4b5e-95d1-a84f412c51e7                     NaN   \n",
       "763e0702-8379-4b5e-95d1-a84f412c51e7                     NaN   \n",
       "763e0702-8379-4b5e-95d1-a84f412c51e7                     NaN   \n",
       "\n",
       "                                      gleason_patterns_percent  \\\n",
       "case_id                                                          \n",
       "5705efcc-b48f-435c-8a28-9e0d407ecadd                       NaN   \n",
       "5705efcc-b48f-435c-8a28-9e0d407ecadd                       NaN   \n",
       "763e0702-8379-4b5e-95d1-a84f412c51e7                       NaN   \n",
       "763e0702-8379-4b5e-95d1-a84f412c51e7                       NaN   \n",
       "763e0702-8379-4b5e-95d1-a84f412c51e7                       NaN   \n",
       "\n",
       "                                      goblet_cells_columnar_mucosa_present  \\\n",
       "case_id                                                                      \n",
       "5705efcc-b48f-435c-8a28-9e0d407ecadd                                   NaN   \n",
       "5705efcc-b48f-435c-8a28-9e0d407ecadd                                   NaN   \n",
       "763e0702-8379-4b5e-95d1-a84f412c51e7                                   NaN   \n",
       "763e0702-8379-4b5e-95d1-a84f412c51e7                                   NaN   \n",
       "763e0702-8379-4b5e-95d1-a84f412c51e7                                   NaN   \n",
       "\n",
       "                                      icd_10_code  igcccg_stage  inpc_grade  \\\n",
       "case_id                                                                       \n",
       "5705efcc-b48f-435c-8a28-9e0d407ecadd          NaN           NaN         NaN   \n",
       "5705efcc-b48f-435c-8a28-9e0d407ecadd          NaN           NaN         NaN   \n",
       "763e0702-8379-4b5e-95d1-a84f412c51e7          NaN           NaN         NaN   \n",
       "763e0702-8379-4b5e-95d1-a84f412c51e7          NaN           NaN         NaN   \n",
       "763e0702-8379-4b5e-95d1-a84f412c51e7          NaN           NaN         NaN   \n",
       "\n",
       "                                      inpc_histologic_group  inrg_stage  \\\n",
       "case_id                                                                   \n",
       "5705efcc-b48f-435c-8a28-9e0d407ecadd                    NaN         NaN   \n",
       "5705efcc-b48f-435c-8a28-9e0d407ecadd                    NaN         NaN   \n",
       "763e0702-8379-4b5e-95d1-a84f412c51e7                    NaN         NaN   \n",
       "763e0702-8379-4b5e-95d1-a84f412c51e7                    NaN         NaN   \n",
       "763e0702-8379-4b5e-95d1-a84f412c51e7                    NaN         NaN   \n",
       "\n",
       "                                      inss_stage  \\\n",
       "case_id                                            \n",
       "5705efcc-b48f-435c-8a28-9e0d407ecadd         NaN   \n",
       "5705efcc-b48f-435c-8a28-9e0d407ecadd         NaN   \n",
       "763e0702-8379-4b5e-95d1-a84f412c51e7         NaN   \n",
       "763e0702-8379-4b5e-95d1-a84f412c51e7         NaN   \n",
       "763e0702-8379-4b5e-95d1-a84f412c51e7         NaN   \n",
       "\n",
       "                                      international_prognostic_index  \\\n",
       "case_id                                                                \n",
       "5705efcc-b48f-435c-8a28-9e0d407ecadd                             NaN   \n",
       "5705efcc-b48f-435c-8a28-9e0d407ecadd                             NaN   \n",
       "763e0702-8379-4b5e-95d1-a84f412c51e7                             NaN   \n",
       "763e0702-8379-4b5e-95d1-a84f412c51e7                             NaN   \n",
       "763e0702-8379-4b5e-95d1-a84f412c51e7                             NaN   \n",
       "\n",
       "                                      irs_group  irs_stage  \\\n",
       "case_id                                                      \n",
       "5705efcc-b48f-435c-8a28-9e0d407ecadd        NaN        NaN   \n",
       "5705efcc-b48f-435c-8a28-9e0d407ecadd        NaN        NaN   \n",
       "763e0702-8379-4b5e-95d1-a84f412c51e7        NaN        NaN   \n",
       "763e0702-8379-4b5e-95d1-a84f412c51e7        NaN        NaN   \n",
       "763e0702-8379-4b5e-95d1-a84f412c51e7        NaN        NaN   \n",
       "\n",
       "                                      ishak_fibrosis_score  iss_stage  \\\n",
       "case_id                                                                 \n",
       "5705efcc-b48f-435c-8a28-9e0d407ecadd                   NaN        NaN   \n",
       "5705efcc-b48f-435c-8a28-9e0d407ecadd                   NaN        NaN   \n",
       "763e0702-8379-4b5e-95d1-a84f412c51e7                   NaN        NaN   \n",
       "763e0702-8379-4b5e-95d1-a84f412c51e7                   NaN        NaN   \n",
       "763e0702-8379-4b5e-95d1-a84f412c51e7                   NaN        NaN   \n",
       "\n",
       "                                     last_known_disease_status  laterality  \\\n",
       "case_id                                                                      \n",
       "5705efcc-b48f-435c-8a28-9e0d407ecadd                Tumor free         NaN   \n",
       "5705efcc-b48f-435c-8a28-9e0d407ecadd                Tumor free         NaN   \n",
       "763e0702-8379-4b5e-95d1-a84f412c51e7                With tumor         NaN   \n",
       "763e0702-8379-4b5e-95d1-a84f412c51e7                With tumor         NaN   \n",
       "763e0702-8379-4b5e-95d1-a84f412c51e7                With tumor         NaN   \n",
       "\n",
       "                                      margin_distance  margins_involved_site  \\\n",
       "case_id                                                                        \n",
       "5705efcc-b48f-435c-8a28-9e0d407ecadd              NaN                    NaN   \n",
       "5705efcc-b48f-435c-8a28-9e0d407ecadd              NaN                    NaN   \n",
       "763e0702-8379-4b5e-95d1-a84f412c51e7              NaN                    NaN   \n",
       "763e0702-8379-4b5e-95d1-a84f412c51e7              NaN                    NaN   \n",
       "763e0702-8379-4b5e-95d1-a84f412c51e7              NaN                    NaN   \n",
       "\n",
       "                                      masaoka_stage  \\\n",
       "case_id                                               \n",
       "5705efcc-b48f-435c-8a28-9e0d407ecadd            NaN   \n",
       "5705efcc-b48f-435c-8a28-9e0d407ecadd            NaN   \n",
       "763e0702-8379-4b5e-95d1-a84f412c51e7            NaN   \n",
       "763e0702-8379-4b5e-95d1-a84f412c51e7            NaN   \n",
       "763e0702-8379-4b5e-95d1-a84f412c51e7            NaN   \n",
       "\n",
       "                                      medulloblastoma_molecular_classification  \\\n",
       "case_id                                                                          \n",
       "5705efcc-b48f-435c-8a28-9e0d407ecadd                                       NaN   \n",
       "5705efcc-b48f-435c-8a28-9e0d407ecadd                                       NaN   \n",
       "763e0702-8379-4b5e-95d1-a84f412c51e7                                       NaN   \n",
       "763e0702-8379-4b5e-95d1-a84f412c51e7                                       NaN   \n",
       "763e0702-8379-4b5e-95d1-a84f412c51e7                                       NaN   \n",
       "\n",
       "                                      metastasis_at_diagnosis  \\\n",
       "case_id                                                         \n",
       "5705efcc-b48f-435c-8a28-9e0d407ecadd                      NaN   \n",
       "5705efcc-b48f-435c-8a28-9e0d407ecadd                      NaN   \n",
       "763e0702-8379-4b5e-95d1-a84f412c51e7                      NaN   \n",
       "763e0702-8379-4b5e-95d1-a84f412c51e7                      NaN   \n",
       "763e0702-8379-4b5e-95d1-a84f412c51e7                      NaN   \n",
       "\n",
       "                                      metastasis_at_diagnosis_site  \\\n",
       "case_id                                                              \n",
       "5705efcc-b48f-435c-8a28-9e0d407ecadd                           NaN   \n",
       "5705efcc-b48f-435c-8a28-9e0d407ecadd                           NaN   \n",
       "763e0702-8379-4b5e-95d1-a84f412c51e7                           NaN   \n",
       "763e0702-8379-4b5e-95d1-a84f412c51e7                           NaN   \n",
       "763e0702-8379-4b5e-95d1-a84f412c51e7                           NaN   \n",
       "\n",
       "                                      method_of_diagnosis  \\\n",
       "case_id                                                     \n",
       "5705efcc-b48f-435c-8a28-9e0d407ecadd                  NaN   \n",
       "5705efcc-b48f-435c-8a28-9e0d407ecadd                  NaN   \n",
       "763e0702-8379-4b5e-95d1-a84f412c51e7                  NaN   \n",
       "763e0702-8379-4b5e-95d1-a84f412c51e7                  NaN   \n",
       "763e0702-8379-4b5e-95d1-a84f412c51e7                  NaN   \n",
       "\n",
       "                                      micropapillary_features  \\\n",
       "case_id                                                         \n",
       "5705efcc-b48f-435c-8a28-9e0d407ecadd                      NaN   \n",
       "5705efcc-b48f-435c-8a28-9e0d407ecadd                      NaN   \n",
       "763e0702-8379-4b5e-95d1-a84f412c51e7                      NaN   \n",
       "763e0702-8379-4b5e-95d1-a84f412c51e7                      NaN   \n",
       "763e0702-8379-4b5e-95d1-a84f412c51e7                      NaN   \n",
       "\n",
       "                                      mitosis_karyorrhexis_index  \\\n",
       "case_id                                                            \n",
       "5705efcc-b48f-435c-8a28-9e0d407ecadd                         NaN   \n",
       "5705efcc-b48f-435c-8a28-9e0d407ecadd                         NaN   \n",
       "763e0702-8379-4b5e-95d1-a84f412c51e7                         NaN   \n",
       "763e0702-8379-4b5e-95d1-a84f412c51e7                         NaN   \n",
       "763e0702-8379-4b5e-95d1-a84f412c51e7                         NaN   \n",
       "\n",
       "                                      mitotic_count morphology  \\\n",
       "case_id                                                          \n",
       "5705efcc-b48f-435c-8a28-9e0d407ecadd            NaN     8380/3   \n",
       "5705efcc-b48f-435c-8a28-9e0d407ecadd            NaN     8380/3   \n",
       "763e0702-8379-4b5e-95d1-a84f412c51e7            NaN     8312/3   \n",
       "763e0702-8379-4b5e-95d1-a84f412c51e7            NaN     8312/3   \n",
       "763e0702-8379-4b5e-95d1-a84f412c51e7            NaN     8312/3   \n",
       "\n",
       "                                      ovarian_specimen_status  \\\n",
       "case_id                                                         \n",
       "5705efcc-b48f-435c-8a28-9e0d407ecadd                      NaN   \n",
       "5705efcc-b48f-435c-8a28-9e0d407ecadd                      NaN   \n",
       "763e0702-8379-4b5e-95d1-a84f412c51e7                      NaN   \n",
       "763e0702-8379-4b5e-95d1-a84f412c51e7                      NaN   \n",
       "763e0702-8379-4b5e-95d1-a84f412c51e7                      NaN   \n",
       "\n",
       "                                      ovarian_surface_involvement  \\\n",
       "case_id                                                             \n",
       "5705efcc-b48f-435c-8a28-9e0d407ecadd                          NaN   \n",
       "5705efcc-b48f-435c-8a28-9e0d407ecadd                          NaN   \n",
       "763e0702-8379-4b5e-95d1-a84f412c51e7                          NaN   \n",
       "763e0702-8379-4b5e-95d1-a84f412c51e7                          NaN   \n",
       "763e0702-8379-4b5e-95d1-a84f412c51e7                          NaN   \n",
       "\n",
       "                                      papillary_renal_cell_type  \\\n",
       "case_id                                                           \n",
       "5705efcc-b48f-435c-8a28-9e0d407ecadd                        NaN   \n",
       "5705efcc-b48f-435c-8a28-9e0d407ecadd                        NaN   \n",
       "763e0702-8379-4b5e-95d1-a84f412c51e7                        NaN   \n",
       "763e0702-8379-4b5e-95d1-a84f412c51e7                        NaN   \n",
       "763e0702-8379-4b5e-95d1-a84f412c51e7                        NaN   \n",
       "\n",
       "                                      peritoneal_fluid_cytological_status  \\\n",
       "case_id                                                                     \n",
       "5705efcc-b48f-435c-8a28-9e0d407ecadd                                  NaN   \n",
       "5705efcc-b48f-435c-8a28-9e0d407ecadd                                  NaN   \n",
       "763e0702-8379-4b5e-95d1-a84f412c51e7                                  NaN   \n",
       "763e0702-8379-4b5e-95d1-a84f412c51e7                                  NaN   \n",
       "763e0702-8379-4b5e-95d1-a84f412c51e7                                  NaN   \n",
       "\n",
       "                                      pregnant_at_diagnosis  \\\n",
       "case_id                                                       \n",
       "5705efcc-b48f-435c-8a28-9e0d407ecadd                    NaN   \n",
       "5705efcc-b48f-435c-8a28-9e0d407ecadd                    NaN   \n",
       "763e0702-8379-4b5e-95d1-a84f412c51e7                    NaN   \n",
       "763e0702-8379-4b5e-95d1-a84f412c51e7                    NaN   \n",
       "763e0702-8379-4b5e-95d1-a84f412c51e7                    NaN   \n",
       "\n",
       "                                                     primary_diagnosis  \\\n",
       "case_id                                                                  \n",
       "5705efcc-b48f-435c-8a28-9e0d407ecadd  Endometrioid adenocarcinoma, NOS   \n",
       "5705efcc-b48f-435c-8a28-9e0d407ecadd  Endometrioid adenocarcinoma, NOS   \n",
       "763e0702-8379-4b5e-95d1-a84f412c51e7         Renal cell carcinoma, NOS   \n",
       "763e0702-8379-4b5e-95d1-a84f412c51e7         Renal cell carcinoma, NOS   \n",
       "763e0702-8379-4b5e-95d1-a84f412c51e7         Renal cell carcinoma, NOS   \n",
       "\n",
       "                                      primary_disease  primary_gleason_grade  \\\n",
       "case_id                                                                        \n",
       "5705efcc-b48f-435c-8a28-9e0d407ecadd              NaN                    NaN   \n",
       "5705efcc-b48f-435c-8a28-9e0d407ecadd              NaN                    NaN   \n",
       "763e0702-8379-4b5e-95d1-a84f412c51e7              NaN                    NaN   \n",
       "763e0702-8379-4b5e-95d1-a84f412c51e7              NaN                    NaN   \n",
       "763e0702-8379-4b5e-95d1-a84f412c51e7              NaN                    NaN   \n",
       "\n",
       "                                     prior_malignancy  prior_treatment  \\\n",
       "case_id                                                                  \n",
       "5705efcc-b48f-435c-8a28-9e0d407ecadd              NaN              NaN   \n",
       "5705efcc-b48f-435c-8a28-9e0d407ecadd              NaN              NaN   \n",
       "763e0702-8379-4b5e-95d1-a84f412c51e7              NaN              NaN   \n",
       "763e0702-8379-4b5e-95d1-a84f412c51e7              NaN              NaN   \n",
       "763e0702-8379-4b5e-95d1-a84f412c51e7              NaN              NaN   \n",
       "\n",
       "                                     progression_or_recurrence project_id.1  \\\n",
       "case_id                                                                       \n",
       "5705efcc-b48f-435c-8a28-9e0d407ecadd                        no      CPTAC-3   \n",
       "5705efcc-b48f-435c-8a28-9e0d407ecadd                        no      CPTAC-3   \n",
       "763e0702-8379-4b5e-95d1-a84f412c51e7                       yes      CPTAC-3   \n",
       "763e0702-8379-4b5e-95d1-a84f412c51e7                       yes      CPTAC-3   \n",
       "763e0702-8379-4b5e-95d1-a84f412c51e7                       yes      CPTAC-3   \n",
       "\n",
       "                                     residual_disease  \\\n",
       "case_id                                                 \n",
       "5705efcc-b48f-435c-8a28-9e0d407ecadd               R0   \n",
       "5705efcc-b48f-435c-8a28-9e0d407ecadd               R0   \n",
       "763e0702-8379-4b5e-95d1-a84f412c51e7               R0   \n",
       "763e0702-8379-4b5e-95d1-a84f412c51e7               R0   \n",
       "763e0702-8379-4b5e-95d1-a84f412c51e7               R0   \n",
       "\n",
       "                                      satellite_nodule_present  \\\n",
       "case_id                                                          \n",
       "5705efcc-b48f-435c-8a28-9e0d407ecadd                       NaN   \n",
       "5705efcc-b48f-435c-8a28-9e0d407ecadd                       NaN   \n",
       "763e0702-8379-4b5e-95d1-a84f412c51e7                       NaN   \n",
       "763e0702-8379-4b5e-95d1-a84f412c51e7                       NaN   \n",
       "763e0702-8379-4b5e-95d1-a84f412c51e7                       NaN   \n",
       "\n",
       "                                      secondary_gleason_grade  \\\n",
       "case_id                                                         \n",
       "5705efcc-b48f-435c-8a28-9e0d407ecadd                      NaN   \n",
       "5705efcc-b48f-435c-8a28-9e0d407ecadd                      NaN   \n",
       "763e0702-8379-4b5e-95d1-a84f412c51e7                      NaN   \n",
       "763e0702-8379-4b5e-95d1-a84f412c51e7                      NaN   \n",
       "763e0702-8379-4b5e-95d1-a84f412c51e7                      NaN   \n",
       "\n",
       "                                     site_of_resection_or_biopsy  \\\n",
       "case_id                                                            \n",
       "5705efcc-b48f-435c-8a28-9e0d407ecadd                Corpus uteri   \n",
       "5705efcc-b48f-435c-8a28-9e0d407ecadd                Corpus uteri   \n",
       "763e0702-8379-4b5e-95d1-a84f412c51e7                 Kidney, NOS   \n",
       "763e0702-8379-4b5e-95d1-a84f412c51e7                 Kidney, NOS   \n",
       "763e0702-8379-4b5e-95d1-a84f412c51e7                 Kidney, NOS   \n",
       "\n",
       "                                      sites_of_involvement    submitter_id  \\\n",
       "case_id                                                                      \n",
       "5705efcc-b48f-435c-8a28-9e0d407ecadd                   NaN  C3L-00137-DIAG   \n",
       "5705efcc-b48f-435c-8a28-9e0d407ecadd                   NaN  C3L-00137-DIAG   \n",
       "763e0702-8379-4b5e-95d1-a84f412c51e7                   NaN  C3L-00908-DIAG   \n",
       "763e0702-8379-4b5e-95d1-a84f412c51e7                   NaN  C3L-00908-DIAG   \n",
       "763e0702-8379-4b5e-95d1-a84f412c51e7                   NaN  C3L-00908-DIAG   \n",
       "\n",
       "                                      supratentorial_localization  \\\n",
       "case_id                                                             \n",
       "5705efcc-b48f-435c-8a28-9e0d407ecadd                          NaN   \n",
       "5705efcc-b48f-435c-8a28-9e0d407ecadd                          NaN   \n",
       "763e0702-8379-4b5e-95d1-a84f412c51e7                          NaN   \n",
       "763e0702-8379-4b5e-95d1-a84f412c51e7                          NaN   \n",
       "763e0702-8379-4b5e-95d1-a84f412c51e7                          NaN   \n",
       "\n",
       "                                      synchronous_malignancy  \\\n",
       "case_id                                                        \n",
       "5705efcc-b48f-435c-8a28-9e0d407ecadd                     NaN   \n",
       "5705efcc-b48f-435c-8a28-9e0d407ecadd                     NaN   \n",
       "763e0702-8379-4b5e-95d1-a84f412c51e7                     NaN   \n",
       "763e0702-8379-4b5e-95d1-a84f412c51e7                     NaN   \n",
       "763e0702-8379-4b5e-95d1-a84f412c51e7                     NaN   \n",
       "\n",
       "                                     tissue_or_organ_of_origin  \\\n",
       "case_id                                                          \n",
       "5705efcc-b48f-435c-8a28-9e0d407ecadd              Corpus uteri   \n",
       "5705efcc-b48f-435c-8a28-9e0d407ecadd              Corpus uteri   \n",
       "763e0702-8379-4b5e-95d1-a84f412c51e7               Kidney, NOS   \n",
       "763e0702-8379-4b5e-95d1-a84f412c51e7               Kidney, NOS   \n",
       "763e0702-8379-4b5e-95d1-a84f412c51e7               Kidney, NOS   \n",
       "\n",
       "                                      tumor_confined_to_organ_of_origin  \\\n",
       "case_id                                                                   \n",
       "5705efcc-b48f-435c-8a28-9e0d407ecadd                                NaN   \n",
       "5705efcc-b48f-435c-8a28-9e0d407ecadd                                NaN   \n",
       "763e0702-8379-4b5e-95d1-a84f412c51e7                                NaN   \n",
       "763e0702-8379-4b5e-95d1-a84f412c51e7                                NaN   \n",
       "763e0702-8379-4b5e-95d1-a84f412c51e7                                NaN   \n",
       "\n",
       "                                      tumor_depth tumor_focality tumor_grade  \\\n",
       "case_id                                                                        \n",
       "5705efcc-b48f-435c-8a28-9e0d407ecadd          NaN       Unifocal          G1   \n",
       "5705efcc-b48f-435c-8a28-9e0d407ecadd          NaN       Unifocal          G1   \n",
       "763e0702-8379-4b5e-95d1-a84f412c51e7          NaN       Unifocal          G3   \n",
       "763e0702-8379-4b5e-95d1-a84f412c51e7          NaN       Unifocal          G3   \n",
       "763e0702-8379-4b5e-95d1-a84f412c51e7          NaN       Unifocal          G3   \n",
       "\n",
       "                                      tumor_regression_grade  \\\n",
       "case_id                                                        \n",
       "5705efcc-b48f-435c-8a28-9e0d407ecadd                     NaN   \n",
       "5705efcc-b48f-435c-8a28-9e0d407ecadd                     NaN   \n",
       "763e0702-8379-4b5e-95d1-a84f412c51e7                     NaN   \n",
       "763e0702-8379-4b5e-95d1-a84f412c51e7                     NaN   \n",
       "763e0702-8379-4b5e-95d1-a84f412c51e7                     NaN   \n",
       "\n",
       "                                                      updated_datetime  \\\n",
       "case_id                                                                  \n",
       "5705efcc-b48f-435c-8a28-9e0d407ecadd  2021-09-22T14:36:32.037275-05:00   \n",
       "5705efcc-b48f-435c-8a28-9e0d407ecadd  2021-09-22T14:36:32.037275-05:00   \n",
       "763e0702-8379-4b5e-95d1-a84f412c51e7  2023-02-03T18:28:48.308091-06:00   \n",
       "763e0702-8379-4b5e-95d1-a84f412c51e7  2023-02-03T18:28:48.308091-06:00   \n",
       "763e0702-8379-4b5e-95d1-a84f412c51e7  2023-02-03T18:28:48.308091-06:00   \n",
       "\n",
       "                                      weiss_assessment_score  who_cns_grade  \\\n",
       "case_id                                                                       \n",
       "5705efcc-b48f-435c-8a28-9e0d407ecadd                     NaN            NaN   \n",
       "5705efcc-b48f-435c-8a28-9e0d407ecadd                     NaN            NaN   \n",
       "763e0702-8379-4b5e-95d1-a84f412c51e7                     NaN            NaN   \n",
       "763e0702-8379-4b5e-95d1-a84f412c51e7                     NaN            NaN   \n",
       "763e0702-8379-4b5e-95d1-a84f412c51e7                     NaN            NaN   \n",
       "\n",
       "                                      who_nte_grade  \\\n",
       "case_id                                               \n",
       "5705efcc-b48f-435c-8a28-9e0d407ecadd            NaN   \n",
       "5705efcc-b48f-435c-8a28-9e0d407ecadd            NaN   \n",
       "763e0702-8379-4b5e-95d1-a84f412c51e7            NaN   \n",
       "763e0702-8379-4b5e-95d1-a84f412c51e7            NaN   \n",
       "763e0702-8379-4b5e-95d1-a84f412c51e7            NaN   \n",
       "\n",
       "                                      wilms_tumor_histologic_subtype  \\\n",
       "case_id                                                                \n",
       "5705efcc-b48f-435c-8a28-9e0d407ecadd                             NaN   \n",
       "5705efcc-b48f-435c-8a28-9e0d407ecadd                             NaN   \n",
       "763e0702-8379-4b5e-95d1-a84f412c51e7                             NaN   \n",
       "763e0702-8379-4b5e-95d1-a84f412c51e7                             NaN   \n",
       "763e0702-8379-4b5e-95d1-a84f412c51e7                             NaN   \n",
       "\n",
       "                                      year_of_diagnosis  \\\n",
       "case_id                                                   \n",
       "5705efcc-b48f-435c-8a28-9e0d407ecadd             2016.0   \n",
       "5705efcc-b48f-435c-8a28-9e0d407ecadd             2016.0   \n",
       "763e0702-8379-4b5e-95d1-a84f412c51e7             2016.0   \n",
       "763e0702-8379-4b5e-95d1-a84f412c51e7             2016.0   \n",
       "763e0702-8379-4b5e-95d1-a84f412c51e7             2016.0   \n",
       "\n",
       "                                                      disease_type  \\\n",
       "case_id                                                              \n",
       "5705efcc-b48f-435c-8a28-9e0d407ecadd  Adenomas and Adenocarcinomas   \n",
       "5705efcc-b48f-435c-8a28-9e0d407ecadd  Adenomas and Adenocarcinomas   \n",
       "763e0702-8379-4b5e-95d1-a84f412c51e7  Adenomas and Adenocarcinomas   \n",
       "763e0702-8379-4b5e-95d1-a84f412c51e7  Adenomas and Adenocarcinomas   \n",
       "763e0702-8379-4b5e-95d1-a84f412c51e7  Adenomas and Adenocarcinomas   \n",
       "\n",
       "                                     primary_site project_id  \n",
       "case_id                                                       \n",
       "5705efcc-b48f-435c-8a28-9e0d407ecadd  Uterus, NOS    CPTAC-3  \n",
       "5705efcc-b48f-435c-8a28-9e0d407ecadd  Uterus, NOS    CPTAC-3  \n",
       "763e0702-8379-4b5e-95d1-a84f412c51e7       Kidney    CPTAC-3  \n",
       "763e0702-8379-4b5e-95d1-a84f412c51e7       Kidney    CPTAC-3  \n",
       "763e0702-8379-4b5e-95d1-a84f412c51e7       Kidney    CPTAC-3  "
      ]
     },
     "execution_count": 80,
     "metadata": {},
     "output_type": "execute_result"
    }
   ],
   "source": [
    "# import the metadata\n",
    "metadata = pd.read_csv('../../results/metadata.tsv', sep='\\t', index_col=0)\n",
    "# preview the dataframe\n",
    "metadata.head()"
   ]
  },
  {
   "cell_type": "code",
   "execution_count": 81,
   "metadata": {},
   "outputs": [],
   "source": [
    "# give the index column the name 'read_group_id'\n",
    "TPM_pca_df.index.name = 'read_group_id'\n",
    "# transform the index header of TPM_pca_df into a column\n",
    "TPM_pca_df.reset_index(inplace=True)"
   ]
  },
  {
   "cell_type": "code",
   "execution_count": 83,
   "metadata": {},
   "outputs": [
    {
     "data": {
      "text/html": [
       "<div>\n",
       "<style scoped>\n",
       "    .dataframe tbody tr th:only-of-type {\n",
       "        vertical-align: middle;\n",
       "    }\n",
       "\n",
       "    .dataframe tbody tr th {\n",
       "        vertical-align: top;\n",
       "    }\n",
       "\n",
       "    .dataframe thead th {\n",
       "        text-align: right;\n",
       "    }\n",
       "</style>\n",
       "<table border=\"1\" class=\"dataframe\">\n",
       "  <thead>\n",
       "    <tr style=\"text-align: right;\">\n",
       "      <th></th>\n",
       "      <th>read_group_id</th>\n",
       "      <th>PC1</th>\n",
       "      <th>PC2</th>\n",
       "      <th>PC3</th>\n",
       "    </tr>\n",
       "  </thead>\n",
       "  <tbody>\n",
       "    <tr>\n",
       "      <th>0</th>\n",
       "      <td>52aef68b-63de-46b1-bb88-fb11d875c803</td>\n",
       "      <td>-990.899027</td>\n",
       "      <td>253.856767</td>\n",
       "      <td>779.595577</td>\n",
       "    </tr>\n",
       "    <tr>\n",
       "      <th>1</th>\n",
       "      <td>98460c61-c4ef-43ff-b7ac-b5c1b7b0ae26</td>\n",
       "      <td>-350.295736</td>\n",
       "      <td>566.340550</td>\n",
       "      <td>-1081.627274</td>\n",
       "    </tr>\n",
       "    <tr>\n",
       "      <th>2</th>\n",
       "      <td>5810cc10-f53a-451a-8001-c68765e30565</td>\n",
       "      <td>4934.359389</td>\n",
       "      <td>-297.486593</td>\n",
       "      <td>-735.512843</td>\n",
       "    </tr>\n",
       "    <tr>\n",
       "      <th>3</th>\n",
       "      <td>2042bb7e-ff24-439d-b33c-70c15cc3d201</td>\n",
       "      <td>4734.320720</td>\n",
       "      <td>-933.215457</td>\n",
       "      <td>-221.813267</td>\n",
       "    </tr>\n",
       "    <tr>\n",
       "      <th>4</th>\n",
       "      <td>dba512d3-58c5-47ed-a3f5-ee3d81e0b0c9</td>\n",
       "      <td>-304.568836</td>\n",
       "      <td>-456.593663</td>\n",
       "      <td>659.383070</td>\n",
       "    </tr>\n",
       "  </tbody>\n",
       "</table>\n",
       "</div>"
      ],
      "text/plain": [
       "                          read_group_id          PC1         PC2          PC3\n",
       "0  52aef68b-63de-46b1-bb88-fb11d875c803  -990.899027  253.856767   779.595577\n",
       "1  98460c61-c4ef-43ff-b7ac-b5c1b7b0ae26  -350.295736  566.340550 -1081.627274\n",
       "2  5810cc10-f53a-451a-8001-c68765e30565  4934.359389 -297.486593  -735.512843\n",
       "3  2042bb7e-ff24-439d-b33c-70c15cc3d201  4734.320720 -933.215457  -221.813267\n",
       "4  dba512d3-58c5-47ed-a3f5-ee3d81e0b0c9  -304.568836 -456.593663   659.383070"
      ]
     },
     "execution_count": 83,
     "metadata": {},
     "output_type": "execute_result"
    }
   ],
   "source": [
    "# preview the dataframe\n",
    "TPM_pca_df.head()"
   ]
  },
  {
   "cell_type": "code",
   "execution_count": 84,
   "metadata": {},
   "outputs": [],
   "source": [
    "# take tissue_type, gender, race, age_at_diagnosis/365, ajcc_pathologic_stage, primary_diagnosis, morphology, tissue_or_organ_of_origin, tumor_focality, disease_type, primary_site from the metadata and merge it with the TPM_pca_df into a new dataframe called TPM_pre_cluster\n",
    "columns = ['read_group_id', 'tissue_type', 'gender', 'race', 'age_at_diagnosis', 'ajcc_pathologic_stage', 'primary_diagnosis', 'morphology', 'tissue_or_organ_of_origin', 'tumor_focality', 'disease_type', 'primary_site']\n",
    "\n",
    "# Create a new dataframe with selected columns from metadata\n",
    "selected_metadata = metadata[columns]\n",
    "\n",
    "# Merge selected_metadata with TPM_pca_df using the 'read_group_id' column\n",
    "TPM_pre_cluster = pd.merge(TPM_pca_df, selected_metadata, on='read_group_id')"
   ]
  },
  {
   "cell_type": "code",
   "execution_count": 85,
   "metadata": {},
   "outputs": [],
   "source": [
    "# divide age_at_diagnosis by 365 to get age_at_diagnosis in years\n",
    "TPM_pre_cluster['age_at_diagnosis'] = TPM_pre_cluster['age_at_diagnosis'] / 365"
   ]
  },
  {
   "cell_type": "code",
   "execution_count": 86,
   "metadata": {},
   "outputs": [
    {
     "data": {
      "text/html": [
       "<div>\n",
       "<style scoped>\n",
       "    .dataframe tbody tr th:only-of-type {\n",
       "        vertical-align: middle;\n",
       "    }\n",
       "\n",
       "    .dataframe tbody tr th {\n",
       "        vertical-align: top;\n",
       "    }\n",
       "\n",
       "    .dataframe thead th {\n",
       "        text-align: right;\n",
       "    }\n",
       "</style>\n",
       "<table border=\"1\" class=\"dataframe\">\n",
       "  <thead>\n",
       "    <tr style=\"text-align: right;\">\n",
       "      <th></th>\n",
       "      <th>read_group_id</th>\n",
       "      <th>PC1</th>\n",
       "      <th>PC2</th>\n",
       "      <th>PC3</th>\n",
       "      <th>tissue_type</th>\n",
       "      <th>gender</th>\n",
       "      <th>race</th>\n",
       "      <th>age_at_diagnosis</th>\n",
       "      <th>ajcc_pathologic_stage</th>\n",
       "      <th>primary_diagnosis</th>\n",
       "      <th>morphology</th>\n",
       "      <th>tissue_or_organ_of_origin</th>\n",
       "      <th>tumor_focality</th>\n",
       "      <th>disease_type</th>\n",
       "      <th>primary_site</th>\n",
       "    </tr>\n",
       "  </thead>\n",
       "  <tbody>\n",
       "    <tr>\n",
       "      <th>0</th>\n",
       "      <td>52aef68b-63de-46b1-bb88-fb11d875c803</td>\n",
       "      <td>-990.899027</td>\n",
       "      <td>253.856767</td>\n",
       "      <td>779.595577</td>\n",
       "      <td>Tumor</td>\n",
       "      <td>female</td>\n",
       "      <td>asian</td>\n",
       "      <td>39.980822</td>\n",
       "      <td>Not Reported</td>\n",
       "      <td>Glioblastoma</td>\n",
       "      <td>9440/3</td>\n",
       "      <td>Brain, NOS</td>\n",
       "      <td>NaN</td>\n",
       "      <td>Gliomas</td>\n",
       "      <td>Brain</td>\n",
       "    </tr>\n",
       "    <tr>\n",
       "      <th>1</th>\n",
       "      <td>98460c61-c4ef-43ff-b7ac-b5c1b7b0ae26</td>\n",
       "      <td>-350.295736</td>\n",
       "      <td>566.340550</td>\n",
       "      <td>-1081.627274</td>\n",
       "      <td>Tumor</td>\n",
       "      <td>male</td>\n",
       "      <td>white</td>\n",
       "      <td>65.978082</td>\n",
       "      <td>Stage IVA</td>\n",
       "      <td>Squamous cell carcinoma, NOS</td>\n",
       "      <td>8070/3</td>\n",
       "      <td>Tongue, NOS</td>\n",
       "      <td>Unifocal</td>\n",
       "      <td>Squamous Cell Neoplasms</td>\n",
       "      <td>Other and ill-defined sites</td>\n",
       "    </tr>\n",
       "    <tr>\n",
       "      <th>2</th>\n",
       "      <td>5810cc10-f53a-451a-8001-c68765e30565</td>\n",
       "      <td>4934.359389</td>\n",
       "      <td>-297.486593</td>\n",
       "      <td>-735.512843</td>\n",
       "      <td>Tumor</td>\n",
       "      <td>male</td>\n",
       "      <td>white</td>\n",
       "      <td>72.452055</td>\n",
       "      <td>Unknown</td>\n",
       "      <td>Squamous cell carcinoma, NOS</td>\n",
       "      <td>8070/3</td>\n",
       "      <td>Larynx, NOS</td>\n",
       "      <td>Unifocal</td>\n",
       "      <td>Squamous Cell Neoplasms</td>\n",
       "      <td>Other and ill-defined sites</td>\n",
       "    </tr>\n",
       "    <tr>\n",
       "      <th>3</th>\n",
       "      <td>2042bb7e-ff24-439d-b33c-70c15cc3d201</td>\n",
       "      <td>4734.320720</td>\n",
       "      <td>-933.215457</td>\n",
       "      <td>-221.813267</td>\n",
       "      <td>Tumor</td>\n",
       "      <td>female</td>\n",
       "      <td>white</td>\n",
       "      <td>42.550685</td>\n",
       "      <td>Stage I</td>\n",
       "      <td>Endometrioid adenocarcinoma, NOS</td>\n",
       "      <td>8380/3</td>\n",
       "      <td>Endometrium</td>\n",
       "      <td>Unifocal</td>\n",
       "      <td>Adenomas and Adenocarcinomas</td>\n",
       "      <td>Uterus, NOS</td>\n",
       "    </tr>\n",
       "    <tr>\n",
       "      <th>4</th>\n",
       "      <td>dba512d3-58c5-47ed-a3f5-ee3d81e0b0c9</td>\n",
       "      <td>-304.568836</td>\n",
       "      <td>-456.593663</td>\n",
       "      <td>659.383070</td>\n",
       "      <td>Normal</td>\n",
       "      <td>female</td>\n",
       "      <td>white</td>\n",
       "      <td>39.065753</td>\n",
       "      <td>Stage I</td>\n",
       "      <td>Endometrioid adenocarcinoma, NOS</td>\n",
       "      <td>8380/3</td>\n",
       "      <td>Endometrium</td>\n",
       "      <td>Unifocal</td>\n",
       "      <td>Adenomas and Adenocarcinomas</td>\n",
       "      <td>Uterus, NOS</td>\n",
       "    </tr>\n",
       "  </tbody>\n",
       "</table>\n",
       "</div>"
      ],
      "text/plain": [
       "                          read_group_id          PC1         PC2          PC3  \\\n",
       "0  52aef68b-63de-46b1-bb88-fb11d875c803  -990.899027  253.856767   779.595577   \n",
       "1  98460c61-c4ef-43ff-b7ac-b5c1b7b0ae26  -350.295736  566.340550 -1081.627274   \n",
       "2  5810cc10-f53a-451a-8001-c68765e30565  4934.359389 -297.486593  -735.512843   \n",
       "3  2042bb7e-ff24-439d-b33c-70c15cc3d201  4734.320720 -933.215457  -221.813267   \n",
       "4  dba512d3-58c5-47ed-a3f5-ee3d81e0b0c9  -304.568836 -456.593663   659.383070   \n",
       "\n",
       "  tissue_type  gender   race  age_at_diagnosis ajcc_pathologic_stage  \\\n",
       "0       Tumor  female  asian         39.980822          Not Reported   \n",
       "1       Tumor    male  white         65.978082             Stage IVA   \n",
       "2       Tumor    male  white         72.452055               Unknown   \n",
       "3       Tumor  female  white         42.550685               Stage I   \n",
       "4      Normal  female  white         39.065753               Stage I   \n",
       "\n",
       "                  primary_diagnosis morphology tissue_or_organ_of_origin  \\\n",
       "0                      Glioblastoma     9440/3                Brain, NOS   \n",
       "1      Squamous cell carcinoma, NOS     8070/3               Tongue, NOS   \n",
       "2      Squamous cell carcinoma, NOS     8070/3               Larynx, NOS   \n",
       "3  Endometrioid adenocarcinoma, NOS     8380/3               Endometrium   \n",
       "4  Endometrioid adenocarcinoma, NOS     8380/3               Endometrium   \n",
       "\n",
       "  tumor_focality                  disease_type                 primary_site  \n",
       "0            NaN                       Gliomas                        Brain  \n",
       "1       Unifocal       Squamous Cell Neoplasms  Other and ill-defined sites  \n",
       "2       Unifocal       Squamous Cell Neoplasms  Other and ill-defined sites  \n",
       "3       Unifocal  Adenomas and Adenocarcinomas                  Uterus, NOS  \n",
       "4       Unifocal  Adenomas and Adenocarcinomas                  Uterus, NOS  "
      ]
     },
     "execution_count": 86,
     "metadata": {},
     "output_type": "execute_result"
    }
   ],
   "source": [
    "# preview the dataframe\n",
    "TPM_pre_cluster.head()"
   ]
  },
  {
   "cell_type": "code",
   "execution_count": 87,
   "metadata": {},
   "outputs": [],
   "source": [
    "# remove read_group_id column\n",
    "TPM_pre_cluster.drop('read_group_id', axis=1, inplace=True)"
   ]
  },
  {
   "cell_type": "code",
   "execution_count": 89,
   "metadata": {},
   "outputs": [
    {
     "name": "stderr",
     "output_type": "stream",
     "text": [
      "/Users/worker/anaconda3/lib/python3.10/site-packages/sklearn/cluster/_kmeans.py:870: FutureWarning:\n",
      "\n",
      "The default value of `n_init` will change from 10 to 'auto' in 1.4. Set the value of `n_init` explicitly to suppress the warning\n",
      "\n"
     ]
    }
   ],
   "source": [
    "# do k-means clustering on the pre-clustered dataframe\n",
    "from sklearn.cluster import KMeans\n",
    "kmeans = KMeans(n_clusters=5, random_state=0).fit(TPM_pre_cluster.iloc[:, :3])\n",
    "\n",
    "# add the cluster labels to the pre-clustered dataframe\n",
    "TPM_pre_cluster['cluster'] = kmeans.labels_\n",
    "\n",
    "# use plotly to create a 3d scatterplot\n",
    "fig = px.scatter_3d(TPM_pre_cluster, x='PC1', y='PC2', z='PC3', color='cluster', title='PCA of TPM values')"
   ]
  }
 ],
 "metadata": {
  "kernelspec": {
   "display_name": "base",
   "language": "python",
   "name": "python3"
  },
  "language_info": {
   "codemirror_mode": {
    "name": "ipython",
    "version": 3
   },
   "file_extension": ".py",
   "mimetype": "text/x-python",
   "name": "python",
   "nbconvert_exporter": "python",
   "pygments_lexer": "ipython3",
   "version": "3.10.9"
  }
 },
 "nbformat": 4,
 "nbformat_minor": 2
}
