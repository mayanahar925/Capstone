{
 "cells": [
  {
   "cell_type": "code",
   "execution_count": 1,
   "metadata": {},
   "outputs": [],
   "source": [
    "import pandas as pd\n",
    "import numpy as np\n",
    "import glob\n",
    "import gzip\n",
    "import shutil\n",
    "import os\n",
    "from tqdm import tqdm\n",
    "import plotly.express as px\n",
    "import sklearn\n",
    "\n",
    "# set infinite display\n",
    "pd.set_option('display.max_rows', None)\n",
    "pd.set_option('display.max_columns', None)\n",
    "pd.set_option('display.width', None)"
   ]
  },
  {
   "cell_type": "code",
   "execution_count": 2,
   "metadata": {},
   "outputs": [
    {
     "data": {
      "text/html": [
       "<div>\n",
       "<style scoped>\n",
       "    .dataframe tbody tr th:only-of-type {\n",
       "        vertical-align: middle;\n",
       "    }\n",
       "\n",
       "    .dataframe tbody tr th {\n",
       "        vertical-align: top;\n",
       "    }\n",
       "\n",
       "    .dataframe thead th {\n",
       "        text-align: right;\n",
       "    }\n",
       "</style>\n",
       "<table border=\"1\" class=\"dataframe\">\n",
       "  <thead>\n",
       "    <tr style=\"text-align: right;\">\n",
       "      <th></th>\n",
       "      <th>52aef68b-63de-46b1-bb88-fb11d875c803</th>\n",
       "      <th>98460c61-c4ef-43ff-b7ac-b5c1b7b0ae26</th>\n",
       "      <th>5810cc10-f53a-451a-8001-c68765e30565</th>\n",
       "      <th>2042bb7e-ff24-439d-b33c-70c15cc3d201</th>\n",
       "      <th>dba512d3-58c5-47ed-a3f5-ee3d81e0b0c9</th>\n",
       "      <th>4aa493c6-6177-4d64-add9-f0c0198e2530</th>\n",
       "      <th>53b68f98-1d15-42d5-b374-b2163590b3a8</th>\n",
       "      <th>1748692d-651e-4bb1-ab9e-8460d1c8b588</th>\n",
       "      <th>eb0750ce-bed8-41a0-b93c-d72d02c65303</th>\n",
       "      <th>cf4aa3e0-2256-42e3-a7cf-9ea08900b622</th>\n",
       "    </tr>\n",
       "    <tr>\n",
       "      <th>Name</th>\n",
       "      <th></th>\n",
       "      <th></th>\n",
       "      <th></th>\n",
       "      <th></th>\n",
       "      <th></th>\n",
       "      <th></th>\n",
       "      <th></th>\n",
       "      <th></th>\n",
       "      <th></th>\n",
       "      <th></th>\n",
       "    </tr>\n",
       "  </thead>\n",
       "  <tbody>\n",
       "    <tr>\n",
       "      <th>ENST00000456328.2</th>\n",
       "      <td>0.088142</td>\n",
       "      <td>0.000000</td>\n",
       "      <td>0.00000</td>\n",
       "      <td>0.000000</td>\n",
       "      <td>0.000000</td>\n",
       "      <td>0.000000</td>\n",
       "      <td>0.000000</td>\n",
       "      <td>0.000000</td>\n",
       "      <td>0.000000</td>\n",
       "      <td>0.147231</td>\n",
       "    </tr>\n",
       "    <tr>\n",
       "      <th>ENST00000450305.2</th>\n",
       "      <td>0.000000</td>\n",
       "      <td>0.000000</td>\n",
       "      <td>0.00000</td>\n",
       "      <td>0.000000</td>\n",
       "      <td>0.000000</td>\n",
       "      <td>0.000000</td>\n",
       "      <td>0.000000</td>\n",
       "      <td>0.000000</td>\n",
       "      <td>0.000000</td>\n",
       "      <td>0.000000</td>\n",
       "    </tr>\n",
       "    <tr>\n",
       "      <th>ENST00000488147.1</th>\n",
       "      <td>3.235923</td>\n",
       "      <td>2.721829</td>\n",
       "      <td>5.28927</td>\n",
       "      <td>13.728161</td>\n",
       "      <td>2.106743</td>\n",
       "      <td>6.399453</td>\n",
       "      <td>2.024906</td>\n",
       "      <td>1.171819</td>\n",
       "      <td>0.643958</td>\n",
       "      <td>4.371894</td>\n",
       "    </tr>\n",
       "    <tr>\n",
       "      <th>ENST00000619216.1</th>\n",
       "      <td>0.000000</td>\n",
       "      <td>0.000000</td>\n",
       "      <td>0.00000</td>\n",
       "      <td>0.000000</td>\n",
       "      <td>0.000000</td>\n",
       "      <td>0.000000</td>\n",
       "      <td>0.000000</td>\n",
       "      <td>0.000000</td>\n",
       "      <td>0.000000</td>\n",
       "      <td>0.000000</td>\n",
       "    </tr>\n",
       "    <tr>\n",
       "      <th>ENST00000473358.1</th>\n",
       "      <td>0.000000</td>\n",
       "      <td>0.000000</td>\n",
       "      <td>0.00000</td>\n",
       "      <td>0.000000</td>\n",
       "      <td>0.000000</td>\n",
       "      <td>0.000000</td>\n",
       "      <td>0.000000</td>\n",
       "      <td>0.000000</td>\n",
       "      <td>0.000000</td>\n",
       "      <td>0.000000</td>\n",
       "    </tr>\n",
       "  </tbody>\n",
       "</table>\n",
       "</div>"
      ],
      "text/plain": [
       "                   52aef68b-63de-46b1-bb88-fb11d875c803  \\\n",
       "Name                                                      \n",
       "ENST00000456328.2                              0.088142   \n",
       "ENST00000450305.2                              0.000000   \n",
       "ENST00000488147.1                              3.235923   \n",
       "ENST00000619216.1                              0.000000   \n",
       "ENST00000473358.1                              0.000000   \n",
       "\n",
       "                   98460c61-c4ef-43ff-b7ac-b5c1b7b0ae26  \\\n",
       "Name                                                      \n",
       "ENST00000456328.2                              0.000000   \n",
       "ENST00000450305.2                              0.000000   \n",
       "ENST00000488147.1                              2.721829   \n",
       "ENST00000619216.1                              0.000000   \n",
       "ENST00000473358.1                              0.000000   \n",
       "\n",
       "                   5810cc10-f53a-451a-8001-c68765e30565  \\\n",
       "Name                                                      \n",
       "ENST00000456328.2                               0.00000   \n",
       "ENST00000450305.2                               0.00000   \n",
       "ENST00000488147.1                               5.28927   \n",
       "ENST00000619216.1                               0.00000   \n",
       "ENST00000473358.1                               0.00000   \n",
       "\n",
       "                   2042bb7e-ff24-439d-b33c-70c15cc3d201  \\\n",
       "Name                                                      \n",
       "ENST00000456328.2                              0.000000   \n",
       "ENST00000450305.2                              0.000000   \n",
       "ENST00000488147.1                             13.728161   \n",
       "ENST00000619216.1                              0.000000   \n",
       "ENST00000473358.1                              0.000000   \n",
       "\n",
       "                   dba512d3-58c5-47ed-a3f5-ee3d81e0b0c9  \\\n",
       "Name                                                      \n",
       "ENST00000456328.2                              0.000000   \n",
       "ENST00000450305.2                              0.000000   \n",
       "ENST00000488147.1                              2.106743   \n",
       "ENST00000619216.1                              0.000000   \n",
       "ENST00000473358.1                              0.000000   \n",
       "\n",
       "                   4aa493c6-6177-4d64-add9-f0c0198e2530  \\\n",
       "Name                                                      \n",
       "ENST00000456328.2                              0.000000   \n",
       "ENST00000450305.2                              0.000000   \n",
       "ENST00000488147.1                              6.399453   \n",
       "ENST00000619216.1                              0.000000   \n",
       "ENST00000473358.1                              0.000000   \n",
       "\n",
       "                   53b68f98-1d15-42d5-b374-b2163590b3a8  \\\n",
       "Name                                                      \n",
       "ENST00000456328.2                              0.000000   \n",
       "ENST00000450305.2                              0.000000   \n",
       "ENST00000488147.1                              2.024906   \n",
       "ENST00000619216.1                              0.000000   \n",
       "ENST00000473358.1                              0.000000   \n",
       "\n",
       "                   1748692d-651e-4bb1-ab9e-8460d1c8b588  \\\n",
       "Name                                                      \n",
       "ENST00000456328.2                              0.000000   \n",
       "ENST00000450305.2                              0.000000   \n",
       "ENST00000488147.1                              1.171819   \n",
       "ENST00000619216.1                              0.000000   \n",
       "ENST00000473358.1                              0.000000   \n",
       "\n",
       "                   eb0750ce-bed8-41a0-b93c-d72d02c65303  \\\n",
       "Name                                                      \n",
       "ENST00000456328.2                              0.000000   \n",
       "ENST00000450305.2                              0.000000   \n",
       "ENST00000488147.1                              0.643958   \n",
       "ENST00000619216.1                              0.000000   \n",
       "ENST00000473358.1                              0.000000   \n",
       "\n",
       "                   cf4aa3e0-2256-42e3-a7cf-9ea08900b622  \n",
       "Name                                                     \n",
       "ENST00000456328.2                              0.147231  \n",
       "ENST00000450305.2                              0.000000  \n",
       "ENST00000488147.1                              4.371894  \n",
       "ENST00000619216.1                              0.000000  \n",
       "ENST00000473358.1                              0.000000  "
      ]
     },
     "execution_count": 2,
     "metadata": {},
     "output_type": "execute_result"
    }
   ],
   "source": [
    "# import the TPM dataframe\n",
    "TPM = pd.read_csv('../../results/TPM.tsv', sep='\\t', index_col=0)\n",
    "# preview the dataframe only showing the first 10 columns\n",
    "TPM.iloc[:, :10].head()"
   ]
  },
  {
   "cell_type": "code",
   "execution_count": 3,
   "metadata": {},
   "outputs": [
    {
     "name": "stdout",
     "output_type": "stream",
     "text": [
      "Before removing non-performing transcripts:  (252045, 133)\n",
      "After removing non-performing transcripts:  (234191, 133)\n"
     ]
    }
   ],
   "source": [
    "# print shape of dataframe\n",
    "print('Before removing non-performing transcripts: ', TPM.shape)\n",
    "# find genes with 0 TPM in all samples\n",
    "TPM = TPM.loc[(TPM != 0).any(axis=1)]\n",
    "# print shape of dataframe\n",
    "print('After removing non-performing transcripts: ', TPM.shape)\n",
    "\n",
    "# # find genes with 0 TPM in at least 99% of samples\n",
    "# TPM = TPM.loc[(TPM == 0).sum(axis=1) <= 0.99 * TPM.shape[1]]\n",
    "# # print shape of dataframe\n",
    "# print('After removing genes with 0 TPM in at least 99% of samples: ', TPM.shape)"
   ]
  },
  {
   "cell_type": "code",
   "execution_count": 4,
   "metadata": {},
   "outputs": [],
   "source": [
    "# transpose the dataframe\n",
    "TPM = TPM.T"
   ]
  },
  {
   "cell_type": "code",
   "execution_count": 5,
   "metadata": {},
   "outputs": [
    {
     "name": "stdout",
     "output_type": "stream",
     "text": [
      "Mean TPM:  nan\n",
      "Standard deviation TPM:  nan\n",
      "Max TPM:  nan\n",
      "Min TPM:  nan\n",
      "Range TPM:  nan\n",
      "Smallest non-zero TPM value:  1e-06\n"
     ]
    }
   ],
   "source": [
    "# Flatten the DataFrame to a 1D array\n",
    "flat_values = TPM.values.flatten()\n",
    "\n",
    "# Calculate mean and standard deviation\n",
    "mean_value = np.mean(flat_values)\n",
    "std_value = np.std(flat_values)\n",
    "\n",
    "# calculate max, min and range\n",
    "max_value = np.max(flat_values)\n",
    "min_value = np.min(flat_values)\n",
    "range_value = max_value - min_value\n",
    "\n",
    "# print all statistical values\n",
    "print('Mean TPM: ', mean_value)\n",
    "print('Standard deviation TPM: ', std_value)\n",
    "print('Max TPM: ', max_value)\n",
    "print('Min TPM: ', min_value)\n",
    "print('Range TPM: ', range_value)\n",
    "\n",
    "# find the smallest non-zero value in the flattened TPM array\n",
    "smallest_nonzero = np.min(TPM.values[TPM.values > 0])\n",
    "# print the smallest non-zero value\n",
    "print('Smallest non-zero TPM value: ', smallest_nonzero)"
   ]
  },
  {
   "cell_type": "code",
   "execution_count": 6,
   "metadata": {},
   "outputs": [
    {
     "data": {
      "text/html": [
       "<div>\n",
       "<style scoped>\n",
       "    .dataframe tbody tr th:only-of-type {\n",
       "        vertical-align: middle;\n",
       "    }\n",
       "\n",
       "    .dataframe tbody tr th {\n",
       "        vertical-align: top;\n",
       "    }\n",
       "\n",
       "    .dataframe thead th {\n",
       "        text-align: right;\n",
       "    }\n",
       "</style>\n",
       "<table border=\"1\" class=\"dataframe\">\n",
       "  <thead>\n",
       "    <tr style=\"text-align: right;\">\n",
       "      <th>Name</th>\n",
       "      <th>ENST00000456328.2</th>\n",
       "      <th>ENST00000488147.1</th>\n",
       "      <th>ENST00000473358.1</th>\n",
       "      <th>ENST00000469289.1</th>\n",
       "      <th>ENST00000417324.1</th>\n",
       "      <th>ENST00000461467.1</th>\n",
       "      <th>ENST00000606857.1</th>\n",
       "      <th>ENST00000642116.1</th>\n",
       "      <th>ENST00000466430.5</th>\n",
       "      <th>ENST00000477740.5</th>\n",
       "    </tr>\n",
       "  </thead>\n",
       "  <tbody>\n",
       "    <tr>\n",
       "      <th>52aef68b-63de-46b1-bb88-fb11d875c803</th>\n",
       "      <td>-3.504027</td>\n",
       "      <td>1.694177</td>\n",
       "      <td>-29.897353</td>\n",
       "      <td>-29.897353</td>\n",
       "      <td>-29.897353</td>\n",
       "      <td>-29.897353</td>\n",
       "      <td>-29.897353</td>\n",
       "      <td>-29.897353</td>\n",
       "      <td>-2.315795</td>\n",
       "      <td>-29.897353</td>\n",
       "    </tr>\n",
       "    <tr>\n",
       "      <th>98460c61-c4ef-43ff-b7ac-b5c1b7b0ae26</th>\n",
       "      <td>-29.897353</td>\n",
       "      <td>1.444576</td>\n",
       "      <td>-29.897353</td>\n",
       "      <td>-29.897353</td>\n",
       "      <td>-29.897353</td>\n",
       "      <td>-29.897353</td>\n",
       "      <td>-29.897353</td>\n",
       "      <td>-29.897353</td>\n",
       "      <td>-3.405161</td>\n",
       "      <td>-29.897353</td>\n",
       "    </tr>\n",
       "    <tr>\n",
       "      <th>5810cc10-f53a-451a-8001-c68765e30565</th>\n",
       "      <td>-29.897353</td>\n",
       "      <td>2.403069</td>\n",
       "      <td>-29.897353</td>\n",
       "      <td>-29.897353</td>\n",
       "      <td>-29.897353</td>\n",
       "      <td>-29.897353</td>\n",
       "      <td>-29.897353</td>\n",
       "      <td>-29.897353</td>\n",
       "      <td>-2.343447</td>\n",
       "      <td>-29.897353</td>\n",
       "    </tr>\n",
       "    <tr>\n",
       "      <th>2042bb7e-ff24-439d-b33c-70c15cc3d201</th>\n",
       "      <td>-29.897353</td>\n",
       "      <td>3.779066</td>\n",
       "      <td>-29.897353</td>\n",
       "      <td>-29.897353</td>\n",
       "      <td>-29.897353</td>\n",
       "      <td>-29.897353</td>\n",
       "      <td>-29.897353</td>\n",
       "      <td>-29.897353</td>\n",
       "      <td>-1.387547</td>\n",
       "      <td>-29.897353</td>\n",
       "    </tr>\n",
       "    <tr>\n",
       "      <th>dba512d3-58c5-47ed-a3f5-ee3d81e0b0c9</th>\n",
       "      <td>-29.897353</td>\n",
       "      <td>1.075014</td>\n",
       "      <td>-29.897353</td>\n",
       "      <td>-29.897353</td>\n",
       "      <td>-29.897353</td>\n",
       "      <td>-29.897353</td>\n",
       "      <td>-29.897353</td>\n",
       "      <td>-29.897353</td>\n",
       "      <td>-3.771008</td>\n",
       "      <td>-29.897353</td>\n",
       "    </tr>\n",
       "  </tbody>\n",
       "</table>\n",
       "</div>"
      ],
      "text/plain": [
       "Name                                  ENST00000456328.2  ENST00000488147.1  \\\n",
       "52aef68b-63de-46b1-bb88-fb11d875c803          -3.504027           1.694177   \n",
       "98460c61-c4ef-43ff-b7ac-b5c1b7b0ae26         -29.897353           1.444576   \n",
       "5810cc10-f53a-451a-8001-c68765e30565         -29.897353           2.403069   \n",
       "2042bb7e-ff24-439d-b33c-70c15cc3d201         -29.897353           3.779066   \n",
       "dba512d3-58c5-47ed-a3f5-ee3d81e0b0c9         -29.897353           1.075014   \n",
       "\n",
       "Name                                  ENST00000473358.1  ENST00000469289.1  \\\n",
       "52aef68b-63de-46b1-bb88-fb11d875c803         -29.897353         -29.897353   \n",
       "98460c61-c4ef-43ff-b7ac-b5c1b7b0ae26         -29.897353         -29.897353   \n",
       "5810cc10-f53a-451a-8001-c68765e30565         -29.897353         -29.897353   \n",
       "2042bb7e-ff24-439d-b33c-70c15cc3d201         -29.897353         -29.897353   \n",
       "dba512d3-58c5-47ed-a3f5-ee3d81e0b0c9         -29.897353         -29.897353   \n",
       "\n",
       "Name                                  ENST00000417324.1  ENST00000461467.1  \\\n",
       "52aef68b-63de-46b1-bb88-fb11d875c803         -29.897353         -29.897353   \n",
       "98460c61-c4ef-43ff-b7ac-b5c1b7b0ae26         -29.897353         -29.897353   \n",
       "5810cc10-f53a-451a-8001-c68765e30565         -29.897353         -29.897353   \n",
       "2042bb7e-ff24-439d-b33c-70c15cc3d201         -29.897353         -29.897353   \n",
       "dba512d3-58c5-47ed-a3f5-ee3d81e0b0c9         -29.897353         -29.897353   \n",
       "\n",
       "Name                                  ENST00000606857.1  ENST00000642116.1  \\\n",
       "52aef68b-63de-46b1-bb88-fb11d875c803         -29.897353         -29.897353   \n",
       "98460c61-c4ef-43ff-b7ac-b5c1b7b0ae26         -29.897353         -29.897353   \n",
       "5810cc10-f53a-451a-8001-c68765e30565         -29.897353         -29.897353   \n",
       "2042bb7e-ff24-439d-b33c-70c15cc3d201         -29.897353         -29.897353   \n",
       "dba512d3-58c5-47ed-a3f5-ee3d81e0b0c9         -29.897353         -29.897353   \n",
       "\n",
       "Name                                  ENST00000466430.5  ENST00000477740.5  \n",
       "52aef68b-63de-46b1-bb88-fb11d875c803          -2.315795         -29.897353  \n",
       "98460c61-c4ef-43ff-b7ac-b5c1b7b0ae26          -3.405161         -29.897353  \n",
       "5810cc10-f53a-451a-8001-c68765e30565          -2.343447         -29.897353  \n",
       "2042bb7e-ff24-439d-b33c-70c15cc3d201          -1.387547         -29.897353  \n",
       "dba512d3-58c5-47ed-a3f5-ee3d81e0b0c9          -3.771008         -29.897353  "
      ]
     },
     "execution_count": 6,
     "metadata": {},
     "output_type": "execute_result"
    }
   ],
   "source": [
    "# introduce pseudocount\n",
    "TPM = TPM + 0.000000001\n",
    "# perform log-transformation\n",
    "TPM = TPM.apply(np.log2)\n",
    "# preview the dataframe only showing the first 10 columns\n",
    "TPM.iloc[:, :10].head()"
   ]
  },
  {
   "cell_type": "code",
   "execution_count": 7,
   "metadata": {},
   "outputs": [
    {
     "ename": "ValueError",
     "evalue": "Input X contains NaN.\nPCA does not accept missing values encoded as NaN natively. For supervised learning, you might want to consider sklearn.ensemble.HistGradientBoostingClassifier and Regressor which accept missing values encoded as NaNs natively. Alternatively, it is possible to preprocess the data, for instance by using an imputer transformer in a pipeline or drop samples with missing values. See https://scikit-learn.org/stable/modules/impute.html You can find a list of all estimators that handle NaN values at the following page: https://scikit-learn.org/stable/modules/impute.html#estimators-that-handle-nan-values",
     "output_type": "error",
     "traceback": [
      "\u001b[0;31m---------------------------------------------------------------------------\u001b[0m",
      "\u001b[0;31mValueError\u001b[0m                                Traceback (most recent call last)",
      "\u001b[1;32m/Users/mayanahar/Capstone/bin/Capstone/pca_and_heatmaps.ipynb Cell 7\u001b[0m line \u001b[0;36m4\n\u001b[1;32m      <a href='vscode-notebook-cell:/Users/mayanahar/Capstone/bin/Capstone/pca_and_heatmaps.ipynb#W6sZmlsZQ%3D%3D?line=1'>2</a>\u001b[0m \u001b[39mfrom\u001b[39;00m \u001b[39msklearn\u001b[39;00m\u001b[39m.\u001b[39;00m\u001b[39mdecomposition\u001b[39;00m \u001b[39mimport\u001b[39;00m PCA\n\u001b[1;32m      <a href='vscode-notebook-cell:/Users/mayanahar/Capstone/bin/Capstone/pca_and_heatmaps.ipynb#W6sZmlsZQ%3D%3D?line=2'>3</a>\u001b[0m pca \u001b[39m=\u001b[39m PCA(n_components\u001b[39m=\u001b[39m\u001b[39m3\u001b[39m, whiten\u001b[39m=\u001b[39m\u001b[39mTrue\u001b[39;00m)\n\u001b[0;32m----> <a href='vscode-notebook-cell:/Users/mayanahar/Capstone/bin/Capstone/pca_and_heatmaps.ipynb#W6sZmlsZQ%3D%3D?line=3'>4</a>\u001b[0m pca\u001b[39m.\u001b[39;49mfit(TPM)\n\u001b[1;32m      <a href='vscode-notebook-cell:/Users/mayanahar/Capstone/bin/Capstone/pca_and_heatmaps.ipynb#W6sZmlsZQ%3D%3D?line=5'>6</a>\u001b[0m \u001b[39m# transform the data\u001b[39;00m\n\u001b[1;32m      <a href='vscode-notebook-cell:/Users/mayanahar/Capstone/bin/Capstone/pca_and_heatmaps.ipynb#W6sZmlsZQ%3D%3D?line=6'>7</a>\u001b[0m TPM_pca \u001b[39m=\u001b[39m pca\u001b[39m.\u001b[39mtransform(TPM)\n",
      "File \u001b[0;32m~/anaconda3/lib/python3.10/site-packages/sklearn/decomposition/_pca.py:435\u001b[0m, in \u001b[0;36mPCA.fit\u001b[0;34m(self, X, y)\u001b[0m\n\u001b[1;32m    417\u001b[0m \u001b[39m\"\"\"Fit the model with X.\u001b[39;00m\n\u001b[1;32m    418\u001b[0m \n\u001b[1;32m    419\u001b[0m \u001b[39mParameters\u001b[39;00m\n\u001b[0;32m   (...)\u001b[0m\n\u001b[1;32m    431\u001b[0m \u001b[39m    Returns the instance itself.\u001b[39;00m\n\u001b[1;32m    432\u001b[0m \u001b[39m\"\"\"\u001b[39;00m\n\u001b[1;32m    433\u001b[0m \u001b[39mself\u001b[39m\u001b[39m.\u001b[39m_validate_params()\n\u001b[0;32m--> 435\u001b[0m \u001b[39mself\u001b[39;49m\u001b[39m.\u001b[39;49m_fit(X)\n\u001b[1;32m    436\u001b[0m \u001b[39mreturn\u001b[39;00m \u001b[39mself\u001b[39m\n",
      "File \u001b[0;32m~/anaconda3/lib/python3.10/site-packages/sklearn/decomposition/_pca.py:485\u001b[0m, in \u001b[0;36mPCA._fit\u001b[0;34m(self, X)\u001b[0m\n\u001b[1;32m    479\u001b[0m \u001b[39mif\u001b[39;00m issparse(X):\n\u001b[1;32m    480\u001b[0m     \u001b[39mraise\u001b[39;00m \u001b[39mTypeError\u001b[39;00m(\n\u001b[1;32m    481\u001b[0m         \u001b[39m\"\u001b[39m\u001b[39mPCA does not support sparse input. See \u001b[39m\u001b[39m\"\u001b[39m\n\u001b[1;32m    482\u001b[0m         \u001b[39m\"\u001b[39m\u001b[39mTruncatedSVD for a possible alternative.\u001b[39m\u001b[39m\"\u001b[39m\n\u001b[1;32m    483\u001b[0m     )\n\u001b[0;32m--> 485\u001b[0m X \u001b[39m=\u001b[39m \u001b[39mself\u001b[39;49m\u001b[39m.\u001b[39;49m_validate_data(\n\u001b[1;32m    486\u001b[0m     X, dtype\u001b[39m=\u001b[39;49m[np\u001b[39m.\u001b[39;49mfloat64, np\u001b[39m.\u001b[39;49mfloat32], ensure_2d\u001b[39m=\u001b[39;49m\u001b[39mTrue\u001b[39;49;00m, copy\u001b[39m=\u001b[39;49m\u001b[39mself\u001b[39;49m\u001b[39m.\u001b[39;49mcopy\n\u001b[1;32m    487\u001b[0m )\n\u001b[1;32m    489\u001b[0m \u001b[39m# Handle n_components==None\u001b[39;00m\n\u001b[1;32m    490\u001b[0m \u001b[39mif\u001b[39;00m \u001b[39mself\u001b[39m\u001b[39m.\u001b[39mn_components \u001b[39mis\u001b[39;00m \u001b[39mNone\u001b[39;00m:\n",
      "File \u001b[0;32m~/anaconda3/lib/python3.10/site-packages/sklearn/base.py:546\u001b[0m, in \u001b[0;36mBaseEstimator._validate_data\u001b[0;34m(self, X, y, reset, validate_separately, **check_params)\u001b[0m\n\u001b[1;32m    544\u001b[0m     \u001b[39mraise\u001b[39;00m \u001b[39mValueError\u001b[39;00m(\u001b[39m\"\u001b[39m\u001b[39mValidation should be done on X, y or both.\u001b[39m\u001b[39m\"\u001b[39m)\n\u001b[1;32m    545\u001b[0m \u001b[39melif\u001b[39;00m \u001b[39mnot\u001b[39;00m no_val_X \u001b[39mand\u001b[39;00m no_val_y:\n\u001b[0;32m--> 546\u001b[0m     X \u001b[39m=\u001b[39m check_array(X, input_name\u001b[39m=\u001b[39;49m\u001b[39m\"\u001b[39;49m\u001b[39mX\u001b[39;49m\u001b[39m\"\u001b[39;49m, \u001b[39m*\u001b[39;49m\u001b[39m*\u001b[39;49mcheck_params)\n\u001b[1;32m    547\u001b[0m     out \u001b[39m=\u001b[39m X\n\u001b[1;32m    548\u001b[0m \u001b[39melif\u001b[39;00m no_val_X \u001b[39mand\u001b[39;00m \u001b[39mnot\u001b[39;00m no_val_y:\n",
      "File \u001b[0;32m~/anaconda3/lib/python3.10/site-packages/sklearn/utils/validation.py:921\u001b[0m, in \u001b[0;36mcheck_array\u001b[0;34m(array, accept_sparse, accept_large_sparse, dtype, order, copy, force_all_finite, ensure_2d, allow_nd, ensure_min_samples, ensure_min_features, estimator, input_name)\u001b[0m\n\u001b[1;32m    915\u001b[0m         \u001b[39mraise\u001b[39;00m \u001b[39mValueError\u001b[39;00m(\n\u001b[1;32m    916\u001b[0m             \u001b[39m\"\u001b[39m\u001b[39mFound array with dim \u001b[39m\u001b[39m%d\u001b[39;00m\u001b[39m. \u001b[39m\u001b[39m%s\u001b[39;00m\u001b[39m expected <= 2.\u001b[39m\u001b[39m\"\u001b[39m\n\u001b[1;32m    917\u001b[0m             \u001b[39m%\u001b[39m (array\u001b[39m.\u001b[39mndim, estimator_name)\n\u001b[1;32m    918\u001b[0m         )\n\u001b[1;32m    920\u001b[0m     \u001b[39mif\u001b[39;00m force_all_finite:\n\u001b[0;32m--> 921\u001b[0m         _assert_all_finite(\n\u001b[1;32m    922\u001b[0m             array,\n\u001b[1;32m    923\u001b[0m             input_name\u001b[39m=\u001b[39;49minput_name,\n\u001b[1;32m    924\u001b[0m             estimator_name\u001b[39m=\u001b[39;49mestimator_name,\n\u001b[1;32m    925\u001b[0m             allow_nan\u001b[39m=\u001b[39;49mforce_all_finite \u001b[39m==\u001b[39;49m \u001b[39m\"\u001b[39;49m\u001b[39mallow-nan\u001b[39;49m\u001b[39m\"\u001b[39;49m,\n\u001b[1;32m    926\u001b[0m         )\n\u001b[1;32m    928\u001b[0m \u001b[39mif\u001b[39;00m ensure_min_samples \u001b[39m>\u001b[39m \u001b[39m0\u001b[39m:\n\u001b[1;32m    929\u001b[0m     n_samples \u001b[39m=\u001b[39m _num_samples(array)\n",
      "File \u001b[0;32m~/anaconda3/lib/python3.10/site-packages/sklearn/utils/validation.py:161\u001b[0m, in \u001b[0;36m_assert_all_finite\u001b[0;34m(X, allow_nan, msg_dtype, estimator_name, input_name)\u001b[0m\n\u001b[1;32m    144\u001b[0m \u001b[39mif\u001b[39;00m estimator_name \u001b[39mand\u001b[39;00m input_name \u001b[39m==\u001b[39m \u001b[39m\"\u001b[39m\u001b[39mX\u001b[39m\u001b[39m\"\u001b[39m \u001b[39mand\u001b[39;00m has_nan_error:\n\u001b[1;32m    145\u001b[0m     \u001b[39m# Improve the error message on how to handle missing values in\u001b[39;00m\n\u001b[1;32m    146\u001b[0m     \u001b[39m# scikit-learn.\u001b[39;00m\n\u001b[1;32m    147\u001b[0m     msg_err \u001b[39m+\u001b[39m\u001b[39m=\u001b[39m (\n\u001b[1;32m    148\u001b[0m         \u001b[39mf\u001b[39m\u001b[39m\"\u001b[39m\u001b[39m\\n\u001b[39;00m\u001b[39m{\u001b[39;00mestimator_name\u001b[39m}\u001b[39;00m\u001b[39m does not accept missing values\u001b[39m\u001b[39m\"\u001b[39m\n\u001b[1;32m    149\u001b[0m         \u001b[39m\"\u001b[39m\u001b[39m encoded as NaN natively. For supervised learning, you might want\u001b[39m\u001b[39m\"\u001b[39m\n\u001b[0;32m   (...)\u001b[0m\n\u001b[1;32m    159\u001b[0m         \u001b[39m\"\u001b[39m\u001b[39m#estimators-that-handle-nan-values\u001b[39m\u001b[39m\"\u001b[39m\n\u001b[1;32m    160\u001b[0m     )\n\u001b[0;32m--> 161\u001b[0m \u001b[39mraise\u001b[39;00m \u001b[39mValueError\u001b[39;00m(msg_err)\n",
      "\u001b[0;31mValueError\u001b[0m: Input X contains NaN.\nPCA does not accept missing values encoded as NaN natively. For supervised learning, you might want to consider sklearn.ensemble.HistGradientBoostingClassifier and Regressor which accept missing values encoded as NaNs natively. Alternatively, it is possible to preprocess the data, for instance by using an imputer transformer in a pipeline or drop samples with missing values. See https://scikit-learn.org/stable/modules/impute.html You can find a list of all estimators that handle NaN values at the following page: https://scikit-learn.org/stable/modules/impute.html#estimators-that-handle-nan-values"
     ]
    }
   ],
   "source": [
    "# perform PCA\n",
    "from sklearn.decomposition import PCA\n",
    "pca = PCA(n_components=3, whiten=True)\n",
    "pca.fit(TPM)\n",
    "\n",
    "# transform the data\n",
    "TPM_pca = pca.transform(TPM)\n",
    "\n",
    "# create a dataframe with the PCA results\n",
    "TPM_pca_df = pd.DataFrame(data = TPM_pca, columns = ['PC1', 'PC2', 'PC3'], index=TPM.index)"
   ]
  },
  {
   "cell_type": "code",
   "execution_count": null,
   "metadata": {},
   "outputs": [
    {
     "data": {
      "text/html": [
       "<div>\n",
       "<style scoped>\n",
       "    .dataframe tbody tr th:only-of-type {\n",
       "        vertical-align: middle;\n",
       "    }\n",
       "\n",
       "    .dataframe tbody tr th {\n",
       "        vertical-align: top;\n",
       "    }\n",
       "\n",
       "    .dataframe thead th {\n",
       "        text-align: right;\n",
       "    }\n",
       "</style>\n",
       "<table border=\"1\" class=\"dataframe\">\n",
       "  <thead>\n",
       "    <tr style=\"text-align: right;\">\n",
       "      <th></th>\n",
       "      <th>PC1</th>\n",
       "      <th>PC2</th>\n",
       "      <th>PC3</th>\n",
       "    </tr>\n",
       "  </thead>\n",
       "  <tbody>\n",
       "    <tr>\n",
       "      <th>52aef68b-63de-46b1-bb88-fb11d875c803</th>\n",
       "      <td>-0.646184</td>\n",
       "      <td>0.307540</td>\n",
       "      <td>1.055633</td>\n",
       "    </tr>\n",
       "    <tr>\n",
       "      <th>98460c61-c4ef-43ff-b7ac-b5c1b7b0ae26</th>\n",
       "      <td>-0.228434</td>\n",
       "      <td>0.686052</td>\n",
       "      <td>-1.465171</td>\n",
       "    </tr>\n",
       "    <tr>\n",
       "      <th>5810cc10-f53a-451a-8001-c68765e30565</th>\n",
       "      <td>3.217787</td>\n",
       "      <td>-0.360605</td>\n",
       "      <td>-0.996451</td>\n",
       "    </tr>\n",
       "    <tr>\n",
       "      <th>2042bb7e-ff24-439d-b33c-70c15cc3d201</th>\n",
       "      <td>3.087338</td>\n",
       "      <td>-1.130540</td>\n",
       "      <td>-0.300919</td>\n",
       "    </tr>\n",
       "    <tr>\n",
       "      <th>dba512d3-58c5-47ed-a3f5-ee3d81e0b0c9</th>\n",
       "      <td>-0.198615</td>\n",
       "      <td>-0.553225</td>\n",
       "      <td>0.892547</td>\n",
       "    </tr>\n",
       "  </tbody>\n",
       "</table>\n",
       "</div>"
      ],
      "text/plain": [
       "                                           PC1       PC2       PC3\n",
       "52aef68b-63de-46b1-bb88-fb11d875c803 -0.646184  0.307540  1.055633\n",
       "98460c61-c4ef-43ff-b7ac-b5c1b7b0ae26 -0.228434  0.686052 -1.465171\n",
       "5810cc10-f53a-451a-8001-c68765e30565  3.217787 -0.360605 -0.996451\n",
       "2042bb7e-ff24-439d-b33c-70c15cc3d201  3.087338 -1.130540 -0.300919\n",
       "dba512d3-58c5-47ed-a3f5-ee3d81e0b0c9 -0.198615 -0.553225  0.892547"
      ]
     },
     "execution_count": 8,
     "metadata": {},
     "output_type": "execute_result"
    }
   ],
   "source": [
    "# preview the dataframe\n",
    "TPM_pca_df.head()"
   ]
  },
  {
   "cell_type": "code",
   "execution_count": null,
   "metadata": {},
   "outputs": [
    {
     "data": {
      "application/vnd.plotly.v1+json": {
       "config": {
        "plotlyServerURL": "https://plot.ly"
       },
       "data": [
        {
         "hovertemplate": "PC1=%{x}<br>PC2=%{y}<extra></extra>",
         "legendgroup": "",
         "marker": {
          "color": "#636efa",
          "symbol": "circle"
         },
         "mode": "markers",
         "name": "",
         "orientation": "v",
         "showlegend": false,
         "type": "scatter",
         "x": [
          -0.6461835155654678,
          -0.228434298269136,
          3.2177867261612723,
          3.087337839408291,
          -0.19861496266853065,
          -0.25328638357559885,
          -0.4773783860052386,
          -0.08599587916306424,
          -0.3432421624256105,
          -0.6424189097842523,
          -0.260984494987361,
          -0.34914295219646546,
          -0.6766011485871877,
          -0.4782258895344875,
          -0.3292809434154056,
          -0.583504201886774,
          -0.36013273744508295,
          -0.36683182081308563,
          -0.4162662235421771,
          -0.19568140173394616,
          3.77682082870616,
          -0.44250097616839024,
          -0.2855187180904617,
          -0.4583497452674519,
          -0.2908102496059654,
          -0.17550230438644512,
          -0.1279062467412469,
          0.3716185289893102,
          -0.46242943554280325,
          4.411432237427092,
          -0.34300647657499583,
          -0.35301323878591406,
          -0.36730582289942615,
          0.054230332899615936,
          -0.29417311652366235,
          -0.4954755799363624,
          -0.41841854567840503,
          -0.5413122883195897,
          -0.3519737775805372,
          -0.26136563176672933,
          -0.40276583041426167,
          0.37690097679556805,
          -0.48114582648873555,
          -0.2228792829220058,
          -0.17288153338127588,
          -0.6171061385716247,
          -0.4307757610248541,
          -0.519108231913504,
          0.23743900168389193,
          -0.6374260277532721,
          0.4704912969271819,
          -0.42721286360636096,
          0.006138324725136489,
          -0.5632712094753509,
          -0.29884977619389824,
          0.7103252931997964,
          1.9285259690785272,
          -0.33331116471734384,
          0.3414411169485187,
          -0.03174848419063275,
          -0.39686851370032594,
          -0.5021950367578937,
          -0.004523212055252219,
          -0.051723105011185225,
          0.4593681353050364,
          -0.5132154489764092,
          -0.12116690172757837,
          -0.3526910800181407,
          0.43046601592009687,
          -0.2374729732231733,
          -0.43013429619937704,
          -0.4142666076880047,
          -0.4720084405733913,
          -0.46485552380619005,
          -0.41959142709875785,
          -0.37151830738423636,
          -0.21515433908481083,
          -0.35099002589023637,
          -0.3973958371413672,
          -0.4096201798310433,
          -0.31117771439011155,
          -0.32896162818037716,
          -0.13350901927849515,
          4.017001318756486,
          -0.12434887565642408,
          -0.49999695578506664,
          0.6578890520378916,
          -0.2668618228819724,
          -0.2798521955183788,
          -0.3134195306871016,
          -0.3663784123813886,
          -0.29035721576837364,
          -0.7307278444719111,
          -0.6136845629222086,
          -0.27786694665225975,
          -0.41222930384514916,
          -0.39815569402553297,
          0.1308443412505048,
          0.2551256911062885,
          -0.31165264408981347,
          0.022115482275936214,
          -0.5188946747202351,
          -0.5711328869918629,
          -0.2890722571083698,
          -0.4475593677659227,
          -0.387754598398883,
          -0.4665201274858595,
          -0.5763237641797885,
          -0.2003970218897825,
          -0.4436655962364607,
          -0.04148165315994201,
          1.2764676443565133,
          -0.5016094097083419,
          -0.2628780724790225,
          -0.30813648864578497,
          2.2276399934869837,
          1.6570202786646384,
          -0.048410763840944435,
          -0.27960343933786336,
          0.39721060340758757,
          -0.627371763513805,
          -0.30209116329415814,
          -0.22918829531145363,
          0.3307961894677141,
          -0.6267564738145814,
          0.18086790044656398,
          3.6162688799439056,
          -0.5990474058036963,
          -0.5938269053583056,
          -0.5579519543946714,
          4.09635246086027,
          -0.16926163342169592,
          -0.21266452455328722
         ],
         "xaxis": "x",
         "y": [
          0.3075403861816956,
          0.686051805805836,
          -0.3606047284617547,
          -1.1305400716335348,
          -0.5532250707087409,
          1.2502958795978174,
          -0.01280849405432452,
          0.8720326453400277,
          0.11863205026585534,
          -0.2945304219154012,
          0.09266194164730224,
          -0.22264135447843802,
          0.4262249052085923,
          0.5056036576044024,
          -0.5192795242703516,
          -0.27162573418588215,
          0.03098477522527053,
          0.2748623633809649,
          0.6121397394778572,
          0.2534361984497934,
          -0.07662570578670871,
          -0.47620827922028175,
          -0.5797148644287768,
          -0.42381287780204585,
          -1.9862888790884428,
          0.24557322688933497,
          0.03984336225723788,
          2.9075673013351966,
          -0.41851634321922887,
          -0.33842040190297124,
          0.032728419743575626,
          0.9673071608115678,
          -0.6594903241257832,
          1.04869715315307,
          -1.86141586018262,
          0.5272368960571256,
          -0.2302644499690832,
          0.39987863497801496,
          -0.7023706022816529,
          -0.5726699708166078,
          -0.47795634983993235,
          0.9810390129612114,
          -0.3675335915933371,
          1.1873501222753318,
          -0.07719180743072042,
          -0.5256902382163164,
          -1.908766850566541,
          -0.02474097363761839,
          -0.6861246571266256,
          0.7490975057165066,
          2.629123319386035,
          -0.08351903298411038,
          1.0191200456928302,
          -0.45424494238594143,
          -0.3661283761731341,
          1.3681520196524015,
          -1.0534955941732524,
          -0.6531857557422491,
          -0.6237444554921435,
          -0.04924430540234567,
          -0.5467724884199504,
          -0.34362945562365266,
          0.800623296991412,
          -0.5750866914060947,
          2.7105879393339065,
          -0.8369477395727296,
          -0.547971842040668,
          0.038431847252483144,
          2.7597904555186465,
          0.9630067892351023,
          -0.7606847510485102,
          -1.7903603282458351,
          -0.45309476831642725,
          -0.3126965323145148,
          -0.3791674389344953,
          0.6070699414491368,
          -0.3704879455800154,
          0.8147482921183193,
          -0.04616102882706811,
          -0.06047031667315243,
          -0.7907333984835696,
          -0.07843570226788743,
          0.39929966971003505,
          -0.16817738566356744,
          0.9078672644766116,
          -1.776607363958642,
          -1.0597060115522454,
          -0.01507370924272504,
          -0.6750154466196778,
          -0.5683943787429314,
          1.0158963727381118,
          -0.2579268777046391,
          -0.7638911385226662,
          -0.8493856149061483,
          -0.3160914480470362,
          0.47870642727642776,
          -0.3647250995904386,
          -0.4362276484475229,
          2.9157827720634315,
          -0.08250879214691417,
          -0.5829329694133739,
          -1.3679361829506624,
          -0.4560415816477712,
          -1.694606355570902,
          -0.08467321533396586,
          0.8177622107808611,
          0.11771383687052675,
          0.27096056293666504,
          -0.010873696985561053,
          0.013124809835799082,
          -0.8924424884142862,
          -1.3886421392220256,
          -0.8048012218802038,
          0.697483643800079,
          0.7187353983340122,
          -1.2368412160630027,
          -1.2012463313278692,
          1.4458666447270163,
          0.6646004956304519,
          2.9642862839487436,
          -1.0646229122072284,
          0.260214782186156,
          -0.7152502936474311,
          2.7529676298941967,
          0.3608540136888437,
          2.909721269707799,
          -0.11023704511116761,
          -0.3230728626326192,
          -0.6236302320693557,
          -0.34779788143204254,
          -0.16071171772274664,
          -0.26532899869007437,
          -0.3385416050807422
         ],
         "yaxis": "y"
        }
       ],
       "layout": {
        "legend": {
         "tracegroupgap": 0
        },
        "template": {
         "data": {
          "bar": [
           {
            "error_x": {
             "color": "#2a3f5f"
            },
            "error_y": {
             "color": "#2a3f5f"
            },
            "marker": {
             "line": {
              "color": "#E5ECF6",
              "width": 0.5
             },
             "pattern": {
              "fillmode": "overlay",
              "size": 10,
              "solidity": 0.2
             }
            },
            "type": "bar"
           }
          ],
          "barpolar": [
           {
            "marker": {
             "line": {
              "color": "#E5ECF6",
              "width": 0.5
             },
             "pattern": {
              "fillmode": "overlay",
              "size": 10,
              "solidity": 0.2
             }
            },
            "type": "barpolar"
           }
          ],
          "carpet": [
           {
            "aaxis": {
             "endlinecolor": "#2a3f5f",
             "gridcolor": "white",
             "linecolor": "white",
             "minorgridcolor": "white",
             "startlinecolor": "#2a3f5f"
            },
            "baxis": {
             "endlinecolor": "#2a3f5f",
             "gridcolor": "white",
             "linecolor": "white",
             "minorgridcolor": "white",
             "startlinecolor": "#2a3f5f"
            },
            "type": "carpet"
           }
          ],
          "choropleth": [
           {
            "colorbar": {
             "outlinewidth": 0,
             "ticks": ""
            },
            "type": "choropleth"
           }
          ],
          "contour": [
           {
            "colorbar": {
             "outlinewidth": 0,
             "ticks": ""
            },
            "colorscale": [
             [
              0,
              "#0d0887"
             ],
             [
              0.1111111111111111,
              "#46039f"
             ],
             [
              0.2222222222222222,
              "#7201a8"
             ],
             [
              0.3333333333333333,
              "#9c179e"
             ],
             [
              0.4444444444444444,
              "#bd3786"
             ],
             [
              0.5555555555555556,
              "#d8576b"
             ],
             [
              0.6666666666666666,
              "#ed7953"
             ],
             [
              0.7777777777777778,
              "#fb9f3a"
             ],
             [
              0.8888888888888888,
              "#fdca26"
             ],
             [
              1,
              "#f0f921"
             ]
            ],
            "type": "contour"
           }
          ],
          "contourcarpet": [
           {
            "colorbar": {
             "outlinewidth": 0,
             "ticks": ""
            },
            "type": "contourcarpet"
           }
          ],
          "heatmap": [
           {
            "colorbar": {
             "outlinewidth": 0,
             "ticks": ""
            },
            "colorscale": [
             [
              0,
              "#0d0887"
             ],
             [
              0.1111111111111111,
              "#46039f"
             ],
             [
              0.2222222222222222,
              "#7201a8"
             ],
             [
              0.3333333333333333,
              "#9c179e"
             ],
             [
              0.4444444444444444,
              "#bd3786"
             ],
             [
              0.5555555555555556,
              "#d8576b"
             ],
             [
              0.6666666666666666,
              "#ed7953"
             ],
             [
              0.7777777777777778,
              "#fb9f3a"
             ],
             [
              0.8888888888888888,
              "#fdca26"
             ],
             [
              1,
              "#f0f921"
             ]
            ],
            "type": "heatmap"
           }
          ],
          "heatmapgl": [
           {
            "colorbar": {
             "outlinewidth": 0,
             "ticks": ""
            },
            "colorscale": [
             [
              0,
              "#0d0887"
             ],
             [
              0.1111111111111111,
              "#46039f"
             ],
             [
              0.2222222222222222,
              "#7201a8"
             ],
             [
              0.3333333333333333,
              "#9c179e"
             ],
             [
              0.4444444444444444,
              "#bd3786"
             ],
             [
              0.5555555555555556,
              "#d8576b"
             ],
             [
              0.6666666666666666,
              "#ed7953"
             ],
             [
              0.7777777777777778,
              "#fb9f3a"
             ],
             [
              0.8888888888888888,
              "#fdca26"
             ],
             [
              1,
              "#f0f921"
             ]
            ],
            "type": "heatmapgl"
           }
          ],
          "histogram": [
           {
            "marker": {
             "pattern": {
              "fillmode": "overlay",
              "size": 10,
              "solidity": 0.2
             }
            },
            "type": "histogram"
           }
          ],
          "histogram2d": [
           {
            "colorbar": {
             "outlinewidth": 0,
             "ticks": ""
            },
            "colorscale": [
             [
              0,
              "#0d0887"
             ],
             [
              0.1111111111111111,
              "#46039f"
             ],
             [
              0.2222222222222222,
              "#7201a8"
             ],
             [
              0.3333333333333333,
              "#9c179e"
             ],
             [
              0.4444444444444444,
              "#bd3786"
             ],
             [
              0.5555555555555556,
              "#d8576b"
             ],
             [
              0.6666666666666666,
              "#ed7953"
             ],
             [
              0.7777777777777778,
              "#fb9f3a"
             ],
             [
              0.8888888888888888,
              "#fdca26"
             ],
             [
              1,
              "#f0f921"
             ]
            ],
            "type": "histogram2d"
           }
          ],
          "histogram2dcontour": [
           {
            "colorbar": {
             "outlinewidth": 0,
             "ticks": ""
            },
            "colorscale": [
             [
              0,
              "#0d0887"
             ],
             [
              0.1111111111111111,
              "#46039f"
             ],
             [
              0.2222222222222222,
              "#7201a8"
             ],
             [
              0.3333333333333333,
              "#9c179e"
             ],
             [
              0.4444444444444444,
              "#bd3786"
             ],
             [
              0.5555555555555556,
              "#d8576b"
             ],
             [
              0.6666666666666666,
              "#ed7953"
             ],
             [
              0.7777777777777778,
              "#fb9f3a"
             ],
             [
              0.8888888888888888,
              "#fdca26"
             ],
             [
              1,
              "#f0f921"
             ]
            ],
            "type": "histogram2dcontour"
           }
          ],
          "mesh3d": [
           {
            "colorbar": {
             "outlinewidth": 0,
             "ticks": ""
            },
            "type": "mesh3d"
           }
          ],
          "parcoords": [
           {
            "line": {
             "colorbar": {
              "outlinewidth": 0,
              "ticks": ""
             }
            },
            "type": "parcoords"
           }
          ],
          "pie": [
           {
            "automargin": true,
            "type": "pie"
           }
          ],
          "scatter": [
           {
            "fillpattern": {
             "fillmode": "overlay",
             "size": 10,
             "solidity": 0.2
            },
            "type": "scatter"
           }
          ],
          "scatter3d": [
           {
            "line": {
             "colorbar": {
              "outlinewidth": 0,
              "ticks": ""
             }
            },
            "marker": {
             "colorbar": {
              "outlinewidth": 0,
              "ticks": ""
             }
            },
            "type": "scatter3d"
           }
          ],
          "scattercarpet": [
           {
            "marker": {
             "colorbar": {
              "outlinewidth": 0,
              "ticks": ""
             }
            },
            "type": "scattercarpet"
           }
          ],
          "scattergeo": [
           {
            "marker": {
             "colorbar": {
              "outlinewidth": 0,
              "ticks": ""
             }
            },
            "type": "scattergeo"
           }
          ],
          "scattergl": [
           {
            "marker": {
             "colorbar": {
              "outlinewidth": 0,
              "ticks": ""
             }
            },
            "type": "scattergl"
           }
          ],
          "scattermapbox": [
           {
            "marker": {
             "colorbar": {
              "outlinewidth": 0,
              "ticks": ""
             }
            },
            "type": "scattermapbox"
           }
          ],
          "scatterpolar": [
           {
            "marker": {
             "colorbar": {
              "outlinewidth": 0,
              "ticks": ""
             }
            },
            "type": "scatterpolar"
           }
          ],
          "scatterpolargl": [
           {
            "marker": {
             "colorbar": {
              "outlinewidth": 0,
              "ticks": ""
             }
            },
            "type": "scatterpolargl"
           }
          ],
          "scatterternary": [
           {
            "marker": {
             "colorbar": {
              "outlinewidth": 0,
              "ticks": ""
             }
            },
            "type": "scatterternary"
           }
          ],
          "surface": [
           {
            "colorbar": {
             "outlinewidth": 0,
             "ticks": ""
            },
            "colorscale": [
             [
              0,
              "#0d0887"
             ],
             [
              0.1111111111111111,
              "#46039f"
             ],
             [
              0.2222222222222222,
              "#7201a8"
             ],
             [
              0.3333333333333333,
              "#9c179e"
             ],
             [
              0.4444444444444444,
              "#bd3786"
             ],
             [
              0.5555555555555556,
              "#d8576b"
             ],
             [
              0.6666666666666666,
              "#ed7953"
             ],
             [
              0.7777777777777778,
              "#fb9f3a"
             ],
             [
              0.8888888888888888,
              "#fdca26"
             ],
             [
              1,
              "#f0f921"
             ]
            ],
            "type": "surface"
           }
          ],
          "table": [
           {
            "cells": {
             "fill": {
              "color": "#EBF0F8"
             },
             "line": {
              "color": "white"
             }
            },
            "header": {
             "fill": {
              "color": "#C8D4E3"
             },
             "line": {
              "color": "white"
             }
            },
            "type": "table"
           }
          ]
         },
         "layout": {
          "annotationdefaults": {
           "arrowcolor": "#2a3f5f",
           "arrowhead": 0,
           "arrowwidth": 1
          },
          "autotypenumbers": "strict",
          "coloraxis": {
           "colorbar": {
            "outlinewidth": 0,
            "ticks": ""
           }
          },
          "colorscale": {
           "diverging": [
            [
             0,
             "#8e0152"
            ],
            [
             0.1,
             "#c51b7d"
            ],
            [
             0.2,
             "#de77ae"
            ],
            [
             0.3,
             "#f1b6da"
            ],
            [
             0.4,
             "#fde0ef"
            ],
            [
             0.5,
             "#f7f7f7"
            ],
            [
             0.6,
             "#e6f5d0"
            ],
            [
             0.7,
             "#b8e186"
            ],
            [
             0.8,
             "#7fbc41"
            ],
            [
             0.9,
             "#4d9221"
            ],
            [
             1,
             "#276419"
            ]
           ],
           "sequential": [
            [
             0,
             "#0d0887"
            ],
            [
             0.1111111111111111,
             "#46039f"
            ],
            [
             0.2222222222222222,
             "#7201a8"
            ],
            [
             0.3333333333333333,
             "#9c179e"
            ],
            [
             0.4444444444444444,
             "#bd3786"
            ],
            [
             0.5555555555555556,
             "#d8576b"
            ],
            [
             0.6666666666666666,
             "#ed7953"
            ],
            [
             0.7777777777777778,
             "#fb9f3a"
            ],
            [
             0.8888888888888888,
             "#fdca26"
            ],
            [
             1,
             "#f0f921"
            ]
           ],
           "sequentialminus": [
            [
             0,
             "#0d0887"
            ],
            [
             0.1111111111111111,
             "#46039f"
            ],
            [
             0.2222222222222222,
             "#7201a8"
            ],
            [
             0.3333333333333333,
             "#9c179e"
            ],
            [
             0.4444444444444444,
             "#bd3786"
            ],
            [
             0.5555555555555556,
             "#d8576b"
            ],
            [
             0.6666666666666666,
             "#ed7953"
            ],
            [
             0.7777777777777778,
             "#fb9f3a"
            ],
            [
             0.8888888888888888,
             "#fdca26"
            ],
            [
             1,
             "#f0f921"
            ]
           ]
          },
          "colorway": [
           "#636efa",
           "#EF553B",
           "#00cc96",
           "#ab63fa",
           "#FFA15A",
           "#19d3f3",
           "#FF6692",
           "#B6E880",
           "#FF97FF",
           "#FECB52"
          ],
          "font": {
           "color": "#2a3f5f"
          },
          "geo": {
           "bgcolor": "white",
           "lakecolor": "white",
           "landcolor": "#E5ECF6",
           "showlakes": true,
           "showland": true,
           "subunitcolor": "white"
          },
          "hoverlabel": {
           "align": "left"
          },
          "hovermode": "closest",
          "mapbox": {
           "style": "light"
          },
          "paper_bgcolor": "white",
          "plot_bgcolor": "#E5ECF6",
          "polar": {
           "angularaxis": {
            "gridcolor": "white",
            "linecolor": "white",
            "ticks": ""
           },
           "bgcolor": "#E5ECF6",
           "radialaxis": {
            "gridcolor": "white",
            "linecolor": "white",
            "ticks": ""
           }
          },
          "scene": {
           "xaxis": {
            "backgroundcolor": "#E5ECF6",
            "gridcolor": "white",
            "gridwidth": 2,
            "linecolor": "white",
            "showbackground": true,
            "ticks": "",
            "zerolinecolor": "white"
           },
           "yaxis": {
            "backgroundcolor": "#E5ECF6",
            "gridcolor": "white",
            "gridwidth": 2,
            "linecolor": "white",
            "showbackground": true,
            "ticks": "",
            "zerolinecolor": "white"
           },
           "zaxis": {
            "backgroundcolor": "#E5ECF6",
            "gridcolor": "white",
            "gridwidth": 2,
            "linecolor": "white",
            "showbackground": true,
            "ticks": "",
            "zerolinecolor": "white"
           }
          },
          "shapedefaults": {
           "line": {
            "color": "#2a3f5f"
           }
          },
          "ternary": {
           "aaxis": {
            "gridcolor": "white",
            "linecolor": "white",
            "ticks": ""
           },
           "baxis": {
            "gridcolor": "white",
            "linecolor": "white",
            "ticks": ""
           },
           "bgcolor": "#E5ECF6",
           "caxis": {
            "gridcolor": "white",
            "linecolor": "white",
            "ticks": ""
           }
          },
          "title": {
           "x": 0.05
          },
          "xaxis": {
           "automargin": true,
           "gridcolor": "white",
           "linecolor": "white",
           "ticks": "",
           "title": {
            "standoff": 15
           },
           "zerolinecolor": "white",
           "zerolinewidth": 2
          },
          "yaxis": {
           "automargin": true,
           "gridcolor": "white",
           "linecolor": "white",
           "ticks": "",
           "title": {
            "standoff": 15
           },
           "zerolinecolor": "white",
           "zerolinewidth": 2
          }
         }
        },
        "title": {
         "text": "PCA of TPM values"
        },
        "xaxis": {
         "anchor": "y",
         "domain": [
          0,
          1
         ],
         "title": {
          "text": "PC1"
         }
        },
        "yaxis": {
         "anchor": "x",
         "domain": [
          0,
          1
         ],
         "title": {
          "text": "PC2"
         }
        }
       }
      }
     },
     "metadata": {},
     "output_type": "display_data"
    }
   ],
   "source": [
    "# use plotly to create a 2d scatterplot\n",
    "fig = px.scatter(TPM_pca_df, x='PC1', y='PC2', title='PCA of TPM values')\n",
    "fig.show()"
   ]
  },
  {
   "cell_type": "code",
   "execution_count": null,
   "metadata": {},
   "outputs": [
    {
     "data": {
      "application/vnd.plotly.v1+json": {
       "config": {
        "plotlyServerURL": "https://plot.ly"
       },
       "data": [
        {
         "hovertemplate": "PC1=%{x}<br>PC2=%{y}<br>PC3=%{z}<extra></extra>",
         "legendgroup": "",
         "marker": {
          "color": "#636efa",
          "symbol": "circle"
         },
         "mode": "markers",
         "name": "",
         "scene": "scene",
         "showlegend": false,
         "type": "scatter3d",
         "x": [
          -0.6461835155654678,
          -0.228434298269136,
          3.2177867261612723,
          3.087337839408291,
          -0.19861496266853065,
          -0.25328638357559885,
          -0.4773783860052386,
          -0.08599587916306424,
          -0.3432421624256105,
          -0.6424189097842523,
          -0.260984494987361,
          -0.34914295219646546,
          -0.6766011485871877,
          -0.4782258895344875,
          -0.3292809434154056,
          -0.583504201886774,
          -0.36013273744508295,
          -0.36683182081308563,
          -0.4162662235421771,
          -0.19568140173394616,
          3.77682082870616,
          -0.44250097616839024,
          -0.2855187180904617,
          -0.4583497452674519,
          -0.2908102496059654,
          -0.17550230438644512,
          -0.1279062467412469,
          0.3716185289893102,
          -0.46242943554280325,
          4.411432237427092,
          -0.34300647657499583,
          -0.35301323878591406,
          -0.36730582289942615,
          0.054230332899615936,
          -0.29417311652366235,
          -0.4954755799363624,
          -0.41841854567840503,
          -0.5413122883195897,
          -0.3519737775805372,
          -0.26136563176672933,
          -0.40276583041426167,
          0.37690097679556805,
          -0.48114582648873555,
          -0.2228792829220058,
          -0.17288153338127588,
          -0.6171061385716247,
          -0.4307757610248541,
          -0.519108231913504,
          0.23743900168389193,
          -0.6374260277532721,
          0.4704912969271819,
          -0.42721286360636096,
          0.006138324725136489,
          -0.5632712094753509,
          -0.29884977619389824,
          0.7103252931997964,
          1.9285259690785272,
          -0.33331116471734384,
          0.3414411169485187,
          -0.03174848419063275,
          -0.39686851370032594,
          -0.5021950367578937,
          -0.004523212055252219,
          -0.051723105011185225,
          0.4593681353050364,
          -0.5132154489764092,
          -0.12116690172757837,
          -0.3526910800181407,
          0.43046601592009687,
          -0.2374729732231733,
          -0.43013429619937704,
          -0.4142666076880047,
          -0.4720084405733913,
          -0.46485552380619005,
          -0.41959142709875785,
          -0.37151830738423636,
          -0.21515433908481083,
          -0.35099002589023637,
          -0.3973958371413672,
          -0.4096201798310433,
          -0.31117771439011155,
          -0.32896162818037716,
          -0.13350901927849515,
          4.017001318756486,
          -0.12434887565642408,
          -0.49999695578506664,
          0.6578890520378916,
          -0.2668618228819724,
          -0.2798521955183788,
          -0.3134195306871016,
          -0.3663784123813886,
          -0.29035721576837364,
          -0.7307278444719111,
          -0.6136845629222086,
          -0.27786694665225975,
          -0.41222930384514916,
          -0.39815569402553297,
          0.1308443412505048,
          0.2551256911062885,
          -0.31165264408981347,
          0.022115482275936214,
          -0.5188946747202351,
          -0.5711328869918629,
          -0.2890722571083698,
          -0.4475593677659227,
          -0.387754598398883,
          -0.4665201274858595,
          -0.5763237641797885,
          -0.2003970218897825,
          -0.4436655962364607,
          -0.04148165315994201,
          1.2764676443565133,
          -0.5016094097083419,
          -0.2628780724790225,
          -0.30813648864578497,
          2.2276399934869837,
          1.6570202786646384,
          -0.048410763840944435,
          -0.27960343933786336,
          0.39721060340758757,
          -0.627371763513805,
          -0.30209116329415814,
          -0.22918829531145363,
          0.3307961894677141,
          -0.6267564738145814,
          0.18086790044656398,
          3.6162688799439056,
          -0.5990474058036963,
          -0.5938269053583056,
          -0.5579519543946714,
          4.09635246086027,
          -0.16926163342169592,
          -0.21266452455328722
         ],
         "y": [
          0.3075403861816956,
          0.686051805805836,
          -0.3606047284617547,
          -1.1305400716335348,
          -0.5532250707087409,
          1.2502958795978174,
          -0.01280849405432452,
          0.8720326453400277,
          0.11863205026585534,
          -0.2945304219154012,
          0.09266194164730224,
          -0.22264135447843802,
          0.4262249052085923,
          0.5056036576044024,
          -0.5192795242703516,
          -0.27162573418588215,
          0.03098477522527053,
          0.2748623633809649,
          0.6121397394778572,
          0.2534361984497934,
          -0.07662570578670871,
          -0.47620827922028175,
          -0.5797148644287768,
          -0.42381287780204585,
          -1.9862888790884428,
          0.24557322688933497,
          0.03984336225723788,
          2.9075673013351966,
          -0.41851634321922887,
          -0.33842040190297124,
          0.032728419743575626,
          0.9673071608115678,
          -0.6594903241257832,
          1.04869715315307,
          -1.86141586018262,
          0.5272368960571256,
          -0.2302644499690832,
          0.39987863497801496,
          -0.7023706022816529,
          -0.5726699708166078,
          -0.47795634983993235,
          0.9810390129612114,
          -0.3675335915933371,
          1.1873501222753318,
          -0.07719180743072042,
          -0.5256902382163164,
          -1.908766850566541,
          -0.02474097363761839,
          -0.6861246571266256,
          0.7490975057165066,
          2.629123319386035,
          -0.08351903298411038,
          1.0191200456928302,
          -0.45424494238594143,
          -0.3661283761731341,
          1.3681520196524015,
          -1.0534955941732524,
          -0.6531857557422491,
          -0.6237444554921435,
          -0.04924430540234567,
          -0.5467724884199504,
          -0.34362945562365266,
          0.800623296991412,
          -0.5750866914060947,
          2.7105879393339065,
          -0.8369477395727296,
          -0.547971842040668,
          0.038431847252483144,
          2.7597904555186465,
          0.9630067892351023,
          -0.7606847510485102,
          -1.7903603282458351,
          -0.45309476831642725,
          -0.3126965323145148,
          -0.3791674389344953,
          0.6070699414491368,
          -0.3704879455800154,
          0.8147482921183193,
          -0.04616102882706811,
          -0.06047031667315243,
          -0.7907333984835696,
          -0.07843570226788743,
          0.39929966971003505,
          -0.16817738566356744,
          0.9078672644766116,
          -1.776607363958642,
          -1.0597060115522454,
          -0.01507370924272504,
          -0.6750154466196778,
          -0.5683943787429314,
          1.0158963727381118,
          -0.2579268777046391,
          -0.7638911385226662,
          -0.8493856149061483,
          -0.3160914480470362,
          0.47870642727642776,
          -0.3647250995904386,
          -0.4362276484475229,
          2.9157827720634315,
          -0.08250879214691417,
          -0.5829329694133739,
          -1.3679361829506624,
          -0.4560415816477712,
          -1.694606355570902,
          -0.08467321533396586,
          0.8177622107808611,
          0.11771383687052675,
          0.27096056293666504,
          -0.010873696985561053,
          0.013124809835799082,
          -0.8924424884142862,
          -1.3886421392220256,
          -0.8048012218802038,
          0.697483643800079,
          0.7187353983340122,
          -1.2368412160630027,
          -1.2012463313278692,
          1.4458666447270163,
          0.6646004956304519,
          2.9642862839487436,
          -1.0646229122072284,
          0.260214782186156,
          -0.7152502936474311,
          2.7529676298941967,
          0.3608540136888437,
          2.909721269707799,
          -0.11023704511116761,
          -0.3230728626326192,
          -0.6236302320693557,
          -0.34779788143204254,
          -0.16071171772274664,
          -0.26532899869007437,
          -0.3385416050807422
         ],
         "z": [
          1.0556330306406259,
          -1.465170945407036,
          -0.9964506244872102,
          -0.30091874840951827,
          0.892546909449345,
          0.8146308753376932,
          1.5090607174120658,
          -1.9557803561921578,
          2.0042217252936867,
          -0.9281480771877191,
          -1.293110520347336,
          -0.4151599896282655,
          1.5538739708289255,
          -1.0113860253293563,
          0.0855660539175361,
          0.01930200688539804,
          0.662719250323155,
          -1.1246501636108266,
          -0.8093715424657666,
          0.8478579162276874,
          -0.3361563764659783,
          -0.22914085956714414,
          0.06895080665366678,
          -1.341913618814741,
          1.0131404438979883,
          -0.2533284748328862,
          -0.01550152683266067,
          1.1313432371083132,
          -0.1386988606155506,
          0.24944984064498452,
          -0.47330707991954846,
          -1.232878990944219,
          0.4936592603688613,
          0.47369979591940925,
          1.2233554625517957,
          -1.0168182201871347,
          -0.03943743868655277,
          -1.0197412552813934,
          -1.0292865395557353,
          0.45273574387171056,
          -1.0826365559366813,
          -0.003472517801923477,
          0.10653108203726123,
          -0.3642923943076744,
          1.605842872689268,
          -0.12242681909011308,
          1.3741418871264743,
          0.9179497944023014,
          0.04284139459163285,
          -0.9495922395610458,
          1.003604044945475,
          -1.5087557121285744,
          1.1056923337508082,
          0.04612527690445443,
          -1.3606442886578927,
          -0.6587274128281989,
          -0.4992158387827927,
          0.9507548921249891,
          1.1566800135653938,
          -0.6882816177590672,
          -0.6425521721630127,
          0.7332111920806483,
          0.2949070304215219,
          1.4470213386770407,
          1.6898163335133578,
          -0.8475338659937222,
          1.1727967911693853,
          1.5932900056610262,
          1.1722605146769112,
          -2.004197773548817,
          1.1801129178598553,
          0.9301259801947965,
          -0.7801451472675092,
          -0.08122632900072443,
          -0.1983056872990457,
          0.4552633725986738,
          0.19897870043745086,
          -1.564675291233176,
          -0.5810117727601826,
          0.7282188595041681,
          0.81896952948278,
          0.20442466770104556,
          -1.3921786141375068,
          0.19848848634559774,
          -1.822573264324376,
          0.8071866672417896,
          -0.14861020375357528,
          -1.167044247861631,
          0.05421528713389051,
          -1.1102522319314048,
          -0.7718492518339309,
          -0.07967663155980051,
          -0.07207582074489885,
          -0.5501470616935313,
          1.1209519140123794,
          -1.2959432569945457,
          0.0692337009841189,
          1.258251610772375,
          1.5697437794146643,
          -0.1732354933110325,
          1.5799454832925786,
          1.0539251165147725,
          -0.7842501336745156,
          1.369877876877219,
          -1.3678891124541788,
          -0.9831208926022363,
          -0.8129000024864299,
          -1.8105022106456234,
          1.4098749667902426,
          2.1422087661963847,
          0.7981977625449441,
          -0.3827964208191365,
          -0.03265897640208956,
          -1.2328775635191542,
          -1.3823499811567166,
          -0.46026810779850924,
          -0.7154434536878643,
          0.7698208680282801,
          -1.3078377103460468,
          1.1700277799064895,
          1.0772446792983628,
          -1.709445762412681,
          0.2958404003300807,
          1.2662367301399033,
          -1.4042825556617449,
          1.234323006838809,
          -0.4549472771866639,
          0.04374169130165978,
          0.18851414139931602,
          -0.445793799451541,
          0.047714042243685466,
          -0.4208670308017134,
          0.6489941090850357
         ]
        }
       ],
       "layout": {
        "legend": {
         "tracegroupgap": 0
        },
        "scene": {
         "domain": {
          "x": [
           0,
           1
          ],
          "y": [
           0,
           1
          ]
         },
         "xaxis": {
          "title": {
           "text": "PC1"
          }
         },
         "yaxis": {
          "title": {
           "text": "PC2"
          }
         },
         "zaxis": {
          "title": {
           "text": "PC3"
          }
         }
        },
        "template": {
         "data": {
          "bar": [
           {
            "error_x": {
             "color": "#2a3f5f"
            },
            "error_y": {
             "color": "#2a3f5f"
            },
            "marker": {
             "line": {
              "color": "#E5ECF6",
              "width": 0.5
             },
             "pattern": {
              "fillmode": "overlay",
              "size": 10,
              "solidity": 0.2
             }
            },
            "type": "bar"
           }
          ],
          "barpolar": [
           {
            "marker": {
             "line": {
              "color": "#E5ECF6",
              "width": 0.5
             },
             "pattern": {
              "fillmode": "overlay",
              "size": 10,
              "solidity": 0.2
             }
            },
            "type": "barpolar"
           }
          ],
          "carpet": [
           {
            "aaxis": {
             "endlinecolor": "#2a3f5f",
             "gridcolor": "white",
             "linecolor": "white",
             "minorgridcolor": "white",
             "startlinecolor": "#2a3f5f"
            },
            "baxis": {
             "endlinecolor": "#2a3f5f",
             "gridcolor": "white",
             "linecolor": "white",
             "minorgridcolor": "white",
             "startlinecolor": "#2a3f5f"
            },
            "type": "carpet"
           }
          ],
          "choropleth": [
           {
            "colorbar": {
             "outlinewidth": 0,
             "ticks": ""
            },
            "type": "choropleth"
           }
          ],
          "contour": [
           {
            "colorbar": {
             "outlinewidth": 0,
             "ticks": ""
            },
            "colorscale": [
             [
              0,
              "#0d0887"
             ],
             [
              0.1111111111111111,
              "#46039f"
             ],
             [
              0.2222222222222222,
              "#7201a8"
             ],
             [
              0.3333333333333333,
              "#9c179e"
             ],
             [
              0.4444444444444444,
              "#bd3786"
             ],
             [
              0.5555555555555556,
              "#d8576b"
             ],
             [
              0.6666666666666666,
              "#ed7953"
             ],
             [
              0.7777777777777778,
              "#fb9f3a"
             ],
             [
              0.8888888888888888,
              "#fdca26"
             ],
             [
              1,
              "#f0f921"
             ]
            ],
            "type": "contour"
           }
          ],
          "contourcarpet": [
           {
            "colorbar": {
             "outlinewidth": 0,
             "ticks": ""
            },
            "type": "contourcarpet"
           }
          ],
          "heatmap": [
           {
            "colorbar": {
             "outlinewidth": 0,
             "ticks": ""
            },
            "colorscale": [
             [
              0,
              "#0d0887"
             ],
             [
              0.1111111111111111,
              "#46039f"
             ],
             [
              0.2222222222222222,
              "#7201a8"
             ],
             [
              0.3333333333333333,
              "#9c179e"
             ],
             [
              0.4444444444444444,
              "#bd3786"
             ],
             [
              0.5555555555555556,
              "#d8576b"
             ],
             [
              0.6666666666666666,
              "#ed7953"
             ],
             [
              0.7777777777777778,
              "#fb9f3a"
             ],
             [
              0.8888888888888888,
              "#fdca26"
             ],
             [
              1,
              "#f0f921"
             ]
            ],
            "type": "heatmap"
           }
          ],
          "heatmapgl": [
           {
            "colorbar": {
             "outlinewidth": 0,
             "ticks": ""
            },
            "colorscale": [
             [
              0,
              "#0d0887"
             ],
             [
              0.1111111111111111,
              "#46039f"
             ],
             [
              0.2222222222222222,
              "#7201a8"
             ],
             [
              0.3333333333333333,
              "#9c179e"
             ],
             [
              0.4444444444444444,
              "#bd3786"
             ],
             [
              0.5555555555555556,
              "#d8576b"
             ],
             [
              0.6666666666666666,
              "#ed7953"
             ],
             [
              0.7777777777777778,
              "#fb9f3a"
             ],
             [
              0.8888888888888888,
              "#fdca26"
             ],
             [
              1,
              "#f0f921"
             ]
            ],
            "type": "heatmapgl"
           }
          ],
          "histogram": [
           {
            "marker": {
             "pattern": {
              "fillmode": "overlay",
              "size": 10,
              "solidity": 0.2
             }
            },
            "type": "histogram"
           }
          ],
          "histogram2d": [
           {
            "colorbar": {
             "outlinewidth": 0,
             "ticks": ""
            },
            "colorscale": [
             [
              0,
              "#0d0887"
             ],
             [
              0.1111111111111111,
              "#46039f"
             ],
             [
              0.2222222222222222,
              "#7201a8"
             ],
             [
              0.3333333333333333,
              "#9c179e"
             ],
             [
              0.4444444444444444,
              "#bd3786"
             ],
             [
              0.5555555555555556,
              "#d8576b"
             ],
             [
              0.6666666666666666,
              "#ed7953"
             ],
             [
              0.7777777777777778,
              "#fb9f3a"
             ],
             [
              0.8888888888888888,
              "#fdca26"
             ],
             [
              1,
              "#f0f921"
             ]
            ],
            "type": "histogram2d"
           }
          ],
          "histogram2dcontour": [
           {
            "colorbar": {
             "outlinewidth": 0,
             "ticks": ""
            },
            "colorscale": [
             [
              0,
              "#0d0887"
             ],
             [
              0.1111111111111111,
              "#46039f"
             ],
             [
              0.2222222222222222,
              "#7201a8"
             ],
             [
              0.3333333333333333,
              "#9c179e"
             ],
             [
              0.4444444444444444,
              "#bd3786"
             ],
             [
              0.5555555555555556,
              "#d8576b"
             ],
             [
              0.6666666666666666,
              "#ed7953"
             ],
             [
              0.7777777777777778,
              "#fb9f3a"
             ],
             [
              0.8888888888888888,
              "#fdca26"
             ],
             [
              1,
              "#f0f921"
             ]
            ],
            "type": "histogram2dcontour"
           }
          ],
          "mesh3d": [
           {
            "colorbar": {
             "outlinewidth": 0,
             "ticks": ""
            },
            "type": "mesh3d"
           }
          ],
          "parcoords": [
           {
            "line": {
             "colorbar": {
              "outlinewidth": 0,
              "ticks": ""
             }
            },
            "type": "parcoords"
           }
          ],
          "pie": [
           {
            "automargin": true,
            "type": "pie"
           }
          ],
          "scatter": [
           {
            "fillpattern": {
             "fillmode": "overlay",
             "size": 10,
             "solidity": 0.2
            },
            "type": "scatter"
           }
          ],
          "scatter3d": [
           {
            "line": {
             "colorbar": {
              "outlinewidth": 0,
              "ticks": ""
             }
            },
            "marker": {
             "colorbar": {
              "outlinewidth": 0,
              "ticks": ""
             }
            },
            "type": "scatter3d"
           }
          ],
          "scattercarpet": [
           {
            "marker": {
             "colorbar": {
              "outlinewidth": 0,
              "ticks": ""
             }
            },
            "type": "scattercarpet"
           }
          ],
          "scattergeo": [
           {
            "marker": {
             "colorbar": {
              "outlinewidth": 0,
              "ticks": ""
             }
            },
            "type": "scattergeo"
           }
          ],
          "scattergl": [
           {
            "marker": {
             "colorbar": {
              "outlinewidth": 0,
              "ticks": ""
             }
            },
            "type": "scattergl"
           }
          ],
          "scattermapbox": [
           {
            "marker": {
             "colorbar": {
              "outlinewidth": 0,
              "ticks": ""
             }
            },
            "type": "scattermapbox"
           }
          ],
          "scatterpolar": [
           {
            "marker": {
             "colorbar": {
              "outlinewidth": 0,
              "ticks": ""
             }
            },
            "type": "scatterpolar"
           }
          ],
          "scatterpolargl": [
           {
            "marker": {
             "colorbar": {
              "outlinewidth": 0,
              "ticks": ""
             }
            },
            "type": "scatterpolargl"
           }
          ],
          "scatterternary": [
           {
            "marker": {
             "colorbar": {
              "outlinewidth": 0,
              "ticks": ""
             }
            },
            "type": "scatterternary"
           }
          ],
          "surface": [
           {
            "colorbar": {
             "outlinewidth": 0,
             "ticks": ""
            },
            "colorscale": [
             [
              0,
              "#0d0887"
             ],
             [
              0.1111111111111111,
              "#46039f"
             ],
             [
              0.2222222222222222,
              "#7201a8"
             ],
             [
              0.3333333333333333,
              "#9c179e"
             ],
             [
              0.4444444444444444,
              "#bd3786"
             ],
             [
              0.5555555555555556,
              "#d8576b"
             ],
             [
              0.6666666666666666,
              "#ed7953"
             ],
             [
              0.7777777777777778,
              "#fb9f3a"
             ],
             [
              0.8888888888888888,
              "#fdca26"
             ],
             [
              1,
              "#f0f921"
             ]
            ],
            "type": "surface"
           }
          ],
          "table": [
           {
            "cells": {
             "fill": {
              "color": "#EBF0F8"
             },
             "line": {
              "color": "white"
             }
            },
            "header": {
             "fill": {
              "color": "#C8D4E3"
             },
             "line": {
              "color": "white"
             }
            },
            "type": "table"
           }
          ]
         },
         "layout": {
          "annotationdefaults": {
           "arrowcolor": "#2a3f5f",
           "arrowhead": 0,
           "arrowwidth": 1
          },
          "autotypenumbers": "strict",
          "coloraxis": {
           "colorbar": {
            "outlinewidth": 0,
            "ticks": ""
           }
          },
          "colorscale": {
           "diverging": [
            [
             0,
             "#8e0152"
            ],
            [
             0.1,
             "#c51b7d"
            ],
            [
             0.2,
             "#de77ae"
            ],
            [
             0.3,
             "#f1b6da"
            ],
            [
             0.4,
             "#fde0ef"
            ],
            [
             0.5,
             "#f7f7f7"
            ],
            [
             0.6,
             "#e6f5d0"
            ],
            [
             0.7,
             "#b8e186"
            ],
            [
             0.8,
             "#7fbc41"
            ],
            [
             0.9,
             "#4d9221"
            ],
            [
             1,
             "#276419"
            ]
           ],
           "sequential": [
            [
             0,
             "#0d0887"
            ],
            [
             0.1111111111111111,
             "#46039f"
            ],
            [
             0.2222222222222222,
             "#7201a8"
            ],
            [
             0.3333333333333333,
             "#9c179e"
            ],
            [
             0.4444444444444444,
             "#bd3786"
            ],
            [
             0.5555555555555556,
             "#d8576b"
            ],
            [
             0.6666666666666666,
             "#ed7953"
            ],
            [
             0.7777777777777778,
             "#fb9f3a"
            ],
            [
             0.8888888888888888,
             "#fdca26"
            ],
            [
             1,
             "#f0f921"
            ]
           ],
           "sequentialminus": [
            [
             0,
             "#0d0887"
            ],
            [
             0.1111111111111111,
             "#46039f"
            ],
            [
             0.2222222222222222,
             "#7201a8"
            ],
            [
             0.3333333333333333,
             "#9c179e"
            ],
            [
             0.4444444444444444,
             "#bd3786"
            ],
            [
             0.5555555555555556,
             "#d8576b"
            ],
            [
             0.6666666666666666,
             "#ed7953"
            ],
            [
             0.7777777777777778,
             "#fb9f3a"
            ],
            [
             0.8888888888888888,
             "#fdca26"
            ],
            [
             1,
             "#f0f921"
            ]
           ]
          },
          "colorway": [
           "#636efa",
           "#EF553B",
           "#00cc96",
           "#ab63fa",
           "#FFA15A",
           "#19d3f3",
           "#FF6692",
           "#B6E880",
           "#FF97FF",
           "#FECB52"
          ],
          "font": {
           "color": "#2a3f5f"
          },
          "geo": {
           "bgcolor": "white",
           "lakecolor": "white",
           "landcolor": "#E5ECF6",
           "showlakes": true,
           "showland": true,
           "subunitcolor": "white"
          },
          "hoverlabel": {
           "align": "left"
          },
          "hovermode": "closest",
          "mapbox": {
           "style": "light"
          },
          "paper_bgcolor": "white",
          "plot_bgcolor": "#E5ECF6",
          "polar": {
           "angularaxis": {
            "gridcolor": "white",
            "linecolor": "white",
            "ticks": ""
           },
           "bgcolor": "#E5ECF6",
           "radialaxis": {
            "gridcolor": "white",
            "linecolor": "white",
            "ticks": ""
           }
          },
          "scene": {
           "xaxis": {
            "backgroundcolor": "#E5ECF6",
            "gridcolor": "white",
            "gridwidth": 2,
            "linecolor": "white",
            "showbackground": true,
            "ticks": "",
            "zerolinecolor": "white"
           },
           "yaxis": {
            "backgroundcolor": "#E5ECF6",
            "gridcolor": "white",
            "gridwidth": 2,
            "linecolor": "white",
            "showbackground": true,
            "ticks": "",
            "zerolinecolor": "white"
           },
           "zaxis": {
            "backgroundcolor": "#E5ECF6",
            "gridcolor": "white",
            "gridwidth": 2,
            "linecolor": "white",
            "showbackground": true,
            "ticks": "",
            "zerolinecolor": "white"
           }
          },
          "shapedefaults": {
           "line": {
            "color": "#2a3f5f"
           }
          },
          "ternary": {
           "aaxis": {
            "gridcolor": "white",
            "linecolor": "white",
            "ticks": ""
           },
           "baxis": {
            "gridcolor": "white",
            "linecolor": "white",
            "ticks": ""
           },
           "bgcolor": "#E5ECF6",
           "caxis": {
            "gridcolor": "white",
            "linecolor": "white",
            "ticks": ""
           }
          },
          "title": {
           "x": 0.05
          },
          "xaxis": {
           "automargin": true,
           "gridcolor": "white",
           "linecolor": "white",
           "ticks": "",
           "title": {
            "standoff": 15
           },
           "zerolinecolor": "white",
           "zerolinewidth": 2
          },
          "yaxis": {
           "automargin": true,
           "gridcolor": "white",
           "linecolor": "white",
           "ticks": "",
           "title": {
            "standoff": 15
           },
           "zerolinecolor": "white",
           "zerolinewidth": 2
          }
         }
        },
        "title": {
         "text": "PCA of TPM values"
        }
       }
      }
     },
     "metadata": {},
     "output_type": "display_data"
    }
   ],
   "source": [
    "# use plotly to create a 3d scatterplot\n",
    "fig = px.scatter_3d(TPM_pca_df, x='PC1', y='PC2', z='PC3', title='PCA of TPM values')\n",
    "fig.show()"
   ]
  },
  {
   "cell_type": "code",
   "execution_count": null,
   "metadata": {},
   "outputs": [
    {
     "data": {
      "text/html": [
       "<div>\n",
       "<style scoped>\n",
       "    .dataframe tbody tr th:only-of-type {\n",
       "        vertical-align: middle;\n",
       "    }\n",
       "\n",
       "    .dataframe tbody tr th {\n",
       "        vertical-align: top;\n",
       "    }\n",
       "\n",
       "    .dataframe thead th {\n",
       "        text-align: right;\n",
       "    }\n",
       "</style>\n",
       "<table border=\"1\" class=\"dataframe\">\n",
       "  <thead>\n",
       "    <tr style=\"text-align: right;\">\n",
       "      <th></th>\n",
       "      <th>aliquot_id</th>\n",
       "      <th>read_group_id</th>\n",
       "      <th>has_blood_cancer</th>\n",
       "      <th>tissue_type</th>\n",
       "      <th>instrument_model</th>\n",
       "      <th>RIN</th>\n",
       "      <th>includes_spike_ins</th>\n",
       "      <th>library_preparation_kit_name</th>\n",
       "      <th>library_preparation_kit_vendor</th>\n",
       "      <th>library_preparation_kit_version</th>\n",
       "      <th>library_preparation_kit_catalog_number</th>\n",
       "      <th>library_selection</th>\n",
       "      <th>library_strand</th>\n",
       "      <th>library_strategy</th>\n",
       "      <th>size_selection_range</th>\n",
       "      <th>spike_ins_concentration</th>\n",
       "      <th>demographic_id</th>\n",
       "      <th>diagnosis_id</th>\n",
       "      <th>batch_id</th>\n",
       "      <th>index_date</th>\n",
       "      <th>cause_of_death</th>\n",
       "      <th>days_to_birth</th>\n",
       "      <th>days_to_death</th>\n",
       "      <th>ethnicity</th>\n",
       "      <th>gender</th>\n",
       "      <th>race</th>\n",
       "      <th>vital_status</th>\n",
       "      <th>adrenal_hormone</th>\n",
       "      <th>age_at_diagnosis</th>\n",
       "      <th>ajcc_clinical_m</th>\n",
       "      <th>ajcc_clinical_n</th>\n",
       "      <th>ajcc_clinical_stage</th>\n",
       "      <th>ajcc_clinical_t</th>\n",
       "      <th>ajcc_pathologic_m</th>\n",
       "      <th>ajcc_pathologic_n</th>\n",
       "      <th>ajcc_pathologic_stage</th>\n",
       "      <th>ajcc_pathologic_t</th>\n",
       "      <th>ajcc_staging_system_edition</th>\n",
       "      <th>ann_arbor_b_symptoms</th>\n",
       "      <th>ann_arbor_b_symptoms_described</th>\n",
       "      <th>ann_arbor_clinical_stage</th>\n",
       "      <th>ann_arbor_extranodal_involvement</th>\n",
       "      <th>ann_arbor_pathologic_stage</th>\n",
       "      <th>best_overall_response</th>\n",
       "      <th>burkitt_lymphoma_clinical_variant</th>\n",
       "      <th>child_pugh_classification</th>\n",
       "      <th>classification_of_tumor</th>\n",
       "      <th>cog_liver_stage</th>\n",
       "      <th>cog_neuroblastoma_risk_group</th>\n",
       "      <th>cog_renal_stage</th>\n",
       "      <th>cog_rhabdomyosarcoma_risk_group</th>\n",
       "      <th>created_datetime</th>\n",
       "      <th>days_to_best_overall_response</th>\n",
       "      <th>days_to_diagnosis</th>\n",
       "      <th>days_to_last_follow_up</th>\n",
       "      <th>days_to_last_known_disease_status</th>\n",
       "      <th>days_to_recurrence</th>\n",
       "      <th>diagnosis_is_primary_disease</th>\n",
       "      <th>eln_risk_classification</th>\n",
       "      <th>enneking_msts_grade</th>\n",
       "      <th>enneking_msts_metastasis</th>\n",
       "      <th>enneking_msts_stage</th>\n",
       "      <th>enneking_msts_tumor_site</th>\n",
       "      <th>esophageal_columnar_dysplasia_degree</th>\n",
       "      <th>esophageal_columnar_metaplasia_present</th>\n",
       "      <th>figo_stage</th>\n",
       "      <th>figo_staging_edition_year</th>\n",
       "      <th>first_symptom_prior_to_diagnosis</th>\n",
       "      <th>gastric_esophageal_junction_involvement</th>\n",
       "      <th>gleason_grade_group</th>\n",
       "      <th>gleason_grade_tertiary</th>\n",
       "      <th>gleason_patterns_percent</th>\n",
       "      <th>goblet_cells_columnar_mucosa_present</th>\n",
       "      <th>icd_10_code</th>\n",
       "      <th>igcccg_stage</th>\n",
       "      <th>inpc_grade</th>\n",
       "      <th>inpc_histologic_group</th>\n",
       "      <th>inrg_stage</th>\n",
       "      <th>inss_stage</th>\n",
       "      <th>international_prognostic_index</th>\n",
       "      <th>irs_group</th>\n",
       "      <th>irs_stage</th>\n",
       "      <th>ishak_fibrosis_score</th>\n",
       "      <th>iss_stage</th>\n",
       "      <th>last_known_disease_status</th>\n",
       "      <th>laterality</th>\n",
       "      <th>margin_distance</th>\n",
       "      <th>margins_involved_site</th>\n",
       "      <th>masaoka_stage</th>\n",
       "      <th>medulloblastoma_molecular_classification</th>\n",
       "      <th>metastasis_at_diagnosis</th>\n",
       "      <th>metastasis_at_diagnosis_site</th>\n",
       "      <th>method_of_diagnosis</th>\n",
       "      <th>micropapillary_features</th>\n",
       "      <th>mitosis_karyorrhexis_index</th>\n",
       "      <th>mitotic_count</th>\n",
       "      <th>morphology</th>\n",
       "      <th>ovarian_specimen_status</th>\n",
       "      <th>ovarian_surface_involvement</th>\n",
       "      <th>papillary_renal_cell_type</th>\n",
       "      <th>peritoneal_fluid_cytological_status</th>\n",
       "      <th>pregnant_at_diagnosis</th>\n",
       "      <th>primary_diagnosis</th>\n",
       "      <th>primary_disease</th>\n",
       "      <th>primary_gleason_grade</th>\n",
       "      <th>prior_malignancy</th>\n",
       "      <th>prior_treatment</th>\n",
       "      <th>progression_or_recurrence</th>\n",
       "      <th>project_id.1</th>\n",
       "      <th>residual_disease</th>\n",
       "      <th>satellite_nodule_present</th>\n",
       "      <th>secondary_gleason_grade</th>\n",
       "      <th>site_of_resection_or_biopsy</th>\n",
       "      <th>sites_of_involvement</th>\n",
       "      <th>submitter_id</th>\n",
       "      <th>supratentorial_localization</th>\n",
       "      <th>synchronous_malignancy</th>\n",
       "      <th>tissue_or_organ_of_origin</th>\n",
       "      <th>tumor_confined_to_organ_of_origin</th>\n",
       "      <th>tumor_depth</th>\n",
       "      <th>tumor_focality</th>\n",
       "      <th>tumor_grade</th>\n",
       "      <th>tumor_regression_grade</th>\n",
       "      <th>updated_datetime</th>\n",
       "      <th>weiss_assessment_score</th>\n",
       "      <th>who_cns_grade</th>\n",
       "      <th>who_nte_grade</th>\n",
       "      <th>wilms_tumor_histologic_subtype</th>\n",
       "      <th>year_of_diagnosis</th>\n",
       "      <th>disease_type</th>\n",
       "      <th>primary_site</th>\n",
       "      <th>project_id</th>\n",
       "    </tr>\n",
       "    <tr>\n",
       "      <th>case_id</th>\n",
       "      <th></th>\n",
       "      <th></th>\n",
       "      <th></th>\n",
       "      <th></th>\n",
       "      <th></th>\n",
       "      <th></th>\n",
       "      <th></th>\n",
       "      <th></th>\n",
       "      <th></th>\n",
       "      <th></th>\n",
       "      <th></th>\n",
       "      <th></th>\n",
       "      <th></th>\n",
       "      <th></th>\n",
       "      <th></th>\n",
       "      <th></th>\n",
       "      <th></th>\n",
       "      <th></th>\n",
       "      <th></th>\n",
       "      <th></th>\n",
       "      <th></th>\n",
       "      <th></th>\n",
       "      <th></th>\n",
       "      <th></th>\n",
       "      <th></th>\n",
       "      <th></th>\n",
       "      <th></th>\n",
       "      <th></th>\n",
       "      <th></th>\n",
       "      <th></th>\n",
       "      <th></th>\n",
       "      <th></th>\n",
       "      <th></th>\n",
       "      <th></th>\n",
       "      <th></th>\n",
       "      <th></th>\n",
       "      <th></th>\n",
       "      <th></th>\n",
       "      <th></th>\n",
       "      <th></th>\n",
       "      <th></th>\n",
       "      <th></th>\n",
       "      <th></th>\n",
       "      <th></th>\n",
       "      <th></th>\n",
       "      <th></th>\n",
       "      <th></th>\n",
       "      <th></th>\n",
       "      <th></th>\n",
       "      <th></th>\n",
       "      <th></th>\n",
       "      <th></th>\n",
       "      <th></th>\n",
       "      <th></th>\n",
       "      <th></th>\n",
       "      <th></th>\n",
       "      <th></th>\n",
       "      <th></th>\n",
       "      <th></th>\n",
       "      <th></th>\n",
       "      <th></th>\n",
       "      <th></th>\n",
       "      <th></th>\n",
       "      <th></th>\n",
       "      <th></th>\n",
       "      <th></th>\n",
       "      <th></th>\n",
       "      <th></th>\n",
       "      <th></th>\n",
       "      <th></th>\n",
       "      <th></th>\n",
       "      <th></th>\n",
       "      <th></th>\n",
       "      <th></th>\n",
       "      <th></th>\n",
       "      <th></th>\n",
       "      <th></th>\n",
       "      <th></th>\n",
       "      <th></th>\n",
       "      <th></th>\n",
       "      <th></th>\n",
       "      <th></th>\n",
       "      <th></th>\n",
       "      <th></th>\n",
       "      <th></th>\n",
       "      <th></th>\n",
       "      <th></th>\n",
       "      <th></th>\n",
       "      <th></th>\n",
       "      <th></th>\n",
       "      <th></th>\n",
       "      <th></th>\n",
       "      <th></th>\n",
       "      <th></th>\n",
       "      <th></th>\n",
       "      <th></th>\n",
       "      <th></th>\n",
       "      <th></th>\n",
       "      <th></th>\n",
       "      <th></th>\n",
       "      <th></th>\n",
       "      <th></th>\n",
       "      <th></th>\n",
       "      <th></th>\n",
       "      <th></th>\n",
       "      <th></th>\n",
       "      <th></th>\n",
       "      <th></th>\n",
       "      <th></th>\n",
       "      <th></th>\n",
       "      <th></th>\n",
       "      <th></th>\n",
       "      <th></th>\n",
       "      <th></th>\n",
       "      <th></th>\n",
       "      <th></th>\n",
       "      <th></th>\n",
       "      <th></th>\n",
       "      <th></th>\n",
       "      <th></th>\n",
       "      <th></th>\n",
       "      <th></th>\n",
       "      <th></th>\n",
       "      <th></th>\n",
       "      <th></th>\n",
       "      <th></th>\n",
       "      <th></th>\n",
       "      <th></th>\n",
       "      <th></th>\n",
       "      <th></th>\n",
       "      <th></th>\n",
       "      <th></th>\n",
       "    </tr>\n",
       "  </thead>\n",
       "  <tbody>\n",
       "    <tr>\n",
       "      <th>5705efcc-b48f-435c-8a28-9e0d407ecadd</th>\n",
       "      <td>75ac0619-947a-427b-a53f-71e121a7ec8f</td>\n",
       "      <td>71894d8b-5210-44dc-aadc-a199d3843dd2</td>\n",
       "      <td>False</td>\n",
       "      <td>Tumor</td>\n",
       "      <td>Illumina HiSeq 4000</td>\n",
       "      <td>NaN</td>\n",
       "      <td>True</td>\n",
       "      <td>TruSeq Stranded Total RNA Library Prep Kit wit...</td>\n",
       "      <td>Illumina</td>\n",
       "      <td>NaN</td>\n",
       "      <td>NaN</td>\n",
       "      <td>rRNA Depletion</td>\n",
       "      <td>First_Stranded</td>\n",
       "      <td>RNA-Seq</td>\n",
       "      <td>308.0</td>\n",
       "      <td>1.0</td>\n",
       "      <td>f1ec7b5b-7f11-41e6-9fb4-a27fb2adc8f1</td>\n",
       "      <td>c7f325cd-98a6-4996-825e-1c23b86e1a22</td>\n",
       "      <td>2.0</td>\n",
       "      <td>Diagnosis</td>\n",
       "      <td>NaN</td>\n",
       "      <td>-22142.0</td>\n",
       "      <td>NaN</td>\n",
       "      <td>not hispanic or latino</td>\n",
       "      <td>female</td>\n",
       "      <td>white</td>\n",
       "      <td>Alive</td>\n",
       "      <td>NaN</td>\n",
       "      <td>22142.0</td>\n",
       "      <td>M0</td>\n",
       "      <td>NaN</td>\n",
       "      <td>NaN</td>\n",
       "      <td>NaN</td>\n",
       "      <td>Unknown</td>\n",
       "      <td>NX</td>\n",
       "      <td>Stage I</td>\n",
       "      <td>T1a</td>\n",
       "      <td>7th</td>\n",
       "      <td>NaN</td>\n",
       "      <td>NaN</td>\n",
       "      <td>NaN</td>\n",
       "      <td>NaN</td>\n",
       "      <td>NaN</td>\n",
       "      <td>NaN</td>\n",
       "      <td>NaN</td>\n",
       "      <td>NaN</td>\n",
       "      <td>NaN</td>\n",
       "      <td>NaN</td>\n",
       "      <td>NaN</td>\n",
       "      <td>NaN</td>\n",
       "      <td>NaN</td>\n",
       "      <td>2018-05-17T23:34:39.302537-05:00</td>\n",
       "      <td>NaN</td>\n",
       "      <td>NaN</td>\n",
       "      <td>823.0</td>\n",
       "      <td>823.0</td>\n",
       "      <td>NaN</td>\n",
       "      <td>True</td>\n",
       "      <td>NaN</td>\n",
       "      <td>NaN</td>\n",
       "      <td>NaN</td>\n",
       "      <td>NaN</td>\n",
       "      <td>NaN</td>\n",
       "      <td>NaN</td>\n",
       "      <td>NaN</td>\n",
       "      <td>Stage I</td>\n",
       "      <td>NaN</td>\n",
       "      <td>NaN</td>\n",
       "      <td>NaN</td>\n",
       "      <td>NaN</td>\n",
       "      <td>NaN</td>\n",
       "      <td>NaN</td>\n",
       "      <td>NaN</td>\n",
       "      <td>NaN</td>\n",
       "      <td>NaN</td>\n",
       "      <td>NaN</td>\n",
       "      <td>NaN</td>\n",
       "      <td>NaN</td>\n",
       "      <td>NaN</td>\n",
       "      <td>NaN</td>\n",
       "      <td>NaN</td>\n",
       "      <td>NaN</td>\n",
       "      <td>NaN</td>\n",
       "      <td>NaN</td>\n",
       "      <td>Tumor free</td>\n",
       "      <td>NaN</td>\n",
       "      <td>NaN</td>\n",
       "      <td>NaN</td>\n",
       "      <td>NaN</td>\n",
       "      <td>NaN</td>\n",
       "      <td>NaN</td>\n",
       "      <td>NaN</td>\n",
       "      <td>NaN</td>\n",
       "      <td>NaN</td>\n",
       "      <td>NaN</td>\n",
       "      <td>NaN</td>\n",
       "      <td>8380/3</td>\n",
       "      <td>NaN</td>\n",
       "      <td>NaN</td>\n",
       "      <td>NaN</td>\n",
       "      <td>NaN</td>\n",
       "      <td>NaN</td>\n",
       "      <td>Endometrioid adenocarcinoma, NOS</td>\n",
       "      <td>NaN</td>\n",
       "      <td>NaN</td>\n",
       "      <td>NaN</td>\n",
       "      <td>NaN</td>\n",
       "      <td>no</td>\n",
       "      <td>CPTAC-3</td>\n",
       "      <td>R0</td>\n",
       "      <td>NaN</td>\n",
       "      <td>NaN</td>\n",
       "      <td>Corpus uteri</td>\n",
       "      <td>NaN</td>\n",
       "      <td>C3L-00137-DIAG</td>\n",
       "      <td>NaN</td>\n",
       "      <td>NaN</td>\n",
       "      <td>Corpus uteri</td>\n",
       "      <td>NaN</td>\n",
       "      <td>NaN</td>\n",
       "      <td>Unifocal</td>\n",
       "      <td>G1</td>\n",
       "      <td>NaN</td>\n",
       "      <td>2021-09-22T14:36:32.037275-05:00</td>\n",
       "      <td>NaN</td>\n",
       "      <td>NaN</td>\n",
       "      <td>NaN</td>\n",
       "      <td>NaN</td>\n",
       "      <td>2016.0</td>\n",
       "      <td>Adenomas and Adenocarcinomas</td>\n",
       "      <td>Uterus, NOS</td>\n",
       "      <td>CPTAC-3</td>\n",
       "    </tr>\n",
       "    <tr>\n",
       "      <th>5705efcc-b48f-435c-8a28-9e0d407ecadd</th>\n",
       "      <td>948c4d53-3d91-48a6-bec4-0cc96020e572</td>\n",
       "      <td>86774648-bb57-42c3-b835-9fb11b590d8b</td>\n",
       "      <td>False</td>\n",
       "      <td>Tumor</td>\n",
       "      <td>NaN</td>\n",
       "      <td>NaN</td>\n",
       "      <td>NaN</td>\n",
       "      <td>NaN</td>\n",
       "      <td>NaN</td>\n",
       "      <td>NaN</td>\n",
       "      <td>NaN</td>\n",
       "      <td>rRNA Depletion</td>\n",
       "      <td>NaN</td>\n",
       "      <td>RNA-Seq</td>\n",
       "      <td>NaN</td>\n",
       "      <td>NaN</td>\n",
       "      <td>f1ec7b5b-7f11-41e6-9fb4-a27fb2adc8f1</td>\n",
       "      <td>c7f325cd-98a6-4996-825e-1c23b86e1a22</td>\n",
       "      <td>2.0</td>\n",
       "      <td>Diagnosis</td>\n",
       "      <td>NaN</td>\n",
       "      <td>-22142.0</td>\n",
       "      <td>NaN</td>\n",
       "      <td>not hispanic or latino</td>\n",
       "      <td>female</td>\n",
       "      <td>white</td>\n",
       "      <td>Alive</td>\n",
       "      <td>NaN</td>\n",
       "      <td>22142.0</td>\n",
       "      <td>M0</td>\n",
       "      <td>NaN</td>\n",
       "      <td>NaN</td>\n",
       "      <td>NaN</td>\n",
       "      <td>Unknown</td>\n",
       "      <td>NX</td>\n",
       "      <td>Stage I</td>\n",
       "      <td>T1a</td>\n",
       "      <td>7th</td>\n",
       "      <td>NaN</td>\n",
       "      <td>NaN</td>\n",
       "      <td>NaN</td>\n",
       "      <td>NaN</td>\n",
       "      <td>NaN</td>\n",
       "      <td>NaN</td>\n",
       "      <td>NaN</td>\n",
       "      <td>NaN</td>\n",
       "      <td>NaN</td>\n",
       "      <td>NaN</td>\n",
       "      <td>NaN</td>\n",
       "      <td>NaN</td>\n",
       "      <td>NaN</td>\n",
       "      <td>2018-05-17T23:34:39.302537-05:00</td>\n",
       "      <td>NaN</td>\n",
       "      <td>NaN</td>\n",
       "      <td>823.0</td>\n",
       "      <td>823.0</td>\n",
       "      <td>NaN</td>\n",
       "      <td>True</td>\n",
       "      <td>NaN</td>\n",
       "      <td>NaN</td>\n",
       "      <td>NaN</td>\n",
       "      <td>NaN</td>\n",
       "      <td>NaN</td>\n",
       "      <td>NaN</td>\n",
       "      <td>NaN</td>\n",
       "      <td>Stage I</td>\n",
       "      <td>NaN</td>\n",
       "      <td>NaN</td>\n",
       "      <td>NaN</td>\n",
       "      <td>NaN</td>\n",
       "      <td>NaN</td>\n",
       "      <td>NaN</td>\n",
       "      <td>NaN</td>\n",
       "      <td>NaN</td>\n",
       "      <td>NaN</td>\n",
       "      <td>NaN</td>\n",
       "      <td>NaN</td>\n",
       "      <td>NaN</td>\n",
       "      <td>NaN</td>\n",
       "      <td>NaN</td>\n",
       "      <td>NaN</td>\n",
       "      <td>NaN</td>\n",
       "      <td>NaN</td>\n",
       "      <td>NaN</td>\n",
       "      <td>Tumor free</td>\n",
       "      <td>NaN</td>\n",
       "      <td>NaN</td>\n",
       "      <td>NaN</td>\n",
       "      <td>NaN</td>\n",
       "      <td>NaN</td>\n",
       "      <td>NaN</td>\n",
       "      <td>NaN</td>\n",
       "      <td>NaN</td>\n",
       "      <td>NaN</td>\n",
       "      <td>NaN</td>\n",
       "      <td>NaN</td>\n",
       "      <td>8380/3</td>\n",
       "      <td>NaN</td>\n",
       "      <td>NaN</td>\n",
       "      <td>NaN</td>\n",
       "      <td>NaN</td>\n",
       "      <td>NaN</td>\n",
       "      <td>Endometrioid adenocarcinoma, NOS</td>\n",
       "      <td>NaN</td>\n",
       "      <td>NaN</td>\n",
       "      <td>NaN</td>\n",
       "      <td>NaN</td>\n",
       "      <td>no</td>\n",
       "      <td>CPTAC-3</td>\n",
       "      <td>R0</td>\n",
       "      <td>NaN</td>\n",
       "      <td>NaN</td>\n",
       "      <td>Corpus uteri</td>\n",
       "      <td>NaN</td>\n",
       "      <td>C3L-00137-DIAG</td>\n",
       "      <td>NaN</td>\n",
       "      <td>NaN</td>\n",
       "      <td>Corpus uteri</td>\n",
       "      <td>NaN</td>\n",
       "      <td>NaN</td>\n",
       "      <td>Unifocal</td>\n",
       "      <td>G1</td>\n",
       "      <td>NaN</td>\n",
       "      <td>2021-09-22T14:36:32.037275-05:00</td>\n",
       "      <td>NaN</td>\n",
       "      <td>NaN</td>\n",
       "      <td>NaN</td>\n",
       "      <td>NaN</td>\n",
       "      <td>2016.0</td>\n",
       "      <td>Adenomas and Adenocarcinomas</td>\n",
       "      <td>Uterus, NOS</td>\n",
       "      <td>CPTAC-3</td>\n",
       "    </tr>\n",
       "    <tr>\n",
       "      <th>763e0702-8379-4b5e-95d1-a84f412c51e7</th>\n",
       "      <td>ce810e2e-4929-4bbc-95ff-6da493477391</td>\n",
       "      <td>c2980255-7c57-4b79-82a7-f77098ff164e</td>\n",
       "      <td>False</td>\n",
       "      <td>Tumor</td>\n",
       "      <td>Illumina HiSeq 4000</td>\n",
       "      <td>NaN</td>\n",
       "      <td>True</td>\n",
       "      <td>TruSeq Stranded Total RNA Library Prep Kit wit...</td>\n",
       "      <td>Illumina</td>\n",
       "      <td>NaN</td>\n",
       "      <td>NaN</td>\n",
       "      <td>rRNA Depletion</td>\n",
       "      <td>First_Stranded</td>\n",
       "      <td>RNA-Seq</td>\n",
       "      <td>342.0</td>\n",
       "      <td>1.0</td>\n",
       "      <td>2cb2a0b4-acd0-4529-b7ed-deaf1aa119c6</td>\n",
       "      <td>5e74687f-b68b-4891-9a20-1a68826ca706</td>\n",
       "      <td>2.0</td>\n",
       "      <td>Diagnosis</td>\n",
       "      <td>NaN</td>\n",
       "      <td>-22179.0</td>\n",
       "      <td>NaN</td>\n",
       "      <td>not hispanic or latino</td>\n",
       "      <td>female</td>\n",
       "      <td>white</td>\n",
       "      <td>Alive</td>\n",
       "      <td>NaN</td>\n",
       "      <td>22179.0</td>\n",
       "      <td>Unknown</td>\n",
       "      <td>NaN</td>\n",
       "      <td>NaN</td>\n",
       "      <td>NaN</td>\n",
       "      <td>Unknown</td>\n",
       "      <td>NX</td>\n",
       "      <td>Stage II</td>\n",
       "      <td>T2b</td>\n",
       "      <td>7th</td>\n",
       "      <td>NaN</td>\n",
       "      <td>NaN</td>\n",
       "      <td>NaN</td>\n",
       "      <td>NaN</td>\n",
       "      <td>NaN</td>\n",
       "      <td>NaN</td>\n",
       "      <td>NaN</td>\n",
       "      <td>NaN</td>\n",
       "      <td>NaN</td>\n",
       "      <td>NaN</td>\n",
       "      <td>NaN</td>\n",
       "      <td>NaN</td>\n",
       "      <td>NaN</td>\n",
       "      <td>2018-05-17T14:05:59.588773-05:00</td>\n",
       "      <td>NaN</td>\n",
       "      <td>NaN</td>\n",
       "      <td>1785.0</td>\n",
       "      <td>1785.0</td>\n",
       "      <td>NaN</td>\n",
       "      <td>True</td>\n",
       "      <td>NaN</td>\n",
       "      <td>NaN</td>\n",
       "      <td>NaN</td>\n",
       "      <td>NaN</td>\n",
       "      <td>NaN</td>\n",
       "      <td>NaN</td>\n",
       "      <td>NaN</td>\n",
       "      <td>NaN</td>\n",
       "      <td>NaN</td>\n",
       "      <td>NaN</td>\n",
       "      <td>NaN</td>\n",
       "      <td>NaN</td>\n",
       "      <td>NaN</td>\n",
       "      <td>NaN</td>\n",
       "      <td>NaN</td>\n",
       "      <td>NaN</td>\n",
       "      <td>NaN</td>\n",
       "      <td>NaN</td>\n",
       "      <td>NaN</td>\n",
       "      <td>NaN</td>\n",
       "      <td>NaN</td>\n",
       "      <td>NaN</td>\n",
       "      <td>NaN</td>\n",
       "      <td>NaN</td>\n",
       "      <td>NaN</td>\n",
       "      <td>NaN</td>\n",
       "      <td>With tumor</td>\n",
       "      <td>NaN</td>\n",
       "      <td>NaN</td>\n",
       "      <td>NaN</td>\n",
       "      <td>NaN</td>\n",
       "      <td>NaN</td>\n",
       "      <td>NaN</td>\n",
       "      <td>NaN</td>\n",
       "      <td>NaN</td>\n",
       "      <td>NaN</td>\n",
       "      <td>NaN</td>\n",
       "      <td>NaN</td>\n",
       "      <td>8312/3</td>\n",
       "      <td>NaN</td>\n",
       "      <td>NaN</td>\n",
       "      <td>NaN</td>\n",
       "      <td>NaN</td>\n",
       "      <td>NaN</td>\n",
       "      <td>Renal cell carcinoma, NOS</td>\n",
       "      <td>NaN</td>\n",
       "      <td>NaN</td>\n",
       "      <td>NaN</td>\n",
       "      <td>NaN</td>\n",
       "      <td>yes</td>\n",
       "      <td>CPTAC-3</td>\n",
       "      <td>R0</td>\n",
       "      <td>NaN</td>\n",
       "      <td>NaN</td>\n",
       "      <td>Kidney, NOS</td>\n",
       "      <td>NaN</td>\n",
       "      <td>C3L-00908-DIAG</td>\n",
       "      <td>NaN</td>\n",
       "      <td>NaN</td>\n",
       "      <td>Kidney, NOS</td>\n",
       "      <td>NaN</td>\n",
       "      <td>NaN</td>\n",
       "      <td>Unifocal</td>\n",
       "      <td>G3</td>\n",
       "      <td>NaN</td>\n",
       "      <td>2023-02-03T18:28:48.308091-06:00</td>\n",
       "      <td>NaN</td>\n",
       "      <td>NaN</td>\n",
       "      <td>NaN</td>\n",
       "      <td>NaN</td>\n",
       "      <td>2016.0</td>\n",
       "      <td>Adenomas and Adenocarcinomas</td>\n",
       "      <td>Kidney</td>\n",
       "      <td>CPTAC-3</td>\n",
       "    </tr>\n",
       "    <tr>\n",
       "      <th>763e0702-8379-4b5e-95d1-a84f412c51e7</th>\n",
       "      <td>33c921ea-b743-4d32-9c56-875de6028c71</td>\n",
       "      <td>8062c6e4-d501-4c91-ab02-f36f4e7fd387</td>\n",
       "      <td>False</td>\n",
       "      <td>Tumor</td>\n",
       "      <td>Illumina HiSeq 4000</td>\n",
       "      <td>NaN</td>\n",
       "      <td>True</td>\n",
       "      <td>TruSeq Stranded Total RNA Library Prep Kit wit...</td>\n",
       "      <td>Illumina</td>\n",
       "      <td>NaN</td>\n",
       "      <td>NaN</td>\n",
       "      <td>rRNA Depletion</td>\n",
       "      <td>First_Stranded</td>\n",
       "      <td>RNA-Seq</td>\n",
       "      <td>325.0</td>\n",
       "      <td>1.0</td>\n",
       "      <td>2cb2a0b4-acd0-4529-b7ed-deaf1aa119c6</td>\n",
       "      <td>5e74687f-b68b-4891-9a20-1a68826ca706</td>\n",
       "      <td>2.0</td>\n",
       "      <td>Diagnosis</td>\n",
       "      <td>NaN</td>\n",
       "      <td>-22179.0</td>\n",
       "      <td>NaN</td>\n",
       "      <td>not hispanic or latino</td>\n",
       "      <td>female</td>\n",
       "      <td>white</td>\n",
       "      <td>Alive</td>\n",
       "      <td>NaN</td>\n",
       "      <td>22179.0</td>\n",
       "      <td>Unknown</td>\n",
       "      <td>NaN</td>\n",
       "      <td>NaN</td>\n",
       "      <td>NaN</td>\n",
       "      <td>Unknown</td>\n",
       "      <td>NX</td>\n",
       "      <td>Stage II</td>\n",
       "      <td>T2b</td>\n",
       "      <td>7th</td>\n",
       "      <td>NaN</td>\n",
       "      <td>NaN</td>\n",
       "      <td>NaN</td>\n",
       "      <td>NaN</td>\n",
       "      <td>NaN</td>\n",
       "      <td>NaN</td>\n",
       "      <td>NaN</td>\n",
       "      <td>NaN</td>\n",
       "      <td>NaN</td>\n",
       "      <td>NaN</td>\n",
       "      <td>NaN</td>\n",
       "      <td>NaN</td>\n",
       "      <td>NaN</td>\n",
       "      <td>2018-05-17T14:05:59.588773-05:00</td>\n",
       "      <td>NaN</td>\n",
       "      <td>NaN</td>\n",
       "      <td>1785.0</td>\n",
       "      <td>1785.0</td>\n",
       "      <td>NaN</td>\n",
       "      <td>True</td>\n",
       "      <td>NaN</td>\n",
       "      <td>NaN</td>\n",
       "      <td>NaN</td>\n",
       "      <td>NaN</td>\n",
       "      <td>NaN</td>\n",
       "      <td>NaN</td>\n",
       "      <td>NaN</td>\n",
       "      <td>NaN</td>\n",
       "      <td>NaN</td>\n",
       "      <td>NaN</td>\n",
       "      <td>NaN</td>\n",
       "      <td>NaN</td>\n",
       "      <td>NaN</td>\n",
       "      <td>NaN</td>\n",
       "      <td>NaN</td>\n",
       "      <td>NaN</td>\n",
       "      <td>NaN</td>\n",
       "      <td>NaN</td>\n",
       "      <td>NaN</td>\n",
       "      <td>NaN</td>\n",
       "      <td>NaN</td>\n",
       "      <td>NaN</td>\n",
       "      <td>NaN</td>\n",
       "      <td>NaN</td>\n",
       "      <td>NaN</td>\n",
       "      <td>NaN</td>\n",
       "      <td>With tumor</td>\n",
       "      <td>NaN</td>\n",
       "      <td>NaN</td>\n",
       "      <td>NaN</td>\n",
       "      <td>NaN</td>\n",
       "      <td>NaN</td>\n",
       "      <td>NaN</td>\n",
       "      <td>NaN</td>\n",
       "      <td>NaN</td>\n",
       "      <td>NaN</td>\n",
       "      <td>NaN</td>\n",
       "      <td>NaN</td>\n",
       "      <td>8312/3</td>\n",
       "      <td>NaN</td>\n",
       "      <td>NaN</td>\n",
       "      <td>NaN</td>\n",
       "      <td>NaN</td>\n",
       "      <td>NaN</td>\n",
       "      <td>Renal cell carcinoma, NOS</td>\n",
       "      <td>NaN</td>\n",
       "      <td>NaN</td>\n",
       "      <td>NaN</td>\n",
       "      <td>NaN</td>\n",
       "      <td>yes</td>\n",
       "      <td>CPTAC-3</td>\n",
       "      <td>R0</td>\n",
       "      <td>NaN</td>\n",
       "      <td>NaN</td>\n",
       "      <td>Kidney, NOS</td>\n",
       "      <td>NaN</td>\n",
       "      <td>C3L-00908-DIAG</td>\n",
       "      <td>NaN</td>\n",
       "      <td>NaN</td>\n",
       "      <td>Kidney, NOS</td>\n",
       "      <td>NaN</td>\n",
       "      <td>NaN</td>\n",
       "      <td>Unifocal</td>\n",
       "      <td>G3</td>\n",
       "      <td>NaN</td>\n",
       "      <td>2023-02-03T18:28:48.308091-06:00</td>\n",
       "      <td>NaN</td>\n",
       "      <td>NaN</td>\n",
       "      <td>NaN</td>\n",
       "      <td>NaN</td>\n",
       "      <td>2016.0</td>\n",
       "      <td>Adenomas and Adenocarcinomas</td>\n",
       "      <td>Kidney</td>\n",
       "      <td>CPTAC-3</td>\n",
       "    </tr>\n",
       "    <tr>\n",
       "      <th>763e0702-8379-4b5e-95d1-a84f412c51e7</th>\n",
       "      <td>173c0d6a-bc67-4a72-b6d3-b2a411e24785</td>\n",
       "      <td>39c8b5e7-ac68-4009-ab82-e1ee495bdbd9</td>\n",
       "      <td>False</td>\n",
       "      <td>Normal</td>\n",
       "      <td>Illumina HiSeq 4000</td>\n",
       "      <td>NaN</td>\n",
       "      <td>True</td>\n",
       "      <td>TruSeq Stranded Total RNA Library Prep Kit wit...</td>\n",
       "      <td>Illumina</td>\n",
       "      <td>NaN</td>\n",
       "      <td>NaN</td>\n",
       "      <td>rRNA Depletion</td>\n",
       "      <td>First_Stranded</td>\n",
       "      <td>RNA-Seq</td>\n",
       "      <td>314.0</td>\n",
       "      <td>1.0</td>\n",
       "      <td>2cb2a0b4-acd0-4529-b7ed-deaf1aa119c6</td>\n",
       "      <td>5e74687f-b68b-4891-9a20-1a68826ca706</td>\n",
       "      <td>2.0</td>\n",
       "      <td>Diagnosis</td>\n",
       "      <td>NaN</td>\n",
       "      <td>-22179.0</td>\n",
       "      <td>NaN</td>\n",
       "      <td>not hispanic or latino</td>\n",
       "      <td>female</td>\n",
       "      <td>white</td>\n",
       "      <td>Alive</td>\n",
       "      <td>NaN</td>\n",
       "      <td>22179.0</td>\n",
       "      <td>Unknown</td>\n",
       "      <td>NaN</td>\n",
       "      <td>NaN</td>\n",
       "      <td>NaN</td>\n",
       "      <td>Unknown</td>\n",
       "      <td>NX</td>\n",
       "      <td>Stage II</td>\n",
       "      <td>T2b</td>\n",
       "      <td>7th</td>\n",
       "      <td>NaN</td>\n",
       "      <td>NaN</td>\n",
       "      <td>NaN</td>\n",
       "      <td>NaN</td>\n",
       "      <td>NaN</td>\n",
       "      <td>NaN</td>\n",
       "      <td>NaN</td>\n",
       "      <td>NaN</td>\n",
       "      <td>NaN</td>\n",
       "      <td>NaN</td>\n",
       "      <td>NaN</td>\n",
       "      <td>NaN</td>\n",
       "      <td>NaN</td>\n",
       "      <td>2018-05-17T14:05:59.588773-05:00</td>\n",
       "      <td>NaN</td>\n",
       "      <td>NaN</td>\n",
       "      <td>1785.0</td>\n",
       "      <td>1785.0</td>\n",
       "      <td>NaN</td>\n",
       "      <td>True</td>\n",
       "      <td>NaN</td>\n",
       "      <td>NaN</td>\n",
       "      <td>NaN</td>\n",
       "      <td>NaN</td>\n",
       "      <td>NaN</td>\n",
       "      <td>NaN</td>\n",
       "      <td>NaN</td>\n",
       "      <td>NaN</td>\n",
       "      <td>NaN</td>\n",
       "      <td>NaN</td>\n",
       "      <td>NaN</td>\n",
       "      <td>NaN</td>\n",
       "      <td>NaN</td>\n",
       "      <td>NaN</td>\n",
       "      <td>NaN</td>\n",
       "      <td>NaN</td>\n",
       "      <td>NaN</td>\n",
       "      <td>NaN</td>\n",
       "      <td>NaN</td>\n",
       "      <td>NaN</td>\n",
       "      <td>NaN</td>\n",
       "      <td>NaN</td>\n",
       "      <td>NaN</td>\n",
       "      <td>NaN</td>\n",
       "      <td>NaN</td>\n",
       "      <td>NaN</td>\n",
       "      <td>With tumor</td>\n",
       "      <td>NaN</td>\n",
       "      <td>NaN</td>\n",
       "      <td>NaN</td>\n",
       "      <td>NaN</td>\n",
       "      <td>NaN</td>\n",
       "      <td>NaN</td>\n",
       "      <td>NaN</td>\n",
       "      <td>NaN</td>\n",
       "      <td>NaN</td>\n",
       "      <td>NaN</td>\n",
       "      <td>NaN</td>\n",
       "      <td>8312/3</td>\n",
       "      <td>NaN</td>\n",
       "      <td>NaN</td>\n",
       "      <td>NaN</td>\n",
       "      <td>NaN</td>\n",
       "      <td>NaN</td>\n",
       "      <td>Renal cell carcinoma, NOS</td>\n",
       "      <td>NaN</td>\n",
       "      <td>NaN</td>\n",
       "      <td>NaN</td>\n",
       "      <td>NaN</td>\n",
       "      <td>yes</td>\n",
       "      <td>CPTAC-3</td>\n",
       "      <td>R0</td>\n",
       "      <td>NaN</td>\n",
       "      <td>NaN</td>\n",
       "      <td>Kidney, NOS</td>\n",
       "      <td>NaN</td>\n",
       "      <td>C3L-00908-DIAG</td>\n",
       "      <td>NaN</td>\n",
       "      <td>NaN</td>\n",
       "      <td>Kidney, NOS</td>\n",
       "      <td>NaN</td>\n",
       "      <td>NaN</td>\n",
       "      <td>Unifocal</td>\n",
       "      <td>G3</td>\n",
       "      <td>NaN</td>\n",
       "      <td>2023-02-03T18:28:48.308091-06:00</td>\n",
       "      <td>NaN</td>\n",
       "      <td>NaN</td>\n",
       "      <td>NaN</td>\n",
       "      <td>NaN</td>\n",
       "      <td>2016.0</td>\n",
       "      <td>Adenomas and Adenocarcinomas</td>\n",
       "      <td>Kidney</td>\n",
       "      <td>CPTAC-3</td>\n",
       "    </tr>\n",
       "  </tbody>\n",
       "</table>\n",
       "</div>"
      ],
      "text/plain": [
       "                                                                aliquot_id  \\\n",
       "case_id                                                                      \n",
       "5705efcc-b48f-435c-8a28-9e0d407ecadd  75ac0619-947a-427b-a53f-71e121a7ec8f   \n",
       "5705efcc-b48f-435c-8a28-9e0d407ecadd  948c4d53-3d91-48a6-bec4-0cc96020e572   \n",
       "763e0702-8379-4b5e-95d1-a84f412c51e7  ce810e2e-4929-4bbc-95ff-6da493477391   \n",
       "763e0702-8379-4b5e-95d1-a84f412c51e7  33c921ea-b743-4d32-9c56-875de6028c71   \n",
       "763e0702-8379-4b5e-95d1-a84f412c51e7  173c0d6a-bc67-4a72-b6d3-b2a411e24785   \n",
       "\n",
       "                                                             read_group_id  \\\n",
       "case_id                                                                      \n",
       "5705efcc-b48f-435c-8a28-9e0d407ecadd  71894d8b-5210-44dc-aadc-a199d3843dd2   \n",
       "5705efcc-b48f-435c-8a28-9e0d407ecadd  86774648-bb57-42c3-b835-9fb11b590d8b   \n",
       "763e0702-8379-4b5e-95d1-a84f412c51e7  c2980255-7c57-4b79-82a7-f77098ff164e   \n",
       "763e0702-8379-4b5e-95d1-a84f412c51e7  8062c6e4-d501-4c91-ab02-f36f4e7fd387   \n",
       "763e0702-8379-4b5e-95d1-a84f412c51e7  39c8b5e7-ac68-4009-ab82-e1ee495bdbd9   \n",
       "\n",
       "                                     has_blood_cancer tissue_type  \\\n",
       "case_id                                                             \n",
       "5705efcc-b48f-435c-8a28-9e0d407ecadd            False       Tumor   \n",
       "5705efcc-b48f-435c-8a28-9e0d407ecadd            False       Tumor   \n",
       "763e0702-8379-4b5e-95d1-a84f412c51e7            False       Tumor   \n",
       "763e0702-8379-4b5e-95d1-a84f412c51e7            False       Tumor   \n",
       "763e0702-8379-4b5e-95d1-a84f412c51e7            False      Normal   \n",
       "\n",
       "                                         instrument_model  RIN  \\\n",
       "case_id                                                          \n",
       "5705efcc-b48f-435c-8a28-9e0d407ecadd  Illumina HiSeq 4000  NaN   \n",
       "5705efcc-b48f-435c-8a28-9e0d407ecadd                  NaN  NaN   \n",
       "763e0702-8379-4b5e-95d1-a84f412c51e7  Illumina HiSeq 4000  NaN   \n",
       "763e0702-8379-4b5e-95d1-a84f412c51e7  Illumina HiSeq 4000  NaN   \n",
       "763e0702-8379-4b5e-95d1-a84f412c51e7  Illumina HiSeq 4000  NaN   \n",
       "\n",
       "                                     includes_spike_ins  \\\n",
       "case_id                                                   \n",
       "5705efcc-b48f-435c-8a28-9e0d407ecadd               True   \n",
       "5705efcc-b48f-435c-8a28-9e0d407ecadd                NaN   \n",
       "763e0702-8379-4b5e-95d1-a84f412c51e7               True   \n",
       "763e0702-8379-4b5e-95d1-a84f412c51e7               True   \n",
       "763e0702-8379-4b5e-95d1-a84f412c51e7               True   \n",
       "\n",
       "                                                           library_preparation_kit_name  \\\n",
       "case_id                                                                                   \n",
       "5705efcc-b48f-435c-8a28-9e0d407ecadd  TruSeq Stranded Total RNA Library Prep Kit wit...   \n",
       "5705efcc-b48f-435c-8a28-9e0d407ecadd                                                NaN   \n",
       "763e0702-8379-4b5e-95d1-a84f412c51e7  TruSeq Stranded Total RNA Library Prep Kit wit...   \n",
       "763e0702-8379-4b5e-95d1-a84f412c51e7  TruSeq Stranded Total RNA Library Prep Kit wit...   \n",
       "763e0702-8379-4b5e-95d1-a84f412c51e7  TruSeq Stranded Total RNA Library Prep Kit wit...   \n",
       "\n",
       "                                     library_preparation_kit_vendor  \\\n",
       "case_id                                                               \n",
       "5705efcc-b48f-435c-8a28-9e0d407ecadd                       Illumina   \n",
       "5705efcc-b48f-435c-8a28-9e0d407ecadd                            NaN   \n",
       "763e0702-8379-4b5e-95d1-a84f412c51e7                       Illumina   \n",
       "763e0702-8379-4b5e-95d1-a84f412c51e7                       Illumina   \n",
       "763e0702-8379-4b5e-95d1-a84f412c51e7                       Illumina   \n",
       "\n",
       "                                      library_preparation_kit_version  \\\n",
       "case_id                                                                 \n",
       "5705efcc-b48f-435c-8a28-9e0d407ecadd                              NaN   \n",
       "5705efcc-b48f-435c-8a28-9e0d407ecadd                              NaN   \n",
       "763e0702-8379-4b5e-95d1-a84f412c51e7                              NaN   \n",
       "763e0702-8379-4b5e-95d1-a84f412c51e7                              NaN   \n",
       "763e0702-8379-4b5e-95d1-a84f412c51e7                              NaN   \n",
       "\n",
       "                                      library_preparation_kit_catalog_number  \\\n",
       "case_id                                                                        \n",
       "5705efcc-b48f-435c-8a28-9e0d407ecadd                                     NaN   \n",
       "5705efcc-b48f-435c-8a28-9e0d407ecadd                                     NaN   \n",
       "763e0702-8379-4b5e-95d1-a84f412c51e7                                     NaN   \n",
       "763e0702-8379-4b5e-95d1-a84f412c51e7                                     NaN   \n",
       "763e0702-8379-4b5e-95d1-a84f412c51e7                                     NaN   \n",
       "\n",
       "                                     library_selection  library_strand  \\\n",
       "case_id                                                                  \n",
       "5705efcc-b48f-435c-8a28-9e0d407ecadd    rRNA Depletion  First_Stranded   \n",
       "5705efcc-b48f-435c-8a28-9e0d407ecadd    rRNA Depletion             NaN   \n",
       "763e0702-8379-4b5e-95d1-a84f412c51e7    rRNA Depletion  First_Stranded   \n",
       "763e0702-8379-4b5e-95d1-a84f412c51e7    rRNA Depletion  First_Stranded   \n",
       "763e0702-8379-4b5e-95d1-a84f412c51e7    rRNA Depletion  First_Stranded   \n",
       "\n",
       "                                     library_strategy  size_selection_range  \\\n",
       "case_id                                                                       \n",
       "5705efcc-b48f-435c-8a28-9e0d407ecadd          RNA-Seq                 308.0   \n",
       "5705efcc-b48f-435c-8a28-9e0d407ecadd          RNA-Seq                   NaN   \n",
       "763e0702-8379-4b5e-95d1-a84f412c51e7          RNA-Seq                 342.0   \n",
       "763e0702-8379-4b5e-95d1-a84f412c51e7          RNA-Seq                 325.0   \n",
       "763e0702-8379-4b5e-95d1-a84f412c51e7          RNA-Seq                 314.0   \n",
       "\n",
       "                                      spike_ins_concentration  \\\n",
       "case_id                                                         \n",
       "5705efcc-b48f-435c-8a28-9e0d407ecadd                      1.0   \n",
       "5705efcc-b48f-435c-8a28-9e0d407ecadd                      NaN   \n",
       "763e0702-8379-4b5e-95d1-a84f412c51e7                      1.0   \n",
       "763e0702-8379-4b5e-95d1-a84f412c51e7                      1.0   \n",
       "763e0702-8379-4b5e-95d1-a84f412c51e7                      1.0   \n",
       "\n",
       "                                                            demographic_id  \\\n",
       "case_id                                                                      \n",
       "5705efcc-b48f-435c-8a28-9e0d407ecadd  f1ec7b5b-7f11-41e6-9fb4-a27fb2adc8f1   \n",
       "5705efcc-b48f-435c-8a28-9e0d407ecadd  f1ec7b5b-7f11-41e6-9fb4-a27fb2adc8f1   \n",
       "763e0702-8379-4b5e-95d1-a84f412c51e7  2cb2a0b4-acd0-4529-b7ed-deaf1aa119c6   \n",
       "763e0702-8379-4b5e-95d1-a84f412c51e7  2cb2a0b4-acd0-4529-b7ed-deaf1aa119c6   \n",
       "763e0702-8379-4b5e-95d1-a84f412c51e7  2cb2a0b4-acd0-4529-b7ed-deaf1aa119c6   \n",
       "\n",
       "                                                              diagnosis_id  \\\n",
       "case_id                                                                      \n",
       "5705efcc-b48f-435c-8a28-9e0d407ecadd  c7f325cd-98a6-4996-825e-1c23b86e1a22   \n",
       "5705efcc-b48f-435c-8a28-9e0d407ecadd  c7f325cd-98a6-4996-825e-1c23b86e1a22   \n",
       "763e0702-8379-4b5e-95d1-a84f412c51e7  5e74687f-b68b-4891-9a20-1a68826ca706   \n",
       "763e0702-8379-4b5e-95d1-a84f412c51e7  5e74687f-b68b-4891-9a20-1a68826ca706   \n",
       "763e0702-8379-4b5e-95d1-a84f412c51e7  5e74687f-b68b-4891-9a20-1a68826ca706   \n",
       "\n",
       "                                      batch_id index_date cause_of_death  \\\n",
       "case_id                                                                    \n",
       "5705efcc-b48f-435c-8a28-9e0d407ecadd       2.0  Diagnosis            NaN   \n",
       "5705efcc-b48f-435c-8a28-9e0d407ecadd       2.0  Diagnosis            NaN   \n",
       "763e0702-8379-4b5e-95d1-a84f412c51e7       2.0  Diagnosis            NaN   \n",
       "763e0702-8379-4b5e-95d1-a84f412c51e7       2.0  Diagnosis            NaN   \n",
       "763e0702-8379-4b5e-95d1-a84f412c51e7       2.0  Diagnosis            NaN   \n",
       "\n",
       "                                      days_to_birth  days_to_death  \\\n",
       "case_id                                                              \n",
       "5705efcc-b48f-435c-8a28-9e0d407ecadd       -22142.0            NaN   \n",
       "5705efcc-b48f-435c-8a28-9e0d407ecadd       -22142.0            NaN   \n",
       "763e0702-8379-4b5e-95d1-a84f412c51e7       -22179.0            NaN   \n",
       "763e0702-8379-4b5e-95d1-a84f412c51e7       -22179.0            NaN   \n",
       "763e0702-8379-4b5e-95d1-a84f412c51e7       -22179.0            NaN   \n",
       "\n",
       "                                                   ethnicity  gender   race  \\\n",
       "case_id                                                                       \n",
       "5705efcc-b48f-435c-8a28-9e0d407ecadd  not hispanic or latino  female  white   \n",
       "5705efcc-b48f-435c-8a28-9e0d407ecadd  not hispanic or latino  female  white   \n",
       "763e0702-8379-4b5e-95d1-a84f412c51e7  not hispanic or latino  female  white   \n",
       "763e0702-8379-4b5e-95d1-a84f412c51e7  not hispanic or latino  female  white   \n",
       "763e0702-8379-4b5e-95d1-a84f412c51e7  not hispanic or latino  female  white   \n",
       "\n",
       "                                     vital_status  adrenal_hormone  \\\n",
       "case_id                                                              \n",
       "5705efcc-b48f-435c-8a28-9e0d407ecadd        Alive              NaN   \n",
       "5705efcc-b48f-435c-8a28-9e0d407ecadd        Alive              NaN   \n",
       "763e0702-8379-4b5e-95d1-a84f412c51e7        Alive              NaN   \n",
       "763e0702-8379-4b5e-95d1-a84f412c51e7        Alive              NaN   \n",
       "763e0702-8379-4b5e-95d1-a84f412c51e7        Alive              NaN   \n",
       "\n",
       "                                      age_at_diagnosis ajcc_clinical_m  \\\n",
       "case_id                                                                  \n",
       "5705efcc-b48f-435c-8a28-9e0d407ecadd           22142.0              M0   \n",
       "5705efcc-b48f-435c-8a28-9e0d407ecadd           22142.0              M0   \n",
       "763e0702-8379-4b5e-95d1-a84f412c51e7           22179.0         Unknown   \n",
       "763e0702-8379-4b5e-95d1-a84f412c51e7           22179.0         Unknown   \n",
       "763e0702-8379-4b5e-95d1-a84f412c51e7           22179.0         Unknown   \n",
       "\n",
       "                                      ajcc_clinical_n  ajcc_clinical_stage  \\\n",
       "case_id                                                                      \n",
       "5705efcc-b48f-435c-8a28-9e0d407ecadd              NaN                  NaN   \n",
       "5705efcc-b48f-435c-8a28-9e0d407ecadd              NaN                  NaN   \n",
       "763e0702-8379-4b5e-95d1-a84f412c51e7              NaN                  NaN   \n",
       "763e0702-8379-4b5e-95d1-a84f412c51e7              NaN                  NaN   \n",
       "763e0702-8379-4b5e-95d1-a84f412c51e7              NaN                  NaN   \n",
       "\n",
       "                                      ajcc_clinical_t ajcc_pathologic_m  \\\n",
       "case_id                                                                   \n",
       "5705efcc-b48f-435c-8a28-9e0d407ecadd              NaN           Unknown   \n",
       "5705efcc-b48f-435c-8a28-9e0d407ecadd              NaN           Unknown   \n",
       "763e0702-8379-4b5e-95d1-a84f412c51e7              NaN           Unknown   \n",
       "763e0702-8379-4b5e-95d1-a84f412c51e7              NaN           Unknown   \n",
       "763e0702-8379-4b5e-95d1-a84f412c51e7              NaN           Unknown   \n",
       "\n",
       "                                     ajcc_pathologic_n ajcc_pathologic_stage  \\\n",
       "case_id                                                                        \n",
       "5705efcc-b48f-435c-8a28-9e0d407ecadd                NX               Stage I   \n",
       "5705efcc-b48f-435c-8a28-9e0d407ecadd                NX               Stage I   \n",
       "763e0702-8379-4b5e-95d1-a84f412c51e7                NX              Stage II   \n",
       "763e0702-8379-4b5e-95d1-a84f412c51e7                NX              Stage II   \n",
       "763e0702-8379-4b5e-95d1-a84f412c51e7                NX              Stage II   \n",
       "\n",
       "                                     ajcc_pathologic_t  \\\n",
       "case_id                                                  \n",
       "5705efcc-b48f-435c-8a28-9e0d407ecadd               T1a   \n",
       "5705efcc-b48f-435c-8a28-9e0d407ecadd               T1a   \n",
       "763e0702-8379-4b5e-95d1-a84f412c51e7               T2b   \n",
       "763e0702-8379-4b5e-95d1-a84f412c51e7               T2b   \n",
       "763e0702-8379-4b5e-95d1-a84f412c51e7               T2b   \n",
       "\n",
       "                                     ajcc_staging_system_edition  \\\n",
       "case_id                                                            \n",
       "5705efcc-b48f-435c-8a28-9e0d407ecadd                         7th   \n",
       "5705efcc-b48f-435c-8a28-9e0d407ecadd                         7th   \n",
       "763e0702-8379-4b5e-95d1-a84f412c51e7                         7th   \n",
       "763e0702-8379-4b5e-95d1-a84f412c51e7                         7th   \n",
       "763e0702-8379-4b5e-95d1-a84f412c51e7                         7th   \n",
       "\n",
       "                                      ann_arbor_b_symptoms  \\\n",
       "case_id                                                      \n",
       "5705efcc-b48f-435c-8a28-9e0d407ecadd                   NaN   \n",
       "5705efcc-b48f-435c-8a28-9e0d407ecadd                   NaN   \n",
       "763e0702-8379-4b5e-95d1-a84f412c51e7                   NaN   \n",
       "763e0702-8379-4b5e-95d1-a84f412c51e7                   NaN   \n",
       "763e0702-8379-4b5e-95d1-a84f412c51e7                   NaN   \n",
       "\n",
       "                                      ann_arbor_b_symptoms_described  \\\n",
       "case_id                                                                \n",
       "5705efcc-b48f-435c-8a28-9e0d407ecadd                             NaN   \n",
       "5705efcc-b48f-435c-8a28-9e0d407ecadd                             NaN   \n",
       "763e0702-8379-4b5e-95d1-a84f412c51e7                             NaN   \n",
       "763e0702-8379-4b5e-95d1-a84f412c51e7                             NaN   \n",
       "763e0702-8379-4b5e-95d1-a84f412c51e7                             NaN   \n",
       "\n",
       "                                      ann_arbor_clinical_stage  \\\n",
       "case_id                                                          \n",
       "5705efcc-b48f-435c-8a28-9e0d407ecadd                       NaN   \n",
       "5705efcc-b48f-435c-8a28-9e0d407ecadd                       NaN   \n",
       "763e0702-8379-4b5e-95d1-a84f412c51e7                       NaN   \n",
       "763e0702-8379-4b5e-95d1-a84f412c51e7                       NaN   \n",
       "763e0702-8379-4b5e-95d1-a84f412c51e7                       NaN   \n",
       "\n",
       "                                      ann_arbor_extranodal_involvement  \\\n",
       "case_id                                                                  \n",
       "5705efcc-b48f-435c-8a28-9e0d407ecadd                               NaN   \n",
       "5705efcc-b48f-435c-8a28-9e0d407ecadd                               NaN   \n",
       "763e0702-8379-4b5e-95d1-a84f412c51e7                               NaN   \n",
       "763e0702-8379-4b5e-95d1-a84f412c51e7                               NaN   \n",
       "763e0702-8379-4b5e-95d1-a84f412c51e7                               NaN   \n",
       "\n",
       "                                      ann_arbor_pathologic_stage  \\\n",
       "case_id                                                            \n",
       "5705efcc-b48f-435c-8a28-9e0d407ecadd                         NaN   \n",
       "5705efcc-b48f-435c-8a28-9e0d407ecadd                         NaN   \n",
       "763e0702-8379-4b5e-95d1-a84f412c51e7                         NaN   \n",
       "763e0702-8379-4b5e-95d1-a84f412c51e7                         NaN   \n",
       "763e0702-8379-4b5e-95d1-a84f412c51e7                         NaN   \n",
       "\n",
       "                                      best_overall_response  \\\n",
       "case_id                                                       \n",
       "5705efcc-b48f-435c-8a28-9e0d407ecadd                    NaN   \n",
       "5705efcc-b48f-435c-8a28-9e0d407ecadd                    NaN   \n",
       "763e0702-8379-4b5e-95d1-a84f412c51e7                    NaN   \n",
       "763e0702-8379-4b5e-95d1-a84f412c51e7                    NaN   \n",
       "763e0702-8379-4b5e-95d1-a84f412c51e7                    NaN   \n",
       "\n",
       "                                      burkitt_lymphoma_clinical_variant  \\\n",
       "case_id                                                                   \n",
       "5705efcc-b48f-435c-8a28-9e0d407ecadd                                NaN   \n",
       "5705efcc-b48f-435c-8a28-9e0d407ecadd                                NaN   \n",
       "763e0702-8379-4b5e-95d1-a84f412c51e7                                NaN   \n",
       "763e0702-8379-4b5e-95d1-a84f412c51e7                                NaN   \n",
       "763e0702-8379-4b5e-95d1-a84f412c51e7                                NaN   \n",
       "\n",
       "                                      child_pugh_classification  \\\n",
       "case_id                                                           \n",
       "5705efcc-b48f-435c-8a28-9e0d407ecadd                        NaN   \n",
       "5705efcc-b48f-435c-8a28-9e0d407ecadd                        NaN   \n",
       "763e0702-8379-4b5e-95d1-a84f412c51e7                        NaN   \n",
       "763e0702-8379-4b5e-95d1-a84f412c51e7                        NaN   \n",
       "763e0702-8379-4b5e-95d1-a84f412c51e7                        NaN   \n",
       "\n",
       "                                     classification_of_tumor  cog_liver_stage  \\\n",
       "case_id                                                                         \n",
       "5705efcc-b48f-435c-8a28-9e0d407ecadd                     NaN              NaN   \n",
       "5705efcc-b48f-435c-8a28-9e0d407ecadd                     NaN              NaN   \n",
       "763e0702-8379-4b5e-95d1-a84f412c51e7                     NaN              NaN   \n",
       "763e0702-8379-4b5e-95d1-a84f412c51e7                     NaN              NaN   \n",
       "763e0702-8379-4b5e-95d1-a84f412c51e7                     NaN              NaN   \n",
       "\n",
       "                                      cog_neuroblastoma_risk_group  \\\n",
       "case_id                                                              \n",
       "5705efcc-b48f-435c-8a28-9e0d407ecadd                           NaN   \n",
       "5705efcc-b48f-435c-8a28-9e0d407ecadd                           NaN   \n",
       "763e0702-8379-4b5e-95d1-a84f412c51e7                           NaN   \n",
       "763e0702-8379-4b5e-95d1-a84f412c51e7                           NaN   \n",
       "763e0702-8379-4b5e-95d1-a84f412c51e7                           NaN   \n",
       "\n",
       "                                      cog_renal_stage  \\\n",
       "case_id                                                 \n",
       "5705efcc-b48f-435c-8a28-9e0d407ecadd              NaN   \n",
       "5705efcc-b48f-435c-8a28-9e0d407ecadd              NaN   \n",
       "763e0702-8379-4b5e-95d1-a84f412c51e7              NaN   \n",
       "763e0702-8379-4b5e-95d1-a84f412c51e7              NaN   \n",
       "763e0702-8379-4b5e-95d1-a84f412c51e7              NaN   \n",
       "\n",
       "                                      cog_rhabdomyosarcoma_risk_group  \\\n",
       "case_id                                                                 \n",
       "5705efcc-b48f-435c-8a28-9e0d407ecadd                              NaN   \n",
       "5705efcc-b48f-435c-8a28-9e0d407ecadd                              NaN   \n",
       "763e0702-8379-4b5e-95d1-a84f412c51e7                              NaN   \n",
       "763e0702-8379-4b5e-95d1-a84f412c51e7                              NaN   \n",
       "763e0702-8379-4b5e-95d1-a84f412c51e7                              NaN   \n",
       "\n",
       "                                                      created_datetime  \\\n",
       "case_id                                                                  \n",
       "5705efcc-b48f-435c-8a28-9e0d407ecadd  2018-05-17T23:34:39.302537-05:00   \n",
       "5705efcc-b48f-435c-8a28-9e0d407ecadd  2018-05-17T23:34:39.302537-05:00   \n",
       "763e0702-8379-4b5e-95d1-a84f412c51e7  2018-05-17T14:05:59.588773-05:00   \n",
       "763e0702-8379-4b5e-95d1-a84f412c51e7  2018-05-17T14:05:59.588773-05:00   \n",
       "763e0702-8379-4b5e-95d1-a84f412c51e7  2018-05-17T14:05:59.588773-05:00   \n",
       "\n",
       "                                      days_to_best_overall_response  \\\n",
       "case_id                                                               \n",
       "5705efcc-b48f-435c-8a28-9e0d407ecadd                            NaN   \n",
       "5705efcc-b48f-435c-8a28-9e0d407ecadd                            NaN   \n",
       "763e0702-8379-4b5e-95d1-a84f412c51e7                            NaN   \n",
       "763e0702-8379-4b5e-95d1-a84f412c51e7                            NaN   \n",
       "763e0702-8379-4b5e-95d1-a84f412c51e7                            NaN   \n",
       "\n",
       "                                      days_to_diagnosis  \\\n",
       "case_id                                                   \n",
       "5705efcc-b48f-435c-8a28-9e0d407ecadd                NaN   \n",
       "5705efcc-b48f-435c-8a28-9e0d407ecadd                NaN   \n",
       "763e0702-8379-4b5e-95d1-a84f412c51e7                NaN   \n",
       "763e0702-8379-4b5e-95d1-a84f412c51e7                NaN   \n",
       "763e0702-8379-4b5e-95d1-a84f412c51e7                NaN   \n",
       "\n",
       "                                      days_to_last_follow_up  \\\n",
       "case_id                                                        \n",
       "5705efcc-b48f-435c-8a28-9e0d407ecadd                   823.0   \n",
       "5705efcc-b48f-435c-8a28-9e0d407ecadd                   823.0   \n",
       "763e0702-8379-4b5e-95d1-a84f412c51e7                  1785.0   \n",
       "763e0702-8379-4b5e-95d1-a84f412c51e7                  1785.0   \n",
       "763e0702-8379-4b5e-95d1-a84f412c51e7                  1785.0   \n",
       "\n",
       "                                      days_to_last_known_disease_status  \\\n",
       "case_id                                                                   \n",
       "5705efcc-b48f-435c-8a28-9e0d407ecadd                              823.0   \n",
       "5705efcc-b48f-435c-8a28-9e0d407ecadd                              823.0   \n",
       "763e0702-8379-4b5e-95d1-a84f412c51e7                             1785.0   \n",
       "763e0702-8379-4b5e-95d1-a84f412c51e7                             1785.0   \n",
       "763e0702-8379-4b5e-95d1-a84f412c51e7                             1785.0   \n",
       "\n",
       "                                      days_to_recurrence  \\\n",
       "case_id                                                    \n",
       "5705efcc-b48f-435c-8a28-9e0d407ecadd                 NaN   \n",
       "5705efcc-b48f-435c-8a28-9e0d407ecadd                 NaN   \n",
       "763e0702-8379-4b5e-95d1-a84f412c51e7                 NaN   \n",
       "763e0702-8379-4b5e-95d1-a84f412c51e7                 NaN   \n",
       "763e0702-8379-4b5e-95d1-a84f412c51e7                 NaN   \n",
       "\n",
       "                                     diagnosis_is_primary_disease  \\\n",
       "case_id                                                             \n",
       "5705efcc-b48f-435c-8a28-9e0d407ecadd                         True   \n",
       "5705efcc-b48f-435c-8a28-9e0d407ecadd                         True   \n",
       "763e0702-8379-4b5e-95d1-a84f412c51e7                         True   \n",
       "763e0702-8379-4b5e-95d1-a84f412c51e7                         True   \n",
       "763e0702-8379-4b5e-95d1-a84f412c51e7                         True   \n",
       "\n",
       "                                      eln_risk_classification  \\\n",
       "case_id                                                         \n",
       "5705efcc-b48f-435c-8a28-9e0d407ecadd                      NaN   \n",
       "5705efcc-b48f-435c-8a28-9e0d407ecadd                      NaN   \n",
       "763e0702-8379-4b5e-95d1-a84f412c51e7                      NaN   \n",
       "763e0702-8379-4b5e-95d1-a84f412c51e7                      NaN   \n",
       "763e0702-8379-4b5e-95d1-a84f412c51e7                      NaN   \n",
       "\n",
       "                                      enneking_msts_grade  \\\n",
       "case_id                                                     \n",
       "5705efcc-b48f-435c-8a28-9e0d407ecadd                  NaN   \n",
       "5705efcc-b48f-435c-8a28-9e0d407ecadd                  NaN   \n",
       "763e0702-8379-4b5e-95d1-a84f412c51e7                  NaN   \n",
       "763e0702-8379-4b5e-95d1-a84f412c51e7                  NaN   \n",
       "763e0702-8379-4b5e-95d1-a84f412c51e7                  NaN   \n",
       "\n",
       "                                      enneking_msts_metastasis  \\\n",
       "case_id                                                          \n",
       "5705efcc-b48f-435c-8a28-9e0d407ecadd                       NaN   \n",
       "5705efcc-b48f-435c-8a28-9e0d407ecadd                       NaN   \n",
       "763e0702-8379-4b5e-95d1-a84f412c51e7                       NaN   \n",
       "763e0702-8379-4b5e-95d1-a84f412c51e7                       NaN   \n",
       "763e0702-8379-4b5e-95d1-a84f412c51e7                       NaN   \n",
       "\n",
       "                                      enneking_msts_stage  \\\n",
       "case_id                                                     \n",
       "5705efcc-b48f-435c-8a28-9e0d407ecadd                  NaN   \n",
       "5705efcc-b48f-435c-8a28-9e0d407ecadd                  NaN   \n",
       "763e0702-8379-4b5e-95d1-a84f412c51e7                  NaN   \n",
       "763e0702-8379-4b5e-95d1-a84f412c51e7                  NaN   \n",
       "763e0702-8379-4b5e-95d1-a84f412c51e7                  NaN   \n",
       "\n",
       "                                      enneking_msts_tumor_site  \\\n",
       "case_id                                                          \n",
       "5705efcc-b48f-435c-8a28-9e0d407ecadd                       NaN   \n",
       "5705efcc-b48f-435c-8a28-9e0d407ecadd                       NaN   \n",
       "763e0702-8379-4b5e-95d1-a84f412c51e7                       NaN   \n",
       "763e0702-8379-4b5e-95d1-a84f412c51e7                       NaN   \n",
       "763e0702-8379-4b5e-95d1-a84f412c51e7                       NaN   \n",
       "\n",
       "                                      esophageal_columnar_dysplasia_degree  \\\n",
       "case_id                                                                      \n",
       "5705efcc-b48f-435c-8a28-9e0d407ecadd                                   NaN   \n",
       "5705efcc-b48f-435c-8a28-9e0d407ecadd                                   NaN   \n",
       "763e0702-8379-4b5e-95d1-a84f412c51e7                                   NaN   \n",
       "763e0702-8379-4b5e-95d1-a84f412c51e7                                   NaN   \n",
       "763e0702-8379-4b5e-95d1-a84f412c51e7                                   NaN   \n",
       "\n",
       "                                      esophageal_columnar_metaplasia_present  \\\n",
       "case_id                                                                        \n",
       "5705efcc-b48f-435c-8a28-9e0d407ecadd                                     NaN   \n",
       "5705efcc-b48f-435c-8a28-9e0d407ecadd                                     NaN   \n",
       "763e0702-8379-4b5e-95d1-a84f412c51e7                                     NaN   \n",
       "763e0702-8379-4b5e-95d1-a84f412c51e7                                     NaN   \n",
       "763e0702-8379-4b5e-95d1-a84f412c51e7                                     NaN   \n",
       "\n",
       "                                     figo_stage  figo_staging_edition_year  \\\n",
       "case_id                                                                      \n",
       "5705efcc-b48f-435c-8a28-9e0d407ecadd    Stage I                        NaN   \n",
       "5705efcc-b48f-435c-8a28-9e0d407ecadd    Stage I                        NaN   \n",
       "763e0702-8379-4b5e-95d1-a84f412c51e7        NaN                        NaN   \n",
       "763e0702-8379-4b5e-95d1-a84f412c51e7        NaN                        NaN   \n",
       "763e0702-8379-4b5e-95d1-a84f412c51e7        NaN                        NaN   \n",
       "\n",
       "                                      first_symptom_prior_to_diagnosis  \\\n",
       "case_id                                                                  \n",
       "5705efcc-b48f-435c-8a28-9e0d407ecadd                               NaN   \n",
       "5705efcc-b48f-435c-8a28-9e0d407ecadd                               NaN   \n",
       "763e0702-8379-4b5e-95d1-a84f412c51e7                               NaN   \n",
       "763e0702-8379-4b5e-95d1-a84f412c51e7                               NaN   \n",
       "763e0702-8379-4b5e-95d1-a84f412c51e7                               NaN   \n",
       "\n",
       "                                      gastric_esophageal_junction_involvement  \\\n",
       "case_id                                                                         \n",
       "5705efcc-b48f-435c-8a28-9e0d407ecadd                                      NaN   \n",
       "5705efcc-b48f-435c-8a28-9e0d407ecadd                                      NaN   \n",
       "763e0702-8379-4b5e-95d1-a84f412c51e7                                      NaN   \n",
       "763e0702-8379-4b5e-95d1-a84f412c51e7                                      NaN   \n",
       "763e0702-8379-4b5e-95d1-a84f412c51e7                                      NaN   \n",
       "\n",
       "                                      gleason_grade_group  \\\n",
       "case_id                                                     \n",
       "5705efcc-b48f-435c-8a28-9e0d407ecadd                  NaN   \n",
       "5705efcc-b48f-435c-8a28-9e0d407ecadd                  NaN   \n",
       "763e0702-8379-4b5e-95d1-a84f412c51e7                  NaN   \n",
       "763e0702-8379-4b5e-95d1-a84f412c51e7                  NaN   \n",
       "763e0702-8379-4b5e-95d1-a84f412c51e7                  NaN   \n",
       "\n",
       "                                      gleason_grade_tertiary  \\\n",
       "case_id                                                        \n",
       "5705efcc-b48f-435c-8a28-9e0d407ecadd                     NaN   \n",
       "5705efcc-b48f-435c-8a28-9e0d407ecadd                     NaN   \n",
       "763e0702-8379-4b5e-95d1-a84f412c51e7                     NaN   \n",
       "763e0702-8379-4b5e-95d1-a84f412c51e7                     NaN   \n",
       "763e0702-8379-4b5e-95d1-a84f412c51e7                     NaN   \n",
       "\n",
       "                                      gleason_patterns_percent  \\\n",
       "case_id                                                          \n",
       "5705efcc-b48f-435c-8a28-9e0d407ecadd                       NaN   \n",
       "5705efcc-b48f-435c-8a28-9e0d407ecadd                       NaN   \n",
       "763e0702-8379-4b5e-95d1-a84f412c51e7                       NaN   \n",
       "763e0702-8379-4b5e-95d1-a84f412c51e7                       NaN   \n",
       "763e0702-8379-4b5e-95d1-a84f412c51e7                       NaN   \n",
       "\n",
       "                                      goblet_cells_columnar_mucosa_present  \\\n",
       "case_id                                                                      \n",
       "5705efcc-b48f-435c-8a28-9e0d407ecadd                                   NaN   \n",
       "5705efcc-b48f-435c-8a28-9e0d407ecadd                                   NaN   \n",
       "763e0702-8379-4b5e-95d1-a84f412c51e7                                   NaN   \n",
       "763e0702-8379-4b5e-95d1-a84f412c51e7                                   NaN   \n",
       "763e0702-8379-4b5e-95d1-a84f412c51e7                                   NaN   \n",
       "\n",
       "                                      icd_10_code  igcccg_stage  inpc_grade  \\\n",
       "case_id                                                                       \n",
       "5705efcc-b48f-435c-8a28-9e0d407ecadd          NaN           NaN         NaN   \n",
       "5705efcc-b48f-435c-8a28-9e0d407ecadd          NaN           NaN         NaN   \n",
       "763e0702-8379-4b5e-95d1-a84f412c51e7          NaN           NaN         NaN   \n",
       "763e0702-8379-4b5e-95d1-a84f412c51e7          NaN           NaN         NaN   \n",
       "763e0702-8379-4b5e-95d1-a84f412c51e7          NaN           NaN         NaN   \n",
       "\n",
       "                                      inpc_histologic_group  inrg_stage  \\\n",
       "case_id                                                                   \n",
       "5705efcc-b48f-435c-8a28-9e0d407ecadd                    NaN         NaN   \n",
       "5705efcc-b48f-435c-8a28-9e0d407ecadd                    NaN         NaN   \n",
       "763e0702-8379-4b5e-95d1-a84f412c51e7                    NaN         NaN   \n",
       "763e0702-8379-4b5e-95d1-a84f412c51e7                    NaN         NaN   \n",
       "763e0702-8379-4b5e-95d1-a84f412c51e7                    NaN         NaN   \n",
       "\n",
       "                                      inss_stage  \\\n",
       "case_id                                            \n",
       "5705efcc-b48f-435c-8a28-9e0d407ecadd         NaN   \n",
       "5705efcc-b48f-435c-8a28-9e0d407ecadd         NaN   \n",
       "763e0702-8379-4b5e-95d1-a84f412c51e7         NaN   \n",
       "763e0702-8379-4b5e-95d1-a84f412c51e7         NaN   \n",
       "763e0702-8379-4b5e-95d1-a84f412c51e7         NaN   \n",
       "\n",
       "                                      international_prognostic_index  \\\n",
       "case_id                                                                \n",
       "5705efcc-b48f-435c-8a28-9e0d407ecadd                             NaN   \n",
       "5705efcc-b48f-435c-8a28-9e0d407ecadd                             NaN   \n",
       "763e0702-8379-4b5e-95d1-a84f412c51e7                             NaN   \n",
       "763e0702-8379-4b5e-95d1-a84f412c51e7                             NaN   \n",
       "763e0702-8379-4b5e-95d1-a84f412c51e7                             NaN   \n",
       "\n",
       "                                      irs_group  irs_stage  \\\n",
       "case_id                                                      \n",
       "5705efcc-b48f-435c-8a28-9e0d407ecadd        NaN        NaN   \n",
       "5705efcc-b48f-435c-8a28-9e0d407ecadd        NaN        NaN   \n",
       "763e0702-8379-4b5e-95d1-a84f412c51e7        NaN        NaN   \n",
       "763e0702-8379-4b5e-95d1-a84f412c51e7        NaN        NaN   \n",
       "763e0702-8379-4b5e-95d1-a84f412c51e7        NaN        NaN   \n",
       "\n",
       "                                      ishak_fibrosis_score  iss_stage  \\\n",
       "case_id                                                                 \n",
       "5705efcc-b48f-435c-8a28-9e0d407ecadd                   NaN        NaN   \n",
       "5705efcc-b48f-435c-8a28-9e0d407ecadd                   NaN        NaN   \n",
       "763e0702-8379-4b5e-95d1-a84f412c51e7                   NaN        NaN   \n",
       "763e0702-8379-4b5e-95d1-a84f412c51e7                   NaN        NaN   \n",
       "763e0702-8379-4b5e-95d1-a84f412c51e7                   NaN        NaN   \n",
       "\n",
       "                                     last_known_disease_status  laterality  \\\n",
       "case_id                                                                      \n",
       "5705efcc-b48f-435c-8a28-9e0d407ecadd                Tumor free         NaN   \n",
       "5705efcc-b48f-435c-8a28-9e0d407ecadd                Tumor free         NaN   \n",
       "763e0702-8379-4b5e-95d1-a84f412c51e7                With tumor         NaN   \n",
       "763e0702-8379-4b5e-95d1-a84f412c51e7                With tumor         NaN   \n",
       "763e0702-8379-4b5e-95d1-a84f412c51e7                With tumor         NaN   \n",
       "\n",
       "                                      margin_distance  margins_involved_site  \\\n",
       "case_id                                                                        \n",
       "5705efcc-b48f-435c-8a28-9e0d407ecadd              NaN                    NaN   \n",
       "5705efcc-b48f-435c-8a28-9e0d407ecadd              NaN                    NaN   \n",
       "763e0702-8379-4b5e-95d1-a84f412c51e7              NaN                    NaN   \n",
       "763e0702-8379-4b5e-95d1-a84f412c51e7              NaN                    NaN   \n",
       "763e0702-8379-4b5e-95d1-a84f412c51e7              NaN                    NaN   \n",
       "\n",
       "                                      masaoka_stage  \\\n",
       "case_id                                               \n",
       "5705efcc-b48f-435c-8a28-9e0d407ecadd            NaN   \n",
       "5705efcc-b48f-435c-8a28-9e0d407ecadd            NaN   \n",
       "763e0702-8379-4b5e-95d1-a84f412c51e7            NaN   \n",
       "763e0702-8379-4b5e-95d1-a84f412c51e7            NaN   \n",
       "763e0702-8379-4b5e-95d1-a84f412c51e7            NaN   \n",
       "\n",
       "                                      medulloblastoma_molecular_classification  \\\n",
       "case_id                                                                          \n",
       "5705efcc-b48f-435c-8a28-9e0d407ecadd                                       NaN   \n",
       "5705efcc-b48f-435c-8a28-9e0d407ecadd                                       NaN   \n",
       "763e0702-8379-4b5e-95d1-a84f412c51e7                                       NaN   \n",
       "763e0702-8379-4b5e-95d1-a84f412c51e7                                       NaN   \n",
       "763e0702-8379-4b5e-95d1-a84f412c51e7                                       NaN   \n",
       "\n",
       "                                      metastasis_at_diagnosis  \\\n",
       "case_id                                                         \n",
       "5705efcc-b48f-435c-8a28-9e0d407ecadd                      NaN   \n",
       "5705efcc-b48f-435c-8a28-9e0d407ecadd                      NaN   \n",
       "763e0702-8379-4b5e-95d1-a84f412c51e7                      NaN   \n",
       "763e0702-8379-4b5e-95d1-a84f412c51e7                      NaN   \n",
       "763e0702-8379-4b5e-95d1-a84f412c51e7                      NaN   \n",
       "\n",
       "                                      metastasis_at_diagnosis_site  \\\n",
       "case_id                                                              \n",
       "5705efcc-b48f-435c-8a28-9e0d407ecadd                           NaN   \n",
       "5705efcc-b48f-435c-8a28-9e0d407ecadd                           NaN   \n",
       "763e0702-8379-4b5e-95d1-a84f412c51e7                           NaN   \n",
       "763e0702-8379-4b5e-95d1-a84f412c51e7                           NaN   \n",
       "763e0702-8379-4b5e-95d1-a84f412c51e7                           NaN   \n",
       "\n",
       "                                      method_of_diagnosis  \\\n",
       "case_id                                                     \n",
       "5705efcc-b48f-435c-8a28-9e0d407ecadd                  NaN   \n",
       "5705efcc-b48f-435c-8a28-9e0d407ecadd                  NaN   \n",
       "763e0702-8379-4b5e-95d1-a84f412c51e7                  NaN   \n",
       "763e0702-8379-4b5e-95d1-a84f412c51e7                  NaN   \n",
       "763e0702-8379-4b5e-95d1-a84f412c51e7                  NaN   \n",
       "\n",
       "                                      micropapillary_features  \\\n",
       "case_id                                                         \n",
       "5705efcc-b48f-435c-8a28-9e0d407ecadd                      NaN   \n",
       "5705efcc-b48f-435c-8a28-9e0d407ecadd                      NaN   \n",
       "763e0702-8379-4b5e-95d1-a84f412c51e7                      NaN   \n",
       "763e0702-8379-4b5e-95d1-a84f412c51e7                      NaN   \n",
       "763e0702-8379-4b5e-95d1-a84f412c51e7                      NaN   \n",
       "\n",
       "                                      mitosis_karyorrhexis_index  \\\n",
       "case_id                                                            \n",
       "5705efcc-b48f-435c-8a28-9e0d407ecadd                         NaN   \n",
       "5705efcc-b48f-435c-8a28-9e0d407ecadd                         NaN   \n",
       "763e0702-8379-4b5e-95d1-a84f412c51e7                         NaN   \n",
       "763e0702-8379-4b5e-95d1-a84f412c51e7                         NaN   \n",
       "763e0702-8379-4b5e-95d1-a84f412c51e7                         NaN   \n",
       "\n",
       "                                      mitotic_count morphology  \\\n",
       "case_id                                                          \n",
       "5705efcc-b48f-435c-8a28-9e0d407ecadd            NaN     8380/3   \n",
       "5705efcc-b48f-435c-8a28-9e0d407ecadd            NaN     8380/3   \n",
       "763e0702-8379-4b5e-95d1-a84f412c51e7            NaN     8312/3   \n",
       "763e0702-8379-4b5e-95d1-a84f412c51e7            NaN     8312/3   \n",
       "763e0702-8379-4b5e-95d1-a84f412c51e7            NaN     8312/3   \n",
       "\n",
       "                                      ovarian_specimen_status  \\\n",
       "case_id                                                         \n",
       "5705efcc-b48f-435c-8a28-9e0d407ecadd                      NaN   \n",
       "5705efcc-b48f-435c-8a28-9e0d407ecadd                      NaN   \n",
       "763e0702-8379-4b5e-95d1-a84f412c51e7                      NaN   \n",
       "763e0702-8379-4b5e-95d1-a84f412c51e7                      NaN   \n",
       "763e0702-8379-4b5e-95d1-a84f412c51e7                      NaN   \n",
       "\n",
       "                                      ovarian_surface_involvement  \\\n",
       "case_id                                                             \n",
       "5705efcc-b48f-435c-8a28-9e0d407ecadd                          NaN   \n",
       "5705efcc-b48f-435c-8a28-9e0d407ecadd                          NaN   \n",
       "763e0702-8379-4b5e-95d1-a84f412c51e7                          NaN   \n",
       "763e0702-8379-4b5e-95d1-a84f412c51e7                          NaN   \n",
       "763e0702-8379-4b5e-95d1-a84f412c51e7                          NaN   \n",
       "\n",
       "                                      papillary_renal_cell_type  \\\n",
       "case_id                                                           \n",
       "5705efcc-b48f-435c-8a28-9e0d407ecadd                        NaN   \n",
       "5705efcc-b48f-435c-8a28-9e0d407ecadd                        NaN   \n",
       "763e0702-8379-4b5e-95d1-a84f412c51e7                        NaN   \n",
       "763e0702-8379-4b5e-95d1-a84f412c51e7                        NaN   \n",
       "763e0702-8379-4b5e-95d1-a84f412c51e7                        NaN   \n",
       "\n",
       "                                      peritoneal_fluid_cytological_status  \\\n",
       "case_id                                                                     \n",
       "5705efcc-b48f-435c-8a28-9e0d407ecadd                                  NaN   \n",
       "5705efcc-b48f-435c-8a28-9e0d407ecadd                                  NaN   \n",
       "763e0702-8379-4b5e-95d1-a84f412c51e7                                  NaN   \n",
       "763e0702-8379-4b5e-95d1-a84f412c51e7                                  NaN   \n",
       "763e0702-8379-4b5e-95d1-a84f412c51e7                                  NaN   \n",
       "\n",
       "                                      pregnant_at_diagnosis  \\\n",
       "case_id                                                       \n",
       "5705efcc-b48f-435c-8a28-9e0d407ecadd                    NaN   \n",
       "5705efcc-b48f-435c-8a28-9e0d407ecadd                    NaN   \n",
       "763e0702-8379-4b5e-95d1-a84f412c51e7                    NaN   \n",
       "763e0702-8379-4b5e-95d1-a84f412c51e7                    NaN   \n",
       "763e0702-8379-4b5e-95d1-a84f412c51e7                    NaN   \n",
       "\n",
       "                                                     primary_diagnosis  \\\n",
       "case_id                                                                  \n",
       "5705efcc-b48f-435c-8a28-9e0d407ecadd  Endometrioid adenocarcinoma, NOS   \n",
       "5705efcc-b48f-435c-8a28-9e0d407ecadd  Endometrioid adenocarcinoma, NOS   \n",
       "763e0702-8379-4b5e-95d1-a84f412c51e7         Renal cell carcinoma, NOS   \n",
       "763e0702-8379-4b5e-95d1-a84f412c51e7         Renal cell carcinoma, NOS   \n",
       "763e0702-8379-4b5e-95d1-a84f412c51e7         Renal cell carcinoma, NOS   \n",
       "\n",
       "                                      primary_disease  primary_gleason_grade  \\\n",
       "case_id                                                                        \n",
       "5705efcc-b48f-435c-8a28-9e0d407ecadd              NaN                    NaN   \n",
       "5705efcc-b48f-435c-8a28-9e0d407ecadd              NaN                    NaN   \n",
       "763e0702-8379-4b5e-95d1-a84f412c51e7              NaN                    NaN   \n",
       "763e0702-8379-4b5e-95d1-a84f412c51e7              NaN                    NaN   \n",
       "763e0702-8379-4b5e-95d1-a84f412c51e7              NaN                    NaN   \n",
       "\n",
       "                                     prior_malignancy  prior_treatment  \\\n",
       "case_id                                                                  \n",
       "5705efcc-b48f-435c-8a28-9e0d407ecadd              NaN              NaN   \n",
       "5705efcc-b48f-435c-8a28-9e0d407ecadd              NaN              NaN   \n",
       "763e0702-8379-4b5e-95d1-a84f412c51e7              NaN              NaN   \n",
       "763e0702-8379-4b5e-95d1-a84f412c51e7              NaN              NaN   \n",
       "763e0702-8379-4b5e-95d1-a84f412c51e7              NaN              NaN   \n",
       "\n",
       "                                     progression_or_recurrence project_id.1  \\\n",
       "case_id                                                                       \n",
       "5705efcc-b48f-435c-8a28-9e0d407ecadd                        no      CPTAC-3   \n",
       "5705efcc-b48f-435c-8a28-9e0d407ecadd                        no      CPTAC-3   \n",
       "763e0702-8379-4b5e-95d1-a84f412c51e7                       yes      CPTAC-3   \n",
       "763e0702-8379-4b5e-95d1-a84f412c51e7                       yes      CPTAC-3   \n",
       "763e0702-8379-4b5e-95d1-a84f412c51e7                       yes      CPTAC-3   \n",
       "\n",
       "                                     residual_disease  \\\n",
       "case_id                                                 \n",
       "5705efcc-b48f-435c-8a28-9e0d407ecadd               R0   \n",
       "5705efcc-b48f-435c-8a28-9e0d407ecadd               R0   \n",
       "763e0702-8379-4b5e-95d1-a84f412c51e7               R0   \n",
       "763e0702-8379-4b5e-95d1-a84f412c51e7               R0   \n",
       "763e0702-8379-4b5e-95d1-a84f412c51e7               R0   \n",
       "\n",
       "                                      satellite_nodule_present  \\\n",
       "case_id                                                          \n",
       "5705efcc-b48f-435c-8a28-9e0d407ecadd                       NaN   \n",
       "5705efcc-b48f-435c-8a28-9e0d407ecadd                       NaN   \n",
       "763e0702-8379-4b5e-95d1-a84f412c51e7                       NaN   \n",
       "763e0702-8379-4b5e-95d1-a84f412c51e7                       NaN   \n",
       "763e0702-8379-4b5e-95d1-a84f412c51e7                       NaN   \n",
       "\n",
       "                                      secondary_gleason_grade  \\\n",
       "case_id                                                         \n",
       "5705efcc-b48f-435c-8a28-9e0d407ecadd                      NaN   \n",
       "5705efcc-b48f-435c-8a28-9e0d407ecadd                      NaN   \n",
       "763e0702-8379-4b5e-95d1-a84f412c51e7                      NaN   \n",
       "763e0702-8379-4b5e-95d1-a84f412c51e7                      NaN   \n",
       "763e0702-8379-4b5e-95d1-a84f412c51e7                      NaN   \n",
       "\n",
       "                                     site_of_resection_or_biopsy  \\\n",
       "case_id                                                            \n",
       "5705efcc-b48f-435c-8a28-9e0d407ecadd                Corpus uteri   \n",
       "5705efcc-b48f-435c-8a28-9e0d407ecadd                Corpus uteri   \n",
       "763e0702-8379-4b5e-95d1-a84f412c51e7                 Kidney, NOS   \n",
       "763e0702-8379-4b5e-95d1-a84f412c51e7                 Kidney, NOS   \n",
       "763e0702-8379-4b5e-95d1-a84f412c51e7                 Kidney, NOS   \n",
       "\n",
       "                                      sites_of_involvement    submitter_id  \\\n",
       "case_id                                                                      \n",
       "5705efcc-b48f-435c-8a28-9e0d407ecadd                   NaN  C3L-00137-DIAG   \n",
       "5705efcc-b48f-435c-8a28-9e0d407ecadd                   NaN  C3L-00137-DIAG   \n",
       "763e0702-8379-4b5e-95d1-a84f412c51e7                   NaN  C3L-00908-DIAG   \n",
       "763e0702-8379-4b5e-95d1-a84f412c51e7                   NaN  C3L-00908-DIAG   \n",
       "763e0702-8379-4b5e-95d1-a84f412c51e7                   NaN  C3L-00908-DIAG   \n",
       "\n",
       "                                      supratentorial_localization  \\\n",
       "case_id                                                             \n",
       "5705efcc-b48f-435c-8a28-9e0d407ecadd                          NaN   \n",
       "5705efcc-b48f-435c-8a28-9e0d407ecadd                          NaN   \n",
       "763e0702-8379-4b5e-95d1-a84f412c51e7                          NaN   \n",
       "763e0702-8379-4b5e-95d1-a84f412c51e7                          NaN   \n",
       "763e0702-8379-4b5e-95d1-a84f412c51e7                          NaN   \n",
       "\n",
       "                                      synchronous_malignancy  \\\n",
       "case_id                                                        \n",
       "5705efcc-b48f-435c-8a28-9e0d407ecadd                     NaN   \n",
       "5705efcc-b48f-435c-8a28-9e0d407ecadd                     NaN   \n",
       "763e0702-8379-4b5e-95d1-a84f412c51e7                     NaN   \n",
       "763e0702-8379-4b5e-95d1-a84f412c51e7                     NaN   \n",
       "763e0702-8379-4b5e-95d1-a84f412c51e7                     NaN   \n",
       "\n",
       "                                     tissue_or_organ_of_origin  \\\n",
       "case_id                                                          \n",
       "5705efcc-b48f-435c-8a28-9e0d407ecadd              Corpus uteri   \n",
       "5705efcc-b48f-435c-8a28-9e0d407ecadd              Corpus uteri   \n",
       "763e0702-8379-4b5e-95d1-a84f412c51e7               Kidney, NOS   \n",
       "763e0702-8379-4b5e-95d1-a84f412c51e7               Kidney, NOS   \n",
       "763e0702-8379-4b5e-95d1-a84f412c51e7               Kidney, NOS   \n",
       "\n",
       "                                      tumor_confined_to_organ_of_origin  \\\n",
       "case_id                                                                   \n",
       "5705efcc-b48f-435c-8a28-9e0d407ecadd                                NaN   \n",
       "5705efcc-b48f-435c-8a28-9e0d407ecadd                                NaN   \n",
       "763e0702-8379-4b5e-95d1-a84f412c51e7                                NaN   \n",
       "763e0702-8379-4b5e-95d1-a84f412c51e7                                NaN   \n",
       "763e0702-8379-4b5e-95d1-a84f412c51e7                                NaN   \n",
       "\n",
       "                                      tumor_depth tumor_focality tumor_grade  \\\n",
       "case_id                                                                        \n",
       "5705efcc-b48f-435c-8a28-9e0d407ecadd          NaN       Unifocal          G1   \n",
       "5705efcc-b48f-435c-8a28-9e0d407ecadd          NaN       Unifocal          G1   \n",
       "763e0702-8379-4b5e-95d1-a84f412c51e7          NaN       Unifocal          G3   \n",
       "763e0702-8379-4b5e-95d1-a84f412c51e7          NaN       Unifocal          G3   \n",
       "763e0702-8379-4b5e-95d1-a84f412c51e7          NaN       Unifocal          G3   \n",
       "\n",
       "                                      tumor_regression_grade  \\\n",
       "case_id                                                        \n",
       "5705efcc-b48f-435c-8a28-9e0d407ecadd                     NaN   \n",
       "5705efcc-b48f-435c-8a28-9e0d407ecadd                     NaN   \n",
       "763e0702-8379-4b5e-95d1-a84f412c51e7                     NaN   \n",
       "763e0702-8379-4b5e-95d1-a84f412c51e7                     NaN   \n",
       "763e0702-8379-4b5e-95d1-a84f412c51e7                     NaN   \n",
       "\n",
       "                                                      updated_datetime  \\\n",
       "case_id                                                                  \n",
       "5705efcc-b48f-435c-8a28-9e0d407ecadd  2021-09-22T14:36:32.037275-05:00   \n",
       "5705efcc-b48f-435c-8a28-9e0d407ecadd  2021-09-22T14:36:32.037275-05:00   \n",
       "763e0702-8379-4b5e-95d1-a84f412c51e7  2023-02-03T18:28:48.308091-06:00   \n",
       "763e0702-8379-4b5e-95d1-a84f412c51e7  2023-02-03T18:28:48.308091-06:00   \n",
       "763e0702-8379-4b5e-95d1-a84f412c51e7  2023-02-03T18:28:48.308091-06:00   \n",
       "\n",
       "                                      weiss_assessment_score  who_cns_grade  \\\n",
       "case_id                                                                       \n",
       "5705efcc-b48f-435c-8a28-9e0d407ecadd                     NaN            NaN   \n",
       "5705efcc-b48f-435c-8a28-9e0d407ecadd                     NaN            NaN   \n",
       "763e0702-8379-4b5e-95d1-a84f412c51e7                     NaN            NaN   \n",
       "763e0702-8379-4b5e-95d1-a84f412c51e7                     NaN            NaN   \n",
       "763e0702-8379-4b5e-95d1-a84f412c51e7                     NaN            NaN   \n",
       "\n",
       "                                      who_nte_grade  \\\n",
       "case_id                                               \n",
       "5705efcc-b48f-435c-8a28-9e0d407ecadd            NaN   \n",
       "5705efcc-b48f-435c-8a28-9e0d407ecadd            NaN   \n",
       "763e0702-8379-4b5e-95d1-a84f412c51e7            NaN   \n",
       "763e0702-8379-4b5e-95d1-a84f412c51e7            NaN   \n",
       "763e0702-8379-4b5e-95d1-a84f412c51e7            NaN   \n",
       "\n",
       "                                      wilms_tumor_histologic_subtype  \\\n",
       "case_id                                                                \n",
       "5705efcc-b48f-435c-8a28-9e0d407ecadd                             NaN   \n",
       "5705efcc-b48f-435c-8a28-9e0d407ecadd                             NaN   \n",
       "763e0702-8379-4b5e-95d1-a84f412c51e7                             NaN   \n",
       "763e0702-8379-4b5e-95d1-a84f412c51e7                             NaN   \n",
       "763e0702-8379-4b5e-95d1-a84f412c51e7                             NaN   \n",
       "\n",
       "                                      year_of_diagnosis  \\\n",
       "case_id                                                   \n",
       "5705efcc-b48f-435c-8a28-9e0d407ecadd             2016.0   \n",
       "5705efcc-b48f-435c-8a28-9e0d407ecadd             2016.0   \n",
       "763e0702-8379-4b5e-95d1-a84f412c51e7             2016.0   \n",
       "763e0702-8379-4b5e-95d1-a84f412c51e7             2016.0   \n",
       "763e0702-8379-4b5e-95d1-a84f412c51e7             2016.0   \n",
       "\n",
       "                                                      disease_type  \\\n",
       "case_id                                                              \n",
       "5705efcc-b48f-435c-8a28-9e0d407ecadd  Adenomas and Adenocarcinomas   \n",
       "5705efcc-b48f-435c-8a28-9e0d407ecadd  Adenomas and Adenocarcinomas   \n",
       "763e0702-8379-4b5e-95d1-a84f412c51e7  Adenomas and Adenocarcinomas   \n",
       "763e0702-8379-4b5e-95d1-a84f412c51e7  Adenomas and Adenocarcinomas   \n",
       "763e0702-8379-4b5e-95d1-a84f412c51e7  Adenomas and Adenocarcinomas   \n",
       "\n",
       "                                     primary_site project_id  \n",
       "case_id                                                       \n",
       "5705efcc-b48f-435c-8a28-9e0d407ecadd  Uterus, NOS    CPTAC-3  \n",
       "5705efcc-b48f-435c-8a28-9e0d407ecadd  Uterus, NOS    CPTAC-3  \n",
       "763e0702-8379-4b5e-95d1-a84f412c51e7       Kidney    CPTAC-3  \n",
       "763e0702-8379-4b5e-95d1-a84f412c51e7       Kidney    CPTAC-3  \n",
       "763e0702-8379-4b5e-95d1-a84f412c51e7       Kidney    CPTAC-3  "
      ]
     },
     "execution_count": 12,
     "metadata": {},
     "output_type": "execute_result"
    }
   ],
   "source": [
    "# import the metadata\n",
    "metadata = pd.read_csv('../../results/metadata.tsv', sep='\\t', index_col=0)\n",
    "# preview the dataframe\n",
    "metadata.head()"
   ]
  },
  {
   "cell_type": "code",
   "execution_count": null,
   "metadata": {},
   "outputs": [],
   "source": [
    "# give the index column the name 'read_group_id'\n",
    "TPM_pca_df.index.name = 'read_group_id'\n",
    "# transform the index header of TPM_pca_df into a column\n",
    "TPM_pca_df.reset_index(inplace=True)"
   ]
  },
  {
   "cell_type": "code",
   "execution_count": null,
   "metadata": {},
   "outputs": [
    {
     "data": {
      "text/html": [
       "<div>\n",
       "<style scoped>\n",
       "    .dataframe tbody tr th:only-of-type {\n",
       "        vertical-align: middle;\n",
       "    }\n",
       "\n",
       "    .dataframe tbody tr th {\n",
       "        vertical-align: top;\n",
       "    }\n",
       "\n",
       "    .dataframe thead th {\n",
       "        text-align: right;\n",
       "    }\n",
       "</style>\n",
       "<table border=\"1\" class=\"dataframe\">\n",
       "  <thead>\n",
       "    <tr style=\"text-align: right;\">\n",
       "      <th></th>\n",
       "      <th>read_group_id</th>\n",
       "      <th>PC1</th>\n",
       "      <th>PC2</th>\n",
       "      <th>PC3</th>\n",
       "    </tr>\n",
       "  </thead>\n",
       "  <tbody>\n",
       "    <tr>\n",
       "      <th>0</th>\n",
       "      <td>52aef68b-63de-46b1-bb88-fb11d875c803</td>\n",
       "      <td>-0.646184</td>\n",
       "      <td>0.307540</td>\n",
       "      <td>1.055633</td>\n",
       "    </tr>\n",
       "    <tr>\n",
       "      <th>1</th>\n",
       "      <td>98460c61-c4ef-43ff-b7ac-b5c1b7b0ae26</td>\n",
       "      <td>-0.228434</td>\n",
       "      <td>0.686052</td>\n",
       "      <td>-1.465171</td>\n",
       "    </tr>\n",
       "    <tr>\n",
       "      <th>2</th>\n",
       "      <td>5810cc10-f53a-451a-8001-c68765e30565</td>\n",
       "      <td>3.217787</td>\n",
       "      <td>-0.360605</td>\n",
       "      <td>-0.996451</td>\n",
       "    </tr>\n",
       "    <tr>\n",
       "      <th>3</th>\n",
       "      <td>2042bb7e-ff24-439d-b33c-70c15cc3d201</td>\n",
       "      <td>3.087338</td>\n",
       "      <td>-1.130540</td>\n",
       "      <td>-0.300919</td>\n",
       "    </tr>\n",
       "    <tr>\n",
       "      <th>4</th>\n",
       "      <td>dba512d3-58c5-47ed-a3f5-ee3d81e0b0c9</td>\n",
       "      <td>-0.198615</td>\n",
       "      <td>-0.553225</td>\n",
       "      <td>0.892547</td>\n",
       "    </tr>\n",
       "  </tbody>\n",
       "</table>\n",
       "</div>"
      ],
      "text/plain": [
       "                          read_group_id       PC1       PC2       PC3\n",
       "0  52aef68b-63de-46b1-bb88-fb11d875c803 -0.646184  0.307540  1.055633\n",
       "1  98460c61-c4ef-43ff-b7ac-b5c1b7b0ae26 -0.228434  0.686052 -1.465171\n",
       "2  5810cc10-f53a-451a-8001-c68765e30565  3.217787 -0.360605 -0.996451\n",
       "3  2042bb7e-ff24-439d-b33c-70c15cc3d201  3.087338 -1.130540 -0.300919\n",
       "4  dba512d3-58c5-47ed-a3f5-ee3d81e0b0c9 -0.198615 -0.553225  0.892547"
      ]
     },
     "execution_count": 14,
     "metadata": {},
     "output_type": "execute_result"
    }
   ],
   "source": [
    "# preview the dataframe\n",
    "TPM_pca_df.head()"
   ]
  },
  {
   "cell_type": "code",
   "execution_count": null,
   "metadata": {},
   "outputs": [],
   "source": [
    "# take tissue_type, gender, race, age_at_diagnosis/365, ajcc_pathologic_stage, primary_diagnosis, morphology, tissue_or_organ_of_origin, tumor_focality, disease_type, primary_site from the metadata and merge it with the TPM_pca_df into a new dataframe called TPM_pre_cluster\n",
    "columns = ['read_group_id', 'tissue_type', 'gender', 'race', 'age_at_diagnosis', 'ajcc_pathologic_stage', 'primary_diagnosis', 'morphology', 'tissue_or_organ_of_origin', 'tumor_focality', 'disease_type', 'primary_site']\n",
    "\n",
    "# Create a new dataframe with selected columns from metadata\n",
    "selected_metadata = metadata[columns]\n",
    "\n",
    "# Merge selected_metadata with TPM_pca_df using the 'read_group_id' column\n",
    "TPM_pre_cluster = pd.merge(TPM_pca_df, selected_metadata, on='read_group_id')"
   ]
  },
  {
   "cell_type": "code",
   "execution_count": null,
   "metadata": {},
   "outputs": [],
   "source": [
    "# divide age_at_diagnosis by 365 to get age_at_diagnosis in years\n",
    "TPM_pre_cluster['age_at_diagnosis'] = TPM_pre_cluster['age_at_diagnosis'] / 365"
   ]
  },
  {
   "cell_type": "code",
   "execution_count": null,
   "metadata": {},
   "outputs": [
    {
     "data": {
      "text/html": [
       "<div>\n",
       "<style scoped>\n",
       "    .dataframe tbody tr th:only-of-type {\n",
       "        vertical-align: middle;\n",
       "    }\n",
       "\n",
       "    .dataframe tbody tr th {\n",
       "        vertical-align: top;\n",
       "    }\n",
       "\n",
       "    .dataframe thead th {\n",
       "        text-align: right;\n",
       "    }\n",
       "</style>\n",
       "<table border=\"1\" class=\"dataframe\">\n",
       "  <thead>\n",
       "    <tr style=\"text-align: right;\">\n",
       "      <th></th>\n",
       "      <th>read_group_id</th>\n",
       "      <th>PC1</th>\n",
       "      <th>PC2</th>\n",
       "      <th>PC3</th>\n",
       "      <th>tissue_type</th>\n",
       "      <th>gender</th>\n",
       "      <th>race</th>\n",
       "      <th>age_at_diagnosis</th>\n",
       "      <th>ajcc_pathologic_stage</th>\n",
       "      <th>primary_diagnosis</th>\n",
       "      <th>morphology</th>\n",
       "      <th>tissue_or_organ_of_origin</th>\n",
       "      <th>tumor_focality</th>\n",
       "      <th>disease_type</th>\n",
       "      <th>primary_site</th>\n",
       "    </tr>\n",
       "  </thead>\n",
       "  <tbody>\n",
       "    <tr>\n",
       "      <th>0</th>\n",
       "      <td>52aef68b-63de-46b1-bb88-fb11d875c803</td>\n",
       "      <td>-0.646184</td>\n",
       "      <td>0.307540</td>\n",
       "      <td>1.055633</td>\n",
       "      <td>Tumor</td>\n",
       "      <td>female</td>\n",
       "      <td>asian</td>\n",
       "      <td>39.980822</td>\n",
       "      <td>Not Reported</td>\n",
       "      <td>Glioblastoma</td>\n",
       "      <td>9440/3</td>\n",
       "      <td>Brain, NOS</td>\n",
       "      <td>NaN</td>\n",
       "      <td>Gliomas</td>\n",
       "      <td>Brain</td>\n",
       "    </tr>\n",
       "    <tr>\n",
       "      <th>1</th>\n",
       "      <td>98460c61-c4ef-43ff-b7ac-b5c1b7b0ae26</td>\n",
       "      <td>-0.228434</td>\n",
       "      <td>0.686052</td>\n",
       "      <td>-1.465171</td>\n",
       "      <td>Tumor</td>\n",
       "      <td>male</td>\n",
       "      <td>white</td>\n",
       "      <td>65.978082</td>\n",
       "      <td>Stage IVA</td>\n",
       "      <td>Squamous cell carcinoma, NOS</td>\n",
       "      <td>8070/3</td>\n",
       "      <td>Tongue, NOS</td>\n",
       "      <td>Unifocal</td>\n",
       "      <td>Squamous Cell Neoplasms</td>\n",
       "      <td>Other and ill-defined sites</td>\n",
       "    </tr>\n",
       "    <tr>\n",
       "      <th>2</th>\n",
       "      <td>5810cc10-f53a-451a-8001-c68765e30565</td>\n",
       "      <td>3.217787</td>\n",
       "      <td>-0.360605</td>\n",
       "      <td>-0.996451</td>\n",
       "      <td>Tumor</td>\n",
       "      <td>male</td>\n",
       "      <td>white</td>\n",
       "      <td>72.452055</td>\n",
       "      <td>Unknown</td>\n",
       "      <td>Squamous cell carcinoma, NOS</td>\n",
       "      <td>8070/3</td>\n",
       "      <td>Larynx, NOS</td>\n",
       "      <td>Unifocal</td>\n",
       "      <td>Squamous Cell Neoplasms</td>\n",
       "      <td>Other and ill-defined sites</td>\n",
       "    </tr>\n",
       "    <tr>\n",
       "      <th>3</th>\n",
       "      <td>2042bb7e-ff24-439d-b33c-70c15cc3d201</td>\n",
       "      <td>3.087338</td>\n",
       "      <td>-1.130540</td>\n",
       "      <td>-0.300919</td>\n",
       "      <td>Tumor</td>\n",
       "      <td>female</td>\n",
       "      <td>white</td>\n",
       "      <td>42.550685</td>\n",
       "      <td>Stage I</td>\n",
       "      <td>Endometrioid adenocarcinoma, NOS</td>\n",
       "      <td>8380/3</td>\n",
       "      <td>Endometrium</td>\n",
       "      <td>Unifocal</td>\n",
       "      <td>Adenomas and Adenocarcinomas</td>\n",
       "      <td>Uterus, NOS</td>\n",
       "    </tr>\n",
       "    <tr>\n",
       "      <th>4</th>\n",
       "      <td>dba512d3-58c5-47ed-a3f5-ee3d81e0b0c9</td>\n",
       "      <td>-0.198615</td>\n",
       "      <td>-0.553225</td>\n",
       "      <td>0.892547</td>\n",
       "      <td>Normal</td>\n",
       "      <td>female</td>\n",
       "      <td>white</td>\n",
       "      <td>39.065753</td>\n",
       "      <td>Stage I</td>\n",
       "      <td>Endometrioid adenocarcinoma, NOS</td>\n",
       "      <td>8380/3</td>\n",
       "      <td>Endometrium</td>\n",
       "      <td>Unifocal</td>\n",
       "      <td>Adenomas and Adenocarcinomas</td>\n",
       "      <td>Uterus, NOS</td>\n",
       "    </tr>\n",
       "  </tbody>\n",
       "</table>\n",
       "</div>"
      ],
      "text/plain": [
       "                          read_group_id       PC1       PC2       PC3  \\\n",
       "0  52aef68b-63de-46b1-bb88-fb11d875c803 -0.646184  0.307540  1.055633   \n",
       "1  98460c61-c4ef-43ff-b7ac-b5c1b7b0ae26 -0.228434  0.686052 -1.465171   \n",
       "2  5810cc10-f53a-451a-8001-c68765e30565  3.217787 -0.360605 -0.996451   \n",
       "3  2042bb7e-ff24-439d-b33c-70c15cc3d201  3.087338 -1.130540 -0.300919   \n",
       "4  dba512d3-58c5-47ed-a3f5-ee3d81e0b0c9 -0.198615 -0.553225  0.892547   \n",
       "\n",
       "  tissue_type  gender   race  age_at_diagnosis ajcc_pathologic_stage  \\\n",
       "0       Tumor  female  asian         39.980822          Not Reported   \n",
       "1       Tumor    male  white         65.978082             Stage IVA   \n",
       "2       Tumor    male  white         72.452055               Unknown   \n",
       "3       Tumor  female  white         42.550685               Stage I   \n",
       "4      Normal  female  white         39.065753               Stage I   \n",
       "\n",
       "                  primary_diagnosis morphology tissue_or_organ_of_origin  \\\n",
       "0                      Glioblastoma     9440/3                Brain, NOS   \n",
       "1      Squamous cell carcinoma, NOS     8070/3               Tongue, NOS   \n",
       "2      Squamous cell carcinoma, NOS     8070/3               Larynx, NOS   \n",
       "3  Endometrioid adenocarcinoma, NOS     8380/3               Endometrium   \n",
       "4  Endometrioid adenocarcinoma, NOS     8380/3               Endometrium   \n",
       "\n",
       "  tumor_focality                  disease_type                 primary_site  \n",
       "0            NaN                       Gliomas                        Brain  \n",
       "1       Unifocal       Squamous Cell Neoplasms  Other and ill-defined sites  \n",
       "2       Unifocal       Squamous Cell Neoplasms  Other and ill-defined sites  \n",
       "3       Unifocal  Adenomas and Adenocarcinomas                  Uterus, NOS  \n",
       "4       Unifocal  Adenomas and Adenocarcinomas                  Uterus, NOS  "
      ]
     },
     "execution_count": 17,
     "metadata": {},
     "output_type": "execute_result"
    }
   ],
   "source": [
    "# preview the dataframe\n",
    "TPM_pre_cluster.head()"
   ]
  },
  {
   "cell_type": "code",
   "execution_count": null,
   "metadata": {},
   "outputs": [],
   "source": [
    "# remove read_group_id column\n",
    "TPM_pre_cluster.drop('read_group_id', axis=1, inplace=True)"
   ]
  },
  {
   "cell_type": "code",
   "execution_count": null,
   "metadata": {},
   "outputs": [
    {
     "data": {
      "application/vnd.plotly.v1+json": {
       "config": {
        "plotlyServerURL": "https://plot.ly"
       },
       "data": [
        {
         "hovertemplate": "disease_type=Gliomas<br>PC1=%{x}<br>PC2=%{y}<br>PC3=%{z}<extra></extra>",
         "legendgroup": "Gliomas",
         "marker": {
          "color": "#636efa",
          "symbol": "circle"
         },
         "mode": "markers",
         "name": "Gliomas",
         "scene": "scene",
         "showlegend": true,
         "type": "scatter3d",
         "x": [
          -0.6461835155654678,
          -0.4773783860052386,
          -0.3432421624256105,
          -0.6766011485871877,
          -0.19568140173394616,
          -0.17288153338127588,
          0.7103252931997964,
          -0.3526910800181407,
          -0.27786694665225975,
          -0.2003970218897825,
          -0.4436655962364607
         ],
         "y": [
          0.3075403861816956,
          -0.01280849405432452,
          0.11863205026585534,
          0.4262249052085923,
          0.2534361984497934,
          -0.07719180743072042,
          1.3681520196524015,
          0.038431847252483144,
          -0.3160914480470362,
          -0.010873696985561053,
          0.013124809835799082
         ],
         "z": [
          1.0556330306406259,
          1.5090607174120658,
          2.0042217252936867,
          1.5538739708289255,
          0.8478579162276874,
          1.605842872689268,
          -0.6587274128281989,
          1.5932900056610262,
          1.1209519140123794,
          1.4098749667902426,
          2.1422087661963847
         ]
        },
        {
         "hovertemplate": "disease_type=Squamous Cell Neoplasms<br>PC1=%{x}<br>PC2=%{y}<br>PC3=%{z}<extra></extra>",
         "legendgroup": "Squamous Cell Neoplasms",
         "marker": {
          "color": "#EF553B",
          "symbol": "circle"
         },
         "mode": "markers",
         "name": "Squamous Cell Neoplasms",
         "scene": "scene",
         "showlegend": true,
         "type": "scatter3d",
         "x": [
          -0.228434298269136,
          3.2177867261612723,
          -0.08599587916306424,
          -0.4782258895344875,
          -0.3292809434154056,
          -0.583504201886774,
          3.77682082870616,
          -0.35301323878591406,
          -0.4954755799363624,
          -0.41841854567840503,
          -0.48114582648873555,
          -0.6374260277532721,
          -0.42721286360636096,
          -0.2374729732231733,
          -0.46485552380619005,
          -0.35099002589023637,
          -0.12434887565642408,
          -0.29035721576837364,
          -0.6136845629222086,
          -0.41222930384514916,
          -0.31165264408981347,
          -0.5763237641797885,
          -0.2628780724790225,
          -0.30813648864578497,
          -0.27960343933786336,
          -0.30209116329415814,
          -0.6267564738145814,
          3.6162688799439056,
          -0.5990474058036963
         ],
         "y": [
          0.686051805805836,
          -0.3606047284617547,
          0.8720326453400277,
          0.5056036576044024,
          -0.5192795242703516,
          -0.27162573418588215,
          -0.07662570578670871,
          0.9673071608115678,
          0.5272368960571256,
          -0.2302644499690832,
          -0.3675335915933371,
          0.7490975057165066,
          -0.08351903298411038,
          0.9630067892351023,
          -0.3126965323145148,
          0.8147482921183193,
          0.9078672644766116,
          -0.2579268777046391,
          -0.8493856149061483,
          0.47870642727642776,
          -0.08250879214691417,
          0.27096056293666504,
          0.697483643800079,
          0.7187353983340122,
          0.6646004956304519,
          0.260214782186156,
          0.3608540136888437,
          -0.11023704511116761,
          -0.3230728626326192
         ],
         "z": [
          -1.465170945407036,
          -0.9964506244872102,
          -1.9557803561921578,
          -1.0113860253293563,
          0.0855660539175361,
          0.01930200688539804,
          -0.3361563764659783,
          -1.232878990944219,
          -1.0168182201871347,
          -0.03943743868655277,
          0.10653108203726123,
          -0.9495922395610458,
          -1.5087557121285744,
          -2.004197773548817,
          -0.08122632900072443,
          -1.564675291233176,
          -1.822573264324376,
          -0.07967663155980051,
          -0.5501470616935313,
          -1.2959432569945457,
          -0.1732354933110325,
          -1.8105022106456234,
          -1.2328775635191542,
          -1.3823499811567166,
          -1.3078377103460468,
          -1.709445762412681,
          -1.4042825556617449,
          -0.4549472771866639,
          0.04374169130165978
         ]
        },
        {
         "hovertemplate": "disease_type=Adenomas and Adenocarcinomas<br>PC1=%{x}<br>PC2=%{y}<br>PC3=%{z}<extra></extra>",
         "legendgroup": "Adenomas and Adenocarcinomas",
         "marker": {
          "color": "#00cc96",
          "symbol": "circle"
         },
         "mode": "markers",
         "name": "Adenomas and Adenocarcinomas",
         "scene": "scene",
         "showlegend": true,
         "type": "scatter3d",
         "x": [
          3.087337839408291,
          -0.19861496266853065,
          -0.260984494987361,
          -0.34914295219646546,
          -0.36013273744508295,
          -0.36683182081308563,
          -0.4162662235421771,
          -0.44250097616839024,
          -0.2908102496059654,
          -0.1279062467412469,
          -0.46242943554280325,
          4.411432237427092,
          -0.34300647657499583,
          -0.36730582289942615,
          -0.29417311652366235,
          -0.5413122883195897,
          -0.26136563176672933,
          -0.40276583041426167,
          -0.6171061385716247,
          -0.4307757610248541,
          -0.519108231913504,
          -0.5632712094753509,
          1.9285259690785272,
          -0.33331116471734384,
          0.3414411169485187,
          -0.03174848419063275,
          -0.5021950367578937,
          -0.051723105011185225,
          -0.43013429619937704,
          -0.4142666076880047,
          -0.41959142709875785,
          -0.3973958371413672,
          -0.4096201798310433,
          -0.31117771439011155,
          -0.13350901927849515,
          4.017001318756486,
          -0.49999695578506664,
          -0.2668618228819724,
          -0.7307278444719111,
          0.1308443412505048,
          0.022115482275936214,
          -0.5188946747202351,
          -0.5711328869918629,
          -0.2890722571083698,
          -0.4475593677659227,
          -0.4665201274858595,
          -0.04148165315994201,
          1.2764676443565133,
          -0.5016094097083419,
          2.2276399934869837,
          1.6570202786646384,
          -0.627371763513805,
          -0.22918829531145363,
          -0.5938269053583056,
          -0.5579519543946714,
          4.09635246086027
         ],
         "y": [
          -1.1305400716335348,
          -0.5532250707087409,
          0.09266194164730224,
          -0.22264135447843802,
          0.03098477522527053,
          0.2748623633809649,
          0.6121397394778572,
          -0.47620827922028175,
          -1.9862888790884428,
          0.03984336225723788,
          -0.41851634321922887,
          -0.33842040190297124,
          0.032728419743575626,
          -0.6594903241257832,
          -1.86141586018262,
          0.39987863497801496,
          -0.5726699708166078,
          -0.47795634983993235,
          -0.5256902382163164,
          -1.908766850566541,
          -0.02474097363761839,
          -0.45424494238594143,
          -1.0534955941732524,
          -0.6531857557422491,
          -0.6237444554921435,
          -0.04924430540234567,
          -0.34362945562365266,
          -0.5750866914060947,
          -0.7606847510485102,
          -1.7903603282458351,
          -0.3791674389344953,
          -0.04616102882706811,
          -0.06047031667315243,
          -0.7907333984835696,
          0.39929966971003505,
          -0.16817738566356744,
          -1.776607363958642,
          -0.01507370924272504,
          -0.7638911385226662,
          -0.4362276484475229,
          -0.5829329694133739,
          -1.3679361829506624,
          -0.4560415816477712,
          -1.694606355570902,
          -0.08467321533396586,
          0.11771383687052675,
          -0.8924424884142862,
          -1.3886421392220256,
          -0.8048012218802038,
          -1.2368412160630027,
          -1.2012463313278692,
          -1.0646229122072284,
          -0.7152502936474311,
          -0.6236302320693557,
          -0.34779788143204254,
          -0.16071171772274664
         ],
         "z": [
          -0.30091874840951827,
          0.892546909449345,
          -1.293110520347336,
          -0.4151599896282655,
          0.662719250323155,
          -1.1246501636108266,
          -0.8093715424657666,
          -0.22914085956714414,
          1.0131404438979883,
          -0.01550152683266067,
          -0.1386988606155506,
          0.24944984064498452,
          -0.47330707991954846,
          0.4936592603688613,
          1.2233554625517957,
          -1.0197412552813934,
          0.45273574387171056,
          -1.0826365559366813,
          -0.12242681909011308,
          1.3741418871264743,
          0.9179497944023014,
          0.04612527690445443,
          -0.4992158387827927,
          0.9507548921249891,
          1.1566800135653938,
          -0.6882816177590672,
          0.7332111920806483,
          1.4470213386770407,
          1.1801129178598553,
          0.9301259801947965,
          -0.1983056872990457,
          -0.5810117727601826,
          0.7282188595041681,
          0.81896952948278,
          -1.3921786141375068,
          0.19848848634559774,
          0.8071866672417896,
          -1.167044247861631,
          -0.07207582074489885,
          1.258251610772375,
          1.5799454832925786,
          1.0539251165147725,
          -0.7842501336745156,
          1.369877876877219,
          -1.3678891124541788,
          -0.8129000024864299,
          0.7981977625449441,
          -0.3827964208191365,
          -0.03265897640208956,
          -0.46026810779850924,
          -0.7154434536878643,
          1.0772446792983628,
          0.2958404003300807,
          0.18851414139931602,
          -0.445793799451541,
          0.047714042243685466
         ]
        },
        {
         "hovertemplate": "disease_type=Nevi and Melanomas<br>PC1=%{x}<br>PC2=%{y}<br>PC3=%{z}<extra></extra>",
         "legendgroup": "Nevi and Melanomas",
         "marker": {
          "color": "#ab63fa",
          "symbol": "circle"
         },
         "mode": "markers",
         "name": "Nevi and Melanomas",
         "scene": "scene",
         "showlegend": true,
         "type": "scatter3d",
         "x": [
          -0.25328638357559885,
          -0.6424189097842523,
          -0.17550230438644512,
          0.37690097679556805,
          -0.2228792829220058,
          0.006138324725136489,
          -0.39686851370032594,
          -0.004523212055252219,
          -0.3663784123813886,
          -0.048410763840944435,
          -0.21266452455328722
         ],
         "y": [
          1.2502958795978174,
          -0.2945304219154012,
          0.24557322688933497,
          0.9810390129612114,
          1.1873501222753318,
          1.0191200456928302,
          -0.5467724884199504,
          0.800623296991412,
          1.0158963727381118,
          1.4458666447270163,
          -0.3385416050807422
         ],
         "z": [
          0.8146308753376932,
          -0.9281480771877191,
          -0.2533284748328862,
          -0.003472517801923477,
          -0.3642923943076744,
          1.1056923337508082,
          -0.6425521721630127,
          0.2949070304215219,
          -0.7718492518339309,
          0.7698208680282801,
          0.6489941090850357
         ]
        },
        {
         "hovertemplate": "disease_type=Soft Tissue Tumors and Sarcomas, NOS<br>PC1=%{x}<br>PC2=%{y}<br>PC3=%{z}<extra></extra>",
         "legendgroup": "Soft Tissue Tumors and Sarcomas, NOS",
         "marker": {
          "color": "#FFA15A",
          "symbol": "circle"
         },
         "mode": "markers",
         "name": "Soft Tissue Tumors and Sarcomas, NOS",
         "scene": "scene",
         "showlegend": true,
         "type": "scatter3d",
         "x": [
          -0.2855187180904617,
          0.054230332899615936,
          -0.12116690172757837,
          -0.37151830738423636
         ],
         "y": [
          -0.5797148644287768,
          1.04869715315307,
          -0.547971842040668,
          0.6070699414491368
         ],
         "z": [
          0.06895080665366678,
          0.47369979591940925,
          1.1727967911693853,
          0.4552633725986738
         ]
        },
        {
         "hovertemplate": "disease_type=Ductal and Lobular Neoplasms<br>PC1=%{x}<br>PC2=%{y}<br>PC3=%{z}<extra></extra>",
         "legendgroup": "Ductal and Lobular Neoplasms",
         "marker": {
          "color": "#19d3f3",
          "symbol": "circle"
         },
         "mode": "markers",
         "name": "Ductal and Lobular Neoplasms",
         "scene": "scene",
         "showlegend": true,
         "type": "scatter3d",
         "x": [
          -0.4583497452674519,
          -0.3519737775805372,
          0.23743900168389193,
          -0.29884977619389824,
          -0.5132154489764092,
          -0.4720084405733913,
          -0.32896162818037716,
          0.6578890520378916,
          -0.2798521955183788,
          -0.3134195306871016,
          -0.39815569402553297,
          -0.387754598398883,
          -0.16926163342169592
         ],
         "y": [
          -0.42381287780204585,
          -0.7023706022816529,
          -0.6861246571266256,
          -0.3661283761731341,
          -0.8369477395727296,
          -0.45309476831642725,
          -0.07843570226788743,
          -1.0597060115522454,
          -0.6750154466196778,
          -0.5683943787429314,
          -0.3647250995904386,
          0.8177622107808611,
          -0.26532899869007437
         ],
         "z": [
          -1.341913618814741,
          -1.0292865395557353,
          0.04284139459163285,
          -1.3606442886578927,
          -0.8475338659937222,
          -0.7801451472675092,
          0.20442466770104556,
          -0.14861020375357528,
          0.05421528713389051,
          -1.1102522319314048,
          0.0692337009841189,
          -0.9831208926022363,
          -0.4208670308017134
         ]
        },
        {
         "hovertemplate": "disease_type=Myeloid Leukemias<br>PC1=%{x}<br>PC2=%{y}<br>PC3=%{z}<extra></extra>",
         "legendgroup": "Myeloid Leukemias",
         "marker": {
          "color": "#FF6692",
          "symbol": "circle"
         },
         "mode": "markers",
         "name": "Myeloid Leukemias",
         "scene": "scene",
         "showlegend": true,
         "type": "scatter3d",
         "x": [
          0.3716185289893102,
          0.4704912969271819,
          0.4593681353050364,
          0.43046601592009687,
          0.2551256911062885,
          0.39721060340758757,
          0.3307961894677141,
          0.18086790044656398
         ],
         "y": [
          2.9075673013351966,
          2.629123319386035,
          2.7105879393339065,
          2.7597904555186465,
          2.9157827720634315,
          2.9642862839487436,
          2.7529676298941967,
          2.909721269707799
         ],
         "z": [
          1.1313432371083132,
          1.003604044945475,
          1.6898163335133578,
          1.1722605146769112,
          1.5697437794146643,
          1.1700277799064895,
          1.2662367301399033,
          1.234323006838809
         ]
        },
        {
         "hovertemplate": "disease_type=Not Applicable<br>PC1=%{x}<br>PC2=%{y}<br>PC3=%{z}<extra></extra>",
         "legendgroup": "Not Applicable",
         "marker": {
          "color": "#B6E880",
          "symbol": "circle"
         },
         "mode": "markers",
         "name": "Not Applicable",
         "scene": "scene",
         "showlegend": true,
         "type": "scatter3d",
         "x": [
          -0.21515433908481083
         ],
         "y": [
          -0.3704879455800154
         ],
         "z": [
          0.19897870043745086
         ]
        }
       ],
       "layout": {
        "legend": {
         "title": {
          "text": "disease_type"
         },
         "tracegroupgap": 0
        },
        "scene": {
         "domain": {
          "x": [
           0,
           1
          ],
          "y": [
           0,
           1
          ]
         },
         "xaxis": {
          "title": {
           "text": "PC1"
          }
         },
         "yaxis": {
          "title": {
           "text": "PC2"
          }
         },
         "zaxis": {
          "title": {
           "text": "PC3"
          }
         }
        },
        "template": {
         "data": {
          "bar": [
           {
            "error_x": {
             "color": "#2a3f5f"
            },
            "error_y": {
             "color": "#2a3f5f"
            },
            "marker": {
             "line": {
              "color": "#E5ECF6",
              "width": 0.5
             },
             "pattern": {
              "fillmode": "overlay",
              "size": 10,
              "solidity": 0.2
             }
            },
            "type": "bar"
           }
          ],
          "barpolar": [
           {
            "marker": {
             "line": {
              "color": "#E5ECF6",
              "width": 0.5
             },
             "pattern": {
              "fillmode": "overlay",
              "size": 10,
              "solidity": 0.2
             }
            },
            "type": "barpolar"
           }
          ],
          "carpet": [
           {
            "aaxis": {
             "endlinecolor": "#2a3f5f",
             "gridcolor": "white",
             "linecolor": "white",
             "minorgridcolor": "white",
             "startlinecolor": "#2a3f5f"
            },
            "baxis": {
             "endlinecolor": "#2a3f5f",
             "gridcolor": "white",
             "linecolor": "white",
             "minorgridcolor": "white",
             "startlinecolor": "#2a3f5f"
            },
            "type": "carpet"
           }
          ],
          "choropleth": [
           {
            "colorbar": {
             "outlinewidth": 0,
             "ticks": ""
            },
            "type": "choropleth"
           }
          ],
          "contour": [
           {
            "colorbar": {
             "outlinewidth": 0,
             "ticks": ""
            },
            "colorscale": [
             [
              0,
              "#0d0887"
             ],
             [
              0.1111111111111111,
              "#46039f"
             ],
             [
              0.2222222222222222,
              "#7201a8"
             ],
             [
              0.3333333333333333,
              "#9c179e"
             ],
             [
              0.4444444444444444,
              "#bd3786"
             ],
             [
              0.5555555555555556,
              "#d8576b"
             ],
             [
              0.6666666666666666,
              "#ed7953"
             ],
             [
              0.7777777777777778,
              "#fb9f3a"
             ],
             [
              0.8888888888888888,
              "#fdca26"
             ],
             [
              1,
              "#f0f921"
             ]
            ],
            "type": "contour"
           }
          ],
          "contourcarpet": [
           {
            "colorbar": {
             "outlinewidth": 0,
             "ticks": ""
            },
            "type": "contourcarpet"
           }
          ],
          "heatmap": [
           {
            "colorbar": {
             "outlinewidth": 0,
             "ticks": ""
            },
            "colorscale": [
             [
              0,
              "#0d0887"
             ],
             [
              0.1111111111111111,
              "#46039f"
             ],
             [
              0.2222222222222222,
              "#7201a8"
             ],
             [
              0.3333333333333333,
              "#9c179e"
             ],
             [
              0.4444444444444444,
              "#bd3786"
             ],
             [
              0.5555555555555556,
              "#d8576b"
             ],
             [
              0.6666666666666666,
              "#ed7953"
             ],
             [
              0.7777777777777778,
              "#fb9f3a"
             ],
             [
              0.8888888888888888,
              "#fdca26"
             ],
             [
              1,
              "#f0f921"
             ]
            ],
            "type": "heatmap"
           }
          ],
          "heatmapgl": [
           {
            "colorbar": {
             "outlinewidth": 0,
             "ticks": ""
            },
            "colorscale": [
             [
              0,
              "#0d0887"
             ],
             [
              0.1111111111111111,
              "#46039f"
             ],
             [
              0.2222222222222222,
              "#7201a8"
             ],
             [
              0.3333333333333333,
              "#9c179e"
             ],
             [
              0.4444444444444444,
              "#bd3786"
             ],
             [
              0.5555555555555556,
              "#d8576b"
             ],
             [
              0.6666666666666666,
              "#ed7953"
             ],
             [
              0.7777777777777778,
              "#fb9f3a"
             ],
             [
              0.8888888888888888,
              "#fdca26"
             ],
             [
              1,
              "#f0f921"
             ]
            ],
            "type": "heatmapgl"
           }
          ],
          "histogram": [
           {
            "marker": {
             "pattern": {
              "fillmode": "overlay",
              "size": 10,
              "solidity": 0.2
             }
            },
            "type": "histogram"
           }
          ],
          "histogram2d": [
           {
            "colorbar": {
             "outlinewidth": 0,
             "ticks": ""
            },
            "colorscale": [
             [
              0,
              "#0d0887"
             ],
             [
              0.1111111111111111,
              "#46039f"
             ],
             [
              0.2222222222222222,
              "#7201a8"
             ],
             [
              0.3333333333333333,
              "#9c179e"
             ],
             [
              0.4444444444444444,
              "#bd3786"
             ],
             [
              0.5555555555555556,
              "#d8576b"
             ],
             [
              0.6666666666666666,
              "#ed7953"
             ],
             [
              0.7777777777777778,
              "#fb9f3a"
             ],
             [
              0.8888888888888888,
              "#fdca26"
             ],
             [
              1,
              "#f0f921"
             ]
            ],
            "type": "histogram2d"
           }
          ],
          "histogram2dcontour": [
           {
            "colorbar": {
             "outlinewidth": 0,
             "ticks": ""
            },
            "colorscale": [
             [
              0,
              "#0d0887"
             ],
             [
              0.1111111111111111,
              "#46039f"
             ],
             [
              0.2222222222222222,
              "#7201a8"
             ],
             [
              0.3333333333333333,
              "#9c179e"
             ],
             [
              0.4444444444444444,
              "#bd3786"
             ],
             [
              0.5555555555555556,
              "#d8576b"
             ],
             [
              0.6666666666666666,
              "#ed7953"
             ],
             [
              0.7777777777777778,
              "#fb9f3a"
             ],
             [
              0.8888888888888888,
              "#fdca26"
             ],
             [
              1,
              "#f0f921"
             ]
            ],
            "type": "histogram2dcontour"
           }
          ],
          "mesh3d": [
           {
            "colorbar": {
             "outlinewidth": 0,
             "ticks": ""
            },
            "type": "mesh3d"
           }
          ],
          "parcoords": [
           {
            "line": {
             "colorbar": {
              "outlinewidth": 0,
              "ticks": ""
             }
            },
            "type": "parcoords"
           }
          ],
          "pie": [
           {
            "automargin": true,
            "type": "pie"
           }
          ],
          "scatter": [
           {
            "fillpattern": {
             "fillmode": "overlay",
             "size": 10,
             "solidity": 0.2
            },
            "type": "scatter"
           }
          ],
          "scatter3d": [
           {
            "line": {
             "colorbar": {
              "outlinewidth": 0,
              "ticks": ""
             }
            },
            "marker": {
             "colorbar": {
              "outlinewidth": 0,
              "ticks": ""
             }
            },
            "type": "scatter3d"
           }
          ],
          "scattercarpet": [
           {
            "marker": {
             "colorbar": {
              "outlinewidth": 0,
              "ticks": ""
             }
            },
            "type": "scattercarpet"
           }
          ],
          "scattergeo": [
           {
            "marker": {
             "colorbar": {
              "outlinewidth": 0,
              "ticks": ""
             }
            },
            "type": "scattergeo"
           }
          ],
          "scattergl": [
           {
            "marker": {
             "colorbar": {
              "outlinewidth": 0,
              "ticks": ""
             }
            },
            "type": "scattergl"
           }
          ],
          "scattermapbox": [
           {
            "marker": {
             "colorbar": {
              "outlinewidth": 0,
              "ticks": ""
             }
            },
            "type": "scattermapbox"
           }
          ],
          "scatterpolar": [
           {
            "marker": {
             "colorbar": {
              "outlinewidth": 0,
              "ticks": ""
             }
            },
            "type": "scatterpolar"
           }
          ],
          "scatterpolargl": [
           {
            "marker": {
             "colorbar": {
              "outlinewidth": 0,
              "ticks": ""
             }
            },
            "type": "scatterpolargl"
           }
          ],
          "scatterternary": [
           {
            "marker": {
             "colorbar": {
              "outlinewidth": 0,
              "ticks": ""
             }
            },
            "type": "scatterternary"
           }
          ],
          "surface": [
           {
            "colorbar": {
             "outlinewidth": 0,
             "ticks": ""
            },
            "colorscale": [
             [
              0,
              "#0d0887"
             ],
             [
              0.1111111111111111,
              "#46039f"
             ],
             [
              0.2222222222222222,
              "#7201a8"
             ],
             [
              0.3333333333333333,
              "#9c179e"
             ],
             [
              0.4444444444444444,
              "#bd3786"
             ],
             [
              0.5555555555555556,
              "#d8576b"
             ],
             [
              0.6666666666666666,
              "#ed7953"
             ],
             [
              0.7777777777777778,
              "#fb9f3a"
             ],
             [
              0.8888888888888888,
              "#fdca26"
             ],
             [
              1,
              "#f0f921"
             ]
            ],
            "type": "surface"
           }
          ],
          "table": [
           {
            "cells": {
             "fill": {
              "color": "#EBF0F8"
             },
             "line": {
              "color": "white"
             }
            },
            "header": {
             "fill": {
              "color": "#C8D4E3"
             },
             "line": {
              "color": "white"
             }
            },
            "type": "table"
           }
          ]
         },
         "layout": {
          "annotationdefaults": {
           "arrowcolor": "#2a3f5f",
           "arrowhead": 0,
           "arrowwidth": 1
          },
          "autotypenumbers": "strict",
          "coloraxis": {
           "colorbar": {
            "outlinewidth": 0,
            "ticks": ""
           }
          },
          "colorscale": {
           "diverging": [
            [
             0,
             "#8e0152"
            ],
            [
             0.1,
             "#c51b7d"
            ],
            [
             0.2,
             "#de77ae"
            ],
            [
             0.3,
             "#f1b6da"
            ],
            [
             0.4,
             "#fde0ef"
            ],
            [
             0.5,
             "#f7f7f7"
            ],
            [
             0.6,
             "#e6f5d0"
            ],
            [
             0.7,
             "#b8e186"
            ],
            [
             0.8,
             "#7fbc41"
            ],
            [
             0.9,
             "#4d9221"
            ],
            [
             1,
             "#276419"
            ]
           ],
           "sequential": [
            [
             0,
             "#0d0887"
            ],
            [
             0.1111111111111111,
             "#46039f"
            ],
            [
             0.2222222222222222,
             "#7201a8"
            ],
            [
             0.3333333333333333,
             "#9c179e"
            ],
            [
             0.4444444444444444,
             "#bd3786"
            ],
            [
             0.5555555555555556,
             "#d8576b"
            ],
            [
             0.6666666666666666,
             "#ed7953"
            ],
            [
             0.7777777777777778,
             "#fb9f3a"
            ],
            [
             0.8888888888888888,
             "#fdca26"
            ],
            [
             1,
             "#f0f921"
            ]
           ],
           "sequentialminus": [
            [
             0,
             "#0d0887"
            ],
            [
             0.1111111111111111,
             "#46039f"
            ],
            [
             0.2222222222222222,
             "#7201a8"
            ],
            [
             0.3333333333333333,
             "#9c179e"
            ],
            [
             0.4444444444444444,
             "#bd3786"
            ],
            [
             0.5555555555555556,
             "#d8576b"
            ],
            [
             0.6666666666666666,
             "#ed7953"
            ],
            [
             0.7777777777777778,
             "#fb9f3a"
            ],
            [
             0.8888888888888888,
             "#fdca26"
            ],
            [
             1,
             "#f0f921"
            ]
           ]
          },
          "colorway": [
           "#636efa",
           "#EF553B",
           "#00cc96",
           "#ab63fa",
           "#FFA15A",
           "#19d3f3",
           "#FF6692",
           "#B6E880",
           "#FF97FF",
           "#FECB52"
          ],
          "font": {
           "color": "#2a3f5f"
          },
          "geo": {
           "bgcolor": "white",
           "lakecolor": "white",
           "landcolor": "#E5ECF6",
           "showlakes": true,
           "showland": true,
           "subunitcolor": "white"
          },
          "hoverlabel": {
           "align": "left"
          },
          "hovermode": "closest",
          "mapbox": {
           "style": "light"
          },
          "paper_bgcolor": "white",
          "plot_bgcolor": "#E5ECF6",
          "polar": {
           "angularaxis": {
            "gridcolor": "white",
            "linecolor": "white",
            "ticks": ""
           },
           "bgcolor": "#E5ECF6",
           "radialaxis": {
            "gridcolor": "white",
            "linecolor": "white",
            "ticks": ""
           }
          },
          "scene": {
           "xaxis": {
            "backgroundcolor": "#E5ECF6",
            "gridcolor": "white",
            "gridwidth": 2,
            "linecolor": "white",
            "showbackground": true,
            "ticks": "",
            "zerolinecolor": "white"
           },
           "yaxis": {
            "backgroundcolor": "#E5ECF6",
            "gridcolor": "white",
            "gridwidth": 2,
            "linecolor": "white",
            "showbackground": true,
            "ticks": "",
            "zerolinecolor": "white"
           },
           "zaxis": {
            "backgroundcolor": "#E5ECF6",
            "gridcolor": "white",
            "gridwidth": 2,
            "linecolor": "white",
            "showbackground": true,
            "ticks": "",
            "zerolinecolor": "white"
           }
          },
          "shapedefaults": {
           "line": {
            "color": "#2a3f5f"
           }
          },
          "ternary": {
           "aaxis": {
            "gridcolor": "white",
            "linecolor": "white",
            "ticks": ""
           },
           "baxis": {
            "gridcolor": "white",
            "linecolor": "white",
            "ticks": ""
           },
           "bgcolor": "#E5ECF6",
           "caxis": {
            "gridcolor": "white",
            "linecolor": "white",
            "ticks": ""
           }
          },
          "title": {
           "x": 0.05
          },
          "xaxis": {
           "automargin": true,
           "gridcolor": "white",
           "linecolor": "white",
           "ticks": "",
           "title": {
            "standoff": 15
           },
           "zerolinecolor": "white",
           "zerolinewidth": 2
          },
          "yaxis": {
           "automargin": true,
           "gridcolor": "white",
           "linecolor": "white",
           "ticks": "",
           "title": {
            "standoff": 15
           },
           "zerolinecolor": "white",
           "zerolinewidth": 2
          }
         }
        },
        "title": {
         "text": "PCA of TPM values"
        }
       }
      }
     },
     "metadata": {},
     "output_type": "display_data"
    }
   ],
   "source": [
    "fig = px.scatter_3d(TPM_pre_cluster, x='PC1', y='PC2', z='PC3', color='disease_type', title='PCA of TPM values')\n",
    "fig.show()\n"
   ]
  },
  {
   "cell_type": "code",
   "execution_count": null,
   "metadata": {},
   "outputs": [
    {
     "name": "stderr",
     "output_type": "stream",
     "text": [
      "/Users/worker/anaconda3/lib/python3.10/site-packages/sklearn/cluster/_kmeans.py:870: FutureWarning:\n",
      "\n",
      "The default value of `n_init` will change from 10 to 'auto' in 1.4. Set the value of `n_init` explicitly to suppress the warning\n",
      "\n"
     ]
    }
   ],
   "source": [
    "# do k-means clustering on the pre-clustered dataframe\n",
    "from sklearn.cluster import KMeans\n",
    "kmeans = KMeans(n_clusters=5, random_state=0).fit(TPM_pre_cluster.iloc[:, :3])\n",
    "\n",
    "# add the cluster labels to the pre-clustered dataframe\n",
    "TPM_pre_cluster['cluster'] = kmeans.labels_\n",
    "\n",
    "# use plotly to create a 3d scatterplot\n",
    "fig = px.scatter_3d(TPM_pre_cluster, x='PC1', y='PC2', z='PC3', color='cluster', title='PCA of TPM values')"
   ]
  }
 ],
 "metadata": {
  "kernelspec": {
   "display_name": "base",
   "language": "python",
   "name": "python3"
  },
  "language_info": {
   "codemirror_mode": {
    "name": "ipython",
    "version": 3
   },
   "file_extension": ".py",
   "mimetype": "text/x-python",
   "name": "python",
   "nbconvert_exporter": "python",
   "pygments_lexer": "ipython3",
   "version": "3.10.9"
  }
 },
 "nbformat": 4,
 "nbformat_minor": 2
}
